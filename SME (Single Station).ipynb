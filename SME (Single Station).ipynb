{
 "cells": [
  {
   "cell_type": "code",
   "execution_count": 4,
   "metadata": {},
   "outputs": [],
   "source": [
    "import numpy as np, pandas as pd\n",
    "from matplotlib import pyplot as plt\n",
    "from scipy.optimize import minimize\n",
    "import scipy.stats as stats\n",
    "from matplotlib.ticker import FuncFormatter\n",
    "import scipy.optimize as op\n",
    "import os\n",
    "from nltk import flatten"
   ]
  },
  {
   "cell_type": "markdown",
   "metadata": {},
   "source": [
    "We use the same function in the mutually exciting process model of arrival and departure at station i, to filter the event times in process j that occurred before event time T in station i."
   ]
  },
  {
   "cell_type": "code",
   "execution_count": 5,
   "metadata": {},
   "outputs": [],
   "source": [
    "def prev_event(times, T):\n",
    "    \"\"\"\n",
    "    Return the event times in process j that happens before event time T in process i.\n",
    "    : param times: an n-dimensional array, the full event times in process j\n",
    "    : param T: a number, one event time in process i\n",
    "    \n",
    "    : return k: a number, the index of the last event time in process j happened before T in process i\n",
    "    \"\"\"\n",
    "    \n",
    "    return np.searchsorted(times, T, side='right')"
   ]
  },
  {
   "cell_type": "markdown",
   "metadata": {},
   "source": [
    "And again, similar to previous model, we use a dictionary to store all the filtered event times in each process j = 1, ..., m. We take T as the last event time observed in process i for our chosen piece of data. We label i as j=1."
   ]
  },
  {
   "cell_type": "code",
   "execution_count": 6,
   "metadata": {},
   "outputs": [],
   "source": [
    "def process_times(location_codes, times, i):\n",
    "    \"\"\"\n",
    "    Return the event times observed at station j = 1, ..., m, before the last event time\n",
    "    observed in departure process at station i.\n",
    "    \n",
    "    : param location_codes: a list of length M, the location codes of all M stations, with i as the first.\n",
    "    : param times: a dictionary, storing the departure times from station j = 1, ..., M as values, \\\n",
    "    and the location codes of corresponding stations as keys.\n",
    "    : param i: the index of the station being studied\n",
    "    \n",
    "    : return times: a dictionary, storing all relevant event times\n",
    "    \"\"\"\n",
    "    #get_station_index defined in ks_arr files\n",
    "    ii = get_station_index(location_codes, i)\n",
    "    T = times[i][-1]\n",
    "    ind_list = []\n",
    "    new_times = {}\n",
    "    \n",
    "    for j in range(len(location_codes)):\n",
    "        ind = prev_event(times[location_codes[j]], T)\n",
    "        if j != ii and ind != 0:\n",
    "            new_times[location_codes[j]] = times[location_codes[j]][:ind]\n",
    "        \n",
    "        if ind == 0:\n",
    "            ind_list.append(location_codes[j])\n",
    "        \n",
    "        if j == ii:\n",
    "            new_times[location_codes[j]] = times[location_codes[j]]\n",
    "            \n",
    "    return new_times, ind_list"
   ]
  },
  {
   "cell_type": "markdown",
   "metadata": {},
   "source": [
    "For log likelihood, we still follow the previous model, to get function for $A_{ii}(1)$, ..., $A_{ii}(h)$"
   ]
  },
  {
   "cell_type": "code",
   "execution_count": 7,
   "metadata": {},
   "outputs": [],
   "source": [
    "def A_ii(theta, times_i):\n",
    "    \"\"\"\n",
    "    Finds the array of function A_i, from 1st event to hth event in process i\n",
    "    \n",
    "    : param theta: a real number\n",
    "    : param times_i, a 1-D array, the event times observed in process i\n",
    "    \n",
    "    : return A: a 1D array\n",
    "    \"\"\"\n",
    "   \n",
    "    A = np.zeros(len(times_i))\n",
    "    \n",
    "    for h in range(1, len(times_i)):\n",
    "        A[h] = np.exp(-theta*(times_i[h] - times_i[h-1]))*(1+A[h-1])\n",
    "        \n",
    "    return A"
   ]
  },
  {
   "cell_type": "markdown",
   "metadata": {},
   "source": [
    "And for $A_{ij}(1)$, ..., $A_{ij}(h)$"
   ]
  },
  {
   "cell_type": "code",
   "execution_count": 8,
   "metadata": {},
   "outputs": [],
   "source": [
    "def A_ij(theta, times_i, times_j):\n",
    "    \"\"\"\n",
    "    Finds the array of function A_ij, for all event times in process j = 1, ..., M\n",
    "    \n",
    "    : param theta: a real number\n",
    "    : param times_i, a 1-D array, the event times observed in process i\n",
    "    : param times_j, a 1-D array, the event times observed in process j\n",
    "    \n",
    "    : return B: a 1-D array\n",
    "    \"\"\"\n",
    "    \n",
    "    B = np.zeros(len(times_i))\n",
    "    ind = prev_event(times_j, times_i[0])\n",
    "    \n",
    "    B[0] = np.sum(np.exp(- theta * (times_i[0] - times_j[:ind])))\n",
    "    \n",
    "    for h in range(1, len(times_i)):\n",
    "        B[h] = np.exp(-theta * (times_i[h] - times_i[h-1])) * B[h-1] \n",
    "        new_ind = prev_event(times_j, times_i[h])\n",
    "        if ind != new_ind:\n",
    "            B[h] += np.sum(np.exp(- theta * (times_i[h] - times_j[ind:new_ind])))\n",
    "            ind = new_ind#prev_event(times_j, times_i[h])\n",
    "        \n",
    "    return B"
   ]
  },
  {
   "cell_type": "markdown",
   "metadata": {},
   "source": [
    "We also write a function to find the excitation terms of each station"
   ]
  },
  {
   "cell_type": "code",
   "execution_count": 9,
   "metadata": {},
   "outputs": [],
   "source": [
    "def excitation_j(theta, t, times_j):\n",
    "    \"\"\"\n",
    "    Finds the array of function excitation_j, for all event times in process j = 1, ..., M\n",
    "    \n",
    "    : param theta: a real number, thetaj\n",
    "    : param times_i, a 1-D array, the event times observed in process i\n",
    "    : param times_j, a 1-D array, the event times observed in process j\n",
    "    \n",
    "    : return Ej: a 1-D array\n",
    "    \"\"\"\n",
    "     #Ej = 0\n",
    "    ind = prev_event(times_j, t)\n",
    "    Ej = np.zeros(ind)\n",
    "    if ind != 0:\n",
    "            Ej = np.exp(-theta*(t - times_j[0:ind])) - 1\n",
    "    #for i in range(ind):\n",
    "        #Ej += np.exp(-theta*(t - times_j[i])) - 1\n",
    "    \n",
    "    return Ej"
   ]
  },
  {
   "cell_type": "markdown",
   "metadata": {},
   "source": [
    "And log likelihood is hence"
   ]
  },
  {
   "cell_type": "code",
   "execution_count": 10,
   "metadata": {},
   "outputs": [],
   "source": [
    "def diff_comp(t, location_codes, event_times, beta, theta, lambda_b, dist, k): \n",
    "    \n",
    "    kappa = kappa_fun(dist, k)\n",
    "    ratio = kappa*beta/theta\n",
    "    \n",
    "    ex_terms = 0\n",
    "    \n",
    "    for j in range(len(location_codes)):\n",
    "        times = event_times[location_codes[j]]\n",
    "        ind = prev_event(times, t)\n",
    "        if ind != 0:\n",
    "            ex_terms += ratio[j] * np.sum(excitation_j(theta, t, times[0:ind]))\n",
    "    \n",
    "    res = lambda_b*t - ex_terms \n",
    "    \n",
    "    return res"
   ]
  },
  {
   "cell_type": "code",
   "execution_count": 11,
   "metadata": {},
   "outputs": [],
   "source": [
    "def diff_log_likelihood(location_codes, event_times, beta, theta, lambda_b, k, dist, i): \n",
    "    \"\"\"\n",
    "    Finds the log-likelihood of the mutually exciting process between stations\n",
    "    \n",
    "    : param location_codes: a list of length M, the location codes of all M stations with i as the first\n",
    "    : param event_times: a dictionary, the event times in all processes \\\n",
    "      that occurred before the last event in process i \n",
    "    : param beta: a real number\n",
    "    : param theta: a real number\n",
    "    : param k: a real number\n",
    "    : param dist: a 1-D array of length M, which stores the distances of each station\n",
    "    : param lambda_b: a real number, the baseline intensity of station i\n",
    "    : prarm i: the index of the station being studied\n",
    "    \n",
    "    : return A: a real number, the baseline intensity of station i\n",
    "    \"\"\"\n",
    "    ind = get_station_index(location_codes, i)\n",
    "    times_i = event_times[i]\n",
    "    \n",
    "    kappa = kappa_fun(dist, k)\n",
    "    ratio = kappa*beta/theta\n",
    "    T = times_i[-1]\n",
    "    \n",
    "    A = A_ii(theta, times_i)\n",
    "    A = kappa[ind]*beta*A\n",
    "    ex_terms = ratio[ind] * np.sum(excitation_j(theta, T, times_i))\n",
    "    \n",
    "    for j in range(len(location_codes)):\n",
    "        if j != ind:\n",
    "            A += kappa[j] * beta * A_ij(theta, times_i, event_times[location_codes[j]])\n",
    "            ex_terms += ratio[j] * np.sum(excitation_j(theta, T, event_times[location_codes[j]]))\n",
    "    \n",
    "    res = np.sum(np.log(lambda_b +A)) + ex_terms - lambda_b*T\n",
    "    \n",
    "    return res"
   ]
  },
  {
   "cell_type": "code",
   "execution_count": 12,
   "metadata": {},
   "outputs": [],
   "source": [
    "def diff_log_likelihood2(location_codes, event_times, dist, beta, theta, k, lambda_b): \n",
    "    \"\"\"\n",
    "    Finds the log-likelihood of the mutually exciting process between stations\n",
    "    \n",
    "    : param location_codes: a list of length M, the location codes of all M stations with i as the first\n",
    "    : param event_times: a dictionary, the event times in all processes \\\n",
    "      that occurred before the last event in process i \n",
    "    : param beta: a 1-D array of length M, which stores beta1, ..., betaM\n",
    "    : param theta: a 1-D array of length M, which stores theta1, ..., thetaM\n",
    "    : param kappa: a 1-D array of length M, which stores the distance coefficient of each station\n",
    "    : param lambda_b: a real number, the baseline intensity of station i\n",
    "    \n",
    "    : return A: a real number, the baseline intensity of station i\n",
    "    \"\"\"\n",
    "    \n",
    "    times_i = event_times[location_codes[0]]\n",
    "    ex_terms = []\n",
    "    \n",
    "    kappa = kappa_fun(dist, k)\n",
    "    ratio = kappa*beta/theta\n",
    "    T = times_i[-1]\n",
    "    \n",
    "    A = A_ii(theta, times_i)\n",
    "    A = kappa[0]*beta*A\n",
    "    ex_terms.append(ratio[0] * np.sum(excitation_j(theta, T, times_i)))\n",
    "    \n",
    "    for j in range(1, len(location_codes)):\n",
    "        if len(event_times[location_codes[j]]) > 0:\n",
    "            A += kappa[j] * beta * A_ij(theta, times_i, event_times[location_codes[j]])\n",
    "            ex_terms.append(ratio[j] * np.sum(excitation_j(theta, T, event_times[location_codes[j]])))\n",
    "    \n",
    "    res = np.sum(np.log(lambda_b +A)) + ex_terms - lambda_b*T\n",
    "    \n",
    "    return np.log(lambda_b +A), np.array(ex_terms), lambda_b*T"
   ]
  },
  {
   "cell_type": "markdown",
   "metadata": {},
   "source": [
    "We also need to define a function that, for a given station, it selects all the stations within a neighbourhood of the given station, with a threshold distance."
   ]
  },
  {
   "cell_type": "code",
   "execution_count": 13,
   "metadata": {},
   "outputs": [],
   "source": [
    "def thres_fun(dist, thres, loc_codes):\n",
    "    new_dist = dist.copy()\n",
    "    new_loc_codes = np.asarray(loc_codes).copy()\n",
    "    \n",
    "    index = [i for i in range(len(dist)) if dist[i] > thres]\n",
    "    new_dist[index] = -1\n",
    "    new_loc_codes[index] = -1\n",
    "    new_dist = [i for i in new_dist if i != -1]\n",
    "    new_loc_codes = [i for i in new_loc_codes if i != -1]\n",
    "    \n",
    "    return np.asarray(new_dist), new_loc_codes"
   ]
  },
  {
   "cell_type": "markdown",
   "metadata": {},
   "source": [
    "And we define the kappa function."
   ]
  },
  {
   "cell_type": "code",
   "execution_count": 14,
   "metadata": {},
   "outputs": [],
   "source": [
    "def kappa_fun(dist, k):\n",
    "    \n",
    "    return np.exp(-k * dist)"
   ]
  },
  {
   "cell_type": "markdown",
   "metadata": {},
   "source": [
    "Some tests."
   ]
  },
  {
   "cell_type": "code",
   "execution_count": 14,
   "metadata": {},
   "outputs": [
    {
     "data": {
      "text/plain": [
       "(array([1, 2, 3]), [4, 5, 6])"
      ]
     },
     "execution_count": 14,
     "metadata": {},
     "output_type": "execute_result"
    }
   ],
   "source": [
    "dist = np.array([1, 2, 3, 4, 5])\n",
    "k = 1\n",
    "thres = 3\n",
    "loc_codes = [4, 5, 6, 7, 8]\n",
    "thres_fun(dist, thres, loc_codes)"
   ]
  }
 ],
 "metadata": {
  "kernelspec": {
   "display_name": "Python 3",
   "language": "python",
   "name": "python3"
  },
  "language_info": {
   "codemirror_mode": {
    "name": "ipython",
    "version": 3
   },
   "file_extension": ".py",
   "mimetype": "text/x-python",
   "name": "python",
   "nbconvert_exporter": "python",
   "pygments_lexer": "ipython3",
   "version": "3.7.6"
  }
 },
 "nbformat": 4,
 "nbformat_minor": 4
}
