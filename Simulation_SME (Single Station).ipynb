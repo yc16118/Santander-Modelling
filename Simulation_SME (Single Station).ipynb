{
 "cells": [
  {
   "cell_type": "code",
   "execution_count": 86,
   "metadata": {},
   "outputs": [],
   "source": [
    "import numpy as np, pandas as pd, numpy.random as random\n",
    "from matplotlib import pyplot as plt\n",
    "from scipy.optimize import minimize\n",
    "import scipy.stats as st\n",
    "from tqdm import tqdm\n",
    "from matplotlib.ticker import FuncFormatter\n",
    "import scipy.optimize as op\n",
    "import os\n",
    "from nltk import flatten"
   ]
  },
  {
   "cell_type": "markdown",
   "metadata": {},
   "source": [
    "We first implement the conditional intensity function for ME (single station)."
   ]
  },
  {
   "cell_type": "code",
   "execution_count": 64,
   "metadata": {},
   "outputs": [],
   "source": [
    "def cond_int_fun_mutual(t, arr_times, dep_times, param):\n",
    "    \"\"\"\n",
    "    Find the value of the conditional intensity function at time t using given parameters.\n",
    "    \"\"\"\n",
    "    \n",
    "    para_dep = param[\"departure\"]\n",
    "    para_arr = param[\"arrival\"]\n",
    "    beta_dd, theta_dd, beta_ad, theta_ad, lambda_bd = para_dep[0], para_dep[1], para_dep[2], para_dep[3],  para_dep[4]\n",
    "    beta_da, theta_da, beta_aa, theta_aa, lambda_ba = para_arr[0], para_arr[1], para_arr[2], para_arr[3], para_arr[4]\n",
    "    \n",
    "    lambda_td, lambda_ta = lambda_bd, lambda_ba\n",
    "    ind = np.searchsorted(dep_times, t, side='right')\n",
    "    if ind > 0:\n",
    "        dep_times = dep_times[0:ind]\n",
    "        lambda_td += np.sum(beta_dd * np.exp(-theta_dd*(t-dep_times)))  \n",
    "        lambda_ta += np.sum(beta_da * np.exp(-theta_da*(t-dep_times)))  \n",
    "    \n",
    "    ind1 = np.searchsorted(arr_times, t, side='right')\n",
    "    if ind1 > 0:\n",
    "        arr_times = arr_times[0:ind1]\n",
    "        lambda_td += np.sum(beta_ad * np.exp(-theta_ad*(t-arr_times)))\n",
    "        lambda_ta += np.sum(beta_aa * np.exp(-theta_aa*(t-arr_times)))  \n",
    "       \n",
    "    return lambda_td, lambda_ta"
   ]
  },
  {
   "cell_type": "markdown",
   "metadata": {},
   "source": [
    "And we plot the conditional intensity functions of two processes."
   ]
  },
  {
   "cell_type": "code",
   "execution_count": 65,
   "metadata": {},
   "outputs": [
    {
     "data": {
      "image/png": "[encoded data removed]",
      "text/plain": [
       "<Figure size 432x288 with 1 Axes>"
      ]
     },
     "metadata": {
      "needs_background": "light"
     },
     "output_type": "display_data"
    },
    {
     "name": "stdout",
     "output_type": "stream",
     "text": [
      "{'arrival': array([ 4.12109391, 15.36496789, 22.9525598 ]), 'departure': array([12.76611743, 26.37711347, 29.44448228])}\n"
     ]
    }
   ],
   "source": [
    "event_times = {\"arrival\": np.sort(random.uniform(0,30,size=3)), \"departure\": np.sort(random.uniform(0,30,size=3))}\n",
    "arr_times = event_times[\"arrival\"]\n",
    "dep_times = event_times[\"departure\"]\n",
    "t = np.linspace(0, 30, 200)\n",
    "param = {\"arrival\": [0.5, 1.0, 1.0, 1.75, 2.0], \"departure\":[0.1, 0.1, 0.05, 2.25, 0.5]}\n",
    "\n",
    "lamb_d = []\n",
    "lamb_a = []\n",
    "\n",
    "for i in range(len(t)):\n",
    "    lambda_td, lambda_ta = cond_int_fun_mutual(t[i], arr_times, dep_times, param)\n",
    "    lamb_d.append(lambda_td)\n",
    "    lamb_a.append(lambda_ta)\n",
    "    \n",
    "    \n",
    "plt.plot(t, lamb_d, label='departure');\n",
    "plt.plot(t, lamb_a, label='arrival');\n",
    "plt.legend()\n",
    "plt.show();\n",
    "\n",
    "\n",
    "print(event_times)"
   ]
  },
  {
   "cell_type": "markdown",
   "metadata": {},
   "source": [
    "We implement the function to simulate from ME (single station)."
   ]
  },
  {
   "cell_type": "code",
   "execution_count": 67,
   "metadata": {},
   "outputs": [],
   "source": [
    "def mutual_sim(n, param):\n",
    "    \"\"\"\n",
    "    Simulate n event time data using given parameters.\n",
    "    \"\"\"\n",
    "\n",
    "    para_dep = param[\"departure\"]\n",
    "    para_arr = param[\"arrival\"]\n",
    "    beta_dd, theta_dd, beta_ad, theta_ad, lambda_bd = para_dep[0], para_dep[1], para_dep[2], para_dep[3],  para_dep[4]\n",
    "    beta_da, theta_da, beta_aa, theta_aa, lambda_ba = para_arr[0], para_arr[1], para_arr[2], para_arr[3], para_arr[4]\n",
    "    \n",
    "    dep_times, arr_times = [], []\n",
    "    t0 = random.exponential(1/(lambda_bd + lambda_ba), 1)[0]\n",
    "    \n",
    "    u = random.uniform(low = 0.0, high = lambda_bd + lambda_ba, size = 1)\n",
    "    if lambda_bd <= lambda_ba:\n",
    "        if 0 <= u <= lambda_bd:\n",
    "            dep_times.append(t0)\n",
    "        else:\n",
    "            arr_times.append(t0)\n",
    "    else:\n",
    "        if 0 <= u <= lambda_ba:\n",
    "            arr_times.append(t0)\n",
    "        else:\n",
    "            dep_times.append(t0)\n",
    "    \n",
    "    lambda_td, lambda_ta = cond_int_fun_mutual(t0, arr_times, dep_times, param)\n",
    "\n",
    "    while len(dep_times) < n or len(arr_times) < n:\n",
    "        t1 = t0 + random.exponential(1/(lambda_td + lambda_ta), 1)[0]\n",
    "        lambda_td_new, lambda_ta_new = cond_int_fun_mutual(t1, arr_times, dep_times, param)\n",
    "        u = random.uniform(low = 0.0, high = lambda_td + lambda_ta, size = 1)\n",
    "        if lambda_td <= lambda_ta:\n",
    "        #if lambda_td_new <= lambda_ta_new:\n",
    "            if u <= lambda_td_new:\n",
    "                dep_times.append(t1)\n",
    "                lambda_td = lambda_td_new + beta_dd\n",
    "                lambda_ta = lambda_ta_new + beta_da\n",
    "            elif lambda_td_new < u <= (lambda_td_new + lambda_ta_new):\n",
    "                arr_times.append(t1)\n",
    "                lambda_td = lambda_td_new + beta_ad\n",
    "                lambda_ta = lambda_ta_new + beta_aa \n",
    "            else:\n",
    "                lambda_td = lambda_td_new \n",
    "                lambda_ta = lambda_ta_new \n",
    "        else :\n",
    "            if u <= lambda_ta_new:\n",
    "                arr_times.append(t1)\n",
    "                lambda_td = lambda_td_new + beta_ad\n",
    "                lambda_ta = lambda_ta_new + beta_aa\n",
    "            elif lambda_ta_new < u <= (lambda_td_new + lambda_ta_new):\n",
    "                dep_times.append(t1)\n",
    "                lambda_td = lambda_td_new + beta_dd\n",
    "                lambda_ta = lambda_ta_new + beta_da \n",
    "            else:\n",
    "                lambda_td = lambda_td_new \n",
    "                lambda_ta = lambda_ta_new \n",
    "        \n",
    "        t0 = t1\n",
    "    \n",
    "    times = {}\n",
    "    times[\"arrival\"] = arr_times #[0:n]\n",
    "    times[\"departure\"] = dep_times #[0:n]\n",
    "    \n",
    "    return times"
   ]
  },
  {
   "cell_type": "markdown",
   "metadata": {},
   "source": [
    "We simulate some data using given parameters, and plot the conditional intensity functions."
   ]
  },
  {
   "cell_type": "code",
   "execution_count": null,
   "metadata": {},
   "outputs": [],
   "source": [
    "para = {1: [0.5, 1.0, 1.0, 1.75, 2.0], 0:[0.1, 0.1, 0.05, 2.25, 0.5]}\n",
    "\n",
    "times = mutual_sim2(2, para)\n",
    "arr_times = times[1]\n",
    "dep_times = times[0]\n",
    "t = np.linspace(0, 50.0, 200)\n",
    "lamb_d = []\n",
    "lamb_a = []\n",
    "\n",
    "for i in range(len(t)):\n",
    "    lambda_td, lambda_ta = cond_int_fun_mutual(t[i], arr_times, dep_times, para)\n",
    "    lamb_d.append(lambda_td)\n",
    "    lamb_a.append(lambda_ta)\n",
    "    \n",
    "plt.plot(t, lamb_d, label='departure');\n",
    "plt.plot(t, lamb_a, label='arrival');\n",
    "plt.legend()\n",
    "plt.show();\n",
    "\n",
    "print(times)"
   ]
  },
  {
   "cell_type": "code",
   "execution_count": 123,
   "metadata": {},
   "outputs": [
    {
     "data": {
      "image/png": "[encoded data removed]",
      "text/plain": [
       "<Figure size 432x288 with 1 Axes>"
      ]
     },
     "metadata": {
      "needs_background": "light"
     },
     "output_type": "display_data"
    }
   ],
   "source": [
    "## para = {\"arrival\": [2.0, 2.15, 1.5, 1.75, 4.0], \"departure\":[2.5, 2.65, 2.0, 2.25, 4.5]}\n",
    "para = {'arrival': [0.1, 0.25, 0.25, 0.5, 0.05], 'departure':[0.15, 0.65, 0.3, 0.75, 0.025]}\n",
    "times = mutual_sim(2, para)\n",
    "arr_times = times['arrival']\n",
    "dep_times = times['departure']\n",
    "t = np.linspace(0, 30, 200)\n",
    "lamb_d = []\n",
    "lamb_a = []\n",
    "\n",
    "for i in range(len(t)):\n",
    "    lambda_td, lambda_ta = cond_int_fun_mutual(t[i], arr_times, dep_times, para)\n",
    "    lamb_d.append(lambda_td)\n",
    "    lamb_a.append(lambda_ta)\n",
    "    \n",
    "plt.plot(t, lamb_d, label='departure')\n",
    "plt.plot(t, lamb_a, label='arrival')\n",
    "plt.legend()\n",
    "plt.xlabel('t')\n",
    "plt.ylabel('intensity')\n",
    "\n",
    "plt.savefig('SME sim.pdf')\n",
    "plt.show()"
   ]
  },
  {
   "cell_type": "markdown",
   "metadata": {},
   "source": [
    "We need some previously implemented functions for optimisations."
   ]
  },
  {
   "cell_type": "code",
   "execution_count": 121,
   "metadata": {},
   "outputs": [],
   "source": [
    "def prev_event(times, T):\n",
    "    \"\"\"\n",
    "    Return the event times in process j that happens before event time T in process i.\n",
    "    : param times: an n-dimensional array, the full event times in process j\n",
    "    : param T: a number, one event time in process i\n",
    "    \n",
    "    : return k: a number, the index of the last event time in process j happened before T in process i\n",
    "    \"\"\"\n",
    "    \n",
    "    return np.searchsorted(times, T, side='right')"
   ]
  },
  {
   "cell_type": "code",
   "execution_count": 73,
   "metadata": {},
   "outputs": [],
   "source": [
    "def process_times(dep_times, arr_times):\n",
    "    \"\"\"\n",
    "    Return the event times in both departure process and arrival process at station i, before the last event time\n",
    "    observed in departure process.\n",
    "    \n",
    "    : param dep_times: a 1-D array, the departure times from station i\n",
    "    : param arr_times: a 1-D array, the arrival times to station i\n",
    "    \n",
    "    : return event_times: a dictionary, storing all relevant event times\n",
    "    \"\"\"\n",
    "    \n",
    "    event_times = {}\n",
    "    \n",
    "    event_times[\"departure\"] = dep_times\n",
    "    event_times[\"arrival\"] = arr_times[: prev_event(arr_times, dep_times[-1])]\n",
    "    \n",
    "    return event_times\n",
    "    "
   ]
  },
  {
   "cell_type": "code",
   "execution_count": 74,
   "metadata": {},
   "outputs": [],
   "source": [
    "def B_i(theta, dep_times, arr_times):\n",
    "    \"\"\"\n",
    "    Finds the array of function B_i, for all event times in process i\n",
    "    \n",
    "    : param theta: a 1-D array of length 2, which stores theta and theta'\n",
    "    : param dep_times, a 1-D array, the event times observed in process i\n",
    "    : param arr_times, a 1-D array, the event times observed in process j\n",
    "    \n",
    "    : return B: a 1D array\n",
    "    \"\"\"\n",
    "    \n",
    "    B = np.zeros(len(dep_times))\n",
    "    ind = prev_event(arr_times, dep_times[0])\n",
    "    \n",
    "    B[0] = np.sum(np.exp(- theta[1] * (dep_times[0] - arr_times[:ind])))\n",
    "    \n",
    "    for h in range(1, len(dep_times)):\n",
    "        B[h] = np.exp(-theta[1] * (dep_times[h] - dep_times[h-1])) * B[h-1] \n",
    "        B[h] += np.sum(np.exp(- theta[1] * (dep_times[h] - arr_times[ind:prev_event(arr_times, dep_times[h])])))\n",
    "        ind = prev_event(arr_times, dep_times[h])\n",
    "        \n",
    "    return B"
   ]
  },
  {
   "cell_type": "code",
   "execution_count": 75,
   "metadata": {},
   "outputs": [],
   "source": [
    "def A_i(theta, dep_times):\n",
    "    \"\"\"\n",
    "    Finds the array of function A_i, from 1st event to hth event in process i\n",
    "    \n",
    "    : param theta: a 1-D array of length 2, which stores theta and theta'\n",
    "    : param dep_times, a 1-D array, the event times observed in process i\n",
    "    \n",
    "    : return A: a 1-D array\n",
    "    \"\"\"\n",
    "   \n",
    "    A = np.zeros(len(dep_times))\n",
    "    \n",
    "    for h in range(1, len(dep_times)):\n",
    "        A[h] = np.exp(-theta[0]*(dep_times[h] - dep_times[h-1]))*(1+A[h-1])\n",
    "        \n",
    "    return A"
   ]
  },
  {
   "cell_type": "code",
   "execution_count": 76,
   "metadata": {},
   "outputs": [],
   "source": [
    "def mutual_log_likelihood(event_times, beta, theta, lambda_b): \n",
    "    \"\"\"\n",
    "    Finds the log-likelihood of the mutually exciting process at station i\n",
    "    \n",
    "    : param event_times: a dictionary, the event times in all processes \\\n",
    "      that occurred before the last event in process i \n",
    "    : param beta: a 1-D array of length 2, which stores beta and beta'\n",
    "    : param theta: a 1-D array of length 2, which stores theta and theta'\n",
    "    : param lambda_b: a real number, the baseline intensity of station i\n",
    "    \n",
    "    : return res: a real number, the log likelihood\n",
    "    \"\"\"\n",
    "    \n",
    "    arr_times = event_times[\"arrival\"]\n",
    "    dep_times = event_times[\"departure\"]\n",
    "    if len(arr_times) == 0:\n",
    "        raise Exception(\"Arrival times null\")\n",
    "    \n",
    "    ratio = beta/theta\n",
    "    T = dep_times[-1]\n",
    "    \n",
    "    A = A_i(theta, dep_times)\n",
    "    B = B_i(theta, dep_times, arr_times)\n",
    "    \n",
    "    first_sum = np.sum(np.log(lambda_b + beta[0]*A + beta[1]*B))\n",
    "    second_sum = ratio[0] * np.sum(np.exp(-theta[0]*(T - dep_times)) - 1)\n",
    "    third_sum = 0\n",
    "    ind = prev_event(arr_times, T)\n",
    "    if ind != 0:\n",
    "        third_sum += ratio[1] * np.sum(np.exp(-theta[1]*(T - arr_times[: ind])) - 1)\n",
    "    res = first_sum + second_sum + third_sum - lambda_b*T\n",
    "    \n",
    "    return res"
   ]
  },
  {
   "cell_type": "markdown",
   "metadata": {},
   "source": [
    "We do simulations of size 500 for 25 times, record the result from maximum likelihood estimation each time, and construct the histogram of the mle parameters."
   ]
  },
  {
   "cell_type": "code",
   "execution_count": 189,
   "metadata": {},
   "outputs": [
    {
     "name": "stdout",
     "output_type": "stream",
     "text": [
      "Iteration:  25 / 25\r"
     ]
    }
   ],
   "source": [
    "n = 25\n",
    "para_arr = np.zeros((n, 5))\n",
    "para_dep = np.zeros((n, 5))\n",
    "para = {1: [0.1, 0.25, 0.25, 0.5, 0.05], 0:[0.15, 0.65, 0.3, 0.75, 0.025]}\n",
    "\n",
    "x0_init_arr = [np.log(0.25), np.log(0.1), np.log(0.5-0.25), np.log(0.25-0.1), np.log(0.05)]\n",
    "x0_init_dep = [np.log(0.15), np.log(0.3), np.log(0.65-0.15), np.log(0.75-0.3), np.log(0.025)]\n",
    "\n",
    "for i in range(n):\n",
    "    print('Iteration: ', i+1, '/',n, end='\\r')\n",
    "    t_dep = mutual_sim2(500, para)\n",
    "    arr_t = t_dep[1]\n",
    "    dep_t = t_dep[0]\n",
    "\n",
    "    t_arr = {}\n",
    "    t_arr[1] = dep_t\n",
    "    t_arr[0] = arr_t\n",
    "    mle_dep = op.minimize(op_mutual_log_likelihood2, x0 = x0_init_dep, method = 'Nelder-Mead', args=(t_dep,))\n",
    "    mle_arr = op.minimize(op_mutual_log_likelihood2, x0 = x0_init_arr, method = 'Nelder-Mead', args=(t_arr,))\n",
    "    para_dep[i, :] = mle_dep.x\n",
    "    para_arr[i, :] = mle_arr.x\n",
    "    \n",
    "#para_arr"
   ]
  },
  {
   "cell_type": "code",
   "execution_count": 190,
   "metadata": {},
   "outputs": [
    {
     "data": {
      "image/png": "[encoded data removed]",
      "text/plain": [
       "<Figure size 432x288 with 1 Axes>"
      ]
     },
     "metadata": {
      "needs_background": "light"
     },
     "output_type": "display_data"
    }
   ],
   "source": [
    "plt.hist(np.exp(para_dep[:n, 0]), density=True)\n",
    "plt.axvline(x=0.15)\n",
    "plt.show()"
   ]
  },
  {
   "cell_type": "code",
   "execution_count": 191,
   "metadata": {},
   "outputs": [
    {
     "data": {
      "image/png": "[encoded data removed]",
      "text/plain": [
       "<Figure size 432x288 with 1 Axes>"
      ]
     },
     "metadata": {
      "needs_background": "light"
     },
     "output_type": "display_data"
    }
   ],
   "source": [
    "plt.hist(np.exp(para_dep[:n, 0])+ np.exp(para_dep[:n, 2]), density=True)\n",
    "plt.axvline(x=0.65)\n",
    "plt.show()"
   ]
  },
  {
   "cell_type": "code",
   "execution_count": 192,
   "metadata": {},
   "outputs": [
    {
     "data": {
      "image/png": "[encoded data removed]",
      "text/plain": [
       "<Figure size 432x288 with 1 Axes>"
      ]
     },
     "metadata": {
      "needs_background": "light"
     },
     "output_type": "display_data"
    }
   ],
   "source": [
    "plt.hist(np.exp(para_dep[:n, 1]), density=True)\n",
    "plt.axvline(x=0.3)\n",
    "plt.show()"
   ]
  },
  {
   "cell_type": "code",
   "execution_count": 193,
   "metadata": {},
   "outputs": [
    {
     "data": {
      "image/png": "[encoded data removed]",
      "text/plain": [
       "<Figure size 432x288 with 1 Axes>"
      ]
     },
     "metadata": {
      "needs_background": "light"
     },
     "output_type": "display_data"
    }
   ],
   "source": [
    "plt.hist(np.exp(para_dep[:n, 1])+ np.exp(para_dep[:n, 3]), density=True)\n",
    "plt.axvline(x=0.75)\n",
    "plt.show()"
   ]
  },
  {
   "cell_type": "code",
   "execution_count": 194,
   "metadata": {},
   "outputs": [
    {
     "data": {
      "image/png": "[encoded data removed]",
      "text/plain": [
       "<Figure size 432x288 with 1 Axes>"
      ]
     },
     "metadata": {
      "needs_background": "light"
     },
     "output_type": "display_data"
    }
   ],
   "source": [
    "plt.hist(np.exp(para_dep[:n, 4]), density=True)\n",
    "plt.axvline(x=0.025)\n",
    "plt.show()"
   ]
  },
  {
   "cell_type": "code",
   "execution_count": 195,
   "metadata": {},
   "outputs": [
    {
     "data": {
      "image/png": "[encoded data removed]",
      "text/plain": [
       "<Figure size 432x288 with 1 Axes>"
      ]
     },
     "metadata": {
      "needs_background": "light"
     },
     "output_type": "display_data"
    }
   ],
   "source": [
    "plt.hist(np.exp(para_arr[:n, 4]), density=True)\n",
    "plt.axvline(x=0.05)\n",
    "plt.show()"
   ]
  },
  {
   "cell_type": "code",
   "execution_count": 196,
   "metadata": {},
   "outputs": [
    {
     "data": {
      "image/png": "[encoded data removed]",
      "text/plain": [
       "<Figure size 432x288 with 1 Axes>"
      ]
     },
     "metadata": {
      "needs_background": "light"
     },
     "output_type": "display_data"
    }
   ],
   "source": [
    "plt.hist(np.exp(para_arr[:n, 0]), density=True)\n",
    "plt.axvline(x=0.25)\n",
    "plt.show()"
   ]
  },
  {
   "cell_type": "code",
   "execution_count": 197,
   "metadata": {},
   "outputs": [
    {
     "data": {
      "image/png": "[encoded data removed]",
      "text/plain": [
       "<Figure size 432x288 with 1 Axes>"
      ]
     },
     "metadata": {
      "needs_background": "light"
     },
     "output_type": "display_data"
    }
   ],
   "source": [
    "plt.hist(np.exp(para_arr[:n, 0])+ np.exp(para_arr[:n, 2]), density=True)\n",
    "plt.axvline(x=0.5)\n",
    "plt.show()"
   ]
  },
  {
   "cell_type": "code",
   "execution_count": 198,
   "metadata": {},
   "outputs": [
    {
     "data": {
      "image/png": "[encoded data removed]",
      "text/plain": [
       "<Figure size 432x288 with 1 Axes>"
      ]
     },
     "metadata": {
      "needs_background": "light"
     },
     "output_type": "display_data"
    }
   ],
   "source": [
    "plt.hist(np.exp(para_arr[:n, 1]), density=True)\n",
    "plt.axvline(x=0.1)\n",
    "plt.show()"
   ]
  },
  {
   "cell_type": "code",
   "execution_count": 199,
   "metadata": {},
   "outputs": [
    {
     "data": {
      "image/png": "[encoded data removed]",
      "text/plain": [
       "<Figure size 432x288 with 1 Axes>"
      ]
     },
     "metadata": {
      "needs_background": "light"
     },
     "output_type": "display_data"
    }
   ],
   "source": [
    "plt.hist(np.exp(para_arr[:n, 1])+ np.exp(para_arr[:n, 3]), density=True)\n",
    "plt.axvline(x=0.25)\n",
    "plt.show()"
   ]
  },
  {
   "cell_type": "markdown",
   "metadata": {},
   "source": [
    "We do simulations of size 500 for 150 times, record the result from maximum likelihood estimation each time, and construct the histogram of the mle parameters. Also, we want to compute the KS statistics."
   ]
  },
  {
   "cell_type": "code",
   "execution_count": 1,
   "metadata": {},
   "outputs": [],
   "source": [
    "def mutual_comp(t, event_times, beta, theta, lambda_b): \n",
    "    \n",
    "    arr_times = event_times[\"arrival\"]\n",
    "    dep_times = event_times[\"departure\"]\n",
    "    if len(arr_times) == 0:\n",
    "        raise Exception(\"Arrival times null\")\n",
    "    \n",
    "    ratio = beta/theta\n",
    "    \n",
    "    second_sum = 0\n",
    "    third_sum = 0\n",
    "    \n",
    "    ind_dep = prev_event(dep_times, t)\n",
    "    if ind_dep != 0:\n",
    "        second_sum += ratio[0] * np.sum(np.exp(-theta[0]*(t - dep_times[: ind_dep])) - 1)\n",
    "        \n",
    "    ind_arr = prev_event(arr_times, t)\n",
    "    if ind_arr != 0:\n",
    "        third_sum += ratio[1] * np.sum(np.exp(-theta[1]*(t - arr_times[: ind_arr])) - 1)\n",
    "    res = lambda_b*t - second_sum - third_sum \n",
    "    \n",
    "    return res"
   ]
  },
  {
   "cell_type": "code",
   "execution_count": 83,
   "metadata": {},
   "outputs": [],
   "source": [
    "def prev_event(times, T):\n",
    "    \"\"\"\n",
    "    Return the event times in process j that happens before event time T in process i.\n",
    "    : param times: an n-dimensional array, the full event times in process j\n",
    "    : param T: a number, one event time in process i\n",
    "    \n",
    "    : return k: a number, the index of the last event time in process j happened before T in process i\n",
    "    \"\"\"\n",
    "    \n",
    "    return np.searchsorted(times, T, side='right')"
   ]
  },
  {
   "cell_type": "code",
   "execution_count": 88,
   "metadata": {},
   "outputs": [
    {
     "name": "stdout",
     "output_type": "stream",
     "text": [
      "0.02567434362265985\n",
      "0.029417165779541454\n",
      "0.02789254950537956\n",
      "0.021595891818702362\n",
      "0.02906627323006250\n",
      "0.018585673400315472\n",
      "0.03455826385950156\n",
      "0.02699333919286606\n",
      "0.030943505855130726\n",
      "0.026273216327122317\n",
      "0.029274956670971575\n",
      "0.016628155424540214\n",
      "0.041613183044863944\n",
      "0.03187889259189014\n",
      "0.03570804604152489\n",
      "0.02515379607840018\n",
      "0.024532111328374184\n",
      "0.025847859089177028\n",
      "0.021612349725099260\n",
      "0.027818492355133118\n",
      "0.031412152508326410\n",
      "0.02416766751929711\n",
      "0.033302519342749526\n",
      "0.02509436691978717\n",
      "0.028836154070923325\n",
      "0.024577227578718386\n",
      "0.035117219502318275\n",
      "0.029208852824868403\n",
      "0.025457822541279262\n",
      "0.015749383456159283\n",
      "0.027715673129380170\n",
      "0.023005918028723593\n",
      "0.037405654399968236\n",
      "0.02002557674406058\n",
      "0.024342900720254218\n",
      "0.03148060301779154\n",
      "0.027422099543279704\n",
      "0.021664150852298725\n",
      "0.025128807290760280\n",
      "0.019911615350157924\n",
      "0.035013141878560080\n",
      "0.015431816477088134\n",
      "0.027304021219240693\n",
      "0.01990820384473757\n",
      "0.029448955014334866\n",
      "0.016093728334682922\n",
      "0.034273906744361590\n",
      "0.023445044290544004\n",
      "0.025080931656853656\n",
      "0.023110615924320177\n",
      "0.033150718670853950\n",
      "0.016656275483139082\n",
      "0.024836725810189586\n",
      "0.019829564818287126\n",
      "0.028491978107897720\n",
      "0.03360619858114722\n",
      "0.027176393827610168\n",
      "0.024726430144701772\n",
      "0.033292902233056090\n",
      "0.02308605356401494\n",
      "0.030953968995594660\n",
      "0.028557323129510537\n",
      "0.029623117000578070\n",
      "0.015574281610208685\n",
      "0.021072494475687210\n",
      "0.019359674408680916\n",
      "0.025575006751533790\n",
      "0.022480709051188374\n",
      "0.025839385277281580\n",
      "0.02397626601718672\n",
      "0.035133585562979020\n",
      "0.014332532556463828\n",
      "0.035476599300415690\n",
      "0.016402274399563543\n",
      "0.019710149683555764\n",
      "0.02926114093465093\n",
      "0.043237884088906275\n",
      "0.027641101231146603\n",
      "0.028988845839647337\n",
      "0.030091899627803897\n",
      "0.024589333512628680\n",
      "0.024826467152236464\n",
      "0.023897054180369248\n",
      "0.026396943028549003\n",
      "0.024287668769031212\n",
      "0.017002539100705816\n",
      "0.029064776410070770\n",
      "0.015549737219876292\n",
      "0.032774656929387080\n",
      "0.02022619884818097\n",
      "0.042890228438345446\n",
      "0.028663461630535958\n",
      "0.026914607449003924\n",
      "0.030069734598110243\n",
      "0.046972451699875630\n",
      "0.025901084878772185\n",
      "0.024562000807149043\n",
      "0.02745609917122542\n",
      "0.025826846841275730\n",
      "0.021402068230571114\n",
      "0.026376789483457340\n",
      "0.033342075598742416\n",
      "0.027143787740838476\n",
      "0.02490867231705307\n",
      "0.021798831990450130\n",
      "0.023182829796086213\n",
      "0.026536413364247946\n",
      "0.02368974044860339\n",
      "0.027216937722162880\n",
      "0.0330437245861005\n",
      "0.040877350850817620\n",
      "0.018630130192826777\n",
      "0.028111667263081120\n",
      "0.018502497083794478\n",
      "0.032205425495213880\n",
      "0.022727716264323627\n",
      "0.025864328926988978\n",
      "0.018929232645414795\n",
      "0.033484308573568430\n",
      "0.029796317455270893\n",
      "0.029323475234781960\n",
      "0.020968987734359956\n",
      "0.032146083965406610\n",
      "0.021895961342542347\n",
      "0.019858797689608187\n",
      "0.013785020495612837\n",
      "0.022887813508400634\n",
      "0.019210977121430273\n",
      "0.032139803215844090\n",
      "0.021699892060098647\n",
      "0.018272320956837007\n",
      "0.020835437097711518\n",
      "0.021021296430607628\n",
      "0.02681512677665049\n",
      "0.028572994720739042\n",
      "0.02348190471564965\n",
      "0.016761139426954452\n",
      "0.01991534259978628\n",
      "0.030107405806834630\n",
      "0.017451286274165034\n",
      "0.026657132575830134\n",
      "0.025029496532214868\n",
      "0.020888422237752890\n",
      "0.017917120501117267\n",
      "0.051660010784402965\n",
      "0.0266595187881542\n",
      "0.027337527393533790\n",
      "0.022035151795195773\n",
      "0.032763518861211040\n",
      "0.026423125495760258\n",
      "0.025563483813387910\n",
      "0.031329480082797456\n",
      "0.027356653439120304\n",
      "0.023692264524535545\n",
      "0.026036098607115088\n",
      "0.022204754245115088\n",
      "0.030324092148247495\n",
      "0.01970540508893892\n",
      "0.019266152536695724\n",
      "0.02809801817228702\n",
      "0.032082093537014190\n",
      "0.02876120559863571\n",
      "0.034052346536473320\n",
      "0.019874844136978487\n",
      "0.034410800460477065\n",
      "0.023117560398055237\n",
      "0.028399348135459080\n",
      "0.02080591071197857\n",
      "0.026787095155043295\n",
      "0.024076447710922433\n",
      "0.028734024255292700\n",
      "0.01507754653916904\n",
      "0.015403167304620047\n",
      "0.022474797130276114\n",
      "0.032471937601772580\n",
      "0.02780753610939174\n",
      "0.030947330561183817\n",
      "0.015157126461278203\n",
      "0.019505568842520693\n",
      "0.02076561874231403\n",
      "0.030092131625630958\n",
      "0.021274344987222693\n",
      "0.026101041467355868\n",
      "0.03555318877364688\n",
      "0.024448520590501732\n",
      "0.034576733653755354\n",
      "0.026224178765090090\n",
      "0.011783052390921478\n",
      "0.028213469400239166\n",
      "0.021698641996925172\n",
      "0.026205113674018010\n",
      "0.023973786104220213\n",
      "0.023933323010340400\n",
      "0.01934353622070062\n",
      "0.026721109802190626\n",
      "0.02002276389077995\n",
      "0.035669765228855954\n",
      "0.019769072273425226\n",
      "0.0332536104437896600\n",
      "0.02236059616322672\n",
      "0.0237969729555602700\n",
      "0.024828588796439732\n",
      "0.0313602164732717500\n",
      "0.029918272876595542\n",
      "0.0226655201043126640\n",
      "0.01990623464503244\n",
      "0.0234620916990362360\n",
      "0.018492549411779913\n",
      "0.0211709493878192160\n",
      "0.013822222916538562\n",
      "0.0229543849135966370\n",
      "0.024446778686939452\n",
      "0.0335161554280860600\n",
      "0.019808012973207667\n",
      "0.0222862679533910600\n",
      "0.022051111178889693\n",
      "0.0299913173883965200\n",
      "0.01734249224168305\n",
      "0.0302144967174339250\n",
      "0.02435883689063667\n",
      "0.0309726725809328360\n",
      "0.026694830804787406\n",
      "0.0372819931021146600\n",
      "0.02769769047698223\n",
      "0.0233758012935417760\n",
      "0.023190258537379105\n",
      "0.0252483293654240940\n",
      "0.024075514812049614\n",
      "0.0367112611581331700\n",
      "0.01923723265388194\n",
      "0.0326227664067806340\n",
      "0.0251389984943704\n",
      "0.0335785156599182100\n",
      "0.02277579933084073\n",
      "0.0352451161326884400\n",
      "0.01864246850035045\n",
      "0.0359979627392927900\n",
      "0.03342071113024414\n",
      "0.0151848490409925980\n",
      "0.03359084394355227\n",
      "0.0306592761301449630\n",
      "0.016500617640834103\n",
      "0.0227277441839282200\n",
      "0.021535615036770372\n",
      "0.0233239930100905820\n",
      "0.01946541731610396\n",
      "0.0188192167366004750\n",
      "0.03371538561984022\n",
      "0.0242093592679406560\n",
      "0.03326654046987687\n",
      "0.0205202057931944130\n",
      "0.02461658847546111\n",
      "0.0282319332408073050\n",
      "0.030245866581525283\n",
      "0.0351047106264863460\n",
      "0.02218790888180322\n",
      "0.0433439419977093200\n",
      "0.018429795057850695\n",
      "0.0354383942000318100\n",
      "0.026329410627452643\n",
      "0.0254559021027354600\n",
      "0.021517249422305373\n",
      "0.0370716784531643360\n",
      "0.01763758412515737\n",
      "0.0336236890558017100\n",
      "0.01810025376430302\n",
      "0.0232736403813642020\n",
      "0.02786767799868195\n",
      "0.0356094866729685900\n",
      "0.022035182891473437\n",
      "0.0292409541411190470\n",
      "0.01967148666539581\n",
      "0.0207766702230284260\n",
      "0.01752922095407028\n",
      "0.0136499159450081950\n",
      "0.02001304203436083\n",
      "0.0438760543898991100\n",
      "0.029245895118754972\n",
      "0.0383184912499427400\n",
      "0.020761075358263548\n",
      "0.0221789167608593700\n",
      "0.017257126211531137\n",
      "0.0351810798648295450\n",
      "0.03392409498565774\n",
      "0.0198598431044466600\n",
      "0.01954742376745644\n",
      "0.0342186888723104400\n",
      "0.022760137888023224\n",
      "0.0343130221075923500\n",
      "0.019295158459091133\n",
      "0.0241718393618967080\n",
      "0.016461857835463833\n",
      "0.0341218875155319100\n",
      "0.015588004125273891\n",
      "0.0273545717854295500\n",
      "0.02138132826602801\n",
      "0.0288341932896262200\n",
      "0.027082452661361334\n",
      "0.0277455785721274500\n",
      "0.020344886526463934\n",
      "0.0269433749827056030\n",
      "0.028123561970594957\n",
      "0.0172393483182292640\n",
      "0.015495079660661548\n",
      "0.0367479597095776700\n",
      "0.022258245530108967\n",
      "0.0284128368466828320\n",
      "0.021261376282074973\n",
      "0.0282241113598334370\n",
      "0.023630825801972455\n",
      "0.0310760272089970480\n",
      "0.01591686958474066\n",
      "0.0221266000287570500\n",
      "0.02002548796074405\n",
      "0.0248589806928762300\n",
      "0.0202506798631521\n",
      "0.0246160851736720300\n",
      "0.019357800036966077\n",
      "0.0219198132914879550\n",
      "0.020159683180519195\n",
      "0.0390875521729903140\n",
      "0.026116435686432737\n",
      "0.0332371093473630140\n",
      "0.020267714060858144\n",
      "0.0239902313727821100\n",
      "0.03349616854601778\n",
      "0.0315652707928068200\n",
      "0.018042147995551483\n",
      "0.0214949153170171940\n",
      "0.02599444276595353\n",
      "0.0258003917177190840\n",
      "0.033510319786313025\n",
      "0.0532544471223466700\n",
      "0.022356283971435853\n",
      "0.0164243760667172060\n",
      "0.0320204912784493\n",
      "0.0293283560324718600\n",
      "0.027511261378806107\n",
      "0.0178115189902305900\n",
      "0.019044815767521373\n",
      "0.0291740391363429500\n",
      "0.030621530292917587\n",
      "0.0278787110631592200\n",
      "0.026412217364919166\n",
      "0.0223151770692749660\n",
      "0.021379466235287886\n",
      "0.0448162637654263560\n",
      "0.035701620177999605\n",
      "0.0209502422650156300\n",
      "0.01812709391737405\n",
      "0.0289983914371114700\n",
      "0.024979180450458105\n",
      "0.0223138314747681750\n",
      "0.024266431659265564\n",
      "0.0264913793163829200\n",
      "0.015265894371620459\n",
      "0.0227152683593891960\n",
      "0.019440966462559994\n",
      "0.0198079533055546260\n",
      "0.021270283145822272\n",
      "0.0278430219002011600\n",
      "0.025471814926175285\n",
      "0.0226890621647600770\n",
      "0.017385522707706186\n",
      "0.0306276957849845880\n",
      "0.02085822465427642\n",
      "0.0216275299298145370\n",
      "0.015297182429212408\n",
      "0.0263094165321768330\n",
      "0.019172127663179328\n",
      "0.0307357994114807460\n",
      "0.02027139577128012\n",
      "0.0256675032595770070\n",
      "0.021766836286552516\n",
      "0.0300192575394275800\n",
      "0.026222385435719753\n",
      "0.0198642283229961970\n",
      "0.02513385513105948\n",
      "0.0230095388175674260\n",
      "0.019910985509029033\n",
      "0.0198244306544359540\n",
      "0.021383064740615576\n",
      "0.0197813074010497750\n",
      "0.01664231419405432\n",
      "0.0281400618190448260\n",
      "0.023383890240296745\n",
      "0.0297942632230882020\n",
      "0.02845799534377036\n",
      "0.0355647846099718100\n",
      "0.019731885058501097\n"
     ]
    },
    {
     "name": "stdout",
     "output_type": "stream",
     "text": [
      "0.0221640209265125400\n",
      "0.02072182669790601\n",
      "0.0228116005329740700\n",
      "0.024960723335913815\n",
      "0.0304634971246522400\n",
      "0.029002976432513927\n",
      "0.0271854906077176330\n",
      "0.0211516945798077\n",
      "0.0290765141235830860\n",
      "0.017707351018506567\n"
     ]
    }
   ],
   "source": [
    "n = 200\n",
    "para_arr = np.zeros((n, 5))\n",
    "para_dep = np.zeros((n, 5))\n",
    "\n",
    "x0_init_arr = [np.log(0.25), np.log(0.1), np.log(0.5-0.25), np.log(0.25-0.1), np.log(0.05)]\n",
    "x0_init_dep = [np.log(0.15), np.log(0.3), np.log(0.65-0.15), np.log(0.75-0.3), np.log(0.025)]\n",
    "\n",
    "ks_arr = []\n",
    "ks_dep = []\n",
    "\n",
    "for i in range(n):\n",
    "    print('Iteration: ', i+1, '/',n, end='\\r')\n",
    "    t_dep = mutual_sim(500, para)\n",
    "    arr_t = t_dep[\"arrival\"]\n",
    "    dep_t = t_dep[\"departure\"]\n",
    "\n",
    "    t_arr = {}\n",
    "    t_arr[\"arrival\"] = dep_t\n",
    "    t_arr[\"departure\"] = arr_t\n",
    "    mle_dep = op.minimize(op_mutual_log_likelihood, x0 = x0_init_dep, method = 'Nelder-Mead', args=(t_dep,))\n",
    "    mle_arr = op.minimize(op_mutual_log_likelihood, x0 = x0_init_arr, method = 'Nelder-Mead', args=(t_arr,))\n",
    "    para_dep[i, :] = mle_dep.x\n",
    "    para_arr[i, :] = mle_arr.x\n",
    "    \n",
    "    beta_dep1, beta_arr1, theta_dep1, theta_arr1, lambda_b1 = np.exp(mle_dep.x[0]), np.exp(mle_dep.x[1]), np.exp(mle_dep.x[0]) + np.exp(mle_dep.x[2]), np.exp(mle_dep.x[1]) + np.exp(mle_dep.x[3]), np.exp(mle_dep.x[4])\n",
    "    compensator_t1 = np.zeros(len(t_dep['departure'])+1)\n",
    "    for i in range(len(t_dep['departure'])):\n",
    "        compensator_t1[i+1] = mutual_comp(t_dep['departure'][i], t_dep, np.array([beta_dep1, beta_arr1]), np.array([theta_dep1, theta_arr1]), lambda_b1)\n",
    "\n",
    "    inter_arr_times1 = np.diff(compensator_t1)\n",
    "    p_values1 = np.exp(-inter_arr_times1)\n",
    "    ks1 = st.kstest(p_values1, \"uniform\")\n",
    "    ks_dep.append(ks1.statistic)\n",
    "    \n",
    "    beta_dep2, beta_arr2, theta_dep2, theta_arr2, lambda_b2 = np.exp(mle_arr.x[0]), np.exp(mle_arr.x[1]), np.exp(mle_arr.x[0]) + np.exp(mle_arr.x[2]), np.exp(mle_arr.x[1]) + np.exp(mle_arr.x[3]), np.exp(mle_arr.x[4])\n",
    "\n",
    "    compensator_t2 = np.zeros(len(t_arr['departure'])+1)\n",
    "    for i in range(len(t_arr['departure'])):\n",
    "        compensator_t2[i+1] = mutual_comp(t_arr['departure'][i], t_arr, np.array([beta_dep2, beta_arr2]), np.array([theta_dep2, theta_arr2]), lambda_b2)\n",
    "\n",
    "    inter_arr_times2 = np.diff(compensator_t2)\n",
    "    p_values2 = np.exp(-inter_arr_times2)\n",
    "    ks2 = st.kstest(p_values2, \"uniform\")\n",
    "    ks_arr.append(ks2.statistic)\n",
    "    \n",
    "    print(ks1.statistic)\n",
    "    print(ks2.statistic)\n",
    "#para_arr"
   ]
  },
  {
   "cell_type": "code",
   "execution_count": null,
   "metadata": {},
   "outputs": [],
   "source": [
    "mle_dep.x"
   ]
  },
  {
   "cell_type": "code",
   "execution_count": 136,
   "metadata": {},
   "outputs": [
    {
     "data": {
      "image/png": "[encoded data removed]",
      "text/plain": [
       "<Figure size 432x288 with 1 Axes>"
      ]
     },
     "metadata": {
      "needs_background": "light"
     },
     "output_type": "display_data"
    }
   ],
   "source": [
    "plt.hist(np.exp(para_dep[:n, 0]), density=True)\n",
    "plt.axvline(x=0.15)\n",
    "plt.show()"
   ]
  },
  {
   "cell_type": "code",
   "execution_count": 137,
   "metadata": {},
   "outputs": [
    {
     "data": {
      "image/png": "[encoded data removed]",
      "text/plain": [
       "<Figure size 432x288 with 1 Axes>"
      ]
     },
     "metadata": {
      "needs_background": "light"
     },
     "output_type": "display_data"
    }
   ],
   "source": [
    "plt.hist(np.exp(para_dep[:n, 0])+ np.exp(para_dep[:n, 2]), density=True)\n",
    "plt.axvline(x=0.65)\n",
    "plt.show()"
   ]
  },
  {
   "cell_type": "code",
   "execution_count": 138,
   "metadata": {},
   "outputs": [
    {
     "data": {
      "image/png": "[encoded data removed]",
      "text/plain": [
       "<Figure size 432x288 with 1 Axes>"
      ]
     },
     "metadata": {
      "needs_background": "light"
     },
     "output_type": "display_data"
    }
   ],
   "source": [
    "plt.hist(np.exp(para_dep[:n, 1]), density=True)\n",
    "plt.axvline(x=0.3)\n",
    "plt.show()"
   ]
  },
  {
   "cell_type": "code",
   "execution_count": 139,
   "metadata": {},
   "outputs": [
    {
     "data": {
      "image/png": "[encoded data removed]",
      "text/plain": [
       "<Figure size 432x288 with 1 Axes>"
      ]
     },
     "metadata": {
      "needs_background": "light"
     },
     "output_type": "display_data"
    }
   ],
   "source": [
    "plt.hist(np.exp(para_dep[:n, 1])+ np.exp(para_dep[:n, 3]), density=True)\n",
    "plt.axvline(x=0.75)\n",
    "plt.show()"
   ]
  },
  {
   "cell_type": "code",
   "execution_count": 140,
   "metadata": {},
   "outputs": [
    {
     "data": {
      "image/png": "[encoded data removed]",
      "text/plain": [
       "<Figure size 432x288 with 1 Axes>"
      ]
     },
     "metadata": {
      "needs_background": "light"
     },
     "output_type": "display_data"
    }
   ],
   "source": [
    "plt.hist(np.exp(para_dep[:n, 4]), density=True)\n",
    "plt.axvline(x=0.025)\n",
    "plt.show()"
   ]
  },
  {
   "cell_type": "code",
   "execution_count": 141,
   "metadata": {},
   "outputs": [
    {
     "data": {
      "image/png": "[encoded data removed]",
      "text/plain": [
       "<Figure size 432x288 with 1 Axes>"
      ]
     },
     "metadata": {
      "needs_background": "light"
     },
     "output_type": "display_data"
    }
   ],
   "source": [
    "plt.hist(np.exp(para_arr[:n, 0]), density=True)\n",
    "plt.axvline(x=0.25)\n",
    "plt.show()"
   ]
  },
  {
   "cell_type": "code",
   "execution_count": 142,
   "metadata": {},
   "outputs": [
    {
     "data": {
      "image/png": "[encoded data removed]",
      "text/plain": [
       "<Figure size 432x288 with 1 Axes>"
      ]
     },
     "metadata": {
      "needs_background": "light"
     },
     "output_type": "display_data"
    }
   ],
   "source": [
    "plt.hist(np.exp(para_arr[:n, 0])+ np.exp(para_arr[:n, 2]), density=True)\n",
    "plt.axvline(x=0.5)\n",
    "plt.show()"
   ]
  },
  {
   "cell_type": "code",
   "execution_count": 143,
   "metadata": {},
   "outputs": [
    {
     "data": {
      "image/png": "[encoded data removed]",
      "text/plain": [
       "<Figure size 432x288 with 1 Axes>"
      ]
     },
     "metadata": {
      "needs_background": "light"
     },
     "output_type": "display_data"
    }
   ],
   "source": [
    "plt.hist(np.exp(para_arr[:n, 1]), density=True)\n",
    "plt.axvline(x=0.1)\n",
    "plt.show()"
   ]
  },
  {
   "cell_type": "code",
   "execution_count": 144,
   "metadata": {},
   "outputs": [
    {
     "data": {
      "image/png": "[encoded data removed]",
      "text/plain": [
       "<Figure size 432x288 with 1 Axes>"
      ]
     },
     "metadata": {
      "needs_background": "light"
     },
     "output_type": "display_data"
    }
   ],
   "source": [
    "plt.hist(np.exp(para_arr[:n, 1])+ np.exp(para_arr[:n, 3]), density=True)\n",
    "plt.axvline(x=0.25)\n",
    "plt.show()"
   ]
  },
  {
   "cell_type": "code",
   "execution_count": 145,
   "metadata": {},
   "outputs": [
    {
     "data": {
      "image/png": "[encoded data removed]",
      "text/plain": [
       "<Figure size 432x288 with 1 Axes>"
      ]
     },
     "metadata": {
      "needs_background": "light"
     },
     "output_type": "display_data"
    }
   ],
   "source": [
    "plt.hist(np.exp(para_arr[:n, 4]), density=True)\n",
    "plt.axvline(x=0.05)\n",
    "plt.show()"
   ]
  },
  {
   "cell_type": "markdown",
   "metadata": {},
   "source": [
    "And we put everything into one plot."
   ]
  },
  {
   "cell_type": "code",
   "execution_count": 125,
   "metadata": {},
   "outputs": [
    {
     "data": {
      "image/png": "[encoded data removed]",
      "text/plain": [
       "<Figure size 1080x360 with 10 Axes>"
      ]
     },
     "metadata": {
      "needs_background": "light"
     },
     "output_type": "display_data"
    }
   ],
   "source": [
    "import seaborn as sns\n",
    "from matplotlib import pyplot as plt\n",
    "#sns.set()\n",
    "fig, axes = plt.subplots(2, 5, figsize=(15, 5))\n",
    "\n",
    "sns.distplot(np.exp(para_dep[:n, 0]), ax=axes[0, 0], hist=True, kde=True)\n",
    "axes[0, 0].set_title(r'$\\beta_1^1$')\n",
    "axes[0, 0].axvline(0.15, color = 'black', linestyle = '--')\n",
    "\n",
    "sns.distplot(np.exp(para_dep[:n, 0]) + np.exp(para_dep[:n, 2]), ax=axes[0, 1], hist=True, kde=True)\n",
    "axes[0, 1].set_title(r'$\\theta_{1, 1}$')\n",
    "axes[0, 1].axvline(0.65, color = 'black', linestyle = '--')\n",
    "\n",
    "sns.distplot(np.exp(para_dep[:n, 1]), ax=axes[0, 2], hist=True, kde=True)\n",
    "axes[0, 2].set_title(r'$\\beta_1^2$')\n",
    "axes[0, 2].axvline(0.3, color = 'black', linestyle = '--')\n",
    "\n",
    "sns.distplot(np.exp(para_dep[:n, 1])+ np.exp(para_dep[:n, 3]), ax=axes[0, 3], hist=True, kde=True)\n",
    "axes[0, 3].set_title(r'$\\theta_1^2$')\n",
    "axes[0, 3].axvline(0.75, color = 'black', linestyle = '--')\n",
    "\n",
    "sns.distplot(np.exp(para_dep[:n, 4]) , ax=axes[0, 4], hist=True, kde=True)\n",
    "axes[0, 4].set_title(r'$\\lambda_1$')\n",
    "axes[0, 4].axvline(0.025, color = 'black', linestyle = '--')\n",
    "\n",
    "sns.distplot(np.exp(para_arr[:n, 0]), ax=axes[1, 0], hist=True, kde=True)\n",
    "axes[1, 0].set_title(r'$\\beta_2^1$')\n",
    "axes[1, 0].axvline(0.25, color = 'black', linestyle = '--')\n",
    "\n",
    "sns.distplot(np.exp(para_arr[:n, 0])+np.exp(para_arr[:n, 2]), ax=axes[1, 1], hist=True, kde=True)\n",
    "axes[1, 1].set_title(r'$\\theta_2^1$')\n",
    "axes[1, 1].axvline(0.5, color = 'black', linestyle = '--')\n",
    "\n",
    "sns.distplot(np.exp(para_arr[:n, 1]) , ax=axes[1, 2], hist=True, kde=True)\n",
    "axes[1, 2].set_title(r'$\\beta_2^2$')\n",
    "axes[1, 2].axvline(0.1, color = 'black', linestyle = '--')\n",
    "\n",
    "sns.distplot(np.exp(para_arr[:n, 1])+ np.exp(para_arr[:n, 3]), ax=axes[1, 3], hist=True, kde=True)\n",
    "axes[1, 3].set_title(r'$\\theta_2^2$')\n",
    "axes[1, 3].axvline(0.25, color = 'black', linestyle = '--')\n",
    "\n",
    "sns.distplot(np.exp(para_arr[:n, 4]), ax=axes[1, 4], hist=True, kde=True)\n",
    "axes[1, 4].set_title(r'$\\lambda_2$')\n",
    "axes[1, 4].axvline(0.05, color = 'black', linestyle = '--')\n",
    "fig.tight_layout(rect=[0, 0.03, 1, 0.95])\n",
    "plt.savefig('sme sim.pdf')"
   ]
  },
  {
   "cell_type": "code",
   "execution_count": 117,
   "metadata": {},
   "outputs": [
    {
     "data": {
      "image/png": "[encoded data removed]",
      "text/plain": [
       "<Figure size 432x288 with 1 Axes>"
      ]
     },
     "metadata": {
      "needs_background": "light"
     },
     "output_type": "display_data"
    }
   ],
   "source": [
    "data = [ks_dep, ks_arr]\n",
    "plt.boxplot(data)\n",
    "\n",
    "plt.xticks([1, 2], ['SME (single station): ' + r'$N_{dep}(t)$', 'SME (single station): ' + r'$N_{arr}(t)$'])\n",
    "plt.savefig('sme box.pdf')"
   ]
  },
  {
   "cell_type": "code",
   "execution_count": null,
   "metadata": {},
   "outputs": [],
   "source": [
    "data = [data_1, data_2, data_3, data_4]\n",
    " \n",
    "fig = plt.figure(figsize =(10, 7))\n",
    " \n",
    "# Creating axes instance\n",
    "ax = fig.add_axes([0, 0, 1, 1])\n",
    " \n",
    "# Creating plot\n",
    "bp = ax.boxplot(data)\n",
    " \n",
    "# show plot\n",
    "plt.show()"
   ]
  }
 ],
 "metadata": {
  "kernelspec": {
   "display_name": "Python 3",
   "language": "python",
   "name": "python3"
  },
  "language_info": {
   "codemirror_mode": {
    "name": "ipython",
    "version": 3
   },
   "file_extension": ".py",
   "mimetype": "text/x-python",
   "name": "python",
   "nbconvert_exporter": "python",
   "pygments_lexer": "ipython3",
   "version": "3.7.6"
  }
 },
 "nbformat": 4,
 "nbformat_minor": 4
}
