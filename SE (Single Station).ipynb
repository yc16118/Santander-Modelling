{
 "cells": [
  {
   "cell_type": "code",
   "execution_count": 2,
   "metadata": {},
   "outputs": [],
   "source": [
    "import numpy as np, pandas as pd\n",
    "from matplotlib import pyplot as plt\n",
    "from scipy.optimize import minimize\n",
    "import scipy.stats as st\n",
    "from tqdm import tqdm\n",
    "from matplotlib.ticker import FuncFormatter\n",
    "import scipy.optimize as op\n",
    "import os\n",
    "from nltk import flatten"
   ]
  },
  {
   "cell_type": "markdown",
   "metadata": {},
   "source": [
    "We implement a function that filters the event times in process i that happens before event time T in process i."
   ]
  },
  {
   "cell_type": "code",
   "execution_count": 3,
   "metadata": {},
   "outputs": [],
   "source": [
    "def prev_event(times, T):\n",
    "    \"\"\"\n",
    "    Return the event times in process i that happens before event time T in process i.\n",
    "    : param times: an n-dimensional array, the full event times in process i\n",
    "    : param T: a number, one event time in process i\n",
    "    \n",
    "    : return k: a number, the index of the last event time in process i happened before T in process i\n",
    "    \"\"\"\n",
    "    \n",
    "    return np.searchsorted(times, T, side='right')"
   ]
  },
  {
   "cell_type": "markdown",
   "metadata": {},
   "source": [
    "We implement the compensator function."
   ]
  },
  {
   "cell_type": "code",
   "execution_count": 4,
   "metadata": {},
   "outputs": [],
   "source": [
    "def hawkes_comp(t, times, beta, theta, lambda_b):\n",
    "    ratio = beta/theta\n",
    "    ind = prev_event(times, t)\n",
    "    second_sum = 0\n",
    "    \n",
    "    if ind != 0:\n",
    "        second_sum = ratio * np.sum(np.exp(-theta*(t - times[0:ind])) - 1)\n",
    "    comp= lambda_b*t - second_sum \n",
    "    \n",
    "    return comp"
   ]
  },
  {
   "cell_type": "markdown",
   "metadata": {},
   "source": [
    "And we implement the log likelihood function. "
   ]
  },
  {
   "cell_type": "code",
   "execution_count": 6,
   "metadata": {},
   "outputs": [],
   "source": [
    "def hawkes_log_likelihood(times, beta, theta, lambda_b): \n",
    "    ratio = beta/theta\n",
    "    A = np.zeros(len(times))\n",
    "    T = times[-1]\n",
    "    \n",
    "    for i in range(1, len(times)):\n",
    "        A[i] = np.exp(-theta*(times[i] - times[i-1]))*(1+A[i-1])\n",
    "    \n",
    "    first_sum = np.sum(np.log(lambda_b + beta*A))\n",
    "    second_sum = ratio * np.sum(np.exp(-theta*(T - times)) - 1)\n",
    "    res = first_sum + second_sum - lambda_b*T\n",
    "    \n",
    "    return res"
   ]
  },
  {
   "cell_type": "markdown",
   "metadata": {},
   "source": [
    "And we test the log likelihood function using the following."
   ]
  },
  {
   "cell_type": "code",
   "execution_count": 7,
   "metadata": {},
   "outputs": [],
   "source": [
    "def hawkes_log_likelihood2(t, beta, theta, lambda_b): \n",
    "    ratio = beta/theta\n",
    "    A = np.zeros(len(t))\n",
    "    T = t[-1]\n",
    "    \n",
    "    for i in range(1, len(t)):\n",
    "        A[i] = np.exp(-theta*(t[i] - t[i-1]))*(1+A[i-1])\n",
    "    \n",
    "    first_sum = np.log(lambda_b + beta*A)\n",
    "    second_sum = ratio * np.sum(np.exp(-theta*(T - t)) - 1)\n",
    "    res = first_sum + second_sum - lambda_b*T\n",
    "    \n",
    "    return first_sum, second_sum, lambda_b*T"
   ]
  },
  {
   "cell_type": "code",
   "execution_count": 8,
   "metadata": {},
   "outputs": [],
   "source": [
    "def hawkes_log_likelihood3(t, beta, theta, lambda_p): \n",
    "    ratio = beta/theta\n",
    "    A = []\n",
    "    for i in range(0, len(t)):\n",
    "        if i==0:\n",
    "            A.append(0)\n",
    "        else:\n",
    "            A.append(np.exp(-1*theta*(t[i] - t[i-1]))*(1+A[i-1]))\n",
    "    A = np.array(A)\n",
    "    first_sum = np.sum(np.log(lambda_p + beta*A))\n",
    "    tk = t[-1]\n",
    "    second_sum = ratio * np.sum(np.exp(-theta*(tk - t)) - 1)\n",
    "    ret = first_sum + second_sum - lambda_p*tk\n",
    "    return ret"
   ]
  },
  {
   "cell_type": "markdown",
   "metadata": {},
   "source": [
    "The test"
   ]
  },
  {
   "cell_type": "code",
   "execution_count": 9,
   "metadata": {},
   "outputs": [
    {
     "name": "stdout",
     "output_type": "stream",
     "text": [
      "0.0\n",
      "0.0\n"
     ]
    }
   ],
   "source": [
    "##rng = np.random.default_rng()\n",
    "##t = np.sort(rng.choice(1000, 100, replace=False))\n",
    "beta = 2.0\n",
    "theta = 3.0\n",
    "lambda_b = 1.0\n",
    "##noise = np.random.uniform(0.0, 1.0, 3)\n",
    "times = np.sort(np.random.uniform(0,75,size=3)) ##t.astype('float64') + noise\n",
    "\n",
    "sum_1 = []\n",
    "sum_1.append(np.log(lambda_b))\n",
    "sum_1.append(np.log(lambda_b + beta*np.exp(-theta*(times[1] -times[0]))))\n",
    "sum_1.append(np.log(lambda_b + beta*np.exp(-theta*(times[2] -times[0]))+ beta*np.exp(-theta*(times[2] -times[1]))))\n",
    "\n",
    "sum_2 = 0.0\n",
    "for i in range(3):\n",
    "    sum_2 += np.exp(-theta*(times[-1]-times[i]))-1\n",
    "\n",
    "l = np.sum(sum_1) - lambda_b * times[-1] + beta/theta*sum_2\n",
    "\n",
    "u = hawkes_log_likelihood3(times, beta, theta, lambda_b)\n",
    "sum1, sum2, sum3 = hawkes_log_likelihood2(times, beta, theta, lambda_b)\n",
    "comp = hawkes_comp(times[-1], times, beta, theta, lambda_b)\n",
    "print(np.abs(l -hawkes_log_likelihood(times, beta, theta, lambda_b)));\n",
    "print(np.sum(sum1) - comp - hawkes_log_likelihood(times, beta, theta, lambda_b))"
   ]
  },
  {
   "cell_type": "markdown",
   "metadata": {},
   "source": [
    "print(u[0] - sum_1, \n",
    "u[1] - beta/theta*sum_2, \n",
    "u[2] - lambda_b * t[-1])"
   ]
  },
  {
   "cell_type": "markdown",
   "metadata": {},
   "source": [
    "We read the processed bike data folder for station 261, create a dictionary, store the file name as key and the data frame inside the file as value."
   ]
  },
  {
   "cell_type": "code",
   "execution_count": 10,
   "metadata": {},
   "outputs": [
    {
     "data": {
      "text/plain": [
       "dict_keys(['235_07Oct2020-13Oct2020.csv', '234_30Sep2020-06Oct2020.csv', '222_08Jul2020-14Jul2020.csv', '227_12Aug2020-18Aug2020.csv', '224_22Jul2020-28Jul2020.csv', '226_05Aug2020-11Aug2020.csv', '232_16Sep2020-22Sep2020.csv', '228_19Aug2020-25Aug2020.csv', '236_14Oct2020-20Oct2020.csv', '221_01Jul2020-07Jul2020.csv', '231_09Sep2020-15Sep2020.csv', '225_29Jul2020-04Aug2020.csv', '223_15Jul2020-21Jul2020.csv', '233_23Sep2020-29Sep2020.csv', '230_02Sep2020-08Sep2020.csv', '229_26Aug2020-01Sep2020.csv'])"
      ]
     },
     "execution_count": 10,
     "metadata": {},
     "output_type": "execute_result"
    }
   ],
   "source": [
    "path = './dep/Station261'\n",
    "data_files = os.listdir(path)\n",
    "n_weeks = len(data_files)\n",
    "bike_data = {file: pd.read_csv(path + '/' + file)\n",
    "             for file in data_files}        \n",
    "\n",
    "for names in bike_data.keys():\n",
    "    del bike_data[names][\"Unnamed: 0\"]\n",
    "    \n",
    "bike_data.keys()"
   ]
  },
  {
   "cell_type": "markdown",
   "metadata": {},
   "source": [
    "We extract the start time column, the departure times at station. We need to get away from the file '.DS_Store'."
   ]
  },
  {
   "cell_type": "code",
   "execution_count": 11,
   "metadata": {},
   "outputs": [
    {
     "data": {
      "text/plain": [
       "array([788171.00969237, 788181.87341683, 788187.75415357, ...,\n",
       "       948749.7261913 , 948751.98261002, 948869.33013766])"
      ]
     },
     "execution_count": 11,
     "metadata": {},
     "output_type": "execute_result"
    }
   ],
   "source": [
    "dep_times = {}\n",
    "\n",
    "for names in bike_data.keys():\n",
    "    if names != '.DS_Store':\n",
    "        df = bike_data[names]\n",
    "        df = df['start_t']\n",
    "        dep_times[names] = df.values.tolist()\n",
    " \n",
    "dep_times_list = np.array(sorted(flatten(list(dep_times.values()))))\n",
    "dep_times_list"
   ]
  },
  {
   "cell_type": "markdown",
   "metadata": {},
   "source": [
    "We test the model on data."
   ]
  },
  {
   "cell_type": "code",
   "execution_count": 12,
   "metadata": {},
   "outputs": [
    {
     "data": {
      "text/plain": [
       "-953443.3219390939"
      ]
     },
     "execution_count": 12,
     "metadata": {},
     "output_type": "execute_result"
    }
   ],
   "source": [
    "t0 = dep_times_list\n",
    "hawkes_log_likelihood(t0, 2, 1, 1)"
   ]
  },
  {
   "cell_type": "markdown",
   "metadata": {},
   "source": [
    "We then perform the optimisation."
   ]
  },
  {
   "cell_type": "code",
   "execution_count": 15,
   "metadata": {},
   "outputs": [
    {
     "data": {
      "text/plain": [
       " final_simplex: (array([[ -5.05040943, -31.23486158, -13.1623542 ],\n",
       "       [ -5.05040946, -31.23477242, -13.16235255],\n",
       "       [ -5.05040947, -31.23490125, -13.16235489],\n",
       "       [ -5.05040938, -31.23495794, -13.16235336]]), array([12406.12336532, 12406.12336532, 12406.12336532, 12406.12336532]))\n",
       "           fun: 12406.123365316076\n",
       "       message: 'Optimization terminated successfully.'\n",
       "          nfev: 134\n",
       "           nit: 72\n",
       "        status: 0\n",
       "       success: True\n",
       "             x: array([ -5.05040943, -31.23486158, -13.1623542 ])"
      ]
     },
     "execution_count": 15,
     "metadata": {},
     "output_type": "execute_result"
    }
   ],
   "source": [
    "op_hawkes_log_likelihood = lambda param, t: - hawkes_log_likelihood(t, np.exp(param[0]), np.exp(param[0])+np.exp(param[1]), np.exp(param[2]))\n",
    "mle = op.minimize(op_hawkes_log_likelihood, x0 = [-5, -31, -13], method = 'Nelder-Mead', args=(t0,))\n",
    "mle"
   ]
  },
  {
   "cell_type": "markdown",
   "metadata": {},
   "source": [
    "We also want to find the p values."
   ]
  },
  {
   "cell_type": "code",
   "execution_count": 2,
   "metadata": {},
   "outputs": [
    {
     "ename": "NameError",
     "evalue": "name 'np' is not defined",
     "output_type": "error",
     "traceback": [
      "\u001b[0;31m---------------------------------------------------------------------------\u001b[0m",
      "\u001b[0;31mNameError\u001b[0m                                 Traceback (most recent call last)",
      "\u001b[0;32m<ipython-input-2-a7da890f7ae1>\u001b[0m in \u001b[0;36m<module>\u001b[0;34m\u001b[0m\n\u001b[0;32m----> 1\u001b[0;31m \u001b[0mbeta\u001b[0m\u001b[0;34m,\u001b[0m \u001b[0mtheta\u001b[0m\u001b[0;34m,\u001b[0m \u001b[0mlambda_b\u001b[0m \u001b[0;34m=\u001b[0m \u001b[0mnp\u001b[0m\u001b[0;34m.\u001b[0m\u001b[0mexp\u001b[0m\u001b[0;34m(\u001b[0m\u001b[0mmle\u001b[0m\u001b[0;34m.\u001b[0m\u001b[0mx\u001b[0m\u001b[0;34m[\u001b[0m\u001b[0;36m0\u001b[0m\u001b[0;34m]\u001b[0m\u001b[0;34m)\u001b[0m\u001b[0;34m,\u001b[0m \u001b[0mnp\u001b[0m\u001b[0;34m.\u001b[0m\u001b[0mexp\u001b[0m\u001b[0;34m(\u001b[0m\u001b[0mmle\u001b[0m\u001b[0;34m.\u001b[0m\u001b[0mx\u001b[0m\u001b[0;34m[\u001b[0m\u001b[0;36m0\u001b[0m\u001b[0;34m]\u001b[0m\u001b[0;34m)\u001b[0m \u001b[0;34m+\u001b[0m \u001b[0mnp\u001b[0m\u001b[0;34m.\u001b[0m\u001b[0mexp\u001b[0m\u001b[0;34m(\u001b[0m\u001b[0mmle\u001b[0m\u001b[0;34m.\u001b[0m\u001b[0mx\u001b[0m\u001b[0;34m[\u001b[0m\u001b[0;36m1\u001b[0m\u001b[0;34m]\u001b[0m\u001b[0;34m)\u001b[0m\u001b[0;34m,\u001b[0m \u001b[0mnp\u001b[0m\u001b[0;34m.\u001b[0m\u001b[0mexp\u001b[0m\u001b[0;34m(\u001b[0m\u001b[0mmle\u001b[0m\u001b[0;34m.\u001b[0m\u001b[0mx\u001b[0m\u001b[0;34m[\u001b[0m\u001b[0;36m2\u001b[0m\u001b[0;34m]\u001b[0m\u001b[0;34m)\u001b[0m\u001b[0;34m\u001b[0m\u001b[0;34m\u001b[0m\u001b[0m\n\u001b[0m\u001b[1;32m      2\u001b[0m \u001b[0;34m\u001b[0m\u001b[0m\n\u001b[1;32m      3\u001b[0m \u001b[0mcompensator_t\u001b[0m \u001b[0;34m=\u001b[0m \u001b[0mnp\u001b[0m\u001b[0;34m.\u001b[0m\u001b[0mzeros\u001b[0m\u001b[0;34m(\u001b[0m\u001b[0mlen\u001b[0m\u001b[0;34m(\u001b[0m\u001b[0mt0\u001b[0m\u001b[0;34m)\u001b[0m\u001b[0;34m+\u001b[0m\u001b[0;36m1\u001b[0m\u001b[0;34m)\u001b[0m\u001b[0;34m\u001b[0m\u001b[0;34m\u001b[0m\u001b[0m\n\u001b[1;32m      4\u001b[0m \u001b[0;32mfor\u001b[0m \u001b[0mi\u001b[0m \u001b[0;32min\u001b[0m \u001b[0mrange\u001b[0m\u001b[0;34m(\u001b[0m\u001b[0mlen\u001b[0m\u001b[0;34m(\u001b[0m\u001b[0mt0\u001b[0m\u001b[0;34m)\u001b[0m\u001b[0;34m)\u001b[0m\u001b[0;34m:\u001b[0m\u001b[0;34m\u001b[0m\u001b[0;34m\u001b[0m\u001b[0m\n\u001b[1;32m      5\u001b[0m     \u001b[0mcompensator_t\u001b[0m\u001b[0;34m[\u001b[0m\u001b[0mi\u001b[0m\u001b[0;34m+\u001b[0m\u001b[0;36m1\u001b[0m\u001b[0;34m]\u001b[0m \u001b[0;34m=\u001b[0m \u001b[0mhawkes_comp\u001b[0m\u001b[0;34m(\u001b[0m\u001b[0mt0\u001b[0m\u001b[0;34m[\u001b[0m\u001b[0mi\u001b[0m\u001b[0;34m]\u001b[0m\u001b[0;34m,\u001b[0m \u001b[0mt0\u001b[0m\u001b[0;34m,\u001b[0m \u001b[0mbeta\u001b[0m\u001b[0;34m,\u001b[0m \u001b[0mtheta\u001b[0m\u001b[0;34m,\u001b[0m \u001b[0mlambda_b\u001b[0m\u001b[0;34m)\u001b[0m\u001b[0;34m\u001b[0m\u001b[0;34m\u001b[0m\u001b[0m\n",
      "\u001b[0;31mNameError\u001b[0m: name 'np' is not defined"
     ]
    }
   ],
   "source": [
    "beta, theta, lambda_b = np.exp(mle.x[0]), np.exp(mle.x[0]) + np.exp(mle.x[1]), np.exp(mle.x[2])\n",
    "\n",
    "compensator_t = np.zeros(len(t0)+1)\n",
    "for i in range(len(t0)):\n",
    "    compensator_t[i+1] = hawkes_comp(t0[i], t0, beta, theta, lambda_b)\n",
    "\n",
    "inter_arr_times = np.diff(compensator_t)\n",
    "p_values = np.exp(-inter_arr_times)"
   ]
  },
  {
   "cell_type": "markdown",
   "metadata": {},
   "source": [
    "And we plot the empirical CDF."
   ]
  },
  {
   "cell_type": "code",
   "execution_count": 17,
   "metadata": {},
   "outputs": [],
   "source": [
    "def ecdf(data): # https://cmdlinetips.com/2019/05/empirical-cumulative-distribution-function-ecdf-in-python/\n",
    "    \"\"\" Compute ECDF \"\"\"\n",
    "    data = np.sort(data)\n",
    "    n = data.size\n",
    "    y = np.arange(1, n+1) / n\n",
    "    return(data,y)"
   ]
  },
  {
   "cell_type": "code",
   "execution_count": 18,
   "metadata": {},
   "outputs": [
    {
     "data": {
      "image/png": "[encoded data removed]",
      "text/plain": [
       "<Figure size 432x288 with 1 Axes>"
      ]
     },
     "metadata": {
      "needs_background": "light"
     },
     "output_type": "display_data"
    }
   ],
   "source": [
    "x,y = ecdf(p_values)\n",
    "plt.plot(x,y, alpha=0.2, linewidth=0.5, color='blue')\n",
    "\n",
    "plt.title(\"ECDF for p-values of Model 3\")\n",
    "plt.xlabel(\"P-value\")\n",
    "plt.ylabel(\"ECDF value\")\n",
    "plt.plot([0,1], [0,1], label=\"Theoretical ECDF\", color='orange')\n",
    "plt.legend()\n",
    "plt.show()"
   ]
  },
  {
   "cell_type": "markdown",
   "metadata": {},
   "source": [
    "We now perform the above on a different bike station."
   ]
  },
  {
   "cell_type": "code",
   "execution_count": 41,
   "metadata": {},
   "outputs": [
    {
     "data": {
      "text/plain": [
       "dict_keys(['235_07Oct2020-13Oct2020.csv', '234_30Sep2020-06Oct2020.csv', '222_08Jul2020-14Jul2020.csv', '227_12Aug2020-18Aug2020.csv', '224_22Jul2020-28Jul2020.csv', '226_05Aug2020-11Aug2020.csv', '232_16Sep2020-22Sep2020.csv', '228_19Aug2020-25Aug2020.csv', '236_14Oct2020-20Oct2020.csv', '221_01Jul2020-07Jul2020.csv', '231_09Sep2020-15Sep2020.csv', '225_29Jul2020-04Aug2020.csv', '223_15Jul2020-21Jul2020.csv', '233_23Sep2020-29Sep2020.csv', '230_02Sep2020-08Sep2020.csv', '229_26Aug2020-01Sep2020.csv'])"
      ]
     },
     "execution_count": 41,
     "metadata": {},
     "output_type": "execute_result"
    }
   ],
   "source": [
    "path = './dep/Station151'\n",
    "data_files = os.listdir(path)\n",
    "n_weeks = len(data_files)\n",
    "bike_data = {file: pd.read_csv(path + '/' + file)\n",
    "             for file in data_files}        \n",
    "\n",
    "for names in bike_data.keys():\n",
    "    del bike_data[names][\"Unnamed: 0\"]\n",
    "    \n",
    "bike_data.keys()"
   ]
  },
  {
   "cell_type": "code",
   "execution_count": 48,
   "metadata": {},
   "outputs": [
    {
     "data": {
      "text/plain": [
       "array([787711.64008239, 788088.62141029, 788109.38344391, ...,\n",
       "       948671.47860644, 948694.68340259, 948704.36070066])"
      ]
     },
     "execution_count": 48,
     "metadata": {},
     "output_type": "execute_result"
    }
   ],
   "source": [
    "dep_times = {}\n",
    "\n",
    "for names in bike_data.keys():\n",
    "    if names != '.DS_Store':\n",
    "        df = bike_data[names]\n",
    "        df = df['start_t']\n",
    "        dep_times[names] = df.values.tolist()\n",
    " \n",
    "dep_times_list = np.array(sorted(flatten(list(dep_times.values()))))\n",
    "dep_times_list"
   ]
  },
  {
   "cell_type": "code",
   "execution_count": 50,
   "metadata": {},
   "outputs": [
    {
     "data": {
      "text/plain": [
       " final_simplex: (array([[ -5.05040942, -34.30443888, -13.16235386],\n",
       "       [ -5.05040942, -34.30450473, -13.16235386],\n",
       "       [ -5.05040942, -34.3044142 , -13.16235386],\n",
       "       [ -5.05040942, -34.30436571, -13.16235386]]), array([12406.12336532, 12406.12336532, 12406.12336532, 12406.12336532]))\n",
       "           fun: 12406.123365316062\n",
       "       message: 'Optimization terminated successfully.'\n",
       "          nfev: 381\n",
       "           nit: 195\n",
       "        status: 0\n",
       "       success: True\n",
       "             x: array([ -5.05040942, -34.30443888, -13.16235386])"
      ]
     },
     "execution_count": 50,
     "metadata": {},
     "output_type": "execute_result"
    }
   ],
   "source": [
    "op_hawkes_log_likelihood = lambda param, t: - hawkes_log_likelihood(t, np.exp(param[0]), np.exp(param[0])+np.exp(param[1]), np.exp(param[2]))\n",
    "mle = op.minimize(op_hawkes_log_likelihood, x0 = [-4, -10, -10], method = 'Nelder-Mead', args=(t0,))\n",
    "mle"
   ]
  },
  {
   "cell_type": "code",
   "execution_count": 51,
   "metadata": {},
   "outputs": [],
   "source": [
    "beta, theta, lambda_b = np.exp(mle.x[0]), np.exp(mle.x[0]) + np.exp(mle.x[1]), np.exp(mle.x[2])\n",
    "\n",
    "compensator_t = np.zeros(len(t0)+1)\n",
    "for i in range(len(t0)):\n",
    "    compensator_t[i+1] = hawkes_comp(t0[i], t0, beta, theta, lambda_b)\n",
    "\n",
    "inter_arr_times = np.diff(compensator_t)\n",
    "p_values = np.exp(-inter_arr_times)"
   ]
  },
  {
   "cell_type": "code",
   "execution_count": 52,
   "metadata": {},
   "outputs": [
    {
     "data": {
      "image/png": "[encoded data removed]",
      "text/plain": [
       "<Figure size 432x288 with 1 Axes>"
      ]
     },
     "metadata": {
      "needs_background": "light"
     },
     "output_type": "display_data"
    }
   ],
   "source": [
    "x,y = ecdf(p_values)\n",
    "plt.plot(x,y, alpha=0.2, linewidth=0.5, color='blue')\n",
    "\n",
    "plt.title(\"ECDF for p-values of Model 3\")\n",
    "plt.xlabel(\"P-value\")\n",
    "plt.ylabel(\"ECDF value\")\n",
    "plt.plot([0,1], [0,1], label=\"Theoretical ECDF\", color='orange')\n",
    "plt.legend()\n",
    "plt.show()"
   ]
  },
  {
   "cell_type": "code",
   "execution_count": 53,
   "metadata": {},
   "outputs": [
    {
     "data": {
      "text/plain": [
       "dict_keys(['235_07Oct2020-13Oct2020.csv', '234_30Sep2020-06Oct2020.csv', '222_08Jul2020-14Jul2020.csv', '227_12Aug2020-18Aug2020.csv', '224_22Jul2020-28Jul2020.csv', '226_05Aug2020-11Aug2020.csv', '232_16Sep2020-22Sep2020.csv', '228_19Aug2020-25Aug2020.csv', '236_14Oct2020-20Oct2020.csv', '221_01Jul2020-07Jul2020.csv', '231_09Sep2020-15Sep2020.csv', '225_29Jul2020-04Aug2020.csv', '223_15Jul2020-21Jul2020.csv', '233_23Sep2020-29Sep2020.csv', '230_02Sep2020-08Sep2020.csv', '229_26Aug2020-01Sep2020.csv'])"
      ]
     },
     "execution_count": 53,
     "metadata": {},
     "output_type": "execute_result"
    }
   ],
   "source": [
    "path = './dep/Station182'\n",
    "data_files = os.listdir(path)\n",
    "n_weeks = len(data_files)\n",
    "bike_data = {file: pd.read_csv(path + '/' + file)\n",
    "             for file in data_files}        \n",
    "\n",
    "for names in bike_data.keys():\n",
    "    del bike_data[names][\"Unnamed: 0\"]\n",
    "    \n",
    "bike_data.keys()"
   ]
  },
  {
   "cell_type": "code",
   "execution_count": 54,
   "metadata": {},
   "outputs": [
    {
     "data": {
      "text/plain": [
       "array([788131.72298713, 788133.52539743, 788192.02634864, ...,\n",
       "       948795.03118528, 948863.46354042, 948909.92711799])"
      ]
     },
     "execution_count": 54,
     "metadata": {},
     "output_type": "execute_result"
    }
   ],
   "source": [
    "dep_times = {}\n",
    "\n",
    "for names in bike_data.keys():\n",
    "    if names != '.DS_Store':\n",
    "        df = bike_data[names]\n",
    "        df = df['start_t']\n",
    "        dep_times[names] = df.values.tolist()\n",
    " \n",
    "dep_times_list = np.array(sorted(flatten(list(dep_times.values()))))\n",
    "dep_times_list"
   ]
  },
  {
   "cell_type": "code",
   "execution_count": 62,
   "metadata": {},
   "outputs": [
    {
     "data": {
      "text/plain": [
       " final_simplex: (array([[ -5.0504089 , -27.37611983, -13.16234511],\n",
       "       [ -5.0504089 , -27.37613258, -13.16236908],\n",
       "       [ -5.0504097 , -27.37602368, -13.16232307],\n",
       "       [ -5.05041079, -27.37611856, -13.16236172]]), array([12406.12336532, 12406.12336532, 12406.12336532, 12406.12336532]))\n",
       "           fun: 12406.12336531677\n",
       "       message: 'Optimization terminated successfully.'\n",
       "          nfev: 250\n",
       "           nit: 136\n",
       "        status: 0\n",
       "       success: True\n",
       "             x: array([ -5.0504089 , -27.37611983, -13.16234511])"
      ]
     },
     "execution_count": 62,
     "metadata": {},
     "output_type": "execute_result"
    }
   ],
   "source": [
    "op_hawkes_log_likelihood = lambda param, t: - hawkes_log_likelihood(t, np.exp(param[0]), np.exp(param[0])+np.exp(param[1]), np.exp(param[2]))\n",
    "mle = op.minimize(op_hawkes_log_likelihood, x0 = [-2, -2, -2], method = 'Nelder-Mead', args=(t0,))\n",
    "mle"
   ]
  },
  {
   "cell_type": "code",
   "execution_count": 63,
   "metadata": {},
   "outputs": [],
   "source": [
    "beta, theta, lambda_b = np.exp(mle.x[0]), np.exp(mle.x[0]) + np.exp(mle.x[1]), np.exp(mle.x[2])\n",
    "\n",
    "compensator_t = np.zeros(len(t0)+1)\n",
    "for i in range(len(t0)):\n",
    "    compensator_t[i+1] = hawkes_comp(t0[i], t0, beta, theta, lambda_b)\n",
    "\n",
    "inter_arr_times = np.diff(compensator_t)\n",
    "p_values = np.exp(-inter_arr_times)"
   ]
  },
  {
   "cell_type": "code",
   "execution_count": 64,
   "metadata": {},
   "outputs": [
    {
     "data": {
      "image/png": "[encoded data removed]",
      "text/plain": [
       "<Figure size 432x288 with 1 Axes>"
      ]
     },
     "metadata": {
      "needs_background": "light"
     },
     "output_type": "display_data"
    }
   ],
   "source": [
    "x,y = ecdf(p_values)\n",
    "plt.plot(x,y, alpha=0.2, linewidth=0.5, color='blue')\n",
    "\n",
    "plt.title(\"ECDF for p-values of Model 3\")\n",
    "plt.xlabel(\"P-value\")\n",
    "plt.ylabel(\"ECDF value\")\n",
    "plt.plot([0,1], [0,1], label=\"Theoretical ECDF\", color='orange')\n",
    "plt.legend()\n",
    "plt.show()"
   ]
  }
 ],
 "metadata": {
  "kernelspec": {
   "display_name": "Python 3",
   "language": "python",
   "name": "python3"
  },
  "language_info": {
   "codemirror_mode": {
    "name": "ipython",
    "version": 3
   },
   "file_extension": ".py",
   "mimetype": "text/x-python",
   "name": "python",
   "nbconvert_exporter": "python",
   "pygments_lexer": "ipython3",
   "version": "3.7.6"
  }
 },
 "nbformat": 4,
 "nbformat_minor": 4
}
