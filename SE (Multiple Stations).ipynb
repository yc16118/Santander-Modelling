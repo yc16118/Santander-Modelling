{
 "cells": [
  {
   "cell_type": "code",
   "execution_count": 45,
   "metadata": {},
   "outputs": [],
   "source": [
    "import numpy as np, pandas as pd\n",
    "from matplotlib import pyplot as plt\n",
    "from scipy.optimize import minimize\n",
    "import scipy.stats as stats\n",
    "from matplotlib.ticker import FuncFormatter\n",
    "import scipy.optimize as op\n",
    "import os\n",
    "from nltk import flatten"
   ]
  },
  {
   "cell_type": "markdown",
   "metadata": {},
   "source": [
    "We implement a function that filters the event times in process j that happens before event time T in process i."
   ]
  },
  {
   "cell_type": "code",
   "execution_count": 46,
   "metadata": {},
   "outputs": [],
   "source": [
    "def prev_event(times, T):\n",
    "    \"\"\"\n",
    "    Return the event times in process j that happens before event time T in process i.\n",
    "    : param times: an n-dimensional array, the full event times in process j\n",
    "    : param T: a number, one event time in process i\n",
    "    \n",
    "    : return k: a number, the index of the last event time in process j happened before T in process i\n",
    "    \"\"\"\n",
    "    \n",
    "    return np.searchsorted(times, T, side='right')"
   ]
  },
  {
   "cell_type": "markdown",
   "metadata": {},
   "source": [
    "We will use a dictionary to store the event times in each process before event time T in process i. In this model, we are looking at the departures and arrivals at station i. For a piece of data of event times, we take T as the last event time we observed in departure process at station i."
   ]
  },
  {
   "cell_type": "code",
   "execution_count": 1,
   "metadata": {},
   "outputs": [],
   "source": [
    "def process_times_mut(dep_times, arr_times):\n",
    "    \"\"\"\n",
    "    Return the event times in both departure process and arrival process at station i, before the last event time\n",
    "    observed in departure process.\n",
    "    \n",
    "    : param dep_times: a 1-D array, the departure times from station i\n",
    "    : param arr_times: a 1-D array, the arrival times to station i\n",
    "    \n",
    "    : return event_times: a dictionary, storing all relevant event times\n",
    "    \"\"\"\n",
    "    \n",
    "    event_times = {}\n",
    "    \n",
    "    event_times[\"departure\"] = dep_times\n",
    "    event_times[\"arrival\"] = arr_times[: prev_event(arr_times, dep_times[-1])]\n",
    "    \n",
    "    return event_times    "
   ]
  },
  {
   "cell_type": "markdown",
   "metadata": {},
   "source": [
    "To find the log likelihood function, we first build a function for $B_i(1)$, ..., $B_i(h)$."
   ]
  },
  {
   "cell_type": "code",
   "execution_count": 48,
   "metadata": {},
   "outputs": [],
   "source": [
    "def B_i(theta, dep_times, arr_times):\n",
    "    \"\"\"\n",
    "    Finds the array of function B_i, for all event times in process i\n",
    "    \n",
    "    : param theta: a 1-D array of length 2, which stores theta and theta'\n",
    "    : param dep_times, a 1-D array, the event times observed in process i\n",
    "    : param arr_times, a 1-D array, the event times observed in process j\n",
    "    \n",
    "    : return B: a 1D array\n",
    "    \"\"\"\n",
    "    \n",
    "    B = np.zeros(len(dep_times))\n",
    "    ind = prev_event(arr_times, dep_times[0])\n",
    "    \n",
    "    B[0] = np.sum(np.exp(- theta[1] * (dep_times[0] - arr_times[:ind])))\n",
    "    \n",
    "    for h in range(1, len(dep_times)):\n",
    "        B[h] = np.exp(-theta[1] * (dep_times[h] - dep_times[h-1])) * B[h-1] \n",
    "        B[h] += np.sum(np.exp(- theta[1] * (dep_times[h] - arr_times[ind:prev_event(arr_times, dep_times[h])])))\n",
    "        ind = prev_event(arr_times, dep_times[h])\n",
    "        \n",
    "    return B"
   ]
  },
  {
   "cell_type": "markdown",
   "metadata": {},
   "source": [
    "And the function for $A_i(1)$, ..., $A_i(h)$"
   ]
  },
  {
   "cell_type": "code",
   "execution_count": 49,
   "metadata": {},
   "outputs": [],
   "source": [
    "def A_i(theta, dep_times):\n",
    "    \"\"\"\n",
    "    Finds the array of function A_i, from 1st event to hth event in process i\n",
    "    \n",
    "    : param theta: a 1-D array of length 2, which stores theta and theta'\n",
    "    : param dep_times, a 1-D array, the event times observed in process i\n",
    "    \n",
    "    : return A: a 1-D array\n",
    "    \"\"\"\n",
    "   \n",
    "    A = np.zeros(len(dep_times))\n",
    "    \n",
    "    for h in range(1, len(dep_times)):\n",
    "        A[h] = np.exp(-theta[0]*(dep_times[h] - dep_times[h-1]))*(1+A[h-1])\n",
    "        \n",
    "    return A"
   ]
  },
  {
   "cell_type": "markdown",
   "metadata": {},
   "source": [
    "The log likelihood function is hence"
   ]
  },
  {
   "cell_type": "code",
   "execution_count": 50,
   "metadata": {},
   "outputs": [],
   "source": [
    "def mutual_log_likelihood(event_times, beta, theta, lambda_b): \n",
    "    \"\"\"\n",
    "    Finds the log-likelihood of the mutually exciting process at station i\n",
    "    \n",
    "    : param event_times: a dictionary, the event times in all processes \\\n",
    "      that occurred before the last event in process i \n",
    "    : param beta: a 1-D array of length 2, which stores beta and beta'\n",
    "    : param theta: a 1-D array of length 2, which stores theta and theta'\n",
    "    : param lambda_b: a real number, the baseline intensity of station i\n",
    "    \n",
    "    : return res: a real number, the log likelihood\n",
    "    \"\"\"\n",
    "    \n",
    "    arr_times = event_times[\"arrival\"]\n",
    "    dep_times = event_times[\"departure\"]\n",
    "    if len(arr_times) == 0:\n",
    "        raise Exception(\"Arrival times null\")\n",
    "    \n",
    "    ratio = beta/theta\n",
    "    T = dep_times[-1]\n",
    "    \n",
    "    A = A_i(theta, dep_times)\n",
    "    B = B_i(theta, dep_times, arr_times)\n",
    "    \n",
    "    first_sum = np.sum(np.log(lambda_b + beta[0]*A + beta[1]*B))\n",
    "    second_sum = ratio[0] * np.sum(np.exp(-theta[0]*(T - dep_times)) - 1)\n",
    "    third_sum = 0\n",
    "    ind = prev_event(arr_times, T)\n",
    "    if ind != 0:\n",
    "        third_sum += ratio[1] * np.sum(np.exp(-theta[1]*(T - arr_times[: ind])) - 1)\n",
    "    res = first_sum + second_sum + third_sum - lambda_b*T\n",
    "    \n",
    "    return res"
   ]
  },
  {
   "cell_type": "markdown",
   "metadata": {},
   "source": [
    "And the compensator function."
   ]
  },
  {
   "cell_type": "code",
   "execution_count": 51,
   "metadata": {},
   "outputs": [],
   "source": [
    "def mutual_comp(t, event_times, beta, theta, lambda_b): \n",
    "    \n",
    "    arr_times = event_times[\"arrival\"]\n",
    "    dep_times = event_times[\"departure\"]\n",
    "    if len(arr_times) == 0:\n",
    "        raise Exception(\"Arrival times null\")\n",
    "    \n",
    "    ratio = beta/theta\n",
    "    \n",
    "    second_sum = 0\n",
    "    third_sum = 0\n",
    "    \n",
    "    ind_dep = prev_event(dep_times, t)\n",
    "    if ind_dep != 0:\n",
    "        second_sum += ratio[0] * np.sum(np.exp(-theta[0]*(t - dep_times[: ind_dep])) - 1)\n",
    "        \n",
    "    ind_arr = prev_event(arr_times, t)\n",
    "    if ind_arr != 0:\n",
    "        third_sum += ratio[1] * np.sum(np.exp(-theta[1]*(t - arr_times[: ind_arr])) - 1)\n",
    "    res = lambda_b*t - second_sum - third_sum \n",
    "    \n",
    "    return res"
   ]
  },
  {
   "cell_type": "markdown",
   "metadata": {},
   "source": [
    "We also need a function to test the log likelihood function."
   ]
  },
  {
   "cell_type": "code",
   "execution_count": 52,
   "metadata": {},
   "outputs": [],
   "source": [
    "def mutual_log_likelihood2(event_times, beta, theta, lambda_b): \n",
    "    \"\"\"\n",
    "    Finds the log-likelihood of the mutually exciting process at station i\n",
    "    \n",
    "    : param event_times: a dictionary, the event times in all processes \\\n",
    "      that occurred before the last event in process i \n",
    "    : param beta: a 1-D array of length 2, which stores beta and beta'\n",
    "    : param theta: a 1-D array of length 2, which stores theta and theta'\n",
    "    : param lambda_b: a real number, the baseline intensity of station i\n",
    "    \n",
    "    : return res: a real number, the log likelihood\n",
    "    \"\"\"\n",
    "    \n",
    "    arr_times = event_times[\"arrival\"]\n",
    "    dep_times = event_times[\"departure\"]\n",
    "    \n",
    "    ratio = beta/theta\n",
    "    T = dep_times[-1]\n",
    "    \n",
    "    A = A_i(theta, dep_times)\n",
    "    B = B_i(theta, dep_times, arr_times)\n",
    "    \n",
    "    first_sum = np.log(lambda_b + beta[0]*A + beta[1]*B)#np.sum(np.log(lambda_b + beta[0]*A + beta[1]*B))\n",
    "    second_sum = ratio[0] * np.sum(np.exp(-theta[0]*(T - dep_times)) - 1)\n",
    "    third_sum = 0\n",
    "    ind = prev_event(arr_times, T)\n",
    "    if ind != 0:\n",
    "        third_sum += ratio[1] * np.sum(np.exp(-theta[1]*(T - arr_times[: ind])) - 1)\n",
    "    res = first_sum + second_sum + third_sum - lambda_b*T\n",
    "    \n",
    "    return first_sum, second_sum, third_sum, lambda_b*T"
   ]
  },
  {
   "cell_type": "markdown",
   "metadata": {},
   "source": [
    "The test"
   ]
  },
  {
   "cell_type": "code",
   "execution_count": 53,
   "metadata": {},
   "outputs": [
    {
     "name": "stdout",
     "output_type": "stream",
     "text": [
      "-72.25070533667574\n",
      "-76.08603827905156\n"
     ]
    }
   ],
   "source": [
    "beta = np.array([2.0, 3.0])\n",
    "theta = np.array([3.0, 4.0])\n",
    "lambda_b = 1.0\n",
    "t1 = np.sort(np.random.uniform(0,75,size=3))#np.array([1.0, 2.0, 3.0])\n",
    "t2 = np.sort(np.random.uniform(0,75,size=3)) #np.array([43.0, 57.0, 62.0])\n",
    "tdict = {}\n",
    "tdict['arrival'] = t1\n",
    "tdict['departure'] = t2\n",
    "\n",
    "\n",
    "tdict1 = {}\n",
    "tdict1['arrival'] = t2\n",
    "tdict1['departure'] = t1\n",
    "print(mutual_log_likelihood(tdict, beta, theta, lambda_b));\n",
    "print(mutual_log_likelihood(tdict1, beta, theta, lambda_b))"
   ]
  },
  {
   "cell_type": "code",
   "execution_count": 54,
   "metadata": {},
   "outputs": [
    {
     "ename": "TypeError",
     "evalue": "cannot unpack non-iterable numpy.float64 object",
     "output_type": "error",
     "traceback": [
      "\u001b[0;31m---------------------------------------------------------------------------\u001b[0m",
      "\u001b[0;31mTypeError\u001b[0m                                 Traceback (most recent call last)",
      "\u001b[0;32m<ipython-input-54-28b274e67c97>\u001b[0m in \u001b[0;36m<module>\u001b[0;34m\u001b[0m\n\u001b[1;32m     35\u001b[0m \u001b[0;34m\u001b[0m\u001b[0m\n\u001b[1;32m     36\u001b[0m \u001b[0mu\u001b[0m \u001b[0;34m=\u001b[0m \u001b[0mmutual_log_likelihood2\u001b[0m\u001b[0;34m(\u001b[0m\u001b[0mtdict\u001b[0m\u001b[0;34m,\u001b[0m \u001b[0mbeta\u001b[0m\u001b[0;34m,\u001b[0m \u001b[0mtheta\u001b[0m\u001b[0;34m,\u001b[0m \u001b[0mlambda_b\u001b[0m\u001b[0;34m)\u001b[0m\u001b[0;34m\u001b[0m\u001b[0;34m\u001b[0m\u001b[0m\n\u001b[0;32m---> 37\u001b[0;31m \u001b[0mcomp\u001b[0m\u001b[0;34m,\u001b[0m \u001b[0msum1\u001b[0m\u001b[0;34m,\u001b[0m \u001b[0msum2\u001b[0m \u001b[0;34m=\u001b[0m \u001b[0mmutual_comp\u001b[0m\u001b[0;34m(\u001b[0m\u001b[0mt1\u001b[0m\u001b[0;34m[\u001b[0m\u001b[0;34m-\u001b[0m\u001b[0;36m1\u001b[0m\u001b[0;34m]\u001b[0m\u001b[0;34m,\u001b[0m \u001b[0mtdict\u001b[0m\u001b[0;34m,\u001b[0m \u001b[0mbeta\u001b[0m\u001b[0;34m,\u001b[0m \u001b[0mtheta\u001b[0m\u001b[0;34m,\u001b[0m \u001b[0mlambda_b\u001b[0m\u001b[0;34m)\u001b[0m\u001b[0;34m\u001b[0m\u001b[0;34m\u001b[0m\u001b[0m\n\u001b[0m\u001b[1;32m     38\u001b[0m \u001b[0mprint\u001b[0m\u001b[0;34m(\u001b[0m\u001b[0mnp\u001b[0m\u001b[0;34m.\u001b[0m\u001b[0mabs\u001b[0m\u001b[0;34m(\u001b[0m\u001b[0ml\u001b[0m \u001b[0;34m-\u001b[0m \u001b[0mmutual_log_likelihood\u001b[0m\u001b[0;34m(\u001b[0m\u001b[0mtdict\u001b[0m\u001b[0;34m,\u001b[0m \u001b[0mbeta\u001b[0m\u001b[0;34m,\u001b[0m \u001b[0mtheta\u001b[0m\u001b[0;34m,\u001b[0m \u001b[0mlambda_b\u001b[0m\u001b[0;34m)\u001b[0m\u001b[0;34m)\u001b[0m\u001b[0;34m)\u001b[0m\u001b[0;34m;\u001b[0m\u001b[0;34m\u001b[0m\u001b[0;34m\u001b[0m\u001b[0m\n\u001b[1;32m     39\u001b[0m \u001b[0mprint\u001b[0m\u001b[0;34m(\u001b[0m\u001b[0mt1\u001b[0m\u001b[0;34m,\u001b[0m \u001b[0mt2\u001b[0m\u001b[0;34m)\u001b[0m\u001b[0;34m;\u001b[0m\u001b[0;34m\u001b[0m\u001b[0;34m\u001b[0m\u001b[0m\n",
      "\u001b[0;31mTypeError\u001b[0m: cannot unpack non-iterable numpy.float64 object"
     ]
    }
   ],
   "source": [
    "beta = np.array([2.0, 3.0])\n",
    "theta = np.array([3.0, 4.0])\n",
    "lambda_b = 1.0\n",
    "\n",
    "t00 = np.sort(np.random.uniform(0,75,size=3))#np.array([1.0, 2.0, 3.0])\n",
    "t01 = np.sort(np.random.uniform(0,75,size=3)) #np.array([43.0, 57.0, 62.0])\n",
    "tdict = process_times(t00, t01)\n",
    "t1 = tdict['departure']\n",
    "t2 = tdict['arrival']\n",
    "\n",
    "sum_1 = []\n",
    "for i in range(3):\n",
    "    log_term = lambda_b \n",
    "    if i == 1:\n",
    "        log_term += beta[0]*np.exp(-theta[0]*(t1[1] -t1[0]))\n",
    "    \n",
    "    if i == 2:\n",
    "        log_term += beta[0]*np.exp(-theta[0]*(t1[2] -t1[0])) + beta[0]*np.exp(-theta[0]*(t1[2] -t1[1]))\n",
    "    \n",
    "    ind = np.searchsorted(t2, t1[i], side='right')\n",
    "    for j in range(ind):\n",
    "        log_term += beta[1]*np.exp(-theta[1]*(t1[i] -t2[j]))\n",
    "    \n",
    "    sum_1.append(np.log(log_term))\n",
    "\n",
    "sum_2, sum_3 = 0.0, 0.0\n",
    "for i in range(3):\n",
    "    sum_2 += np.exp(-theta[0]*(t1[-1]-t1[i]))-1\n",
    "    \n",
    "index = np.searchsorted(t2, t1[-1], side=\"Right\")\n",
    "for m in range(index):\n",
    "    sum_3 += np.exp(-theta[1]*(t1[-1]-t2[m]))-1\n",
    "\n",
    "l = np.sum(sum_1) - lambda_b * t1[-1] + beta[0]/theta[0] * sum_2 + beta[1]/theta[1] * sum_3\n",
    "\n",
    "u = mutual_log_likelihood2(tdict, beta, theta, lambda_b)\n",
    "#comp, sum1, sum2 = mutual_comp(t1[-1], tdict, beta, theta, lambda_b)\n",
    "print(np.abs(l - mutual_log_likelihood(tdict, beta, theta, lambda_b)));\n",
    "print(t1, t2);\n",
    "print(u[1]-sum1, u[2]-sum2);\n",
    "print(np.sum(u[0]) - comp - mutual_log_likelihood(tdict, beta, theta, lambda_b))"
   ]
  },
  {
   "cell_type": "code",
   "execution_count": 55,
   "metadata": {},
   "outputs": [
    {
     "name": "stdout",
     "output_type": "stream",
     "text": [
      "[0. 0. 0.] 0.0 0.0 0.0\n"
     ]
    }
   ],
   "source": [
    "print(u[0] - sum_1, \n",
    "u[1] - beta[0]/theta[0] * sum_2,\n",
    "u[2] - beta[1]/theta[1] * sum_3, \n",
    "u[3] - lambda_b * t1[-1])\n"
   ]
  },
  {
   "cell_type": "markdown",
   "metadata": {},
   "source": [
    "We read the arrival times and departure times at station 2, create a dictionary, store the file name as key and the data frame inside the file as value."
   ]
  },
  {
   "cell_type": "code",
   "execution_count": 74,
   "metadata": {},
   "outputs": [
    {
     "name": "stdout",
     "output_type": "stream",
     "text": [
      "dict_keys(['235_07Oct2020-13Oct2020.csv', '234_30Sep2020-06Oct2020.csv', '222_08Jul2020-14Jul2020.csv', '227_12Aug2020-18Aug2020.csv', '224_22Jul2020-28Jul2020.csv', '226_05Aug2020-11Aug2020.csv', '232_16Sep2020-22Sep2020.csv', '228_19Aug2020-25Aug2020.csv', '236_14Oct2020-20Oct2020.csv', '221_01Jul2020-07Jul2020.csv', '231_09Sep2020-15Sep2020.csv', '225_29Jul2020-04Aug2020.csv', '223_15Jul2020-21Jul2020.csv', '233_23Sep2020-29Sep2020.csv', '230_02Sep2020-08Sep2020.csv', '229_26Aug2020-01Sep2020.csv'])\n",
      "   start_loc  end_loc  distance        start_t          end_t   duration\n",
      "0          2      357  0.062242  929097.170670  929121.763601  24.592931\n",
      "1          2      187  0.020372  929241.306527  929250.727868   9.421340\n",
      "2          2      754  0.021562  929241.789019  929250.951567   9.162548\n",
      "3          2      666  0.011125  929264.592193  929270.294222   5.702028\n",
      "4          2      247  0.041899  929265.752582  929298.089879  32.337297\n",
      "5          2      838  0.107736  929281.027876  929312.612376  31.584501\n",
      "6          2      566  0.028141  929317.191323  929332.143848  14.952525\n",
      "7          2      372  0.081185  929318.920953  929350.469410  31.548457\n",
      "8          2      231  0.019629  929319.953830  929329.383159   9.429328\n",
      "9          2      389  0.043074  929323.356286  929340.004332  16.648046\n",
      "   start_loc  end_loc  distance        start_t          end_t   duration\n",
      "0        616        2  0.022035  929169.642951  929181.353155  11.710204\n",
      "1        770        2  0.014293  929171.046362  929180.656095   9.609733\n",
      "2        103        2  0.007098  929211.679808  929215.387084   3.707277\n",
      "3        757        2  0.015266  929244.403207  929253.243232   8.840025\n",
      "4        573        2  0.021389  929263.809434  929275.204416  11.394982\n",
      "5        826        2  0.054689  929264.749932  929283.293267  18.543335\n",
      "6        121        2  0.045557  929267.297142  929283.733948  16.436806\n",
      "7        296        2  0.009124  929282.337933  929287.963054   5.625121\n",
      "8        754        2  0.021562  929302.663404  929312.212843   9.549439\n",
      "9        181        2  0.045256  929306.898507  929321.575962  14.677455\n"
     ]
    }
   ],
   "source": [
    "path_dep = './Departures'\n",
    "data_files_dep = os.listdir(path_dep)\n",
    "path_arr = './Arrivals'\n",
    "data_files_arr = os.listdir(path_arr)\n",
    "n_weeks = len(data_files_dep)\n",
    "\n",
    "bike_dep = {file: pd.read_csv(path_dep + '/' + file)\n",
    "             for file in data_files_dep}  \n",
    "bike_arr = {file: pd.read_csv(path_arr + '/' + file)\n",
    "             for file in data_files_arr} \n",
    "\n",
    "for names in bike_dep.keys():\n",
    "    del bike_dep[names][\"Unnamed: 0\"]\n",
    "    del bike_arr[names][\"Unnamed: 0\"]\n",
    "    \n",
    "print(list(bike_dep.values())[0].head(10));\n",
    "print(list(bike_arr.values())[0].head(10))"
   ]
  },
  {
   "cell_type": "markdown",
   "metadata": {},
   "source": [
    "We extract the departure times and arrival times at station. We need to get away from the file '.DS_Store'."
   ]
  },
  {
   "cell_type": "code",
   "execution_count": 57,
   "metadata": {},
   "outputs": [
    {
     "name": "stdout",
     "output_type": "stream",
     "text": [
      "[929097.1706696464, 929241.3065271581, 929241.789018932, 929264.5921932765, 929265.7525824378, 929281.0278757443, 929317.1913228914, 929318.9209534816, 929319.9538303384, 929323.356285832]\n",
      "[929181.3531547785, 929180.656094582, 929215.3870841152, 929253.2432323956, 929275.2044161615, 929283.2932669384, 929283.7339479215, 929287.9630539321, 929312.2128430692, 929321.5759618869]\n",
      "[787818.00899596 787818.37784005 787819.41979034 ... 948753.68819852\n",
      " 948754.49673991 948862.00402456]\n",
      "[787844.92525324 787846.54600157 787847.62746442 ... 948822.41160497\n",
      " 948858.24121458 948867.90484185]\n"
     ]
    }
   ],
   "source": [
    "dep_times = {}\n",
    "arr_times = {}\n",
    "\n",
    "for names in bike_dep.keys():\n",
    "    if names != '.DS_Store':\n",
    "        df_dep = bike_dep[names]\n",
    "        df_dep = df_dep['start_t']\n",
    "        dep_times[names] = df_dep.values.tolist()\n",
    "        \n",
    "        df_arr = bike_arr[names]\n",
    "        df_arr = df_arr['end_t']\n",
    "        arr_times[names] = df_arr.values.tolist()\n",
    "        \n",
    "print(list(dep_times.values())[0][:10]);\n",
    "print(list(arr_times.values())[0][:10])\n",
    "\n",
    "dep_times_list = np.array(sorted(flatten(list(dep_times.values())))) \n",
    "arr_times_list = np.array(sorted(flatten(list(arr_times.values()))))\n",
    "\n",
    "print(dep_times_list); \n",
    "print(arr_times_list)"
   ]
  },
  {
   "cell_type": "markdown",
   "metadata": {},
   "source": [
    "We test the model on data."
   ]
  },
  {
   "cell_type": "code",
   "execution_count": 58,
   "metadata": {},
   "outputs": [
    {
     "data": {
      "text/plain": [
       "-975617.0073080042"
      ]
     },
     "execution_count": 58,
     "metadata": {},
     "output_type": "execute_result"
    }
   ],
   "source": [
    "t0 = process_times(dep_times_list, arr_times_list)\n",
    "mutual_log_likelihood(t0, np.array([2, 2]), np.array([1, 1]), 1)\n",
    "t1 = process_times(arr_times_list, dep_times_list)\n",
    "mutual_log_likelihood(t1, np.array([2, 2]), np.array([1, 1]), 1)"
   ]
  },
  {
   "cell_type": "markdown",
   "metadata": {},
   "source": [
    "We perform the optimisation"
   ]
  },
  {
   "cell_type": "code",
   "execution_count": 59,
   "metadata": {},
   "outputs": [
    {
     "data": {
      "text/plain": [
       " final_simplex: (array([[ -4.03811564, -11.01011244,  -8.26061058,  23.97506859,\n",
       "         -9.09839966],\n",
       "       [ -4.03811576, -11.01007093,  -8.26061142,  23.97515271,\n",
       "         -9.09839972],\n",
       "       [ -4.03811557, -11.01009062,  -8.26061528,  23.97510787,\n",
       "         -9.09839953],\n",
       "       [ -4.03811569, -11.01012086,  -8.26061434,  23.97501887,\n",
       "         -9.09839936],\n",
       "       [ -4.03811564, -11.0100878 ,  -8.26061192,  23.97512585,\n",
       "         -9.0983989 ],\n",
       "       [ -4.03811584, -11.01008442,  -8.26061198,  23.97512565,\n",
       "         -9.09839982]]), array([26854.68081996, 26854.68081996, 26854.68081996, 26854.68081996,\n",
       "       26854.68081996, 26854.68081996]))\n",
       "           fun: 26854.680819962166\n",
       "       message: 'Optimization terminated successfully.'\n",
       "          nfev: 197\n",
       "           nit: 105\n",
       "        status: 0\n",
       "       success: True\n",
       "             x: array([ -4.03811564, -11.01011244,  -8.26061058,  23.97506859,\n",
       "        -9.09839966])"
      ]
     },
     "execution_count": 59,
     "metadata": {},
     "output_type": "execute_result"
    }
   ],
   "source": [
    "op_mutual_log_likelihood = lambda param, t: - mutual_log_likelihood(t, np.array([np.exp(param[0]), np.exp(param[1])]), \n",
    "                                                                    np.array([np.exp(param[0])+np.exp(param[2]),np.exp(param[1])+np.exp(param[3])]),\n",
    "                                                                    np.exp(param[4]))\n",
    "\n",
    "mle = op.minimize(op_mutual_log_likelihood, x0 = [-4, -11, -8, 25, -9], method = 'Nelder-Mead', args=(t0,))\n",
    "mle"
   ]
  },
  {
   "cell_type": "markdown",
   "metadata": {},
   "source": [
    "And we find the p values."
   ]
  },
  {
   "cell_type": "code",
   "execution_count": 70,
   "metadata": {},
   "outputs": [],
   "source": [
    "beta_dd, theta_dd, beta_ad, theta_ad, lambda_b = np.exp(mle.x[0]), np.exp(mle.x[1]), np.exp(mle.x[0]) + np.exp(mle.x[2]), np.exp(mle.x[1]) + np.exp(mle.x[3]), np.exp(mle.x[4])\n",
    "beta = np.array([beta_dd, beta_ad])\n",
    "theta = np.array([theta_dd, theta_ad])\n",
    "\n",
    "\n",
    "compensator_t = np.zeros(len(t0)+1)\n",
    "for i in range(len(t0)):\n",
    "    compensator_t[i+1] = mutual_comp(t0[\"departure\"][i], t0, beta, theta, lambda_b)\n",
    "\n",
    "inter_arr_times = np.diff(compensator_t)\n",
    "p_values = np.exp(-inter_arr_times)"
   ]
  },
  {
   "cell_type": "code",
   "execution_count": 71,
   "metadata": {},
   "outputs": [],
   "source": [
    "def ecdf(data): # https://cmdlinetips.com/2019/05/empirical-cumulative-distribution-function-ecdf-in-python/\n",
    "    \"\"\" Compute ECDF \"\"\"\n",
    "    data = np.sort(data)\n",
    "    n = data.size\n",
    "    y = np.arange(1, n+1) / n\n",
    "    return(data,y)"
   ]
  },
  {
   "cell_type": "code",
   "execution_count": 72,
   "metadata": {},
   "outputs": [
    {
     "data": {
      "image/png": "[encoded data removed]",
      "text/plain": [
       "<Figure size 432x288 with 1 Axes>"
      ]
     },
     "metadata": {
      "needs_background": "light"
     },
     "output_type": "display_data"
    }
   ],
   "source": [
    "x,y = ecdf(p_values)\n",
    "plt.plot(x,y, alpha=0.2, linewidth=0.5, color='blue')\n",
    "\n",
    "plt.title(\"ECDF for p-values of Model 3\")\n",
    "plt.xlabel(\"P-value\")\n",
    "plt.ylabel(\"ECDF value\")\n",
    "plt.plot([0,1], [0,1], label=\"Theoretical ECDF\", color='orange')\n",
    "plt.legend()\n",
    "plt.show()"
   ]
  },
  {
   "cell_type": "code",
   "execution_count": null,
   "metadata": {},
   "outputs": [],
   "source": []
  }
 ],
 "metadata": {
  "kernelspec": {
   "display_name": "Python 3",
   "language": "python",
   "name": "python3"
  },
  "language_info": {
   "codemirror_mode": {
    "name": "ipython",
    "version": 3
   },
   "file_extension": ".py",
   "mimetype": "text/x-python",
   "name": "python",
   "nbconvert_exporter": "python",
   "pygments_lexer": "ipython3",
   "version": "3.7.6"
  }
 },
 "nbformat": 4,
 "nbformat_minor": 4
}
