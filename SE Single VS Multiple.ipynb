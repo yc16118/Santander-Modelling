{
 "cells": [
  {
   "cell_type": "code",
   "execution_count": 1,
   "metadata": {},
   "outputs": [],
   "source": [
    "import numpy as np, pandas as pd\n",
    "from matplotlib import pyplot as plt\n",
    "from scipy.optimize import minimize\n",
    "import scipy.stats as stats\n",
    "from matplotlib.ticker import FuncFormatter\n",
    "import scipy.optimize as op\n",
    "import os\n",
    "from nltk import flatten\n",
    "import scipy.stats as st\n",
    "import math\n",
    "import random"
   ]
  },
  {
   "cell_type": "code",
   "execution_count": 2,
   "metadata": {},
   "outputs": [],
   "source": [
    "from ipynb.fs.defs.DifferentStations import prev_event, process_times, A_ii, A_ij, excitation_j, diff_comp, diff_log_likelihood, thres_fun, kappa_fun, ecdf, get_station_index"
   ]
  },
  {
   "cell_type": "code",
   "execution_count": 3,
   "metadata": {},
   "outputs": [],
   "source": [
    "def hawkes_comp(t, times, beta, theta, lambda_b):\n",
    "    ratio = beta/theta\n",
    "    ind = prev_event(times, t)\n",
    "    second_sum = 0\n",
    "    \n",
    "    if ind != 0:\n",
    "        second_sum = ratio * np.sum(np.exp(-theta*(t - times[0:ind])) - 1)\n",
    "    comp= lambda_b*t - second_sum \n",
    "    \n",
    "    return comp"
   ]
  },
  {
   "cell_type": "code",
   "execution_count": 4,
   "metadata": {},
   "outputs": [],
   "source": [
    "def hawkes_log_likelihood(times, beta, theta, lambda_b): \n",
    "    ratio = beta/theta\n",
    "    A = np.zeros(len(times))\n",
    "    T = times[-1]\n",
    "    \n",
    "    for i in range(1, len(times)):\n",
    "        A[i] = np.exp(-theta*(times[i] - times[i-1]))*(1+A[i-1])\n",
    "    \n",
    "    first_sum = np.sum(np.log(lambda_b + beta*A))\n",
    "    second_sum = ratio * np.sum(np.exp(-theta*(T - times)) - 1)\n",
    "    res = first_sum + second_sum - lambda_b*T\n",
    "    \n",
    "    return res"
   ]
  },
  {
   "cell_type": "code",
   "execution_count": 5,
   "metadata": {},
   "outputs": [],
   "source": [
    "station_data = pd.read_csv(\"./santander_locations.csv\")\n",
    "loc_codes = list(station_data['Station.Id'].to_numpy())\n",
    "all_times = {}\n",
    "\n",
    "for i in range(808):\n",
    "    loc = loc_codes[i]\n",
    "    path = f\"./dep/Station{loc}\"\n",
    "    data_files = os.listdir(path)\n",
    "\n",
    "    bike = {file: pd.read_csv(path + '/' + file)\n",
    "             for file in data_files}  \n",
    "\n",
    "    for names in bike.keys():\n",
    "        del bike[names][\"Unnamed: 0\"]\n",
    "    \n",
    "    times = {}\n",
    "\n",
    "    for names in bike.keys():\n",
    "        if names != '.DS_Store':\n",
    "            df = bike[names]\n",
    "            df = df['start_t']\n",
    "            times[names] = df.values.tolist()\n",
    "    \n",
    "    times_list = np.array(sorted(flatten(list(times.values()))))\n",
    "    all_times[loc] = times_list\n",
    "    \n",
    "loc_codes0 = loc_codes"
   ]
  },
  {
   "cell_type": "code",
   "execution_count": 6,
   "metadata": {},
   "outputs": [
    {
     "data": {
      "text/plain": [
       "'235_07Oct2020-13Oct2020.csv'"
      ]
     },
     "execution_count": 6,
     "metadata": {},
     "output_type": "execute_result"
    }
   ],
   "source": [
    "list(bike.keys())[0]"
   ]
  },
  {
   "cell_type": "code",
   "execution_count": 7,
   "metadata": {},
   "outputs": [],
   "source": [
    "station_data = pd.read_csv(\"./santander_locations.csv\")\n",
    "loc_codes = list(station_data['Station.Id'].to_numpy())\n",
    "train_times = {}\n",
    "test_times = {}\n",
    "\n",
    "for i in range(808):\n",
    "    loc = loc_codes[i]\n",
    "    path = f\"./sortdep/Station{loc}\"\n",
    "    data_files = os.listdir(path)\n",
    "\n",
    "    bike = {file: pd.read_csv(path + '/' + file)\n",
    "             for file in data_files}  \n",
    "\n",
    "    for names in bike.keys():\n",
    "        del bike[names][\"Unnamed: 0\"]\n",
    "    \n",
    "    train = {}\n",
    "    test = {}\n",
    "    week_list = list(bike.keys())\n",
    "    n = len(week_list)\n",
    "    \n",
    "    for j in range(n):\n",
    "        names = week_list[j]\n",
    "        if names != '.DS_Store' and j < 12:\n",
    "            df = bike[names]\n",
    "            df = df['start_t']\n",
    "            train[names] = df.values.tolist()\n",
    "        elif names != '.DS_Store' and j >= 12:\n",
    "            df = bike[names]\n",
    "            df = df['start_t']\n",
    "            test[names] = df.values.tolist()\n",
    "             \n",
    "    train_list = np.array(sorted(flatten(list(train.values()))))\n",
    "    test_list = np.array(sorted(flatten(list(test.values()))))\n",
    "    train_times[loc] = train_list\n",
    "    test_times[loc] = test_list\n",
    "    \n",
    "loc_codes0 = loc_codes"
   ]
  },
  {
   "cell_type": "code",
   "execution_count": 8,
   "metadata": {},
   "outputs": [],
   "source": [
    "geo_df= pd.read_csv('./geodesic.csv')\n",
    "del geo_df[\"Unnamed: 0\"]\n",
    "\n",
    "dist_arr = np.zeros(len(loc_codes))"
   ]
  },
  {
   "cell_type": "code",
   "execution_count": 9,
   "metadata": {},
   "outputs": [
    {
     "data": {
      "text/plain": [
       "808"
      ]
     },
     "execution_count": 9,
     "metadata": {},
     "output_type": "execute_result"
    }
   ],
   "source": [
    "loc_codes = loc_codes0\n",
    "len(dist_arr)"
   ]
  },
  {
   "cell_type": "code",
   "execution_count": 10,
   "metadata": {},
   "outputs": [],
   "source": [
    "ks_train_hawkes = []\n",
    "ks_test_hawkes = []\n",
    "ks_train_spatio = []\n",
    "ks_test_spatio = []"
   ]
  },
  {
   "cell_type": "markdown",
   "metadata": {},
   "source": [
    "Victoria Station"
   ]
  },
  {
   "cell_type": "markdown",
   "metadata": {},
   "source": [
    "Different stations"
   ]
  },
  {
   "cell_type": "code",
   "execution_count": 128,
   "metadata": {},
   "outputs": [],
   "source": [
    "sid = 268\n",
    "ind = get_station_index(loc_codes, sid)\n",
    "\n",
    "t0, ind_list = process_times(loc_codes, train_times, sid)\n",
    "t1, ind_list = process_times(loc_codes, test_times, sid)\n",
    "#if len(ind_list) != 0:\n",
    "    #loc_codes[ind_list] = -1\n",
    "    #loc_codes = [i for i in loc_codes if i != -1]\n",
    "    \n",
    "dist_arr = geo_df[f\"{ind}\"].to_numpy()"
   ]
  },
  {
   "cell_type": "code",
   "execution_count": 129,
   "metadata": {},
   "outputs": [
    {
     "name": "stdout",
     "output_type": "stream",
     "text": [
      "11\n",
      "11\n",
      "[148, 161, 167, 177, 178, 243, 268, 288, 320, 424, 826]\n"
     ]
    }
   ],
   "source": [
    "thres = 0.5\n",
    "new_dist, new_loc = thres_fun(dist_arr, thres, loc_codes)\n",
    "print(len(new_loc));\n",
    "print(len(new_dist));\n",
    "print(new_loc)"
   ]
  },
  {
   "cell_type": "code",
   "execution_count": 130,
   "metadata": {},
   "outputs": [
    {
     "data": {
      "text/plain": [
       "array([   394.06837819,    421.64216366,    429.84886557, ...,\n",
       "       161060.65142088, 161062.39674381, 161121.55919642])"
      ]
     },
     "execution_count": 130,
     "metadata": {},
     "output_type": "execute_result"
    }
   ],
   "source": [
    "t00 = {}\n",
    "t01 = {}\n",
    "\n",
    "for loc in new_loc:\n",
    "    t00[loc] = t0[loc]\n",
    "    t01[loc] = t1[loc]\n",
    "\n",
    "t00[268]"
   ]
  },
  {
   "cell_type": "code",
   "execution_count": 227,
   "metadata": {},
   "outputs": [
    {
     "data": {
      "text/plain": [
       " final_simplex: (array([[-3.84924511, -3.09005731, -8.45537374,  1.66464874],\n",
       "       [-3.84922665, -3.09003794, -8.45528851,  1.66464125],\n",
       "       [-3.84926822, -3.09005683, -8.45538095,  1.66463176],\n",
       "       [-3.84921574, -3.09003521, -8.45542934,  1.66464875],\n",
       "       [-3.84922875, -3.09006733, -8.45543148,  1.66465951]]), array([14571.40788557, 14571.40788557, 14571.40788558, 14571.40788563,\n",
       "       14571.40788563]))\n",
       "           fun: 14571.407885565552\n",
       "       message: 'Optimization terminated successfully.'\n",
       "          nfev: 195\n",
       "           nit: 112\n",
       "        status: 0\n",
       "       success: True\n",
       "             x: array([-3.84924511, -3.09005731, -8.45537374,  1.66464874])"
      ]
     },
     "execution_count": 227,
     "metadata": {},
     "output_type": "execute_result"
    }
   ],
   "source": [
    "op_diff_log_likelihood = lambda param, location_codes, t, dist, i: - diff_log_likelihood(location_codes, t, np.exp(param[0]), np.exp(param[0])+np.exp(param[1]), \n",
    "                                                                                         np.exp(param[2]), np.exp(param[3]), dist, i)\n",
    "mle0 = op.minimize(op_diff_log_likelihood, x0 = [-4, -3, -8, 1.6], method = 'Nelder-Mead', args=(new_loc, t00, new_dist, sid))\n",
    "mle0"
   ]
  },
  {
   "cell_type": "code",
   "execution_count": 228,
   "metadata": {},
   "outputs": [
    {
     "data": {
      "text/plain": [
       " final_simplex: (array([[-3.84924253, -3.09005352, -8.45527972,  1.66464445],\n",
       "       [-3.84925831, -3.09005258, -8.45535865,  1.66463708],\n",
       "       [-3.84923082, -3.09005656, -8.45536212,  1.66465012],\n",
       "       [-3.84924357, -3.09006298, -8.45528644,  1.66465147],\n",
       "       [-3.84923746, -3.09002987, -8.45529987,  1.66463577]]), array([14571.40788553, 14571.40788555, 14571.40788555, 14571.40788556,\n",
       "       14571.40788556]))\n",
       "           fun: 14571.407885530845\n",
       "       message: 'Optimization terminated successfully.'\n",
       "          nfev: 394\n",
       "           nit: 237\n",
       "        status: 0\n",
       "       success: True\n",
       "             x: array([-3.84924253, -3.09005352, -8.45527972,  1.66464445])"
      ]
     },
     "execution_count": 228,
     "metadata": {},
     "output_type": "execute_result"
    }
   ],
   "source": [
    "op_diff_log_likelihood = lambda param, location_codes, t, dist, i: - diff_log_likelihood(location_codes, t, np.exp(param[0]), np.exp(param[0])+np.exp(param[1]), \n",
    "                                                                                         np.exp(param[2]), np.exp(param[3]), dist, i)\n",
    "mle0 = op.minimize(op_diff_log_likelihood, x0 = [-2, -2, -2, -2], method = 'Nelder-Mead', args=(new_loc, t00, new_dist, sid))\n",
    "mle0"
   ]
  },
  {
   "cell_type": "code",
   "execution_count": 224,
   "metadata": {},
   "outputs": [],
   "source": [
    "beta0, theta0, lambda_b0, k0 = np.exp(mle0.x[0]), np.exp(mle0.x[0])+np.exp(mle0.x[1]), np.exp(mle0.x[2]), np.exp(mle0.x[3])\n",
    "\n",
    "t_dep = t00[sid]\n",
    "compensator_t0 = np.zeros(len(t_dep)+1)\n",
    "for j in range(len(t_dep)):\n",
    "    compensator_t0[j+1] = diff_comp(t_dep[j], new_loc, t00, beta0, theta0, lambda_b0, new_dist, k0)\n",
    "\n",
    "inter_arr_times0 = np.diff(compensator_t0)\n",
    "p_values0 = np.exp(-inter_arr_times0)\n",
    "ks0 = st.kstest(p_values0, \"uniform\")\n",
    "ks_train_spatio.append(ks0.statistic)"
   ]
  },
  {
   "cell_type": "code",
   "execution_count": 225,
   "metadata": {},
   "outputs": [
    {
     "data": {
      "text/plain": [
       "KstestResult(statistic=0.0950903581843372, pvalue=3.573382465377084e-28)"
      ]
     },
     "execution_count": 225,
     "metadata": {},
     "output_type": "execute_result"
    }
   ],
   "source": [
    "ks0"
   ]
  },
  {
   "cell_type": "code",
   "execution_count": 218,
   "metadata": {},
   "outputs": [],
   "source": [
    "beta0, theta0, lambda_b0, k0 = np.exp(mle0.x[0]), np.exp(mle0.x[0])+np.exp(mle0.x[1]), np.exp(mle0.x[2]), np.exp(mle0.x[3])\n",
    "\n",
    "t_dep = t01[sid]\n",
    "compensator_t01 = np.zeros(len(t_dep)+1)\n",
    "for j in range(len(t_dep)):\n",
    "    compensator_t01[j+1] = diff_comp(t_dep[j], new_loc, t01, beta0, theta0, lambda_b0, new_dist, k0)\n",
    "\n",
    "inter_arr_times01 = np.diff(compensator_t01)\n",
    "p_values01 = np.exp(-inter_arr_times01)\n",
    "ks1 = st.kstest(p_values01, \"uniform\")\n",
    "ks_test_spatio.append(ks1.statistic)"
   ]
  },
  {
   "cell_type": "code",
   "execution_count": 219,
   "metadata": {},
   "outputs": [
    {
     "data": {
      "text/plain": [
       "KstestResult(statistic=0.27170645688688944, pvalue=1.990903278514121e-78)"
      ]
     },
     "execution_count": 219,
     "metadata": {},
     "output_type": "execute_result"
    }
   ],
   "source": [
    "ks1"
   ]
  },
  {
   "cell_type": "code",
   "execution_count": 183,
   "metadata": {},
   "outputs": [
    {
     "data": {
      "image/png": "[encoded data removed]",
      "text/plain": [
       "<Figure size 432x288 with 1 Axes>"
      ]
     },
     "metadata": {
      "needs_background": "light"
     },
     "output_type": "display_data"
    }
   ],
   "source": [
    "x0,y0 = ecdf(p_values0)\n",
    "plt.plot(x0,y0, label=\"Empirical ECDF\")\n",
    "\n",
    "plt.title(\"Departures at different stations model\")\n",
    "plt.xlabel(\"P-value\")\n",
    "plt.ylabel(\"ECDF value\")\n",
    "plt.plot([0,1], [0,1], label=\"Theoretical ECDF\", color='orange')\n",
    "plt.legend()\n",
    "plt.show()"
   ]
  },
  {
   "cell_type": "markdown",
   "metadata": {},
   "source": [
    "Different stations with large k"
   ]
  },
  {
   "cell_type": "code",
   "execution_count": 62,
   "metadata": {},
   "outputs": [
    {
     "data": {
      "text/plain": [
       " final_simplex: (array([[ -4.55237567, -39.98100424, -11.2378472 ],\n",
       "       [ -4.55237567, -39.98095226, -11.2378472 ],\n",
       "       [ -4.55237567, -39.98091893, -11.2378472 ],\n",
       "       [ -4.55237567, -39.98095714, -11.2378472 ]]), array([11790.31262213, 11790.31262213, 11790.31262213, 11790.31262213]))\n",
       "           fun: 11790.312622126603\n",
       "       message: 'Optimization terminated successfully.'\n",
       "          nfev: 368\n",
       "           nit: 188\n",
       "        status: 0\n",
       "       success: True\n",
       "             x: array([ -4.55237567, -39.98100424, -11.2378472 ])"
      ]
     },
     "execution_count": 62,
     "metadata": {},
     "output_type": "execute_result"
    }
   ],
   "source": [
    "op_diff_log_likelihood = lambda param, location_codes, t, dist, k, i: - diff_log_likelihood(location_codes, t, np.exp(param[0]), np.exp(param[0])+np.exp(param[1]), \n",
    "                                                                                         np.exp(param[2]), k, dist, i)\n",
    "mle1 = op.minimize(op_diff_log_likelihood, x0 = [-3, -8, -8], method = 'Nelder-Mead', args=(new_loc, t00, new_dist, np.exp(50), sid))\n",
    "mle1"
   ]
  },
  {
   "cell_type": "code",
   "execution_count": 63,
   "metadata": {},
   "outputs": [],
   "source": [
    "beta1, theta1, lambda_b1, k1 = np.exp(mle1.x[0]), np.exp(mle1.x[0])+np.exp(mle1.x[1]), np.exp(mle1.x[2]), np.exp(10)\n",
    "\n",
    "t_dep = t00[sid]\n",
    "compensator_t1 = np.zeros(len(t_dep)+1)\n",
    "for j in range(len(t_dep)):\n",
    "    compensator_t1[j+1] = diff_comp(t_dep[j], new_loc, t00, beta1, theta1, lambda_b1, new_dist, k1)\n",
    "\n",
    "inter_arr_times1 = np.diff(compensator_t1)\n",
    "p_values1 = np.exp(-inter_arr_times1)"
   ]
  },
  {
   "cell_type": "code",
   "execution_count": 64,
   "metadata": {},
   "outputs": [
    {
     "data": {
      "image/png": "[encoded data removed]",
      "text/plain": [
       "<Figure size 432x288 with 1 Axes>"
      ]
     },
     "metadata": {
      "needs_background": "light"
     },
     "output_type": "display_data"
    }
   ],
   "source": [
    "x1,y1 = ecdf(p_values1)\n",
    "plt.plot(x1,y1)\n",
    "\n",
    "plt.title(\"ECDF for p-values of Model 3\")\n",
    "plt.xlabel(\"P-value\")\n",
    "plt.ylabel(\"ECDF value\")\n",
    "plt.plot([0,1], [0,1], label=\"Theoretical ECDF\", color='orange')\n",
    "plt.legend()\n",
    "plt.show()"
   ]
  },
  {
   "cell_type": "markdown",
   "metadata": {},
   "source": [
    "Hawkes"
   ]
  },
  {
   "cell_type": "code",
   "execution_count": 151,
   "metadata": {},
   "outputs": [],
   "source": [
    "t0 = train_times[268]\n",
    "t1 = test_times[268]"
   ]
  },
  {
   "cell_type": "code",
   "execution_count": 220,
   "metadata": {},
   "outputs": [
    {
     "data": {
      "text/plain": [
       " final_simplex: (array([[-4.08649944, -6.2881818 , -6.12060675],\n",
       "       [-4.08650453, -6.28810564, -6.12060161],\n",
       "       [-4.08649755, -6.28809629, -6.12057448],\n",
       "       [-4.08648476, -6.28818211, -6.12060595]]), array([15114.06178121, 15114.06178124, 15114.06178126, 15114.06178129]))\n",
       "           fun: 15114.06178121102\n",
       "       message: 'Optimization terminated successfully.'\n",
       "          nfev: 203\n",
       "           nit: 115\n",
       "        status: 0\n",
       "       success: True\n",
       "             x: array([-4.08649944, -6.2881818 , -6.12060675])"
      ]
     },
     "execution_count": 220,
     "metadata": {},
     "output_type": "execute_result"
    }
   ],
   "source": [
    "op_hawkes_log_likelihood = lambda param, t: - hawkes_log_likelihood(t, np.exp(param[0]), np.exp(param[0])+np.exp(param[1]), np.exp(param[2]))\n",
    "mle2 = op.minimize(op_hawkes_log_likelihood, x0 = [-2, -2, -2], method = 'Nelder-Mead', args=(t0,))\n",
    "mle2"
   ]
  },
  {
   "cell_type": "code",
   "execution_count": 221,
   "metadata": {},
   "outputs": [],
   "source": [
    "beta2, theta2, lambda_b2 = np.exp(mle2.x[0]), np.exp(mle2.x[0]) + np.exp(mle2.x[1]), np.exp(mle2.x[2])\n",
    "\n",
    "compensator_t2 = np.zeros(len(t0)+1)\n",
    "for i in range(len(t0)):\n",
    "    compensator_t2[i+1] = hawkes_comp(t0[i], t0, beta2, theta2, lambda_b2)\n",
    "\n",
    "inter_arr_times2 = np.diff(compensator_t2)\n",
    "p_values2 = np.exp(-inter_arr_times2)\n",
    "ks2 = st.kstest(p_values2, \"uniform\")\n",
    "ks_train_hawkes.append(ks2.statistic)"
   ]
  },
  {
   "cell_type": "code",
   "execution_count": 222,
   "metadata": {},
   "outputs": [
    {
     "data": {
      "text/plain": [
       "0.11060322830095759"
      ]
     },
     "execution_count": 222,
     "metadata": {},
     "output_type": "execute_result"
    }
   ],
   "source": [
    "ks2.statistic"
   ]
  },
  {
   "cell_type": "code",
   "execution_count": 154,
   "metadata": {},
   "outputs": [],
   "source": [
    "beta2, theta2, lambda_b2 = np.exp(mle2.x[0]), np.exp(mle2.x[0]) + np.exp(mle2.x[1]), np.exp(mle2.x[2])\n",
    "\n",
    "compensator_t21 = np.zeros(len(t1)+1)\n",
    "for i in range(len(t1)):\n",
    "    compensator_t21[i+1] = hawkes_comp(t1[i], t1, beta2, theta2, lambda_b2)\n",
    "\n",
    "inter_arr_times21 = np.diff(compensator_t21)\n",
    "p_values21 = np.exp(-inter_arr_times21)\n",
    "ks21 = st.kstest(p_values21, \"uniform\")\n",
    "ks_test_hawkes.append(ks21.statistic)"
   ]
  },
  {
   "cell_type": "code",
   "execution_count": 155,
   "metadata": {},
   "outputs": [
    {
     "data": {
      "image/png": "[encoded data removed]",
      "text/plain": [
       "<Figure size 432x288 with 1 Axes>"
      ]
     },
     "metadata": {
      "needs_background": "light"
     },
     "output_type": "display_data"
    }
   ],
   "source": [
    "x2,y2 = ecdf(p_values2)\n",
    "plt.plot(x2,y2,  label=\"Empirical ECDF: Hawkes\")\n",
    "plt.plot(x0,y0,  label=\"Empirical ECDF: Different stations\", color='green')\n",
    "\n",
    "plt.title(\"Victoria Station: Train Set\")\n",
    "plt.xlabel(\"P-value\")\n",
    "plt.ylabel(\"ECDF value\")\n",
    "plt.plot([0,1], [0,1], label=\"Theoretical ECDF\", color='lightgray')\n",
    "plt.legend()\n",
    "plt.show()"
   ]
  },
  {
   "cell_type": "code",
   "execution_count": 156,
   "metadata": {},
   "outputs": [
    {
     "data": {
      "image/png": "[encoded data removed]",
      "text/plain": [
       "<Figure size 432x288 with 1 Axes>"
      ]
     },
     "metadata": {
      "needs_background": "light"
     },
     "output_type": "display_data"
    }
   ],
   "source": [
    "x21,y21 = ecdf(p_values21)\n",
    "x01,y01 = ecdf(p_values01)\n",
    "plt.plot(x21,y21,  label=\"Empirical ECDF: Hawkes\")\n",
    "plt.plot(x01,y01,  label=\"Empirical ECDF: Different stations\", color='green')\n",
    "\n",
    "plt.title(\"Victoria Station: Test Set\")\n",
    "plt.xlabel(\"P-value\")\n",
    "plt.ylabel(\"ECDF value\")\n",
    "plt.plot([0,1], [0,1], label=\"Theoretical ECDF\", color='lightgray')\n",
    "plt.legend()\n",
    "plt.show()"
   ]
  },
  {
   "cell_type": "code",
   "execution_count": 157,
   "metadata": {},
   "outputs": [
    {
     "data": {
      "image/png": "[encoded data removed]",
      "text/plain": [
       "<Figure size 432x288 with 2 Axes>"
      ]
     },
     "metadata": {
      "needs_background": "light"
     },
     "output_type": "display_data"
    }
   ],
   "source": [
    "x2,y2 = ecdf(p_values2)\n",
    "plt.subplot(1, 2, 1)\n",
    "plt.plot(x2,y2,  label=\"Empirical ECDF: Hawkes\")\n",
    "plt.plot(x0,y0,  label=\"Empirical ECDF: Different stations\", color='green')\n",
    "\n",
    "plt.title(\"Victoria Station: Train Set\")\n",
    "plt.xlabel(\"theoretical quantiles\")\n",
    "plt.ylabel(\"observed quantiles\")\n",
    "plt.plot([0,1], [0,1], label=\"Theoretical ECDF\", color='lightgray')\n",
    "\n",
    "\n",
    "\n",
    "x21,y21 = ecdf(p_values21)\n",
    "x01,y01 = ecdf(p_values01)\n",
    "plt.subplot(1, 2, 2)\n",
    "plt.plot(x21,y21,  label=\"Empirical: Hawkes\")\n",
    "plt.plot(x01,y01,  label=\"Empirical: Spatial\", color='green')\n",
    "\n",
    "plt.title(\"Victoria Station: Test Set\")\n",
    "plt.xlabel(\"theoretical quantiles\")\n",
    "plt.plot([0,1], [0,1], label=\"Theoretical\", color='lightgray')\n",
    "plt.legend()\n",
    "\n",
    "plt.show()\n"
   ]
  },
  {
   "cell_type": "markdown",
   "metadata": {},
   "source": [
    "Waterloo Station"
   ]
  },
  {
   "cell_type": "markdown",
   "metadata": {},
   "source": [
    "Different stations"
   ]
  },
  {
   "cell_type": "code",
   "execution_count": 266,
   "metadata": {},
   "outputs": [],
   "source": [
    "sid = 374\n",
    "ind = get_station_index(loc_codes, sid)\n",
    "\n",
    "t0, ind_list = process_times(loc_codes, train_times, sid)\n",
    "t1, ind_list = process_times(loc_codes, test_times, sid)\n",
    "#if len(ind_list) != 0:\n",
    "    #loc_codes[ind_list] = -1\n",
    "    #loc_codes = [i for i in loc_codes if i != -1]\n",
    "    \n",
    "dist_arr = geo_df[f\"{ind}\"].to_numpy()"
   ]
  },
  {
   "cell_type": "code",
   "execution_count": 267,
   "metadata": {},
   "outputs": [
    {
     "name": "stdout",
     "output_type": "stream",
     "text": [
      "14\n",
      "14\n",
      "[154, 173, 197, 252, 272, 273, 334, 336, 347, 361, 374, 377, 815, 819]\n"
     ]
    }
   ],
   "source": [
    "thres = 0.5\n",
    "new_dist, new_loc = thres_fun(dist_arr, thres, loc_codes)\n",
    "print(len(new_loc));\n",
    "print(len(new_dist));\n",
    "print(new_loc)"
   ]
  },
  {
   "cell_type": "code",
   "execution_count": 268,
   "metadata": {},
   "outputs": [
    {
     "data": {
      "text/plain": [
       "dict_keys([154, 173, 197, 252, 272, 273, 334, 336, 347, 361, 374, 377, 815, 819])"
      ]
     },
     "execution_count": 268,
     "metadata": {},
     "output_type": "execute_result"
    }
   ],
   "source": [
    "t00 = {}\n",
    "t01 = {}\n",
    "\n",
    "for loc in new_loc:\n",
    "    t00[loc] = t0[loc]\n",
    "    t01[loc] = t1[loc]\n",
    "    \n",
    "t00.keys()"
   ]
  },
  {
   "cell_type": "code",
   "execution_count": 158,
   "metadata": {},
   "outputs": [
    {
     "data": {
      "text/plain": [
       " final_simplex: (array([[-3.84926669, -3.09007511, -8.45537375,  1.66464124],\n",
       "       [-3.84920263, -3.09003322, -8.45534507,  1.66465546],\n",
       "       [-3.849242  , -3.09008676, -8.45541233,  1.66466425],\n",
       "       [-3.84923558, -3.0900144 , -8.45542272,  1.66462596],\n",
       "       [-3.84924283, -3.09007275, -8.45546357,  1.66464788]]), array([14571.40788558, 14571.40788563, 14571.40788567, 14571.40788569,\n",
       "       14571.40788571]))\n",
       "           fun: 14571.40788558111\n",
       "       message: 'Optimization terminated successfully.'\n",
       "          nfev: 456\n",
       "           nit: 268\n",
       "        status: 0\n",
       "       success: True\n",
       "             x: array([-3.84926669, -3.09007511, -8.45537375,  1.66464124])"
      ]
     },
     "execution_count": 158,
     "metadata": {},
     "output_type": "execute_result"
    }
   ],
   "source": [
    "op_diff_log_likelihood = lambda param, location_codes, t, dist, i: - diff_log_likelihood(location_codes, t, np.exp(param[0]), np.exp(param[0])+np.exp(param[1]), \n",
    "                                                                                         np.exp(param[2]), np.exp(param[3]), dist, i)\n",
    "mle0 = op.minimize(op_diff_log_likelihood, x0 = [-4, -3, -2, 2], method = 'Nelder-Mead', args=(new_loc, t00, new_dist, sid))\n",
    "mle0"
   ]
  },
  {
   "cell_type": "code",
   "execution_count": 270,
   "metadata": {},
   "outputs": [],
   "source": [
    "beta0, theta0, lambda_b0, k0 = np.exp(mle0.x[0]), np.exp(mle0.x[0])+np.exp(mle0.x[1]), np.exp(mle0.x[2]), np.exp(mle0.x[3])\n",
    "\n",
    "t_dep = t00[sid]\n",
    "compensator_t0 = np.zeros(len(t_dep)+1)\n",
    "for j in range(len(t_dep)):\n",
    "    compensator_t0[j+1] = diff_comp(t_dep[j], new_loc, t00, beta0, theta0, lambda_b0, new_dist, k0)\n",
    "\n",
    "inter_arr_times0 = np.diff(compensator_t0)\n",
    "p_values0 = np.exp(-inter_arr_times0)\n",
    "ks0 = st.kstest(p_values0, \"uniform\")\n",
    "ks_train_spatio.append(ks0.statistic)"
   ]
  },
  {
   "cell_type": "code",
   "execution_count": 271,
   "metadata": {},
   "outputs": [],
   "source": [
    "beta0, theta0, lambda_b0, k0 = np.exp(mle0.x[0]), np.exp(mle0.x[0])+np.exp(mle0.x[1]), np.exp(mle0.x[2]), np.exp(mle0.x[3])\n",
    "\n",
    "t_dep = t01[sid]\n",
    "compensator_t01 = np.zeros(len(t_dep)+1)\n",
    "for j in range(len(t_dep)):\n",
    "    compensator_t01[j+1] = diff_comp(t_dep[j], new_loc, t01, beta0, theta0, lambda_b0, new_dist, k0)\n",
    "\n",
    "inter_arr_times01 = np.diff(compensator_t01)\n",
    "p_values01 = np.exp(-inter_arr_times01)\n",
    "ks1 = st.kstest(p_values01, \"uniform\")\n",
    "ks_test_spatio.append(ks1.statistic)"
   ]
  },
  {
   "cell_type": "code",
   "execution_count": 94,
   "metadata": {},
   "outputs": [
    {
     "data": {
      "image/png": "[encoded data removed]",
      "text/plain": [
       "<Figure size 432x288 with 1 Axes>"
      ]
     },
     "metadata": {
      "needs_background": "light"
     },
     "output_type": "display_data"
    }
   ],
   "source": [
    "x0,y0 = ecdf(p_values0)\n",
    "plt.plot(x0,y0)\n",
    "\n",
    "plt.title(\"ECDF for p-values of Model 3\")\n",
    "plt.xlabel(\"P-value\")\n",
    "plt.ylabel(\"ECDF value\")\n",
    "plt.plot([0,1], [0,1], label=\"Theoretical ECDF\", color='orange')\n",
    "plt.legend()\n",
    "plt.show()"
   ]
  },
  {
   "cell_type": "markdown",
   "metadata": {},
   "source": [
    "Different stations with large k"
   ]
  },
  {
   "cell_type": "code",
   "execution_count": 99,
   "metadata": {},
   "outputs": [
    {
     "data": {
      "text/plain": [
       " final_simplex: (array([[ -4.4600117 ,  -3.89546789, -10.62337822],\n",
       "       [ -4.46000851,  -3.89545638, -10.62344389],\n",
       "       [ -4.46002638,  -3.8954701 , -10.62340859],\n",
       "       [ -4.45999775,  -3.89544542, -10.62330309]]), array([24148.18059898, 24148.18059907, 24148.1805992 , 24148.1805992 ]))\n",
       "           fun: 24148.180598984636\n",
       "       message: 'Optimization terminated successfully.'\n",
       "          nfev: 168\n",
       "           nit: 92\n",
       "        status: 0\n",
       "       success: True\n",
       "             x: array([ -4.4600117 ,  -3.89546789, -10.62337822])"
      ]
     },
     "execution_count": 99,
     "metadata": {},
     "output_type": "execute_result"
    }
   ],
   "source": [
    "op_diff_log_likelihood = lambda param, location_codes, t, dist, k, i: - diff_log_likelihood(location_codes, t, np.exp(param[0]), np.exp(param[0])+np.exp(param[1]), \n",
    "                                                                                         np.exp(param[2]), k, dist, i)\n",
    "mle1 = op.minimize(op_diff_log_likelihood, x0 = [-2, -2, -2], method = 'Nelder-Mead', args=(new_loc, t00, new_dist, np.exp(50), sid))\n",
    "mle1"
   ]
  },
  {
   "cell_type": "code",
   "execution_count": 100,
   "metadata": {},
   "outputs": [],
   "source": [
    "beta1, theta1, lambda_b1, k1 = np.exp(mle1.x[0]), np.exp(mle1.x[0])+np.exp(mle1.x[1]), np.exp(mle1.x[2]), np.exp(10)\n",
    "\n",
    "t_dep = t00[sid]\n",
    "compensator_t1 = np.zeros(len(t_dep)+1)\n",
    "for j in range(len(t_dep)):\n",
    "    compensator_t1[j+1] = diff_comp(t_dep[j], new_loc, t00, beta1, theta1, lambda_b1, new_dist, k1)\n",
    "\n",
    "inter_arr_times1 = np.diff(compensator_t1)\n",
    "p_values1 = np.exp(-inter_arr_times1)"
   ]
  },
  {
   "cell_type": "code",
   "execution_count": 101,
   "metadata": {},
   "outputs": [
    {
     "data": {
      "image/png": "[encoded data removed]",
      "text/plain": [
       "<Figure size 432x288 with 1 Axes>"
      ]
     },
     "metadata": {
      "needs_background": "light"
     },
     "output_type": "display_data"
    }
   ],
   "source": [
    "x1,y1 = ecdf(p_values1)\n",
    "plt.plot(x1,y1)\n",
    "\n",
    "plt.title(\"ECDF for p-values of Model 3\")\n",
    "plt.xlabel(\"P-value\")\n",
    "plt.ylabel(\"ECDF value\")\n",
    "plt.plot([0,1], [0,1], label=\"Theoretical ECDF\", color='orange')\n",
    "plt.legend()\n",
    "plt.show()"
   ]
  },
  {
   "cell_type": "markdown",
   "metadata": {},
   "source": [
    "Hawkes"
   ]
  },
  {
   "cell_type": "code",
   "execution_count": 272,
   "metadata": {},
   "outputs": [],
   "source": [
    "t0 = train_times[374]\n",
    "t1 = test_times[374]"
   ]
  },
  {
   "cell_type": "code",
   "execution_count": 273,
   "metadata": {},
   "outputs": [
    {
     "data": {
      "text/plain": [
       " final_simplex: (array([[-3.67249437, -8.0500733 , -9.23636648],\n",
       "       [-3.6724928 , -8.05014571, -9.23637637],\n",
       "       [-3.67249399, -8.05016234, -9.23636872],\n",
       "       [-3.67249621, -8.05007101, -9.23638705]]), array([24655.08221933, 24655.08221933, 24655.08221933, 24655.08221934]))\n",
       "           fun: 24655.082219332613\n",
       "       message: 'Optimization terminated successfully.'\n",
       "          nfev: 287\n",
       "           nit: 166\n",
       "        status: 0\n",
       "       success: True\n",
       "             x: array([-3.67249437, -8.0500733 , -9.23636648])"
      ]
     },
     "execution_count": 273,
     "metadata": {},
     "output_type": "execute_result"
    }
   ],
   "source": [
    "op_hawkes_log_likelihood = lambda param, t: - hawkes_log_likelihood(t, np.exp(param[0]), np.exp(param[0])+np.exp(param[1]), np.exp(param[2]))\n",
    "mle2 = op.minimize(op_hawkes_log_likelihood, x0 = [-2, -2, -2], method = 'Nelder-Mead', args=(t0,))\n",
    "mle2"
   ]
  },
  {
   "cell_type": "code",
   "execution_count": 274,
   "metadata": {},
   "outputs": [],
   "source": [
    "beta2, theta2, lambda_b2 = np.exp(mle2.x[0]), np.exp(mle2.x[0]) + np.exp(mle2.x[1]), np.exp(mle2.x[2])\n",
    "\n",
    "compensator_t2 = np.zeros(len(t0)+1)\n",
    "for i in range(len(t0)):\n",
    "    compensator_t2[i+1] = hawkes_comp(t0[i], t0, beta2, theta2, lambda_b2)\n",
    "\n",
    "inter_arr_times2 = np.diff(compensator_t2)\n",
    "p_values2 = np.exp(-inter_arr_times2)\n",
    "ks2 = st.kstest(p_values2, \"uniform\")\n",
    "ks_train_hawkes.append(ks2.statistic)"
   ]
  },
  {
   "cell_type": "code",
   "execution_count": 275,
   "metadata": {},
   "outputs": [],
   "source": [
    "beta2, theta2, lambda_b2 = np.exp(mle2.x[0]), np.exp(mle2.x[0]) + np.exp(mle2.x[1]), np.exp(mle2.x[2])\n",
    "\n",
    "compensator_t21 = np.zeros(len(t1)+1)\n",
    "for i in range(len(t1)):\n",
    "    compensator_t21[i+1] = hawkes_comp(t1[i], t1, beta2, theta2, lambda_b2)\n",
    "\n",
    "inter_arr_times21 = np.diff(compensator_t21)\n",
    "p_values21 = np.exp(-inter_arr_times21)\n",
    "ks21 = st.kstest(p_values21, \"uniform\")\n",
    "ks_test_hawkes.append(ks21.statistic)"
   ]
  },
  {
   "cell_type": "code",
   "execution_count": 276,
   "metadata": {},
   "outputs": [
    {
     "data": {
      "image/png": "[encoded data removed]",
      "text/plain": [
       "<Figure size 432x288 with 1 Axes>"
      ]
     },
     "metadata": {
      "needs_background": "light"
     },
     "output_type": "display_data"
    }
   ],
   "source": [
    "x2,y2 = ecdf(p_values2)\n",
    "plt.plot(x2,y2)\n",
    "\n",
    "plt.title(\"ECDF for p-values of Model 3\")\n",
    "plt.xlabel(\"P-value\")\n",
    "plt.ylabel(\"ECDF value\")\n",
    "plt.plot([0,1], [0,1], label=\"Theoretical ECDF\", color='orange')\n",
    "plt.legend()\n",
    "plt.show()"
   ]
  },
  {
   "cell_type": "code",
   "execution_count": 36,
   "metadata": {},
   "outputs": [
    {
     "ename": "NameError",
     "evalue": "name 'x0' is not defined",
     "output_type": "error",
     "traceback": [
      "\u001b[0;31m---------------------------------------------------------------------------\u001b[0m",
      "\u001b[0;31mNameError\u001b[0m                                 Traceback (most recent call last)",
      "\u001b[0;32m<ipython-input-36-64265038290e>\u001b[0m in \u001b[0;36m<module>\u001b[0;34m\u001b[0m\n\u001b[1;32m      2\u001b[0m \u001b[0mplt\u001b[0m\u001b[0;34m.\u001b[0m\u001b[0msubplot\u001b[0m\u001b[0;34m(\u001b[0m\u001b[0;36m1\u001b[0m\u001b[0;34m,\u001b[0m \u001b[0;36m2\u001b[0m\u001b[0;34m,\u001b[0m \u001b[0;36m1\u001b[0m\u001b[0;34m)\u001b[0m\u001b[0;34m\u001b[0m\u001b[0;34m\u001b[0m\u001b[0m\n\u001b[1;32m      3\u001b[0m \u001b[0mplt\u001b[0m\u001b[0;34m.\u001b[0m\u001b[0mplot\u001b[0m\u001b[0;34m(\u001b[0m\u001b[0mx2\u001b[0m\u001b[0;34m,\u001b[0m\u001b[0my2\u001b[0m\u001b[0;34m,\u001b[0m  \u001b[0mlabel\u001b[0m\u001b[0;34m=\u001b[0m\u001b[0;34m\"Empirical ECDF: Hawkes\"\u001b[0m\u001b[0;34m)\u001b[0m\u001b[0;34m\u001b[0m\u001b[0;34m\u001b[0m\u001b[0m\n\u001b[0;32m----> 4\u001b[0;31m \u001b[0mplt\u001b[0m\u001b[0;34m.\u001b[0m\u001b[0mplot\u001b[0m\u001b[0;34m(\u001b[0m\u001b[0mx0\u001b[0m\u001b[0;34m,\u001b[0m\u001b[0my0\u001b[0m\u001b[0;34m,\u001b[0m  \u001b[0mlabel\u001b[0m\u001b[0;34m=\u001b[0m\u001b[0;34m\"Empirical ECDF: Different stations\"\u001b[0m\u001b[0;34m,\u001b[0m \u001b[0mcolor\u001b[0m\u001b[0;34m=\u001b[0m\u001b[0;34m'green'\u001b[0m\u001b[0;34m)\u001b[0m\u001b[0;34m\u001b[0m\u001b[0;34m\u001b[0m\u001b[0m\n\u001b[0m\u001b[1;32m      5\u001b[0m \u001b[0;34m\u001b[0m\u001b[0m\n\u001b[1;32m      6\u001b[0m \u001b[0mplt\u001b[0m\u001b[0;34m.\u001b[0m\u001b[0mtitle\u001b[0m\u001b[0;34m(\u001b[0m\u001b[0;34m\"Victoria Station: Train Set\"\u001b[0m\u001b[0;34m)\u001b[0m\u001b[0;34m\u001b[0m\u001b[0;34m\u001b[0m\u001b[0m\n",
      "\u001b[0;31mNameError\u001b[0m: name 'x0' is not defined"
     ]
    },
    {
     "data": {
      "image/png": "[encoded data removed]",
      "text/plain": [
       "<Figure size 432x288 with 1 Axes>"
      ]
     },
     "metadata": {
      "needs_background": "light"
     },
     "output_type": "display_data"
    }
   ],
   "source": [
    "x2,y2 = ecdf(p_values2)\n",
    "plt.subplot(1, 2, 1)\n",
    "plt.plot(x2,y2,  label=\"Empirical ECDF: Hawkes\")\n",
    "plt.plot(x0,y0,  label=\"Empirical ECDF: Different stations\", color='green')\n",
    "\n",
    "plt.title(\"Victoria Station: Train Set\")\n",
    "plt.xlabel(\"theoretical quantiles\")\n",
    "plt.ylabel(\"observed quantiles\")\n",
    "plt.plot([0,1], [0,1], label=\"Theoretical ECDF\", color='lightgray')\n",
    "\n",
    "\n",
    "\n",
    "x21,y21 = ecdf(p_values21)\n",
    "x01,y01 = ecdf(p_values01)\n",
    "plt.subplot(1, 2, 2)\n",
    "plt.plot(x21,y21,  label=\"Empirical: Hawkes\")\n",
    "plt.plot(x01,y01,  label=\"Empirical: Spatial\", color='green')\n",
    "\n",
    "plt.title(\"Victoria Station: Test Set\")\n",
    "plt.xlabel(\"theoretical quantiles\")\n",
    "plt.plot([0,1], [0,1], label=\"Theoretical\", color='lightgray')\n",
    "plt.legend()\n",
    "\n",
    "plt.show()\n",
    "plt.savefig('vic1.pdf')"
   ]
  },
  {
   "cell_type": "markdown",
   "metadata": {},
   "source": [
    "Paddington Station"
   ]
  },
  {
   "cell_type": "markdown",
   "metadata": {},
   "source": [
    "Different stations"
   ]
  },
  {
   "cell_type": "code",
   "execution_count": 278,
   "metadata": {},
   "outputs": [],
   "source": [
    "sid = 186\n",
    "ind = get_station_index(loc_codes, sid)\n",
    "\n",
    "t0, ind_list = process_times(loc_codes, train_times, sid)\n",
    "t1, ind_list = process_times(loc_codes, test_times, sid)\n",
    "#if len(ind_list) != 0:\n",
    "    #loc_codes[ind_list] = -1\n",
    "    #loc_codes = [i for i in loc_codes if i != -1]\n",
    "    \n",
    "dist_arr = geo_df[f\"{ind}\"].to_numpy()"
   ]
  },
  {
   "cell_type": "code",
   "execution_count": 279,
   "metadata": {},
   "outputs": [
    {
     "name": "stdout",
     "output_type": "stream",
     "text": [
      "7\n",
      "7\n",
      "[186, 265, 279, 290, 330, 370, 408]\n"
     ]
    }
   ],
   "source": [
    "thres = 0.5\n",
    "new_dist, new_loc = thres_fun(dist_arr, thres, loc_codes)\n",
    "print(len(new_loc));\n",
    "print(len(new_dist));\n",
    "print(new_loc)"
   ]
  },
  {
   "cell_type": "code",
   "execution_count": 280,
   "metadata": {},
   "outputs": [],
   "source": [
    "t00 = {}\n",
    "t01 = {}\n",
    "\n",
    "for loc in new_loc:\n",
    "    if loc not in ind_list:\n",
    "        t00[loc] = t0[loc]\n",
    "        t01[loc] = t1[loc]\n",
    "    \n",
    "new_loc = list(t00.keys())"
   ]
  },
  {
   "cell_type": "code",
   "execution_count": 281,
   "metadata": {},
   "outputs": [
    {
     "data": {
      "text/plain": [
       " final_simplex: (array([[ -3.85746826,  -3.99937713, -10.45439721,   1.3533935 ],\n",
       "       [ -3.8574779 ,  -3.99937963, -10.45436746,   1.35339949],\n",
       "       [ -3.85746976,  -3.99934598, -10.45447989,   1.3533829 ],\n",
       "       [ -3.85749443,  -3.99940759, -10.45449561,   1.35339833],\n",
       "       [ -3.85746423,  -3.99941385, -10.45446345,   1.35343002]]), array([20960.79889313, 20960.79889316, 20960.79889331, 20960.79889333,\n",
       "       20960.79889334]))\n",
       "           fun: 20960.798893131294\n",
       "       message: 'Optimization terminated successfully.'\n",
       "          nfev: 787\n",
       "           nit: 466\n",
       "        status: 0\n",
       "       success: True\n",
       "             x: array([ -3.85746826,  -3.99937713, -10.45439721,   1.3533935 ])"
      ]
     },
     "execution_count": 281,
     "metadata": {},
     "output_type": "execute_result"
    }
   ],
   "source": [
    "op_diff_log_likelihood = lambda param, location_codes, t, dist, i: - diff_log_likelihood(location_codes, t, np.exp(param[0]), np.exp(param[0])+np.exp(param[1]), \n",
    "                                                                                         np.exp(param[2]), np.exp(param[3]), dist, i)\n",
    "mle0 = op.minimize(op_diff_log_likelihood, x0 = [-2, -2, -2, 2], method = 'Nelder-Mead', args=(new_loc, t00, new_dist, sid))\n",
    "mle0"
   ]
  },
  {
   "cell_type": "code",
   "execution_count": 282,
   "metadata": {},
   "outputs": [],
   "source": [
    "beta0, theta0, lambda_b0, k0 = np.exp(mle0.x[0]), np.exp(mle0.x[0])+np.exp(mle0.x[1]), np.exp(mle0.x[2]), np.exp(mle0.x[3])\n",
    "\n",
    "t_dep = t00[sid]\n",
    "compensator_t0 = np.zeros(len(t_dep)+1)\n",
    "for j in range(len(t_dep)):\n",
    "    compensator_t0[j+1] = diff_comp(t_dep[j], new_loc, t00, beta0, theta0, lambda_b0, new_dist, k0)\n",
    "\n",
    "inter_arr_times0 = np.diff(compensator_t0)\n",
    "p_values0 = np.exp(-inter_arr_times0)\n",
    "ks0 = st.kstest(p_values0, \"uniform\")\n",
    "ks_train_spatio.append(ks0.statistic)"
   ]
  },
  {
   "cell_type": "code",
   "execution_count": 283,
   "metadata": {},
   "outputs": [],
   "source": [
    "beta0, theta0, lambda_b0, k0 = np.exp(mle0.x[0]), np.exp(mle0.x[0])+np.exp(mle0.x[1]), np.exp(mle0.x[2]), np.exp(mle0.x[3])\n",
    "\n",
    "t_dep = t01[sid]\n",
    "compensator_t01 = np.zeros(len(t_dep)+1)\n",
    "for j in range(len(t_dep)):\n",
    "    compensator_t01[j+1] = diff_comp(t_dep[j], new_loc, t01, beta0, theta0, lambda_b0, new_dist, k0)\n",
    "\n",
    "inter_arr_times01 = np.diff(compensator_t01)\n",
    "p_values01 = np.exp(-inter_arr_times01)\n",
    "ks1 = st.kstest(p_values01, \"uniform\")\n",
    "ks_test_spatio.append(ks1.statistic)"
   ]
  },
  {
   "cell_type": "code",
   "execution_count": 284,
   "metadata": {},
   "outputs": [
    {
     "data": {
      "image/png": "[encoded data removed]",
      "text/plain": [
       "<Figure size 432x288 with 1 Axes>"
      ]
     },
     "metadata": {
      "needs_background": "light"
     },
     "output_type": "display_data"
    }
   ],
   "source": [
    "x0,y0 = ecdf(p_values0)\n",
    "plt.plot(x0,y0)\n",
    "\n",
    "plt.title(\"ECDF for p-values of Model 3\")\n",
    "plt.xlabel(\"P-value\")\n",
    "plt.ylabel(\"ECDF value\")\n",
    "plt.plot([0,1], [0,1], label=\"Theoretical ECDF\", color='orange')\n",
    "plt.legend()\n",
    "plt.show()"
   ]
  },
  {
   "cell_type": "markdown",
   "metadata": {},
   "source": [
    "Different stations with large k"
   ]
  },
  {
   "cell_type": "code",
   "execution_count": 143,
   "metadata": {},
   "outputs": [
    {
     "data": {
      "text/plain": [
       " final_simplex: (array([[-3.98398511, -8.36833696, -9.44918038],\n",
       "       [-3.98398713, -8.36826141, -9.44917018],\n",
       "       [-3.98398428, -8.36839508, -9.44917836],\n",
       "       [-3.98398443, -8.36825676, -9.44917483]]), array([21467.0443917, 21467.0443917, 21467.0443917, 21467.0443917]))\n",
       "           fun: 21467.044391700347\n",
       "       message: 'Optimization terminated successfully.'\n",
       "          nfev: 227\n",
       "           nit: 126\n",
       "        status: 0\n",
       "       success: True\n",
       "             x: array([-3.98398511, -8.36833696, -9.44918038])"
      ]
     },
     "execution_count": 143,
     "metadata": {},
     "output_type": "execute_result"
    }
   ],
   "source": [
    "op_diff_log_likelihood = lambda param, location_codes, t, dist, k, i: - diff_log_likelihood(location_codes, t, np.exp(param[0]), np.exp(param[0])+np.exp(param[1]), \n",
    "                                                                                         np.exp(param[2]), k, dist, i)\n",
    "mle1 = op.minimize(op_diff_log_likelihood, x0 = [-2, -2, -2], method = 'Nelder-Mead', args=(new_loc, t00, new_dist, np.exp(50), sid))\n",
    "mle1"
   ]
  },
  {
   "cell_type": "code",
   "execution_count": 144,
   "metadata": {},
   "outputs": [],
   "source": [
    "beta1, theta1, lambda_b1, k1 = np.exp(mle1.x[0]), np.exp(mle1.x[0])+np.exp(mle1.x[1]), np.exp(mle1.x[2]), np.exp(10)\n",
    "\n",
    "t_dep = t00[sid]\n",
    "compensator_t1 = np.zeros(len(t_dep)+1)\n",
    "for j in range(len(t_dep)):\n",
    "    compensator_t1[j+1] = diff_comp(t_dep[j], new_loc, t00, beta1, theta1, lambda_b1, new_dist, k1)\n",
    "\n",
    "inter_arr_times1 = np.diff(compensator_t1)\n",
    "p_values1 = np.exp(-inter_arr_times1)"
   ]
  },
  {
   "cell_type": "code",
   "execution_count": 145,
   "metadata": {},
   "outputs": [
    {
     "data": {
      "image/png": "[encoded data removed]",
      "text/plain": [
       "<Figure size 432x288 with 1 Axes>"
      ]
     },
     "metadata": {
      "needs_background": "light"
     },
     "output_type": "display_data"
    }
   ],
   "source": [
    "x1,y1 = ecdf(p_values1)\n",
    "plt.plot(x1,y1)\n",
    "\n",
    "plt.title(\"ECDF for p-values of Model 3\")\n",
    "plt.xlabel(\"P-value\")\n",
    "plt.ylabel(\"ECDF value\")\n",
    "plt.plot([0,1], [0,1], label=\"Theoretical ECDF\", color='orange')\n",
    "plt.legend()\n",
    "plt.show()"
   ]
  },
  {
   "cell_type": "markdown",
   "metadata": {},
   "source": [
    "Hawkes"
   ]
  },
  {
   "cell_type": "code",
   "execution_count": 146,
   "metadata": {},
   "outputs": [],
   "source": [
    "t0 = train_times[186]\n",
    "t1 = test_times[186]"
   ]
  },
  {
   "cell_type": "code",
   "execution_count": 147,
   "metadata": {},
   "outputs": [
    {
     "data": {
      "text/plain": [
       " final_simplex: (array([[-3.98398511, -8.36833696, -9.44918038],\n",
       "       [-3.98398713, -8.36826141, -9.44917018],\n",
       "       [-3.98398428, -8.36839508, -9.44917836],\n",
       "       [-3.98398443, -8.36825676, -9.44917483]]), array([21467.0443917, 21467.0443917, 21467.0443917, 21467.0443917]))\n",
       "           fun: 21467.044391700347\n",
       "       message: 'Optimization terminated successfully.'\n",
       "          nfev: 227\n",
       "           nit: 126\n",
       "        status: 0\n",
       "       success: True\n",
       "             x: array([-3.98398511, -8.36833696, -9.44918038])"
      ]
     },
     "execution_count": 147,
     "metadata": {},
     "output_type": "execute_result"
    }
   ],
   "source": [
    "op_hawkes_log_likelihood = lambda param, t: - hawkes_log_likelihood(t, np.exp(param[0]), np.exp(param[0])+np.exp(param[1]), np.exp(param[2]))\n",
    "mle2 = op.minimize(op_hawkes_log_likelihood, x0 = [-2, -2, -2], method = 'Nelder-Mead', args=(t0,))\n",
    "mle2"
   ]
  },
  {
   "cell_type": "code",
   "execution_count": 148,
   "metadata": {},
   "outputs": [],
   "source": [
    "beta2, theta2, lambda_b2 = np.exp(mle2.x[0]), np.exp(mle2.x[0]) + np.exp(mle2.x[1]), np.exp(mle2.x[2])\n",
    "\n",
    "compensator_t2 = np.zeros(len(t0)+1)\n",
    "for i in range(len(t0)):\n",
    "    compensator_t2[i+1] = hawkes_comp(t0[i], t0, beta2, theta2, lambda_b2)\n",
    "\n",
    "inter_arr_times2 = np.diff(compensator_t2)\n",
    "p_values2 = np.exp(-inter_arr_times2)\n",
    "ks2 = st.kstest(p_values2, \"uniform\")\n",
    "ks_train_hawkes.append(ks2.statistic)"
   ]
  },
  {
   "cell_type": "code",
   "execution_count": 149,
   "metadata": {},
   "outputs": [],
   "source": [
    "beta2, theta2, lambda_b2 = np.exp(mle2.x[0]), np.exp(mle2.x[0]) + np.exp(mle2.x[1]), np.exp(mle2.x[2])\n",
    "\n",
    "compensator_t21 = np.zeros(len(t1)+1)\n",
    "for i in range(len(t1)):\n",
    "    compensator_t21[i+1] = hawkes_comp(t1[i], t1, beta2, theta2, lambda_b2)\n",
    "\n",
    "inter_arr_times21 = np.diff(compensator_t21)\n",
    "p_values21 = np.exp(-inter_arr_times21)\n",
    "ks21 = st.kstest(p_values21, \"uniform\")\n",
    "ks_test_hawkes.append(ks21.statistic)"
   ]
  },
  {
   "cell_type": "code",
   "execution_count": 150,
   "metadata": {},
   "outputs": [
    {
     "data": {
      "image/png": "[encoded data removed]",
      "text/plain": [
       "<Figure size 432x288 with 1 Axes>"
      ]
     },
     "metadata": {
      "needs_background": "light"
     },
     "output_type": "display_data"
    }
   ],
   "source": [
    "x2,y2 = ecdf(p_values2)\n",
    "plt.plot(x2,y2)\n",
    "\n",
    "plt.title(\"ECDF for p-values of Model 3\")\n",
    "plt.xlabel(\"P-value\")\n",
    "plt.ylabel(\"ECDF value\")\n",
    "plt.plot([0,1], [0,1], label=\"Theoretical ECDF\", color='orange')\n",
    "plt.legend()\n",
    "plt.show()"
   ]
  },
  {
   "cell_type": "code",
   "execution_count": 286,
   "metadata": {},
   "outputs": [
    {
     "data": {
      "image/png": "[encoded data removed]",
      "text/plain": [
       "<Figure size 432x288 with 2 Axes>"
      ]
     },
     "metadata": {
      "needs_background": "light"
     },
     "output_type": "display_data"
    }
   ],
   "source": [
    "x2,y2 = ecdf(p_values2)\n",
    "plt.subplot(1, 2, 1)\n",
    "plt.plot(x2,y2,  label=\"Empirical ECDF: Hawkes\")\n",
    "plt.plot(x0,y0,  label=\"Empirical ECDF: Different stations\", color='green')\n",
    "\n",
    "plt.title(\"Paddington Station: Train Set\")\n",
    "plt.xlabel(\"theoretical quantiles\")\n",
    "plt.ylabel(\"observed quantiles\")\n",
    "plt.plot([0,1], [0,1], label=\"Theoretical ECDF\", color='lightgray')\n",
    "\n",
    "\n",
    "\n",
    "x21,y21 = ecdf(p_values21)\n",
    "x01,y01 = ecdf(p_values01)\n",
    "plt.subplot(1, 2, 2)\n",
    "plt.plot(x21,y21,  label=\"Empirical: Hawkes\")\n",
    "plt.plot(x01,y01,  label=\"Empirical: Spatial\", color='green')\n",
    "\n",
    "plt.title(\"Paddington Station: Test Set\")\n",
    "plt.xlabel(\"theoretical quantiles\")\n",
    "plt.plot([0,1], [0,1], label=\"Theoretical\", color='lightgray')\n",
    "plt.legend()\n",
    "\n",
    "plt.show()"
   ]
  },
  {
   "cell_type": "markdown",
   "metadata": {},
   "source": [
    "London Bridge"
   ]
  },
  {
   "cell_type": "markdown",
   "metadata": {},
   "source": [
    "Different stations"
   ]
  },
  {
   "cell_type": "code",
   "execution_count": 151,
   "metadata": {},
   "outputs": [],
   "source": [
    "sid = 706\n",
    "ind = get_station_index(loc_codes, sid)\n",
    "\n",
    "t0, ind_list = process_times(loc_codes, train_times, sid)\n",
    "t1, ind_list = process_times(loc_codes, test_times, sid)\n",
    "#if len(ind_list) != 0:\n",
    "    #loc_codes[ind_list] = -1\n",
    "    #loc_codes = [i for i in loc_codes if i != -1]\n",
    "    \n",
    "dist_arr = geo_df[f\"{ind}\"].to_numpy()"
   ]
  },
  {
   "cell_type": "code",
   "execution_count": 153,
   "metadata": {},
   "outputs": [
    {
     "name": "stdout",
     "output_type": "stream",
     "text": [
      "7\n",
      "7\n",
      "[85, 269, 278, 308, 314, 321, 706]\n"
     ]
    }
   ],
   "source": [
    "thres = 0.5\n",
    "new_dist, new_loc = thres_fun(dist_arr, thres, loc_codes)\n",
    "print(len(new_loc));\n",
    "print(len(new_dist));\n",
    "print(new_loc)"
   ]
  },
  {
   "cell_type": "code",
   "execution_count": 155,
   "metadata": {},
   "outputs": [],
   "source": [
    "t00 = {}\n",
    "t01 = {}\n",
    "\n",
    "for loc in new_loc:\n",
    "    if loc not in ind_list:\n",
    "        t00[loc] = t0[loc]\n",
    "        t01[loc] = t1[loc]\n",
    "    \n",
    "new_loc = list(t00.keys())"
   ]
  },
  {
   "cell_type": "code",
   "execution_count": 156,
   "metadata": {},
   "outputs": [
    {
     "data": {
      "text/plain": [
       " final_simplex: (array([[ -4.4362979 , -41.98665806, -11.22718008,  19.32658707],\n",
       "       [ -4.4362979 , -41.98662429, -11.22718008,  19.32657299],\n",
       "       [ -4.4362979 , -41.9865791 , -11.22718008,  19.32655414],\n",
       "       [ -4.4362979 , -41.98657748, -11.22718008,  19.32655347],\n",
       "       [ -4.4362979 , -41.98661365, -11.22718008,  19.32656855]]), array([13821.59784233, 13821.59784233, 13821.59784233, 13821.59784233,\n",
       "       13821.59784233]))\n",
       "           fun: 13821.597842327441\n",
       "       message: 'Optimization terminated successfully.'\n",
       "          nfev: 505\n",
       "           nit: 272\n",
       "        status: 0\n",
       "       success: True\n",
       "             x: array([ -4.4362979 , -41.98665806, -11.22718008,  19.32658707])"
      ]
     },
     "execution_count": 156,
     "metadata": {},
     "output_type": "execute_result"
    }
   ],
   "source": [
    "op_diff_log_likelihood = lambda param, location_codes, t, dist, i: - diff_log_likelihood(location_codes, t, np.exp(param[0]), np.exp(param[0])+np.exp(param[1]), \n",
    "                                                                                         np.exp(param[2]), np.exp(param[3]), dist, i)\n",
    "mle0 = op.minimize(op_diff_log_likelihood, x0 = [-2, -2, -2, 2], method = 'Nelder-Mead', args=(new_loc, t00, new_dist, sid))\n",
    "mle0"
   ]
  },
  {
   "cell_type": "code",
   "execution_count": 157,
   "metadata": {},
   "outputs": [],
   "source": [
    "beta0, theta0, lambda_b0, k0 = np.exp(mle0.x[0]), np.exp(mle0.x[0])+np.exp(mle0.x[1]), np.exp(mle0.x[2]), np.exp(mle0.x[3])\n",
    "\n",
    "t_dep = t00[sid]\n",
    "compensator_t0 = np.zeros(len(t_dep)+1)\n",
    "for j in range(len(t_dep)):\n",
    "    compensator_t0[j+1] = diff_comp(t_dep[j], new_loc, t00, beta0, theta0, lambda_b0, new_dist, k0)\n",
    "\n",
    "inter_arr_times0 = np.diff(compensator_t0)\n",
    "p_values0 = np.exp(-inter_arr_times0)\n",
    "ks0 = st.kstest(p_values0, \"uniform\")\n",
    "ks_train_spatio.append(ks0.statistic)"
   ]
  },
  {
   "cell_type": "code",
   "execution_count": 158,
   "metadata": {},
   "outputs": [],
   "source": [
    "beta0, theta0, lambda_b0, k0 = np.exp(mle0.x[0]), np.exp(mle0.x[0])+np.exp(mle0.x[1]), np.exp(mle0.x[2]), np.exp(mle0.x[3])\n",
    "\n",
    "t_dep = t01[sid]\n",
    "compensator_t01 = np.zeros(len(t_dep)+1)\n",
    "for j in range(len(t_dep)):\n",
    "    compensator_t01[j+1] = diff_comp(t_dep[j], new_loc, t01, beta0, theta0, lambda_b0, new_dist, k0)\n",
    "\n",
    "inter_arr_times01 = np.diff(compensator_t01)\n",
    "p_values01 = np.exp(-inter_arr_times01)\n",
    "ks1 = st.kstest(p_values01, \"uniform\")\n",
    "ks_test_spatio.append(ks1.statistic)"
   ]
  },
  {
   "cell_type": "code",
   "execution_count": 159,
   "metadata": {},
   "outputs": [
    {
     "data": {
      "image/png": "[encoded data removed]",
      "text/plain": [
       "<Figure size 432x288 with 1 Axes>"
      ]
     },
     "metadata": {
      "needs_background": "light"
     },
     "output_type": "display_data"
    }
   ],
   "source": [
    "x0,y0 = ecdf(p_values0)\n",
    "plt.plot(x0,y0)\n",
    "\n",
    "plt.title(\"ECDF for p-values of Model 3\")\n",
    "plt.xlabel(\"P-value\")\n",
    "plt.ylabel(\"ECDF value\")\n",
    "plt.plot([0,1], [0,1], label=\"Theoretical ECDF\", color='orange')\n",
    "plt.legend()\n",
    "plt.show()"
   ]
  },
  {
   "cell_type": "markdown",
   "metadata": {},
   "source": [
    "Different stations with large k"
   ]
  },
  {
   "cell_type": "code",
   "execution_count": 160,
   "metadata": {},
   "outputs": [
    {
     "data": {
      "text/plain": [
       " final_simplex: (array([[ -4.43629791, -41.74076084, -11.22718052],\n",
       "       [ -4.43629791, -41.7407555 , -11.22718052],\n",
       "       [ -4.43629791, -41.74081133, -11.22718052],\n",
       "       [ -4.43629791, -41.74066822, -11.22718052]]), array([13821.59784233, 13821.59784233, 13821.59784233, 13821.59784233]))\n",
       "           fun: 13821.597842327441\n",
       "       message: 'Optimization terminated successfully.'\n",
       "          nfev: 415\n",
       "           nit: 213\n",
       "        status: 0\n",
       "       success: True\n",
       "             x: array([ -4.43629791, -41.74076084, -11.22718052])"
      ]
     },
     "execution_count": 160,
     "metadata": {},
     "output_type": "execute_result"
    }
   ],
   "source": [
    "op_diff_log_likelihood = lambda param, location_codes, t, dist, k, i: - diff_log_likelihood(location_codes, t, np.exp(param[0]), np.exp(param[0])+np.exp(param[1]), \n",
    "                                                                                         np.exp(param[2]), k, dist, i)\n",
    "mle1 = op.minimize(op_diff_log_likelihood, x0 = [-2, -2, -2], method = 'Nelder-Mead', args=(new_loc, t00, new_dist, np.exp(50), sid))\n",
    "mle1"
   ]
  },
  {
   "cell_type": "code",
   "execution_count": 161,
   "metadata": {},
   "outputs": [],
   "source": [
    "beta1, theta1, lambda_b1, k1 = np.exp(mle1.x[0]), np.exp(mle1.x[0])+np.exp(mle1.x[1]), np.exp(mle1.x[2]), np.exp(10)\n",
    "\n",
    "t_dep = t00[sid]\n",
    "compensator_t1 = np.zeros(len(t_dep)+1)\n",
    "for j in range(len(t_dep)):\n",
    "    compensator_t1[j+1] = diff_comp(t_dep[j], new_loc, t00, beta1, theta1, lambda_b1, new_dist, k1)\n",
    "\n",
    "inter_arr_times1 = np.diff(compensator_t1)\n",
    "p_values1 = np.exp(-inter_arr_times1)"
   ]
  },
  {
   "cell_type": "code",
   "execution_count": 162,
   "metadata": {},
   "outputs": [
    {
     "data": {
      "image/png": "[encoded data removed]",
      "text/plain": [
       "<Figure size 432x288 with 1 Axes>"
      ]
     },
     "metadata": {
      "needs_background": "light"
     },
     "output_type": "display_data"
    }
   ],
   "source": [
    "x1,y1 = ecdf(p_values1)\n",
    "plt.plot(x1,y1)\n",
    "\n",
    "plt.title(\"ECDF for p-values of Model 3\")\n",
    "plt.xlabel(\"P-value\")\n",
    "plt.ylabel(\"ECDF value\")\n",
    "plt.plot([0,1], [0,1], label=\"Theoretical ECDF\", color='orange')\n",
    "plt.legend()\n",
    "plt.show()"
   ]
  },
  {
   "cell_type": "markdown",
   "metadata": {},
   "source": [
    "Hawkes"
   ]
  },
  {
   "cell_type": "code",
   "execution_count": 23,
   "metadata": {},
   "outputs": [],
   "source": [
    "t0 = train_times[374]\n",
    "t1 = test_times[374]"
   ]
  },
  {
   "cell_type": "code",
   "execution_count": 24,
   "metadata": {},
   "outputs": [
    {
     "data": {
      "text/plain": [
       " final_simplex: (array([[-3.41664096, -5.8208873 , -5.58208767],\n",
       "       [-3.41663699, -5.82081447, -5.58202901],\n",
       "       [-3.41665628, -5.82084473, -5.58207623],\n",
       "       [-3.41663313, -5.82096595, -5.58204468]]), array([24293.8122462 , 24293.81224629, 24293.81224638, 24293.81224647]))\n",
       "           fun: 24293.812246195273\n",
       "       message: 'Optimization terminated successfully.'\n",
       "          nfev: 170\n",
       "           nit: 92\n",
       "        status: 0\n",
       "       success: True\n",
       "             x: array([-3.41664096, -5.8208873 , -5.58208767])"
      ]
     },
     "execution_count": 24,
     "metadata": {},
     "output_type": "execute_result"
    }
   ],
   "source": [
    "op_hawkes_log_likelihood = lambda param, t: - hawkes_log_likelihood(t, np.exp(param[0]), np.exp(param[0])+np.exp(param[1]), np.exp(param[2]))\n",
    "mle2 = op.minimize(op_hawkes_log_likelihood, x0 = [-2, -2, -2], method = 'Nelder-Mead', args=(t0,))\n",
    "mle2"
   ]
  },
  {
   "cell_type": "code",
   "execution_count": 25,
   "metadata": {},
   "outputs": [],
   "source": [
    "beta2, theta2, lambda_b2 = np.exp(mle2.x[0]), np.exp(mle2.x[0]) + np.exp(mle2.x[1]), np.exp(mle2.x[2])\n",
    "\n",
    "compensator_t2 = np.zeros(len(t0)+1)\n",
    "for i in range(len(t0)):\n",
    "    compensator_t2[i+1] = hawkes_comp(t0[i], t0, beta2, theta2, lambda_b2)\n",
    "\n",
    "inter_arr_times2 = np.diff(compensator_t2)\n",
    "p_values2 = np.exp(-inter_arr_times2)\n",
    "ks2 = st.kstest(p_values2, \"uniform\")\n",
    "ks_train_hawkes.append(ks2.statistic)"
   ]
  },
  {
   "cell_type": "code",
   "execution_count": 26,
   "metadata": {},
   "outputs": [],
   "source": [
    "beta2, theta2, lambda_b2 = np.exp(mle2.x[0]), np.exp(mle2.x[0]) + np.exp(mle2.x[1]), np.exp(mle2.x[2])\n",
    "\n",
    "compensator_t21 = np.zeros(len(t1)+1)\n",
    "for i in range(len(t1)):\n",
    "    compensator_t21[i+1] = hawkes_comp(t1[i], t1, beta2, theta2, lambda_b2)\n",
    "\n",
    "inter_arr_times21 = np.diff(compensator_t21)\n",
    "p_values21 = np.exp(-inter_arr_times21)\n",
    "ks21 = st.kstest(p_values21, \"uniform\")\n",
    "ks_test_hawkes.append(ks21.statistic)"
   ]
  },
  {
   "cell_type": "code",
   "execution_count": 27,
   "metadata": {},
   "outputs": [
    {
     "data": {
      "image/png": "[encoded data removed]",
      "text/plain": [
       "<Figure size 432x288 with 1 Axes>"
      ]
     },
     "metadata": {
      "needs_background": "light"
     },
     "output_type": "display_data"
    }
   ],
   "source": [
    "x2,y2 = ecdf(p_values2)\n",
    "plt.plot(x2,y2)\n",
    "\n",
    "plt.title(\"ECDF for p-values of Model 3\")\n",
    "plt.xlabel(\"P-value\")\n",
    "plt.ylabel(\"ECDF value\")\n",
    "plt.plot([0,1], [0,1], label=\"Theoretical ECDF\", color='orange')\n",
    "plt.legend()\n",
    "plt.show()"
   ]
  },
  {
   "cell_type": "markdown",
   "metadata": {},
   "source": [
    "King's Cross"
   ]
  },
  {
   "cell_type": "markdown",
   "metadata": {},
   "source": [
    "Different stations"
   ]
  },
  {
   "cell_type": "code",
   "execution_count": 171,
   "metadata": {},
   "outputs": [],
   "source": [
    "sid = 798\n",
    "ind = get_station_index(loc_codes, sid)\n",
    "\n",
    "t0, ind_list = process_times(loc_codes, train_times, sid)\n",
    "t1, ind_list = process_times(loc_codes, test_times, sid)\n",
    "#if len(ind_list) != 0:\n",
    "    #loc_codes[ind_list] = -1\n",
    "    #loc_codes = [i for i in loc_codes if i != -1]\n",
    "    \n",
    "dist_arr = geo_df[f\"{ind}\"].to_numpy()"
   ]
  },
  {
   "cell_type": "code",
   "execution_count": 172,
   "metadata": {},
   "outputs": [
    {
     "name": "stdout",
     "output_type": "stream",
     "text": [
      "6\n",
      "6\n",
      "[4, 14, 70, 593, 793, 798]\n"
     ]
    }
   ],
   "source": [
    "thres = 0.4\n",
    "new_dist, new_loc = thres_fun(dist_arr, thres, loc_codes)\n",
    "print(len(new_loc));\n",
    "print(len(new_dist));\n",
    "print(new_loc)"
   ]
  },
  {
   "cell_type": "code",
   "execution_count": 173,
   "metadata": {},
   "outputs": [],
   "source": [
    "t00 = {}\n",
    "t01 = {}\n",
    "\n",
    "for loc in new_loc:\n",
    "    if loc not in ind_list:\n",
    "        t00[loc] = t0[loc]\n",
    "        t01[loc] = t1[loc]\n",
    "    \n",
    "new_loc = list(t00.keys())"
   ]
  },
  {
   "cell_type": "code",
   "execution_count": 174,
   "metadata": {},
   "outputs": [
    {
     "data": {
      "text/plain": [
       " final_simplex: (array([[ -4.53545008, -38.78045598, -12.61983584,   3.96486705],\n",
       "       [ -4.53545008, -38.78053173, -12.61983584,   3.96486705],\n",
       "       [ -4.53545008, -38.78048089, -12.61983584,   3.96486705],\n",
       "       [ -4.53545008, -38.78053717, -12.61983584,   3.96486705],\n",
       "       [ -4.53545008, -38.78052346, -12.61983584,   3.96486705]]), array([11863.14876305, 11863.14876305, 11863.14876305, 11863.14876305,\n",
       "       11863.14876305]))\n",
       "           fun: 11863.148763053616\n",
       "       message: 'Optimization terminated successfully.'\n",
       "          nfev: 698\n",
       "           nit: 397\n",
       "        status: 0\n",
       "       success: True\n",
       "             x: array([ -4.53545008, -38.78045598, -12.61983584,   3.96486705])"
      ]
     },
     "execution_count": 174,
     "metadata": {},
     "output_type": "execute_result"
    }
   ],
   "source": [
    "op_diff_log_likelihood = lambda param, location_codes, t, dist, i: - diff_log_likelihood(location_codes, t, np.exp(param[0]), np.exp(param[0])+np.exp(param[1]), \n",
    "                                                                                         np.exp(param[2]), np.exp(param[3]), dist, i)\n",
    "mle0 = op.minimize(op_diff_log_likelihood, x0 = [-2, -2, -2, 2], method = 'Nelder-Mead', args=(new_loc, t00, new_dist, sid))\n",
    "mle0"
   ]
  },
  {
   "cell_type": "code",
   "execution_count": 175,
   "metadata": {},
   "outputs": [],
   "source": [
    "beta0, theta0, lambda_b0, k0 = np.exp(mle0.x[0]), np.exp(mle0.x[0])+np.exp(mle0.x[1]), np.exp(mle0.x[2]), np.exp(mle0.x[3])\n",
    "\n",
    "t_dep = t00[sid]\n",
    "compensator_t0 = np.zeros(len(t_dep)+1)\n",
    "for j in range(len(t_dep)):\n",
    "    compensator_t0[j+1] = diff_comp(t_dep[j], new_loc, t00, beta0, theta0, lambda_b0, new_dist, k0)\n",
    "\n",
    "inter_arr_times0 = np.diff(compensator_t0)\n",
    "p_values0 = np.exp(-inter_arr_times0)\n",
    "ks0 = st.kstest(p_values0, \"uniform\")\n",
    "ks_train_spatio.append(ks0.statistic)"
   ]
  },
  {
   "cell_type": "code",
   "execution_count": 176,
   "metadata": {},
   "outputs": [],
   "source": [
    "beta0, theta0, lambda_b0, k0 = np.exp(mle0.x[0]), np.exp(mle0.x[0])+np.exp(mle0.x[1]), np.exp(mle0.x[2]), np.exp(mle0.x[3])\n",
    "\n",
    "t_dep = t01[sid]\n",
    "compensator_t01 = np.zeros(len(t_dep)+1)\n",
    "for j in range(len(t_dep)):\n",
    "    compensator_t01[j+1] = diff_comp(t_dep[j], new_loc, t01, beta0, theta0, lambda_b0, new_dist, k0)\n",
    "\n",
    "inter_arr_times01 = np.diff(compensator_t01)\n",
    "p_values01 = np.exp(-inter_arr_times01)\n",
    "ks1 = st.kstest(p_values01, \"uniform\")\n",
    "ks_test_spatio.append(ks1.statistic)"
   ]
  },
  {
   "cell_type": "code",
   "execution_count": 177,
   "metadata": {},
   "outputs": [
    {
     "data": {
      "image/png": "[encoded data removed]",
      "text/plain": [
       "<Figure size 432x288 with 1 Axes>"
      ]
     },
     "metadata": {
      "needs_background": "light"
     },
     "output_type": "display_data"
    }
   ],
   "source": [
    "x0,y0 = ecdf(p_values0)\n",
    "plt.plot(x0,y0)\n",
    "\n",
    "plt.title(\"ECDF for p-values of Model 3\")\n",
    "plt.xlabel(\"P-value\")\n",
    "plt.ylabel(\"ECDF value\")\n",
    "plt.plot([0,1], [0,1], label=\"Theoretical ECDF\", color='orange')\n",
    "plt.legend()\n",
    "plt.show()"
   ]
  },
  {
   "cell_type": "markdown",
   "metadata": {},
   "source": [
    "Different stations with large k"
   ]
  },
  {
   "cell_type": "code",
   "execution_count": 178,
   "metadata": {},
   "outputs": [
    {
     "data": {
      "text/plain": [
       " final_simplex: (array([[ -4.63479887, -39.92813714, -12.02759482],\n",
       "       [ -4.63479887, -39.92812801, -12.02759482],\n",
       "       [ -4.63479887, -39.9280819 , -12.02759482],\n",
       "       [ -4.63479887, -39.92806304, -12.02759482]]), array([11870.00028289, 11870.00028289, 11870.00028289, 11870.00028289]))\n",
       "           fun: 11870.000282890436\n",
       "       message: 'Optimization terminated successfully.'\n",
       "          nfev: 564\n",
       "           nit: 305\n",
       "        status: 0\n",
       "       success: True\n",
       "             x: array([ -4.63479887, -39.92813714, -12.02759482])"
      ]
     },
     "execution_count": 178,
     "metadata": {},
     "output_type": "execute_result"
    }
   ],
   "source": [
    "op_diff_log_likelihood = lambda param, location_codes, t, dist, k, i: - diff_log_likelihood(location_codes, t, np.exp(param[0]), np.exp(param[0])+np.exp(param[1]), \n",
    "                                                                                         np.exp(param[2]), k, dist, i)\n",
    "mle1 = op.minimize(op_diff_log_likelihood, x0 = [-2, -2, -2], method = 'Nelder-Mead', args=(new_loc, t00, new_dist, np.exp(50), sid))\n",
    "mle1"
   ]
  },
  {
   "cell_type": "code",
   "execution_count": 179,
   "metadata": {},
   "outputs": [],
   "source": [
    "beta1, theta1, lambda_b1, k1 = np.exp(mle1.x[0]), np.exp(mle1.x[0])+np.exp(mle1.x[1]), np.exp(mle1.x[2]), np.exp(10)\n",
    "\n",
    "t_dep = t00[sid]\n",
    "compensator_t1 = np.zeros(len(t_dep)+1)\n",
    "for j in range(len(t_dep)):\n",
    "    compensator_t1[j+1] = diff_comp(t_dep[j], new_loc, t00, beta1, theta1, lambda_b1, new_dist, k1)\n",
    "\n",
    "inter_arr_times1 = np.diff(compensator_t1)\n",
    "p_values1 = np.exp(-inter_arr_times1)"
   ]
  },
  {
   "cell_type": "code",
   "execution_count": 180,
   "metadata": {},
   "outputs": [
    {
     "data": {
      "image/png": "[encoded data removed]",
      "text/plain": [
       "<Figure size 432x288 with 1 Axes>"
      ]
     },
     "metadata": {
      "needs_background": "light"
     },
     "output_type": "display_data"
    }
   ],
   "source": [
    "x1,y1 = ecdf(p_values1)\n",
    "plt.plot(x1,y1)\n",
    "\n",
    "plt.title(\"ECDF for p-values of Model 3\")\n",
    "plt.xlabel(\"P-value\")\n",
    "plt.ylabel(\"ECDF value\")\n",
    "plt.plot([0,1], [0,1], label=\"Theoretical ECDF\", color='orange')\n",
    "plt.legend()\n",
    "plt.show()"
   ]
  },
  {
   "cell_type": "markdown",
   "metadata": {},
   "source": [
    "Hawkes"
   ]
  },
  {
   "cell_type": "code",
   "execution_count": 28,
   "metadata": {},
   "outputs": [],
   "source": [
    "t0 = train_times[798]\n",
    "t1 = test_times[798]"
   ]
  },
  {
   "cell_type": "code",
   "execution_count": 29,
   "metadata": {},
   "outputs": [
    {
     "data": {
      "text/plain": [
       " final_simplex: (array([[-3.9860596 , -5.55193327, -5.5868416 ],\n",
       "       [-3.98609729, -5.55201033, -5.58686599],\n",
       "       [-3.9860798 , -5.55199569, -5.58680566],\n",
       "       [-3.98608469, -5.55195203, -5.58678707]]), array([15212.88216185, 15212.88216189, 15212.88216197, 15212.88216219]))\n",
       "           fun: 15212.882161853535\n",
       "       message: 'Optimization terminated successfully.'\n",
       "          nfev: 257\n",
       "           nit: 146\n",
       "        status: 0\n",
       "       success: True\n",
       "             x: array([-3.9860596 , -5.55193327, -5.5868416 ])"
      ]
     },
     "execution_count": 29,
     "metadata": {},
     "output_type": "execute_result"
    }
   ],
   "source": [
    "op_hawkes_log_likelihood = lambda param, t: - hawkes_log_likelihood(t, np.exp(param[0]), np.exp(param[0])+np.exp(param[1]), np.exp(param[2]))\n",
    "mle2 = op.minimize(op_hawkes_log_likelihood, x0 = [-2, -2, -2], method = 'Nelder-Mead', args=(t0,))\n",
    "mle2"
   ]
  },
  {
   "cell_type": "code",
   "execution_count": 30,
   "metadata": {},
   "outputs": [],
   "source": [
    "beta2, theta2, lambda_b2 = np.exp(mle2.x[0]), np.exp(mle2.x[0]) + np.exp(mle2.x[1]), np.exp(mle2.x[2])\n",
    "\n",
    "compensator_t2 = np.zeros(len(t0)+1)\n",
    "for i in range(len(t0)):\n",
    "    compensator_t2[i+1] = hawkes_comp(t0[i], t0, beta2, theta2, lambda_b2)\n",
    "\n",
    "inter_arr_times2 = np.diff(compensator_t2)\n",
    "p_values2 = np.exp(-inter_arr_times2)\n",
    "ks2 = st.kstest(p_values2, \"uniform\")\n",
    "ks_train_hawkes.append(ks2.statistic)"
   ]
  },
  {
   "cell_type": "code",
   "execution_count": 31,
   "metadata": {},
   "outputs": [],
   "source": [
    "beta2, theta2, lambda_b2 = np.exp(mle2.x[0]), np.exp(mle2.x[0]) + np.exp(mle2.x[1]), np.exp(mle2.x[2])\n",
    "\n",
    "compensator_t21 = np.zeros(len(t1)+1)\n",
    "for i in range(len(t1)):\n",
    "    compensator_t21[i+1] = hawkes_comp(t1[i], t1, beta2, theta2, lambda_b2)\n",
    "\n",
    "inter_arr_times21 = np.diff(compensator_t21)\n",
    "p_values21 = np.exp(-inter_arr_times21)\n",
    "ks21 = st.kstest(p_values21, \"uniform\")\n",
    "ks_test_hawkes.append(ks21.statistic)"
   ]
  },
  {
   "cell_type": "code",
   "execution_count": 42,
   "metadata": {},
   "outputs": [
    {
     "data": {
      "image/png": "[encoded data removed]",
      "text/plain": [
       "<Figure size 432x288 with 1 Axes>"
      ]
     },
     "metadata": {
      "needs_background": "light"
     },
     "output_type": "display_data"
    }
   ],
   "source": [
    "x1,y1 = ecdf(p_values2)\n",
    "plt.plot(x1,y1+1, 'g-')\n",
    "x2,y2 = ecdf(p_values2)\n",
    "plt.plot(x2,y2, 'r.')\n",
    "\n",
    "plt.title(\"ECDF for p-values of Model 3\")\n",
    "plt.xlabel(\"P-value\")\n",
    "plt.ylabel(\"ECDF value\")\n",
    "plt.plot([0,1], [0,1], label=\"Theoretical ECDF\", color='orange')\n",
    "plt.legend()\n",
    "plt.show()"
   ]
  },
  {
   "cell_type": "markdown",
   "metadata": {},
   "source": [
    "Marylebone"
   ]
  },
  {
   "cell_type": "markdown",
   "metadata": {},
   "source": [
    "Different stations"
   ]
  },
  {
   "cell_type": "code",
   "execution_count": 186,
   "metadata": {},
   "outputs": [],
   "source": [
    "sid = 45\n",
    "ind = get_station_index(loc_codes, sid)\n",
    "\n",
    "t0, ind_list = process_times(loc_codes, train_times, sid)\n",
    "t1, ind_list = process_times(loc_codes, test_times, sid)\n",
    "\n",
    "#if len(ind_list) != 0:\n",
    "    #loc_codes[ind_list] = -1\n",
    "    #loc_codes = [i for i in loc_codes if i != -1]\n",
    "    \n",
    "dist_arr = geo_df[f\"{ind}\"].to_numpy()"
   ]
  },
  {
   "cell_type": "code",
   "execution_count": 187,
   "metadata": {},
   "outputs": [
    {
     "name": "stdout",
     "output_type": "stream",
     "text": [
      "7\n",
      "7\n",
      "[45, 114, 182, 201, 605, 759, 760]\n"
     ]
    }
   ],
   "source": [
    "thres = 0.4\n",
    "new_dist, new_loc = thres_fun(dist_arr, thres, loc_codes)\n",
    "print(len(new_loc));\n",
    "print(len(new_dist));\n",
    "print(new_loc)"
   ]
  },
  {
   "cell_type": "code",
   "execution_count": 188,
   "metadata": {},
   "outputs": [],
   "source": [
    "t00 = {}\n",
    "t01 = {}\n",
    "\n",
    "for loc in new_loc:\n",
    "    if loc not in ind_list:\n",
    "        t00[loc] = t0[loc]\n",
    "        t01[loc] = t1[loc]\n",
    "    \n",
    "new_loc = list(t00.keys())"
   ]
  },
  {
   "cell_type": "code",
   "execution_count": 189,
   "metadata": {},
   "outputs": [
    {
     "data": {
      "text/plain": [
       " final_simplex: (array([[ -3.8937697 ,  -3.22549344, -12.62288785,   1.54832899],\n",
       "       [ -3.84932703,  -3.19889454, -11.75186618,   1.30386401],\n",
       "       [ -3.63966093,  -2.96654402, -11.09915976,   1.36434303],\n",
       "       [ -3.69567122,  -2.92554209, -10.65684445,   1.46467096],\n",
       "       [ -3.94910899,  -3.03065105, -10.79827322,   1.01576727]]), array([15862.41065476, 15865.35211356, 15884.19013374, 15896.60801416,\n",
       "       15913.79061957]))\n",
       "           fun: 15862.410654762522\n",
       "       message: 'Maximum number of function evaluations has been exceeded.'\n",
       "          nfev: 800\n",
       "           nit: 487\n",
       "        status: 1\n",
       "       success: False\n",
       "             x: array([ -3.8937697 ,  -3.22549344, -12.62288785,   1.54832899])"
      ]
     },
     "execution_count": 189,
     "metadata": {},
     "output_type": "execute_result"
    }
   ],
   "source": [
    "op_diff_log_likelihood = lambda param, location_codes, t, dist, i: - diff_log_likelihood(location_codes, t, np.exp(param[0]), np.exp(param[0])+np.exp(param[1]), \n",
    "                                                                                         np.exp(param[2]), np.exp(param[3]), dist, i)\n",
    "mle0 = op.minimize(op_diff_log_likelihood, x0 = [-2, -2, -2, 2], method = 'Nelder-Mead', args=(new_loc, t00, new_dist, sid))\n",
    "mle0"
   ]
  },
  {
   "cell_type": "code",
   "execution_count": 190,
   "metadata": {},
   "outputs": [],
   "source": [
    "beta0, theta0, lambda_b0, k0 = np.exp(mle0.x[0]), np.exp(mle0.x[0])+np.exp(mle0.x[1]), np.exp(mle0.x[2]), np.exp(mle0.x[3])\n",
    "\n",
    "t_dep = t00[sid]\n",
    "compensator_t0 = np.zeros(len(t_dep)+1)\n",
    "for j in range(len(t_dep)):\n",
    "    compensator_t0[j+1] = diff_comp(t_dep[j], new_loc, t00, beta0, theta0, lambda_b0, new_dist, k0)\n",
    "\n",
    "inter_arr_times0 = np.diff(compensator_t0)\n",
    "p_values0 = np.exp(-inter_arr_times0)\n",
    "ks0 = st.kstest(p_values0, \"uniform\")\n",
    "ks_train_spatio.append(ks0.statistic)"
   ]
  },
  {
   "cell_type": "code",
   "execution_count": 191,
   "metadata": {},
   "outputs": [],
   "source": [
    "beta0, theta0, lambda_b0, k0 = np.exp(mle0.x[0]), np.exp(mle0.x[0])+np.exp(mle0.x[1]), np.exp(mle0.x[2]), np.exp(mle0.x[3])\n",
    "\n",
    "t_dep = t01[sid]\n",
    "compensator_t01 = np.zeros(len(t_dep)+1)\n",
    "for j in range(len(t_dep)):\n",
    "    compensator_t01[j+1] = diff_comp(t_dep[j], new_loc, t01, beta0, theta0, lambda_b0, new_dist, k0)\n",
    "\n",
    "inter_arr_times01 = np.diff(compensator_t01)\n",
    "p_values01 = np.exp(-inter_arr_times01)\n",
    "ks1 = st.kstest(p_values01, \"uniform\")\n",
    "ks_test_spatio.append(ks1.statistic)"
   ]
  },
  {
   "cell_type": "code",
   "execution_count": 192,
   "metadata": {},
   "outputs": [
    {
     "data": {
      "image/png": "[encoded data removed]",
      "text/plain": [
       "<Figure size 432x288 with 1 Axes>"
      ]
     },
     "metadata": {
      "needs_background": "light"
     },
     "output_type": "display_data"
    }
   ],
   "source": [
    "x0,y0 = ecdf(p_values0)\n",
    "plt.plot(x0,y0)\n",
    "\n",
    "plt.title(\"ECDF for p-values of Model 3\")\n",
    "plt.xlabel(\"P-value\")\n",
    "plt.ylabel(\"ECDF value\")\n",
    "plt.plot([0,1], [0,1], label=\"Theoretical ECDF\", color='orange')\n",
    "plt.legend()\n",
    "plt.show()"
   ]
  },
  {
   "cell_type": "markdown",
   "metadata": {},
   "source": [
    "Different stations with large k"
   ]
  },
  {
   "cell_type": "code",
   "execution_count": 193,
   "metadata": {},
   "outputs": [
    {
     "data": {
      "text/plain": [
       " final_simplex: (array([[-4.01397488, -7.75573055, -9.23922276],\n",
       "       [-4.0139704 , -7.75581278, -9.23920537],\n",
       "       [-4.01397024, -7.75572847, -9.2392063 ],\n",
       "       [-4.01397267, -7.75572574, -9.23919636]]), array([16080.9818064 , 16080.98180641, 16080.98180641, 16080.98180642]))\n",
       "           fun: 16080.98180639662\n",
       "       message: 'Optimization terminated successfully.'\n",
       "          nfev: 228\n",
       "           nit: 129\n",
       "        status: 0\n",
       "       success: True\n",
       "             x: array([-4.01397488, -7.75573055, -9.23922276])"
      ]
     },
     "execution_count": 193,
     "metadata": {},
     "output_type": "execute_result"
    }
   ],
   "source": [
    "op_diff_log_likelihood = lambda param, location_codes, t, dist, k, i: - diff_log_likelihood(location_codes, t, np.exp(param[0]), np.exp(param[0])+np.exp(param[1]), \n",
    "                                                                                         np.exp(param[2]), k, dist, i)\n",
    "mle1 = op.minimize(op_diff_log_likelihood, x0 = [-2, -2, -2], method = 'Nelder-Mead', args=(new_loc, t00, new_dist, np.exp(50), sid))\n",
    "mle1"
   ]
  },
  {
   "cell_type": "code",
   "execution_count": 194,
   "metadata": {},
   "outputs": [],
   "source": [
    "beta1, theta1, lambda_b1, k1 = np.exp(mle1.x[0]), np.exp(mle1.x[0])+np.exp(mle1.x[1]), np.exp(mle1.x[2]), np.exp(10)\n",
    "\n",
    "t_dep = t00[sid]\n",
    "compensator_t1 = np.zeros(len(t_dep)+1)\n",
    "for j in range(len(t_dep)):\n",
    "    compensator_t1[j+1] = diff_comp(t_dep[j], new_loc, t00, beta1, theta1, lambda_b1, new_dist, k1)\n",
    "\n",
    "inter_arr_times1 = np.diff(compensator_t1)\n",
    "p_values1 = np.exp(-inter_arr_times1)"
   ]
  },
  {
   "cell_type": "code",
   "execution_count": 195,
   "metadata": {},
   "outputs": [
    {
     "data": {
      "image/png": "[encoded data removed]",
      "text/plain": [
       "<Figure size 432x288 with 1 Axes>"
      ]
     },
     "metadata": {
      "needs_background": "light"
     },
     "output_type": "display_data"
    }
   ],
   "source": [
    "x1,y1 = ecdf(p_values1)\n",
    "plt.plot(x1,y1)\n",
    "\n",
    "plt.title(\"ECDF for p-values of Model 3\")\n",
    "plt.xlabel(\"P-value\")\n",
    "plt.ylabel(\"ECDF value\")\n",
    "plt.plot([0,1], [0,1], label=\"Theoretical ECDF\", color='orange')\n",
    "plt.legend()\n",
    "plt.show()"
   ]
  },
  {
   "cell_type": "markdown",
   "metadata": {},
   "source": [
    "Hawkes"
   ]
  },
  {
   "cell_type": "code",
   "execution_count": 196,
   "metadata": {},
   "outputs": [],
   "source": [
    "t0 = train_times[45]\n",
    "t1 = test_times[45]"
   ]
  },
  {
   "cell_type": "code",
   "execution_count": 197,
   "metadata": {},
   "outputs": [
    {
     "data": {
      "text/plain": [
       " final_simplex: (array([[-4.01397488, -7.75573055, -9.23922276],\n",
       "       [-4.0139704 , -7.75581278, -9.23920537],\n",
       "       [-4.01397024, -7.75572847, -9.2392063 ],\n",
       "       [-4.01397267, -7.75572574, -9.23919636]]), array([16080.9818064 , 16080.98180641, 16080.98180641, 16080.98180642]))\n",
       "           fun: 16080.98180639662\n",
       "       message: 'Optimization terminated successfully.'\n",
       "          nfev: 228\n",
       "           nit: 129\n",
       "        status: 0\n",
       "       success: True\n",
       "             x: array([-4.01397488, -7.75573055, -9.23922276])"
      ]
     },
     "execution_count": 197,
     "metadata": {},
     "output_type": "execute_result"
    }
   ],
   "source": [
    "op_hawkes_log_likelihood = lambda param, t: - hawkes_log_likelihood(t, np.exp(param[0]), np.exp(param[0])+np.exp(param[1]), np.exp(param[2]))\n",
    "mle2 = op.minimize(op_hawkes_log_likelihood, x0 = [-2, -2, -2], method = 'Nelder-Mead', args=(t0,))\n",
    "mle2"
   ]
  },
  {
   "cell_type": "code",
   "execution_count": 198,
   "metadata": {},
   "outputs": [],
   "source": [
    "beta2, theta2, lambda_b2 = np.exp(mle2.x[0]), np.exp(mle2.x[0]) + np.exp(mle2.x[1]), np.exp(mle2.x[2])\n",
    "\n",
    "compensator_t2 = np.zeros(len(t0)+1)\n",
    "for i in range(len(t0)):\n",
    "    compensator_t2[i+1] = hawkes_comp(t0[i], t0, beta2, theta2, lambda_b2)\n",
    "\n",
    "inter_arr_times2 = np.diff(compensator_t2)\n",
    "p_values2 = np.exp(-inter_arr_times2)\n",
    "ks2 = st.kstest(p_values2, \"uniform\")\n",
    "ks_train_hawkes.append(ks2.statistic)"
   ]
  },
  {
   "cell_type": "code",
   "execution_count": 199,
   "metadata": {},
   "outputs": [],
   "source": [
    "beta2, theta2, lambda_b2 = np.exp(mle2.x[0]), np.exp(mle2.x[0]) + np.exp(mle2.x[1]), np.exp(mle2.x[2])\n",
    "\n",
    "compensator_t21 = np.zeros(len(t1)+1)\n",
    "for i in range(len(t1)):\n",
    "    compensator_t21[i+1] = hawkes_comp(t1[i], t1, beta2, theta2, lambda_b2)\n",
    "\n",
    "inter_arr_times21 = np.diff(compensator_t21)\n",
    "p_values21 = np.exp(-inter_arr_times21)\n",
    "ks21 = st.kstest(p_values21, \"uniform\")\n",
    "ks_test_hawkes.append(ks21.statistic)"
   ]
  },
  {
   "cell_type": "code",
   "execution_count": 200,
   "metadata": {},
   "outputs": [
    {
     "data": {
      "image/png": "[encoded data removed]",
      "text/plain": [
       "<Figure size 432x288 with 1 Axes>"
      ]
     },
     "metadata": {
      "needs_background": "light"
     },
     "output_type": "display_data"
    }
   ],
   "source": [
    "x2,y2 = ecdf(p_values2)\n",
    "plt.plot(x2,y2)\n",
    "\n",
    "plt.title(\"ECDF for p-values of Model 3\")\n",
    "plt.xlabel(\"P-value\")\n",
    "plt.ylabel(\"ECDF value\")\n",
    "plt.plot([0,1], [0,1], label=\"Theoretical ECDF\", color='orange')\n",
    "plt.legend()\n",
    "plt.show()"
   ]
  },
  {
   "cell_type": "code",
   "execution_count": 205,
   "metadata": {},
   "outputs": [],
   "source": [
    "train_diff = np.array(ks_train_hawkes) - np.array(ks_train_spatio)\n",
    "train_sign = np.sign(train_diff)\n",
    "test_diff = np.array(ks_test_hawkes) - np.array(ks_test_spatio)\n",
    "test_sign = np.sign(test_diff)"
   ]
  },
  {
   "cell_type": "code",
   "execution_count": 330,
   "metadata": {},
   "outputs": [
    {
     "data": {
      "text/plain": [
       "(0.07950922140832561, 0.08969871474433277)"
      ]
     },
     "execution_count": 330,
     "metadata": {},
     "output_type": "execute_result"
    }
   ],
   "source": [
    "train_hawkes[50], train_spatio[50]"
   ]
  },
  {
   "cell_type": "code",
   "execution_count": 206,
   "metadata": {},
   "outputs": [
    {
     "data": {
      "text/plain": [
       "array([ 1., -1.,  1., -1.,  1., -1.])"
      ]
     },
     "execution_count": 206,
     "metadata": {},
     "output_type": "execute_result"
    }
   ],
   "source": [
    "train_sign"
   ]
  },
  {
   "cell_type": "code",
   "execution_count": 207,
   "metadata": {},
   "outputs": [
    {
     "data": {
      "text/plain": [
       "array([ 1., -1.,  1., -1.,  1., -1.])"
      ]
     },
     "execution_count": 207,
     "metadata": {},
     "output_type": "execute_result"
    }
   ],
   "source": [
    "test_sign"
   ]
  },
  {
   "cell_type": "code",
   "execution_count": 211,
   "metadata": {},
   "outputs": [],
   "source": [
    "def binomial(n, p, x):\n",
    "    return math.comb(n, x)*(p**x)*((1-p)**(n-x))"
   ]
  },
  {
   "cell_type": "code",
   "execution_count": 213,
   "metadata": {},
   "outputs": [
    {
     "data": {
      "text/plain": [
       "[0.13008816003076396,\n",
       " 0.10958350107443615,\n",
       " 0.09854808464307341,\n",
       " 0.10958350107443615,\n",
       " 0.1634133831466098,\n",
       " 0.09448922058279852]"
      ]
     },
     "execution_count": 213,
     "metadata": {},
     "output_type": "execute_result"
    }
   ],
   "source": [
    "ks_train_hawkes"
   ]
  },
  {
   "cell_type": "code",
   "execution_count": 214,
   "metadata": {},
   "outputs": [
    {
     "data": {
      "text/plain": [
       "[0.09007596319086342,\n",
       " 0.1118003314519328,\n",
       " 0.08825365374535277,\n",
       " 0.1389063069659825,\n",
       " 0.15840584735505636,\n",
       " 0.10645240256933808]"
      ]
     },
     "execution_count": 214,
     "metadata": {},
     "output_type": "execute_result"
    }
   ],
   "source": [
    "ks_train_spatio"
   ]
  },
  {
   "cell_type": "code",
   "execution_count": 11,
   "metadata": {},
   "outputs": [
    {
     "data": {
      "text/plain": [
       "[554, 692, 783, 844]"
      ]
     },
     "execution_count": 11,
     "metadata": {},
     "output_type": "execute_result"
    }
   ],
   "source": [
    "thres = 0.5\n",
    "null_list = []\n",
    "for k in range(808):\n",
    "    sid = loc_codes[k] \n",
    "    ind = get_station_index(loc_codes, sid)\n",
    "    \n",
    "    if len(train_times[sid]) != 0:\n",
    "        t0, ind_list = process_times(loc_codes, train_times, sid)\n",
    "        t1, ind_list = process_times(loc_codes, test_times, sid)\n",
    "    \n",
    "    dist_arr = geo_df[f\"{ind}\"].to_numpy()\n",
    "    new_dist, new_loc = thres_fun(dist_arr, thres, loc_codes)\n",
    "    if len(new_loc) < 2:\n",
    "        null_list.append(sid)\n",
    "null_list"
   ]
  },
  {
   "cell_type": "code",
   "execution_count": 12,
   "metadata": {},
   "outputs": [],
   "source": [
    "sid=4\n",
    "ind = get_station_index(loc_codes, sid)\n",
    "t0, ind_list = process_times(loc_codes, train_times, sid)\n",
    "t1, ind_list = process_times(loc_codes, test_times, sid)\n",
    "    \n",
    "dist_arr = geo_df[f\"{ind}\"].to_numpy()\n",
    "df = pd.DataFrame({'col1': list(dist_arr), 'col2': list(loc_codes)})\n",
    "df=df.sort_values(by=['col1'])\n",
    "ser = df.iloc[:, 0]\n",
    "i = ser.searchsorted(1.2, side='right')\n",
    "df1 = df.iloc[:i]"
   ]
  },
  {
   "cell_type": "code",
   "execution_count": 13,
   "metadata": {},
   "outputs": [],
   "source": [
    "def thres_fun_new(dist, thres, loc_codes):\n",
    "    new_dist = dist.copy()\n",
    "    new_loc_codes = np.asarray(loc_codes).copy()\n",
    "    df = pd.DataFrame({'col1': list(new_dist), 'col2': list(new_loc_codes)})\n",
    "    df = df.sort_values(by=['col1'])\n",
    "    \n",
    "    df = pd.DataFrame({'col1': list(dist_arr), 'col2': list(loc_codes)})\n",
    "    df=df.sort_values(by=['col1'])\n",
    "    ser = df.iloc[:, 0]\n",
    "    i = ser.searchsorted(thres, side='right')\n",
    "    df1 = df.iloc[:i]\n",
    "    \n",
    "    return np.asarray(df1.iloc[:, 0]), np.asarray(df1.iloc[:, 1])"
   ]
  },
  {
   "cell_type": "code",
   "execution_count": 14,
   "metadata": {},
   "outputs": [],
   "source": [
    "loc_list = np.array([  4,   5,  32,  37,  40,  42,  64,  95, 110, 111, 123, 125, 128,\n",
    "       142, 150, 152, 163, 178, 180, 186, 188, 206, 207, 210, 211, 227,\n",
    "       231, 239, 258, 259, 266, 272, 274, 291, 292, 296, 300, 309, 312,\n",
    "       321, 322, 333, 339, 371, 387, 405, 409, 423, 432, 445, 449, 463,\n",
    "       472, 483, 484, 486, 489, 502, 510, 512, 520, 528, 530, 531, 535,\n",
    "       544, 558, 561, 593, 597, 600, 602, 610, 612, 615, 627, 632, 637,\n",
    "       639, 641, 677, 679, 686, 687, 701, 711, 729, 734, 735, 739, 745,\n",
    "       750, 777, 782, 790, 810, 811, 812, 821, 833])"
   ]
  },
  {
   "cell_type": "code",
   "execution_count": 16,
   "metadata": {},
   "outputs": [],
   "source": [
    "max_t1 = 0\n",
    "for i in loc_list:\n",
    "    max_t1 = max(len(train_times[i]), max_t1)\n",
    "\n",
    "max_t2 = 0\n",
    "for i in loc_list:\n",
    "    max_t2 = max(len(test_times[i]), max_t2)"
   ]
  },
  {
   "cell_type": "code",
   "execution_count": null,
   "metadata": {},
   "outputs": [],
   "source": [
    "#loc_list = []\n",
    "thres = 0.5\n",
    "train_hawkes = []\n",
    "test_hawkes = []\n",
    "train_spatio = []\n",
    "test_spatio = []\n",
    "\n",
    "p0 = np.zeros((max_t_dep+1, 2))\n",
    "p1 = np.zeros((max_t_dep+1, 2))\n",
    "p2 = np.zeros((max_t_dep+1, 2))\n",
    "p3 = np.zeros((max_t_dep+1, 2))\n",
    "\n",
    "#while len(loc_list) < 100: \n",
    "for i in range(100): \n",
    "    #sid = np.random.choice(loc_codes)\n",
    "    sid = loc_list[i]\n",
    "    if len(train_times[sid]) != 0 and sid not in null_list: #and sid not in loc_list:\n",
    "        #loc_list.append(sid)\n",
    "        #print(len(loc_list))\n",
    "        print(i)\n",
    "        ind = get_station_index(loc_codes, sid)\n",
    "\n",
    "        t0, ind_list = process_times(loc_codes, train_times, sid)\n",
    "        t1, ind_list = process_times(loc_codes, test_times, sid)\n",
    "    \n",
    "        dist_arr = geo_df[f\"{ind}\"].to_numpy()\n",
    "    \n",
    "        new_dist, new_loc = thres_fun_new(dist_arr, thres, loc_codes)\n",
    "    \n",
    "        new_dist = new_dist\n",
    "        new_loc = new_loc\n",
    "    \n",
    "        t00 = {}\n",
    "        t01 = {}\n",
    "\n",
    "        for loc in new_loc:\n",
    "            if loc not in ind_list:\n",
    "                t00[loc] = t0[loc]\n",
    "                t01[loc] = t1[loc]\n",
    "    \n",
    "        new_loc = list(t00.keys())\n",
    "        op_diff_log_likelihood = lambda param, location_codes, t, dist, i: - diff_log_likelihood(location_codes, t, np.exp(param[0]), np.exp(param[0])+np.exp(param[1]), \n",
    "                                                                                         np.exp(param[2]), np.exp(param[3]), dist, i)\n",
    "        mle0 = op.minimize(op_diff_log_likelihood, x0 = [-4, -3, -2, 2], method = 'Nelder-Mead', args=(new_loc, t00, new_dist, sid))\n",
    "    \n",
    "        beta0, theta0, lambda_b0, k0 = np.exp(mle0.x[0]), np.exp(mle0.x[0])+np.exp(mle0.x[1]), np.exp(mle0.x[2]), np.exp(mle0.x[3])\n",
    "\n",
    "        t_dep = t00[sid]\n",
    "        compensator_t0 = np.zeros(len(t_dep)+1)\n",
    "        for j in range(len(t_dep)):\n",
    "            compensator_t0[j+1] = diff_comp(t_dep[j], new_loc, t00, beta0, theta0, lambda_b0, new_dist, k0)\n",
    "\n",
    "        inter_arr_times0 = np.diff(compensator_t0)\n",
    "        p_values0 = np.exp(-inter_arr_times0)\n",
    "        ks0 = st.kstest(p_values0, \"uniform\")\n",
    "        train_spatio.append(ks0.statistic)\n",
    "        p0[0:len(t_dep), 0], p0[0:len(t_dep), 1] = ecdf(p_values0)[0], ecdf(p_values0)[1]\n",
    "               \n",
    "        beta0, theta0, lambda_b0, k0 = np.exp(mle0.x[0]), np.exp(mle0.x[0])+np.exp(mle0.x[1]), np.exp(mle0.x[2]), np.exp(mle0.x[3])\n",
    " \n",
    "        t_dep = t01[sid]\n",
    "        compensator_t01 = np.zeros(len(t_dep)+1)\n",
    "        for j in range(len(t_dep)):\n",
    "            compensator_t01[j+1] = diff_comp(t_dep[j], new_loc, t01, beta0, theta0, lambda_b0, new_dist, k0)\n",
    "\n",
    "        inter_arr_times01 = np.diff(compensator_t01)\n",
    "        p_values01 = np.exp(-inter_arr_times01)\n",
    "        ks1 = st.kstest(p_values01, \"uniform\")\n",
    "        test_spatio.append(ks1.statistic)\n",
    "        \n",
    "        p1[0:len(t_dep), 0], p1[0:len(t_dep), 1] = ecdf(p_values01)[0], ecdf(p_values01)[1]\n",
    "        \n",
    "        t0 = train_times[sid]\n",
    "        t1 = test_times[sid]\n",
    "        op_hawkes_log_likelihood = lambda param, t: - hawkes_log_likelihood(t, np.exp(param[0]), np.exp(param[0])+np.exp(param[1]), np.exp(param[2]))\n",
    "        mle2 = op.minimize(op_hawkes_log_likelihood, x0 = [-2, -2, -2], method = 'Nelder-Mead', args=(t0,))\n",
    "        beta2, theta2, lambda_b2 = np.exp(mle2.x[0]), np.exp(mle2.x[0]) + np.exp(mle2.x[1]), np.exp(mle2.x[2])\n",
    "\n",
    "        compensator_t2 = np.zeros(len(t0)+1)\n",
    "        for i in range(len(t0)):\n",
    "            compensator_t2[i+1] = hawkes_comp(t0[i], t0, beta2, theta2, lambda_b2)\n",
    "\n",
    "        inter_arr_times2 = np.diff(compensator_t2)\n",
    "        p_values2 = np.exp(-inter_arr_times2)\n",
    "        ks2 = st.kstest(p_values2, \"uniform\")\n",
    "        train_hawkes.append(ks2.statistic)\n",
    "        p2[0:len(t0), 0], p0[0:len(t0), 1] = ecdf(p_values2)[0], ecdf(p_values2)[1]\n",
    "    \n",
    "        beta2, theta2, lambda_b2 = np.exp(mle2.x[0]), np.exp(mle2.x[0]) + np.exp(mle2.x[1]), np.exp(mle2.x[2])\n",
    "\n",
    "        compensator_t21 = np.zeros(len(t1)+1)\n",
    "        for i in range(len(t1)):\n",
    "            compensator_t21[i+1] = hawkes_comp(t1[i], t1, beta2, theta2, lambda_b2)\n",
    "\n",
    "        inter_arr_times21 = np.diff(compensator_t21)\n",
    "        p_values21 = np.exp(-inter_arr_times21)\n",
    "        ks21 = st.kstest(p_values21, \"uniform\")\n",
    "        test_hawkes.append(ks21.statistic)\n",
    "\n",
    "        p3[0:len(t1), 0], p1[0:len(t1), 1] = ecdf(p_values21)[0], ecdf(p_values21)[1]"
   ]
  },
  {
   "cell_type": "code",
   "execution_count": 18,
   "metadata": {},
   "outputs": [
    {
     "name": "stdout",
     "output_type": "stream",
     "text": [
      "0\n",
      "0.12628891744955173\n",
      "0.13936883226660368\n",
      "1\n",
      "0.07563973293888882\n",
      "0.07749609575566174\n",
      "2\n",
      "0.07433120074472732\n",
      "0.09034179254274743\n",
      "3\n",
      "0.0742730314577359\n",
      "0.07651879129644834\n",
      "4\n",
      "0.10784562009123455\n",
      "0.12148190884931809\n",
      "5\n",
      "0.06206923915544049\n",
      "0.06621537828483515\n",
      "6\n",
      "0.10967550343118992\n",
      "0.1434944589301238\n",
      "7\n",
      "0.07661046013643791\n",
      "0.0799049369223298\n",
      "8\n",
      "0.07360905795172168\n",
      "0.07408022129600678\n",
      "9\n",
      "0.11033154733300177\n",
      "0.12020297327253826\n",
      "10\n",
      "0.08034223054780754\n",
      "0.09020168338724\n",
      "11\n",
      "0.10202252179393745\n",
      "0.10872418114070448\n",
      "12\n",
      "0.0781473619711004\n",
      "0.08151720739406965\n",
      "13\n",
      "0.08580726457100862\n",
      "0.08754412278094192\n",
      "14\n",
      "0.10620133598430037\n",
      "0.11568752999597742\n",
      "15\n",
      "0.07398796803225571\n",
      "0.07686783729380176\n",
      "16\n",
      "0.06309787770467312\n",
      "0.06850292240101075\n",
      "17\n",
      "0.06255559255282761\n",
      "0.06588856932799858\n",
      "18\n",
      "0.09652319956649513\n",
      "0.11163472110541262\n",
      "19\n",
      "0.08150611829787313\n",
      "0.08831590104341647\n",
      "20\n",
      "0.13852979070144422\n",
      "0.14617974877751938\n",
      "21\n",
      "0.09714040979359195\n",
      "0.09700500518632882\n",
      "22\n",
      "0.10232212608482372\n",
      "0.14257381250113277\n",
      "23\n",
      "0.08481110630022703\n",
      "0.09216521755311802\n",
      "24\n",
      "0.09422343958694002\n",
      "0.10301770258748177\n",
      "25\n",
      "0.09056187340073152\n",
      "0.09738924228712165\n",
      "26\n",
      "0.10501357226552366\n",
      "0.11758304730034241\n",
      "27\n",
      "0.07568957260977249\n",
      "0.07454065889320505\n",
      "28\n",
      "0.1582839795758364\n",
      "0.16158823923059396\n",
      "29\n",
      "0.0638534015974539\n",
      "0.07134702824474126\n",
      "30\n",
      "0.14827472602729364\n",
      "0.1558099261807011\n",
      "31\n",
      "0.0947445158051039\n",
      "0.1027420045323979\n",
      "32\n",
      "0.08046136483761657\n",
      "0.0804305517720244\n",
      "33\n",
      "0.09212933175037652\n",
      "0.10102073043002002\n",
      "34\n",
      "0.10272881020936664\n",
      "0.11076079468874978\n",
      "35\n",
      "0.0727798486958805\n",
      "0.07889971880682234\n",
      "36\n",
      "0.11555706250743614\n",
      "0.12364611052278252\n",
      "37\n",
      "0.147297202794615\n",
      "0.20263524207326733\n",
      "38\n",
      "0.07484365833646545\n",
      "0.07894790938572005\n",
      "39\n",
      "0.05979349662522071\n",
      "0.0661659210006682\n",
      "40\n",
      "0.07904350107277913\n",
      "0.08824057912430383\n",
      "41\n",
      "0.08658568652730358\n",
      "0.10321686330832103\n",
      "42\n",
      "0.08206375579528369\n",
      "0.08686328030609214\n",
      "43\n",
      "0.09368257230343957\n",
      "0.11209572373522214\n",
      "44\n",
      "0.1245371295765999\n",
      "0.1436838755485128\n",
      "45\n",
      "0.07298950213765654\n",
      "0.0724151699191814\n",
      "46\n",
      "0.10767662268275258\n",
      "0.10093590566388944\n",
      "47\n",
      "0.10437792241951116\n",
      "0.10879544170674582\n",
      "48\n",
      "0.15326333944265247\n",
      "0.16730739618798418\n",
      "49\n",
      "0.08506683897556289\n",
      "0.09645191187822477\n",
      "50\n",
      "0.09726103513272544\n",
      "0.09817285640823548\n",
      "51\n",
      "0.07338526077624874\n",
      "0.0798035719714083\n",
      "52\n",
      "0.10256802749412952\n",
      "0.11021367204644716\n",
      "53\n",
      "0.1023283979981704\n",
      "0.11109585815269307\n",
      "54\n",
      "0.12767156701321158\n",
      "0.13089586731087488\n",
      "55\n",
      "0.09736791531695232\n",
      "0.10216506264821623\n",
      "56\n",
      "0.0743489391444524\n",
      "0.08222472106139855\n",
      "57\n",
      "0.09719873673299995\n",
      "0.09949295617872822\n",
      "58\n",
      "0.12198081977774855\n",
      "0.12370620668028598\n",
      "59\n",
      "0.05902678277697193\n",
      "0.0635760042438619\n",
      "60\n",
      "0.07746457030058085\n",
      "0.08413393601011432\n",
      "61\n",
      "0.12896946245895058\n",
      "0.1157742739705434\n",
      "62\n",
      "0.14115184480649878\n",
      "0.14126978912796928\n",
      "63\n",
      "0.08346169959467076\n",
      "0.08978282138469795\n",
      "64\n",
      "0.1141032880242292\n",
      "0.11649790491872469\n",
      "65\n",
      "0.07369334608022782\n",
      "0.08338545930276864\n",
      "66\n",
      "0.05495520968729095\n",
      "0.061297733238431906\n",
      "67\n",
      "0.0980753595682079\n",
      "0.10979333571010375\n",
      "68\n",
      "0.12941989992907288\n",
      "0.14098580593520116\n",
      "69\n",
      "0.07111540236258829\n",
      "0.07625122209722279\n",
      "70\n",
      "0.0626620422807852\n",
      "0.06831054777576773\n",
      "71\n",
      "0.08383464230414595\n",
      "0.08482793505165442\n",
      "72\n",
      "0.10632824977258248\n",
      "0.10958968438413252\n",
      "73\n",
      "0.07318590319811435\n",
      "0.07427500253595343\n",
      "74\n",
      "0.0805201703816184\n",
      "0.08692481285324338\n",
      "75\n",
      "0.0665477305098342\n",
      "0.07403666226096839\n",
      "76\n",
      "0.09298621068394997\n",
      "0.10378136935240645\n",
      "77\n",
      "0.10650409519768367\n",
      "0.10597671040047696\n",
      "78\n",
      "0.07656736229330252\n",
      "0.07766955434495837\n",
      "79\n",
      "0.0915258144213209\n",
      "0.10097859460619107\n",
      "80\n",
      "0.092160213146259\n",
      "0.09862599883766698\n",
      "81\n",
      "0.06302938109831235\n",
      "0.07051268939551925\n",
      "82\n",
      "0.07746404032518406\n",
      "0.08154684563860704\n",
      "83\n",
      "0.06046149267773704\n",
      "0.06945953697127594\n",
      "84\n",
      "0.07291522555838625\n",
      "0.07971759594989192\n",
      "85\n",
      "0.07927558986633776\n",
      "0.08879924838075215\n",
      "86\n",
      "0.06052085028064913\n",
      "0.060746153026072225\n",
      "87\n",
      "0.08733721962546626\n",
      "0.08987702118857266\n",
      "88\n",
      "0.09881380287322916\n",
      "0.09448217587964924\n",
      "89\n",
      "0.07403002942594139\n",
      "0.07666527836620596\n",
      "90\n",
      "0.08313456362114424\n",
      "0.0971959207780766\n",
      "91\n",
      "0.10329615350673982\n",
      "0.11509560695295729\n",
      "92\n",
      "0.10520855306302568\n",
      "0.11117691189280832\n",
      "93\n",
      "0.08047616490281306\n",
      "0.08093217670557584\n",
      "94\n",
      "0.13839743441670793\n",
      "0.1608730655020062\n",
      "95\n",
      "0.14575688984482327\n",
      "0.16498038183811525\n",
      "96\n",
      "0.1413097373379233\n",
      "0.1547333347172083\n",
      "97\n",
      "0.19394973886598055\n",
      "0.1889352201333212\n",
      "98\n",
      "0.10663764506715556\n",
      "0.1074900665695715\n",
      "99\n",
      "0.07574348768638095\n",
      "0.07820361825141597\n"
     ]
    }
   ],
   "source": [
    "#loc_list = []\n",
    "thres = 0.5\n",
    "train_hawkes = []\n",
    "test_hawkes = []\n",
    "train_spatio = []\n",
    "test_spatio = []\n",
    "\n",
    "p0 = np.zeros((max_t1+1, 100))\n",
    "p1 = np.zeros((max_t2+1, 100))\n",
    "p2 = np.zeros((max_t1+1, 100))\n",
    "p3 = np.zeros((max_t2+1, 100))\n",
    "\n",
    "#while len(loc_list) < 100: \n",
    "for i in range(100): \n",
    "    #sid = np.random.choice(loc_codes)\n",
    "    sid = loc_list[i]\n",
    "    if len(train_times[sid]) != 0 and sid not in null_list: #and sid not in loc_list:\n",
    "        #loc_list.append(sid)\n",
    "        #print(len(loc_list))\n",
    "        print(i)\n",
    "        ind = get_station_index(loc_codes, sid)\n",
    "\n",
    "        t0, ind_list = process_times(loc_codes, train_times, sid)\n",
    "        t1, ind_list = process_times(loc_codes, test_times, sid)\n",
    "    \n",
    "        dist_arr = geo_df[f\"{ind}\"].to_numpy()\n",
    "    \n",
    "        new_dist, new_loc = thres_fun_new(dist_arr, thres, loc_codes)\n",
    "    \n",
    "        new_dist = new_dist\n",
    "        new_loc = new_loc\n",
    "    \n",
    "        t00 = {}\n",
    "        t01 = {}\n",
    "\n",
    "        for loc in new_loc:\n",
    "            if loc not in ind_list:\n",
    "                t00[loc] = t0[loc]\n",
    "                t01[loc] = t1[loc]\n",
    "    \n",
    "        new_loc = list(t00.keys())\n",
    "        op_diff_log_likelihood = lambda param, location_codes, t, dist, i: - diff_log_likelihood(location_codes, t, np.exp(param[0]), np.exp(param[0])+np.exp(param[1]), \n",
    "                                                                                         np.exp(param[2]), np.exp(param[3]), dist, i)\n",
    "        mle0 = op.minimize(op_diff_log_likelihood, x0 = [-3.8, -3.1, -8.5, 1.7], method = 'Nelder-Mead', args=(new_loc, t00, new_dist, sid))\n",
    "    \n",
    "        beta0, theta0, lambda_b0, k0 = np.exp(mle0.x[0]), np.exp(mle0.x[0])+np.exp(mle0.x[1]), np.exp(mle0.x[2]), np.exp(mle0.x[3])\n",
    "\n",
    "        t_dep = t00[sid]\n",
    "        compensator_t0 = np.zeros(len(t_dep)+1)\n",
    "        for j in range(len(t_dep)):\n",
    "            compensator_t0[j+1] = diff_comp(t_dep[j], new_loc, t00, beta0, theta0, lambda_b0, new_dist, k0)\n",
    "\n",
    "        inter_arr_times0 = np.diff(compensator_t0)\n",
    "        p_values0 = np.exp(-inter_arr_times0)\n",
    "        ks0 = st.kstest(p_values0, \"uniform\")\n",
    "        train_spatio.append(ks0.statistic)\n",
    "        print(ks0.statistic)\n",
    "        p0[0:len(t_dep), i] = p_values0\n",
    "               \n",
    "        beta0, theta0, lambda_b0, k0 = np.exp(mle0.x[0]), np.exp(mle0.x[0])+np.exp(mle0.x[1]), np.exp(mle0.x[2]), np.exp(mle0.x[3])\n",
    " \n",
    "        t_dep = t01[sid]\n",
    "        compensator_t01 = np.zeros(len(t_dep)+1)\n",
    "        for j in range(len(t_dep)):\n",
    "            compensator_t01[j+1] = diff_comp(t_dep[j], new_loc, t01, beta0, theta0, lambda_b0, new_dist, k0)\n",
    "\n",
    "        inter_arr_times01 = np.diff(compensator_t01)\n",
    "        p_values01 = np.exp(-inter_arr_times01)\n",
    "        ks1 = st.kstest(p_values01, \"uniform\")\n",
    "        test_spatio.append(ks1.statistic)\n",
    "        \n",
    "        p1[0:len(t_dep), i] =  p_values01\n",
    "        \n",
    "        t0 = train_times[sid]\n",
    "        t1 = test_times[sid]\n",
    "        op_hawkes_log_likelihood = lambda param, t: - hawkes_log_likelihood(t, np.exp(param[0]), np.exp(param[0])+np.exp(param[1]), np.exp(param[2]))\n",
    "        mle2 = op.minimize(op_hawkes_log_likelihood, x0 = [-4.1, -6.3, -6.1], method = 'Nelder-Mead', args=(t0,))\n",
    "        beta2, theta2, lambda_b2 = np.exp(mle2.x[0]), np.exp(mle2.x[0]) + np.exp(mle2.x[1]), np.exp(mle2.x[2])\n",
    "\n",
    "        compensator_t2 = np.zeros(len(t0)+1)\n",
    "        for j in range(len(t0)):\n",
    "            compensator_t2[j+1] = hawkes_comp(t0[j], t0, beta2, theta2, lambda_b2)\n",
    "\n",
    "        inter_arr_times2 = np.diff(compensator_t2)\n",
    "        p_values2 = np.exp(-inter_arr_times2)\n",
    "        ks2 = st.kstest(p_values2, \"uniform\")\n",
    "        train_hawkes.append(ks2.statistic)\n",
    "        print(ks2.statistic)\n",
    "        p2[0:len(t0), i] = p_values2\n",
    "    \n",
    "        beta2, theta2, lambda_b2 = np.exp(mle2.x[0]), np.exp(mle2.x[0]) + np.exp(mle2.x[1]), np.exp(mle2.x[2])\n",
    "\n",
    "        compensator_t21 = np.zeros(len(t1)+1)\n",
    "        for j in range(len(t1)):\n",
    "            compensator_t21[j+1] = hawkes_comp(t1[j], t1, beta2, theta2, lambda_b2)\n",
    "\n",
    "        inter_arr_times21 = np.diff(compensator_t21)\n",
    "        p_values21 = np.exp(-inter_arr_times21)\n",
    "        ks21 = st.kstest(p_values21, \"uniform\")\n",
    "        test_hawkes.append(ks21.statistic)\n",
    "\n",
    "        p3[0:len(t1), i] = p_values21"
   ]
  },
  {
   "cell_type": "code",
   "execution_count": 45,
   "metadata": {},
   "outputs": [
    {
     "data": {
      "text/plain": [
       "0.10145383603559355"
      ]
     },
     "execution_count": 45,
     "metadata": {},
     "output_type": "execute_result"
    }
   ],
   "source": [
    "np.mean(train_hawkes)"
   ]
  },
  {
   "cell_type": "markdown",
   "metadata": {},
   "source": [
    "7 parameters model compared with mutual model\n",
    "100 stations picked at random: threshold distance/5 stations around it, repeat and compare ks scores, sign test\n",
    "capacity at stations\n",
    "initial parameters\n",
    "compare train and test ks scores for robustness of model"
   ]
  },
  {
   "cell_type": "code",
   "execution_count": 20,
   "metadata": {},
   "outputs": [],
   "source": [
    "train_diff = np.array(train_hawkes) - np.array(train_spatio)\n",
    "train_sign = np.sign(train_diff)\n",
    "test_diff = np.array(test_hawkes) - np.array(test_spatio)\n",
    "test_sign = np.sign(test_diff)"
   ]
  },
  {
   "cell_type": "code",
   "execution_count": 21,
   "metadata": {},
   "outputs": [
    {
     "data": {
      "text/plain": [
       "Counter({1.0: 91, -1.0: 9})"
      ]
     },
     "execution_count": 21,
     "metadata": {},
     "output_type": "execute_result"
    }
   ],
   "source": [
    "from collections import Counter\n",
    "Counter(train_sign)"
   ]
  },
  {
   "cell_type": "code",
   "execution_count": 22,
   "metadata": {},
   "outputs": [
    {
     "data": {
      "text/plain": [
       "Counter({1.0: 82, -1.0: 18})"
      ]
     },
     "execution_count": 22,
     "metadata": {},
     "output_type": "execute_result"
    }
   ],
   "source": [
    "from collections import Counter\n",
    "Counter(test_sign)"
   ]
  },
  {
   "cell_type": "code",
   "execution_count": 55,
   "metadata": {},
   "outputs": [],
   "source": [
    "rel_train_ks = (np.array(train_hawkes) - np.array(train_spatio)) / np.array(train_hawkes)\n",
    "#uni_rel_train_ks = np.unique(rel_train_ks)\n",
    "rel_test_ks = (np.array(test_hawkes) - np.array(test_spatio)) / np.array(test_hawkes)\n",
    "#uni_rel_test_ks = np.unique(rel_test_ks)"
   ]
  },
  {
   "cell_type": "markdown",
   "metadata": {},
   "source": [
    "We now want to plot the scatter plot of station coordinates of the randomly selected 100 stations, labelling the points by the difference in their ks scores."
   ]
  },
  {
   "cell_type": "code",
   "execution_count": 56,
   "metadata": {},
   "outputs": [
    {
     "data": {
      "text/plain": [
       "100"
      ]
     },
     "execution_count": 56,
     "metadata": {},
     "output_type": "execute_result"
    }
   ],
   "source": [
    "len(train_hawkes)"
   ]
  },
  {
   "cell_type": "code",
   "execution_count": 57,
   "metadata": {},
   "outputs": [],
   "source": [
    "station_data = pd.read_csv(\"./santander_locations.csv\")"
   ]
  },
  {
   "cell_type": "code",
   "execution_count": 58,
   "metadata": {},
   "outputs": [],
   "source": [
    "#uni_loc_list = np.unique(np.array(loc_list))\n",
    "d = {'loc': loc_list, 'train': rel_train_ks, 'test': rel_test_ks}\n",
    "df1 = pd.DataFrame(data=d)\n",
    "df1 = df1.sort_values(by=['loc'])\n",
    "df1 = df1.drop_duplicates(subset=['loc'])"
   ]
  },
  {
   "cell_type": "code",
   "execution_count": 59,
   "metadata": {},
   "outputs": [
    {
     "data": {
      "text/html": [
       "<div>\n",
       "<style scoped>\n",
       "    .dataframe tbody tr th:only-of-type {\n",
       "        vertical-align: middle;\n",
       "    }\n",
       "\n",
       "    .dataframe tbody tr th {\n",
       "        vertical-align: top;\n",
       "    }\n",
       "\n",
       "    .dataframe thead th {\n",
       "        text-align: right;\n",
       "    }\n",
       "</style>\n",
       "<table border=\"1\" class=\"dataframe\">\n",
       "  <thead>\n",
       "    <tr style=\"text-align: right;\">\n",
       "      <th></th>\n",
       "      <th>loc</th>\n",
       "      <th>train</th>\n",
       "      <th>test</th>\n",
       "    </tr>\n",
       "  </thead>\n",
       "  <tbody>\n",
       "    <tr>\n",
       "      <th>0</th>\n",
       "      <td>4</td>\n",
       "      <td>0.093851</td>\n",
       "      <td>0.099162</td>\n",
       "    </tr>\n",
       "    <tr>\n",
       "      <th>1</th>\n",
       "      <td>5</td>\n",
       "      <td>0.023954</td>\n",
       "      <td>0.073944</td>\n",
       "    </tr>\n",
       "    <tr>\n",
       "      <th>2</th>\n",
       "      <td>32</td>\n",
       "      <td>0.177222</td>\n",
       "      <td>0.156144</td>\n",
       "    </tr>\n",
       "    <tr>\n",
       "      <th>3</th>\n",
       "      <td>37</td>\n",
       "      <td>0.029349</td>\n",
       "      <td>0.124952</td>\n",
       "    </tr>\n",
       "    <tr>\n",
       "      <th>4</th>\n",
       "      <td>40</td>\n",
       "      <td>0.112250</td>\n",
       "      <td>0.098970</td>\n",
       "    </tr>\n",
       "    <tr>\n",
       "      <th>...</th>\n",
       "      <td>...</td>\n",
       "      <td>...</td>\n",
       "      <td>...</td>\n",
       "    </tr>\n",
       "    <tr>\n",
       "      <th>95</th>\n",
       "      <td>810</td>\n",
       "      <td>0.116520</td>\n",
       "      <td>0.096586</td>\n",
       "    </tr>\n",
       "    <tr>\n",
       "      <th>96</th>\n",
       "      <td>811</td>\n",
       "      <td>0.086753</td>\n",
       "      <td>0.063796</td>\n",
       "    </tr>\n",
       "    <tr>\n",
       "      <th>97</th>\n",
       "      <td>812</td>\n",
       "      <td>-0.026541</td>\n",
       "      <td>-0.044596</td>\n",
       "    </tr>\n",
       "    <tr>\n",
       "      <th>98</th>\n",
       "      <td>821</td>\n",
       "      <td>0.007930</td>\n",
       "      <td>0.051530</td>\n",
       "    </tr>\n",
       "    <tr>\n",
       "      <th>99</th>\n",
       "      <td>833</td>\n",
       "      <td>0.031458</td>\n",
       "      <td>-0.015524</td>\n",
       "    </tr>\n",
       "  </tbody>\n",
       "</table>\n",
       "<p>100 rows × 3 columns</p>\n",
       "</div>"
      ],
      "text/plain": [
       "    loc     train      test\n",
       "0     4  0.093851  0.099162\n",
       "1     5  0.023954  0.073944\n",
       "2    32  0.177222  0.156144\n",
       "3    37  0.029349  0.124952\n",
       "4    40  0.112250  0.098970\n",
       "..  ...       ...       ...\n",
       "95  810  0.116520  0.096586\n",
       "96  811  0.086753  0.063796\n",
       "97  812 -0.026541 -0.044596\n",
       "98  821  0.007930  0.051530\n",
       "99  833  0.031458 -0.015524\n",
       "\n",
       "[100 rows x 3 columns]"
      ]
     },
     "execution_count": 59,
     "metadata": {},
     "output_type": "execute_result"
    }
   ],
   "source": [
    "df1"
   ]
  },
  {
   "cell_type": "code",
   "execution_count": 60,
   "metadata": {},
   "outputs": [
    {
     "name": "stderr",
     "output_type": "stream",
     "text": [
      "/opt/anaconda3/lib/python3.7/site-packages/ipykernel_launcher.py:3: SettingWithCopyWarning: \n",
      "A value is trying to be set on a copy of a slice from a DataFrame.\n",
      "Try using .loc[row_indexer,col_indexer] = value instead\n",
      "\n",
      "See the caveats in the documentation: https://pandas.pydata.org/pandas-docs/stable/user_guide/indexing.html#returning-a-view-versus-a-copy\n",
      "  This is separate from the ipykernel package so we can avoid doing imports until\n",
      "/opt/anaconda3/lib/python3.7/site-packages/ipykernel_launcher.py:4: SettingWithCopyWarning: \n",
      "A value is trying to be set on a copy of a slice from a DataFrame.\n",
      "Try using .loc[row_indexer,col_indexer] = value instead\n",
      "\n",
      "See the caveats in the documentation: https://pandas.pydata.org/pandas-docs/stable/user_guide/indexing.html#returning-a-view-versus-a-copy\n",
      "  after removing the cwd from sys.path.\n"
     ]
    },
    {
     "data": {
      "text/html": [
       "<div>\n",
       "<style scoped>\n",
       "    .dataframe tbody tr th:only-of-type {\n",
       "        vertical-align: middle;\n",
       "    }\n",
       "\n",
       "    .dataframe tbody tr th {\n",
       "        vertical-align: top;\n",
       "    }\n",
       "\n",
       "    .dataframe thead th {\n",
       "        text-align: right;\n",
       "    }\n",
       "</style>\n",
       "<table border=\"1\" class=\"dataframe\">\n",
       "  <thead>\n",
       "    <tr style=\"text-align: right;\">\n",
       "      <th></th>\n",
       "      <th>Station.Id</th>\n",
       "      <th>StationName</th>\n",
       "      <th>longitude</th>\n",
       "      <th>latitude</th>\n",
       "      <th>Easting</th>\n",
       "      <th>Northing</th>\n",
       "      <th>train.ks</th>\n",
       "      <th>test.ks</th>\n",
       "    </tr>\n",
       "  </thead>\n",
       "  <tbody>\n",
       "    <tr>\n",
       "      <th>3</th>\n",
       "      <td>4</td>\n",
       "      <td>St. Chad's Street, King's Cross</td>\n",
       "      <td>-0.120974</td>\n",
       "      <td>51.530100</td>\n",
       "      <td>530436.760</td>\n",
       "      <td>182911.990</td>\n",
       "      <td>0.093851</td>\n",
       "      <td>0.099162</td>\n",
       "    </tr>\n",
       "    <tr>\n",
       "      <th>4</th>\n",
       "      <td>5</td>\n",
       "      <td>Sedding Street, Sloane Square</td>\n",
       "      <td>-0.156876</td>\n",
       "      <td>51.493100</td>\n",
       "      <td>528051.649</td>\n",
       "      <td>178742.097</td>\n",
       "      <td>0.023954</td>\n",
       "      <td>0.073944</td>\n",
       "    </tr>\n",
       "    <tr>\n",
       "      <th>31</th>\n",
       "      <td>32</td>\n",
       "      <td>Leonard Circus, Shoreditch</td>\n",
       "      <td>-0.084439</td>\n",
       "      <td>51.524700</td>\n",
       "      <td>532986.420</td>\n",
       "      <td>182381.310</td>\n",
       "      <td>0.177222</td>\n",
       "      <td>0.156144</td>\n",
       "    </tr>\n",
       "    <tr>\n",
       "      <th>35</th>\n",
       "      <td>37</td>\n",
       "      <td>Penywern Road, Earl's Court</td>\n",
       "      <td>-0.192369</td>\n",
       "      <td>51.491600</td>\n",
       "      <td>525590.340</td>\n",
       "      <td>178509.690</td>\n",
       "      <td>0.029349</td>\n",
       "      <td>0.124952</td>\n",
       "    </tr>\n",
       "    <tr>\n",
       "      <th>38</th>\n",
       "      <td>40</td>\n",
       "      <td>Commercial Street, Shoreditch</td>\n",
       "      <td>-0.075579</td>\n",
       "      <td>51.521300</td>\n",
       "      <td>533611.070</td>\n",
       "      <td>182016.510</td>\n",
       "      <td>0.112250</td>\n",
       "      <td>0.098970</td>\n",
       "    </tr>\n",
       "    <tr>\n",
       "      <th>...</th>\n",
       "      <td>...</td>\n",
       "      <td>...</td>\n",
       "      <td>...</td>\n",
       "      <td>...</td>\n",
       "      <td>...</td>\n",
       "      <td>...</td>\n",
       "      <td>...</td>\n",
       "      <td>...</td>\n",
       "    </tr>\n",
       "    <tr>\n",
       "      <th>778</th>\n",
       "      <td>810</td>\n",
       "      <td>Tate Modern, Bankside</td>\n",
       "      <td>-0.098885</td>\n",
       "      <td>51.506721</td>\n",
       "      <td>532037.270</td>\n",
       "      <td>180356.310</td>\n",
       "      <td>0.116520</td>\n",
       "      <td>0.096586</td>\n",
       "    </tr>\n",
       "    <tr>\n",
       "      <th>779</th>\n",
       "      <td>811</td>\n",
       "      <td>Westferry Circus, Canary Wharf</td>\n",
       "      <td>-0.027776</td>\n",
       "      <td>51.505697</td>\n",
       "      <td>536975.000</td>\n",
       "      <td>180373.000</td>\n",
       "      <td>0.086753</td>\n",
       "      <td>0.063796</td>\n",
       "    </tr>\n",
       "    <tr>\n",
       "      <th>780</th>\n",
       "      <td>812</td>\n",
       "      <td>Here East North, Queen Elizabeth Olympic Park</td>\n",
       "      <td>-0.022627</td>\n",
       "      <td>51.548724</td>\n",
       "      <td>537203.027</td>\n",
       "      <td>185167.369</td>\n",
       "      <td>-0.026541</td>\n",
       "      <td>-0.044596</td>\n",
       "    </tr>\n",
       "    <tr>\n",
       "      <th>789</th>\n",
       "      <td>821</td>\n",
       "      <td>Battersea Power Station, Battersea Park</td>\n",
       "      <td>-0.147702</td>\n",
       "      <td>51.483516</td>\n",
       "      <td>528714.824</td>\n",
       "      <td>177688.956</td>\n",
       "      <td>0.007930</td>\n",
       "      <td>0.051530</td>\n",
       "    </tr>\n",
       "    <tr>\n",
       "      <th>797</th>\n",
       "      <td>833</td>\n",
       "      <td>Saltoun Road, Brixton</td>\n",
       "      <td>-0.115375</td>\n",
       "      <td>51.460232</td>\n",
       "      <td>531026.750</td>\n",
       "      <td>175157.030</td>\n",
       "      <td>0.031458</td>\n",
       "      <td>-0.015524</td>\n",
       "    </tr>\n",
       "  </tbody>\n",
       "</table>\n",
       "<p>100 rows × 8 columns</p>\n",
       "</div>"
      ],
      "text/plain": [
       "     Station.Id                                    StationName  longitude  \\\n",
       "3             4                St. Chad's Street, King's Cross  -0.120974   \n",
       "4             5                  Sedding Street, Sloane Square  -0.156876   \n",
       "31           32                     Leonard Circus, Shoreditch  -0.084439   \n",
       "35           37                    Penywern Road, Earl's Court  -0.192369   \n",
       "38           40                  Commercial Street, Shoreditch  -0.075579   \n",
       "..          ...                                            ...        ...   \n",
       "778         810                          Tate Modern, Bankside  -0.098885   \n",
       "779         811                 Westferry Circus, Canary Wharf  -0.027776   \n",
       "780         812  Here East North, Queen Elizabeth Olympic Park  -0.022627   \n",
       "789         821        Battersea Power Station, Battersea Park  -0.147702   \n",
       "797         833                          Saltoun Road, Brixton  -0.115375   \n",
       "\n",
       "      latitude     Easting    Northing  train.ks   test.ks  \n",
       "3    51.530100  530436.760  182911.990  0.093851  0.099162  \n",
       "4    51.493100  528051.649  178742.097  0.023954  0.073944  \n",
       "31   51.524700  532986.420  182381.310  0.177222  0.156144  \n",
       "35   51.491600  525590.340  178509.690  0.029349  0.124952  \n",
       "38   51.521300  533611.070  182016.510  0.112250  0.098970  \n",
       "..         ...         ...         ...       ...       ...  \n",
       "778  51.506721  532037.270  180356.310  0.116520  0.096586  \n",
       "779  51.505697  536975.000  180373.000  0.086753  0.063796  \n",
       "780  51.548724  537203.027  185167.369 -0.026541 -0.044596  \n",
       "789  51.483516  528714.824  177688.956  0.007930  0.051530  \n",
       "797  51.460232  531026.750  175157.030  0.031458 -0.015524  \n",
       "\n",
       "[100 rows x 8 columns]"
      ]
     },
     "execution_count": 60,
     "metadata": {},
     "output_type": "execute_result"
    }
   ],
   "source": [
    "mask = station_data['Station.Id'].isin(loc_list)\n",
    "df = station_data.loc[mask]\n",
    "df['train.ks'] = list(df1['train'])\n",
    "df['test.ks'] = list(df1['test'])\n",
    "df"
   ]
  },
  {
   "cell_type": "code",
   "execution_count": 61,
   "metadata": {},
   "outputs": [
    {
     "data": {
      "text/plain": [
       "0.2823217371422206"
      ]
     },
     "execution_count": 61,
     "metadata": {},
     "output_type": "execute_result"
    }
   ],
   "source": [
    "max(list(df['train.ks']))"
   ]
  },
  {
   "cell_type": "code",
   "execution_count": 62,
   "metadata": {},
   "outputs": [],
   "source": [
    "from matplotlib.colors import LinearSegmentedColormap\n",
    "cmap=LinearSegmentedColormap.from_list('rg',[\"r\", \"w\", \"g\"], N=256)\n",
    "cols = np.array(cmap((df['train.ks'] + max(np.abs(df['train.ks']))) / (2 * max(np.abs(df['train.ks'])))))[:,:3]"
   ]
  },
  {
   "cell_type": "code",
   "execution_count": 70,
   "metadata": {},
   "outputs": [
    {
     "data": {
      "image/png": "[encoded data removed]",
      "text/plain": [
       "<Figure size 432x288 with 1 Axes>"
      ]
     },
     "metadata": {
      "needs_background": "light"
     },
     "output_type": "display_data"
    }
   ],
   "source": [
    "import seaborn as sns\n",
    "edges = np.array(['red','green'])[np.array(df['train.ks'] > 0).astype(int)]\n",
    "plt.scatter(df['longitude'], df['latitude'], c=cols, edgecolor = edges)\n",
    "plt.savefig('fig2.pdf')"
   ]
  },
  {
   "cell_type": "code",
   "execution_count": 71,
   "metadata": {},
   "outputs": [
    {
     "data": {
      "image/png": "[encoded data removed]",
      "text/plain": [
       "<Figure size 432x288 with 1 Axes>"
      ]
     },
     "metadata": {
      "needs_background": "light"
     },
     "output_type": "display_data"
    }
   ],
   "source": [
    "edges = np.array(['red','green'])[np.array(df['test.ks'] > 0).astype(int)]\n",
    "plt.scatter(df['longitude'], df['latitude'], c=cols, edgecolor = edges)\n",
    "plt.savefig('fig1.pdf')"
   ]
  },
  {
   "cell_type": "markdown",
   "metadata": {},
   "source": [
    "We plot the ks scores of each station over the log of the number of departure events at each station. "
   ]
  },
  {
   "cell_type": "code",
   "execution_count": 61,
   "metadata": {},
   "outputs": [],
   "source": [
    "dep_len_train_all = []\n",
    "dep_len_test_all = []\n",
    "dep_len_train_id = []\n",
    "dep_len_test_id = []\n",
    "\n",
    "for i in range(len(loc_list)):\n",
    "    sid = loc_list[i]\n",
    "    ind = get_station_index(loc_codes, sid)\n",
    "    train_len = 0\n",
    "    test_len = 0\n",
    "    \n",
    "    t0, ind_list = process_times(loc_codes, train_times, sid)\n",
    "    t1, ind_list = process_times(loc_codes, test_times, sid)\n",
    "    \n",
    "    dist_arr = geo_df[f\"{ind}\"].to_numpy()\n",
    "    \n",
    "    new_dist, new_loc = thres_fun_new(dist_arr, thres, loc_codes)\n",
    "    \n",
    "    new_dist = new_dist\n",
    "    new_loc = new_loc\n",
    "    \n",
    "    t00 = {}\n",
    "    t01 = {}\n",
    "\n",
    "    for loc in new_loc:\n",
    "        if loc not in ind_list:\n",
    "            t00[loc] = t0[loc]\n",
    "            train_len += len(t00[loc])\n",
    "            t01[loc] = t1[loc]\n",
    "            test_len += len(t01[loc])\n",
    "\n",
    "    dep_len_train_all.append(train_len)\n",
    "    dep_len_test_all.append(test_len)\n",
    "\n",
    "    dep_len_train_id.append(len(t00[sid]))\n",
    "    dep_len_test_id.append(len(t01[sid]))\n",
    "    \n",
    "log_dep_train_all = np.log(np.array(dep_len_train_all))\n",
    "log_dep_test_all = np.log(np.array(dep_len_test_all))\n",
    "    \n",
    "log_dep_train = np.log(np.array(dep_len_train_id))\n",
    "log_dep_test = np.log(np.array(dep_len_test_id))"
   ]
  },
  {
   "cell_type": "code",
   "execution_count": 62,
   "metadata": {},
   "outputs": [],
   "source": [
    "d1 = {'loc': loc_list, 'train.ks': rel_train_ks, \n",
    "      'test.ks': rel_test_ks, 'train.len.all': log_dep_train_all, \n",
    "      'test.len.all': log_dep_test_all, 'train.len.id': log_dep_train, 'test.len.id': log_dep_test}\n",
    "df2 = pd.DataFrame(data=d1)\n",
    "df2 = df2.sort_values(by=['loc'])\n",
    "df2 = df2.drop_duplicates(subset=['loc'])"
   ]
  },
  {
   "cell_type": "code",
   "execution_count": 63,
   "metadata": {},
   "outputs": [
    {
     "data": {
      "text/html": [
       "<div>\n",
       "<style scoped>\n",
       "    .dataframe tbody tr th:only-of-type {\n",
       "        vertical-align: middle;\n",
       "    }\n",
       "\n",
       "    .dataframe tbody tr th {\n",
       "        vertical-align: top;\n",
       "    }\n",
       "\n",
       "    .dataframe thead th {\n",
       "        text-align: right;\n",
       "    }\n",
       "</style>\n",
       "<table border=\"1\" class=\"dataframe\">\n",
       "  <thead>\n",
       "    <tr style=\"text-align: right;\">\n",
       "      <th></th>\n",
       "      <th>loc</th>\n",
       "      <th>train.ks</th>\n",
       "      <th>test.ks</th>\n",
       "      <th>train.len.all</th>\n",
       "      <th>test.len.all</th>\n",
       "      <th>train.len.id</th>\n",
       "      <th>test.len.id</th>\n",
       "    </tr>\n",
       "  </thead>\n",
       "  <tbody>\n",
       "    <tr>\n",
       "      <th>0</th>\n",
       "      <td>4</td>\n",
       "      <td>0.093851</td>\n",
       "      <td>0.099162</td>\n",
       "      <td>10.306282</td>\n",
       "      <td>9.198875</td>\n",
       "      <td>7.517521</td>\n",
       "      <td>6.434547</td>\n",
       "    </tr>\n",
       "    <tr>\n",
       "      <th>1</th>\n",
       "      <td>5</td>\n",
       "      <td>0.023954</td>\n",
       "      <td>0.073944</td>\n",
       "      <td>9.805654</td>\n",
       "      <td>8.747511</td>\n",
       "      <td>8.716536</td>\n",
       "      <td>7.610853</td>\n",
       "    </tr>\n",
       "    <tr>\n",
       "      <th>2</th>\n",
       "      <td>32</td>\n",
       "      <td>0.177222</td>\n",
       "      <td>0.156144</td>\n",
       "      <td>10.624128</td>\n",
       "      <td>9.492733</td>\n",
       "      <td>8.494743</td>\n",
       "      <td>7.346655</td>\n",
       "    </tr>\n",
       "    <tr>\n",
       "      <th>3</th>\n",
       "      <td>37</td>\n",
       "      <td>0.029349</td>\n",
       "      <td>0.124952</td>\n",
       "      <td>10.189531</td>\n",
       "      <td>9.093245</td>\n",
       "      <td>8.358197</td>\n",
       "      <td>7.195937</td>\n",
       "    </tr>\n",
       "    <tr>\n",
       "      <th>4</th>\n",
       "      <td>40</td>\n",
       "      <td>0.112250</td>\n",
       "      <td>0.098970</td>\n",
       "      <td>10.859114</td>\n",
       "      <td>9.734359</td>\n",
       "      <td>8.242493</td>\n",
       "      <td>7.065613</td>\n",
       "    </tr>\n",
       "    <tr>\n",
       "      <th>...</th>\n",
       "      <td>...</td>\n",
       "      <td>...</td>\n",
       "      <td>...</td>\n",
       "      <td>...</td>\n",
       "      <td>...</td>\n",
       "      <td>...</td>\n",
       "      <td>...</td>\n",
       "    </tr>\n",
       "    <tr>\n",
       "      <th>95</th>\n",
       "      <td>810</td>\n",
       "      <td>0.116520</td>\n",
       "      <td>0.096586</td>\n",
       "      <td>10.142308</td>\n",
       "      <td>9.063926</td>\n",
       "      <td>7.989899</td>\n",
       "      <td>6.978214</td>\n",
       "    </tr>\n",
       "    <tr>\n",
       "      <th>96</th>\n",
       "      <td>811</td>\n",
       "      <td>0.086753</td>\n",
       "      <td>0.063796</td>\n",
       "      <td>9.718903</td>\n",
       "      <td>8.585599</td>\n",
       "      <td>8.780480</td>\n",
       "      <td>7.631432</td>\n",
       "    </tr>\n",
       "    <tr>\n",
       "      <th>97</th>\n",
       "      <td>812</td>\n",
       "      <td>-0.026541</td>\n",
       "      <td>-0.044596</td>\n",
       "      <td>9.241548</td>\n",
       "      <td>8.013343</td>\n",
       "      <td>7.959276</td>\n",
       "      <td>6.776507</td>\n",
       "    </tr>\n",
       "    <tr>\n",
       "      <th>98</th>\n",
       "      <td>821</td>\n",
       "      <td>0.007930</td>\n",
       "      <td>0.051530</td>\n",
       "      <td>10.011759</td>\n",
       "      <td>8.992682</td>\n",
       "      <td>9.314070</td>\n",
       "      <td>8.195058</td>\n",
       "    </tr>\n",
       "    <tr>\n",
       "      <th>99</th>\n",
       "      <td>833</td>\n",
       "      <td>0.031458</td>\n",
       "      <td>-0.015524</td>\n",
       "      <td>9.456732</td>\n",
       "      <td>8.288786</td>\n",
       "      <td>8.724858</td>\n",
       "      <td>7.581720</td>\n",
       "    </tr>\n",
       "  </tbody>\n",
       "</table>\n",
       "<p>100 rows × 7 columns</p>\n",
       "</div>"
      ],
      "text/plain": [
       "    loc  train.ks   test.ks  train.len.all  test.len.all  train.len.id  \\\n",
       "0     4  0.093851  0.099162      10.306282      9.198875      7.517521   \n",
       "1     5  0.023954  0.073944       9.805654      8.747511      8.716536   \n",
       "2    32  0.177222  0.156144      10.624128      9.492733      8.494743   \n",
       "3    37  0.029349  0.124952      10.189531      9.093245      8.358197   \n",
       "4    40  0.112250  0.098970      10.859114      9.734359      8.242493   \n",
       "..  ...       ...       ...            ...           ...           ...   \n",
       "95  810  0.116520  0.096586      10.142308      9.063926      7.989899   \n",
       "96  811  0.086753  0.063796       9.718903      8.585599      8.780480   \n",
       "97  812 -0.026541 -0.044596       9.241548      8.013343      7.959276   \n",
       "98  821  0.007930  0.051530      10.011759      8.992682      9.314070   \n",
       "99  833  0.031458 -0.015524       9.456732      8.288786      8.724858   \n",
       "\n",
       "    test.len.id  \n",
       "0      6.434547  \n",
       "1      7.610853  \n",
       "2      7.346655  \n",
       "3      7.195937  \n",
       "4      7.065613  \n",
       "..          ...  \n",
       "95     6.978214  \n",
       "96     7.631432  \n",
       "97     6.776507  \n",
       "98     8.195058  \n",
       "99     7.581720  \n",
       "\n",
       "[100 rows x 7 columns]"
      ]
     },
     "execution_count": 63,
     "metadata": {},
     "output_type": "execute_result"
    }
   ],
   "source": [
    "df2"
   ]
  },
  {
   "cell_type": "markdown",
   "metadata": {},
   "source": [
    "Scatter plot of all departure training events in the neighborhood of each station."
   ]
  },
  {
   "cell_type": "code",
   "execution_count": 64,
   "metadata": {},
   "outputs": [
    {
     "data": {
      "image/png": "[encoded data removed]",
      "text/plain": [
       "<Figure size 432x288 with 1 Axes>"
      ]
     },
     "metadata": {
      "needs_background": "light"
     },
     "output_type": "display_data"
    }
   ],
   "source": [
    "#sns.scatterplot('train.len', 'train.ks', data=df, hue=df['train.ks'])\n",
    "x = df2['train.len.all']\n",
    "y = df2['train.ks']\n",
    "plt.scatter(x, y)\n",
    "\n",
    "#a, b = np.polyfit(x, y, 1)\n",
    "#plt.plot(x, a*x+b)        \n",
    "plt.plot(np.unique(x), np.poly1d(np.polyfit(x, y, 1))(np.unique(x)))\n",
    "plt.xlabel('log of number of events')\n",
    "plt.ylabel('relative ks scores')\n",
    "plt.title('Train set: all departure events in the neighborhood')\n",
    "plt.show()"
   ]
  },
  {
   "cell_type": "code",
   "execution_count": 65,
   "metadata": {},
   "outputs": [
    {
     "data": {
      "text/plain": [
       "0.0028029374564714107"
      ]
     },
     "execution_count": 65,
     "metadata": {},
     "output_type": "execute_result"
    }
   ],
   "source": [
    "yhat = np.poly1d(np.polyfit(x, y, 1))(x)\n",
    "MSE = 1/len(y) * np.sum((yhat - y)**2)\n",
    "MSE"
   ]
  },
  {
   "cell_type": "markdown",
   "metadata": {},
   "source": [
    "Scatter plot of the departure train events of each station only."
   ]
  },
  {
   "cell_type": "code",
   "execution_count": 66,
   "metadata": {},
   "outputs": [
    {
     "data": {
      "image/png": "[encoded data removed]",
      "text/plain": [
       "<Figure size 432x288 with 1 Axes>"
      ]
     },
     "metadata": {
      "needs_background": "light"
     },
     "output_type": "display_data"
    }
   ],
   "source": [
    "x = df2['train.len.id']\n",
    "y = df2['train.ks']\n",
    "plt.scatter(x, y)\n",
    "plt.plot(np.unique(x), np.poly1d(np.polyfit(x, y, 1))(np.unique(x)))\n",
    "plt.xlabel('log of number of events')\n",
    "plt.ylabel('relative ks scores')\n",
    "plt.title('Train set: departure events of each station')\n",
    "plt.show()"
   ]
  },
  {
   "cell_type": "code",
   "execution_count": 67,
   "metadata": {},
   "outputs": [
    {
     "data": {
      "text/plain": [
       "0.003567819116805698"
      ]
     },
     "execution_count": 67,
     "metadata": {},
     "output_type": "execute_result"
    }
   ],
   "source": [
    "yhat = np.poly1d(np.polyfit(x, y, 1))(x)\n",
    "MSE = 1/len(y) * np.sum((yhat - y)**2)\n",
    "MSE"
   ]
  },
  {
   "cell_type": "code",
   "execution_count": 68,
   "metadata": {},
   "outputs": [
    {
     "data": {
      "image/png": "[encoded data removed]",
      "text/plain": [
       "<Figure size 432x288 with 1 Axes>"
      ]
     },
     "metadata": {
      "needs_background": "light"
     },
     "output_type": "display_data"
    }
   ],
   "source": [
    "#Remove anomalies\n",
    "indice = np.where(y.to_numpy() < 0.4)[0].tolist()\n",
    "x_new = x.to_numpy()[indice]\n",
    "y_new = y.to_numpy()[indice]\n",
    "plt.scatter(x_new, y_new)\n",
    "plt.plot(np.unique(x_new), np.poly1d(np.polyfit(x_new, y_new, 1))(np.unique(x_new)))\n",
    "plt.xlabel('log of number of events')\n",
    "plt.ylabel('relative ks scores')\n",
    "plt.title('Train set: departure events of each station')\n",
    "plt.show()"
   ]
  },
  {
   "cell_type": "markdown",
   "metadata": {},
   "source": [
    "Scatter plot of all departure test events in the neighbourhood of each station."
   ]
  },
  {
   "cell_type": "code",
   "execution_count": 69,
   "metadata": {},
   "outputs": [
    {
     "data": {
      "image/png": "[encoded data removed]",
      "text/plain": [
       "<Figure size 432x288 with 1 Axes>"
      ]
     },
     "metadata": {
      "needs_background": "light"
     },
     "output_type": "display_data"
    }
   ],
   "source": [
    "#sns.scatterplot('longitude', 'latitude', data=df, hue=df['test.ks'])\n",
    "x = df2['test.len.all']\n",
    "y = df2['test.ks']\n",
    "plt.scatter(x, y)\n",
    "plt.plot(np.unique(x), np.poly1d(np.polyfit(x, y, 1))(np.unique(x)))\n",
    "plt.xlabel('log of number of events')\n",
    "plt.ylabel('relative ks scores')\n",
    "plt.title('Test set: all departure events in the neighborhood')\n",
    "plt.show()"
   ]
  },
  {
   "cell_type": "code",
   "execution_count": 70,
   "metadata": {},
   "outputs": [
    {
     "data": {
      "text/plain": [
       "0.004201597710507084"
      ]
     },
     "execution_count": 70,
     "metadata": {},
     "output_type": "execute_result"
    }
   ],
   "source": [
    "yhat = np.poly1d(np.polyfit(x, y, 1))(x)\n",
    "MSE = 1/len(y) * np.sum((yhat - y)**2)\n",
    "MSE"
   ]
  },
  {
   "cell_type": "markdown",
   "metadata": {},
   "source": [
    "Scatter plot of the departure test events of each station only."
   ]
  },
  {
   "cell_type": "code",
   "execution_count": 71,
   "metadata": {},
   "outputs": [
    {
     "data": {
      "image/png": "[encoded data removed]",
      "text/plain": [
       "<Figure size 432x288 with 1 Axes>"
      ]
     },
     "metadata": {
      "needs_background": "light"
     },
     "output_type": "display_data"
    }
   ],
   "source": [
    "x = df2['test.len.id']\n",
    "y = df2['test.ks']\n",
    "plt.scatter(x, y)\n",
    "plt.plot(np.unique(x), np.poly1d(np.polyfit(x, y, 1))(np.unique(x)))\n",
    "plt.xlabel('log of number of events')\n",
    "plt.ylabel('relative ks scores')\n",
    "plt.title('Test set: departure events of each station')\n",
    "plt.show()"
   ]
  },
  {
   "cell_type": "code",
   "execution_count": 72,
   "metadata": {},
   "outputs": [
    {
     "data": {
      "text/plain": [
       "0.0046839044728461555"
      ]
     },
     "execution_count": 72,
     "metadata": {},
     "output_type": "execute_result"
    }
   ],
   "source": [
    "yhat = np.poly1d(np.polyfit(x, y, 1))(x)\n",
    "MSE = 1/len(y) * np.sum((yhat - y)**2)\n",
    "MSE"
   ]
  },
  {
   "cell_type": "code",
   "execution_count": 73,
   "metadata": {},
   "outputs": [],
   "source": [
    "indice = np.argwhere(train_sign == 1).tolist()\n",
    "len(indice)\n",
    "\n",
    "success_list = []\n",
    "for i in indice:\n",
    "    success_list.append(loc_list[i[0]])"
   ]
  },
  {
   "cell_type": "code",
   "execution_count": 74,
   "metadata": {},
   "outputs": [],
   "source": [
    "indice1 = np.argwhere(test_sign == 1).tolist()\n",
    "len(indice1)\n",
    "\n",
    "success_list1 = []\n",
    "for i in indice:\n",
    "    success_list1.append(loc_list[i[0]])"
   ]
  },
  {
   "cell_type": "code",
   "execution_count": 75,
   "metadata": {},
   "outputs": [
    {
     "data": {
      "text/plain": [
       "Counter({1.0: 91, -1.0: 9})"
      ]
     },
     "execution_count": 75,
     "metadata": {},
     "output_type": "execute_result"
    }
   ],
   "source": [
    "from collections import Counter\n",
    "Counter(train_sign)"
   ]
  },
  {
   "cell_type": "markdown",
   "metadata": {},
   "source": [
    "1.literature review: bike sharing systems, hawkes processes\n",
    "\n",
    "2.Theory\n",
    "\n",
    "3.4 models: hawkes at one station vs different stations, arrival and departure at one station vs at different stations\n",
    "\n",
    "4.Simulations: how well the parameters are recovered, histograms \n",
    "\n",
    "5. Compare KS scores for chosen stations with improvements for the two pairs. Check relationships of KS scores with popularity and geographical locations\n",
    "\n",
    "6.Train and test set for robustness\n",
    "\n",
    "7. Different distance kappa functions"
   ]
  },
  {
   "cell_type": "markdown",
   "metadata": {},
   "source": [
    "simulation for spatio component\n",
    "github link"
   ]
  },
  {
   "cell_type": "code",
   "execution_count": 47,
   "metadata": {},
   "outputs": [],
   "source": [
    "train_mutual = [0.04740251820339503,\n",
    " 0.024410820208493,\n",
    " 0.027553622447433923,\n",
    " 0.02471941899834129,\n",
    " 0.03750619803724692,\n",
    " 0.02726503349543896,\n",
    " 0.03378463227122447,\n",
    " 0.025124852455066626,\n",
    " 0.028048537934086126,\n",
    " 0.021114765437649008,\n",
    " 0.046459322629264777,\n",
    " 0.03832431078205484,\n",
    " 0.03901496332302118,\n",
    " 0.0522268347317445,\n",
    " 0.035236662147186626,\n",
    " 0.029555973463390228,\n",
    " 0.020439183746368883,\n",
    " 0.03375179778827919,\n",
    " 0.03389474004119919,\n",
    " 0.03548638692103834,\n",
    " 0.05610937231054741,\n",
    " 0.028338980231369326,\n",
    " 0.05123126331822436,\n",
    " 0.03017214006931157,\n",
    " 0.04556852731474498,\n",
    " 0.038020096775446266,\n",
    " 0.046557450960132585,\n",
    " 0.023136986853065034,\n",
    " 0.04605427008999158,\n",
    " 0.0433563677124047,\n",
    " 0.04815715023834444,\n",
    " 0.0317311936776869,\n",
    " 0.02860736852256962,\n",
    " 0.046509644659597005,\n",
    " 0.029456279681479902,\n",
    " 0.03245345367605268,\n",
    " 0.024881758082763827,\n",
    " 0.04833301557461972,\n",
    " 0.02683898452306821,\n",
    " 0.03007480756110359,\n",
    " 0.033501904059150545,\n",
    " 0.029271410691736444,\n",
    " 0.04956084430579055,\n",
    " 0.044985074880505294,\n",
    " 0.03593095535381419,\n",
    " 0.02754037946122523,\n",
    " 0.031870781485305644,\n",
    " 0.04807357386103239,\n",
    " 0.05455888358515054,\n",
    " 0.04048618447238839,\n",
    " 0.039262197872744486,\n",
    " 0.06023087039056485,\n",
    " 0.060579929613615024,\n",
    " 0.04312573582375612,\n",
    " 0.04748138764396592,\n",
    " 0.03149631476597364,\n",
    " 0.034352668372952644,\n",
    " 0.022608753119821468,\n",
    " 0.03408329048805214,\n",
    " 0.02042364247494005,\n",
    " 0.03791026766071104,\n",
    " 0.04540072315910776,\n",
    " 0.05704657377876665,\n",
    " 0.03344195915725717,\n",
    " 0.04501662701947695,\n",
    " 0.04052155250911549,\n",
    " 0.02415444068215067,\n",
    " 0.03931182737300942,\n",
    " 0.058021533051177854,\n",
    " 0.033903148031608876,\n",
    " 0.03144018098371015,\n",
    " 0.03315045249439652,\n",
    " 0.04168654695924362,\n",
    " 0.03130181932718423,\n",
    " 0.03831920668297073,\n",
    " 0.054697581079388935,\n",
    " 0.029133876380464607,\n",
    " 0.0360902315636753,\n",
    " 0.025217858131388216,\n",
    " 0.042951430838461147,\n",
    " 0.05230811876336566,\n",
    " 0.028424626205579506,\n",
    " 0.03546202573374224,\n",
    " 0.029484622264027704,\n",
    " 0.0300392912623757,\n",
    " 0.04202583028948437,\n",
    " 0.05286127135008167,\n",
    " 0.04769409762438925,\n",
    " 0.0404345284583838,\n",
    " 0.04097230992820722,\n",
    " 0.038051047948123584,\n",
    " 0.053443459035175556,\n",
    " 0.056489885369455206,\n",
    " 0.030391601052719874,\n",
    " 0.052866603819434865,\n",
    " 0.04990078016222632,\n",
    " 0.04417201192389969,\n",
    " 0.04652731307783359,\n",
    " 0.023576102396511978,\n",
    " 0.03840841144307128]"
   ]
  },
  {
   "cell_type": "code",
   "execution_count": 48,
   "metadata": {},
   "outputs": [],
   "source": [
    "train_seven = [0.031407416935973986,\n",
    " 0.019833771730824623,\n",
    " 0.02109951763788326,\n",
    " 0.01901680827980362,\n",
    " 0.02239687184201372,\n",
    " 0.023736537907607824,\n",
    " 0.024760541268071423,\n",
    " 0.028432348127588325,\n",
    " 0.0220506770638228,\n",
    " 0.02114890174439016,\n",
    " 0.0268202151997331,\n",
    " 0.023405895797027565,\n",
    " 0.036500467782988044,\n",
    " 0.0287849880204889,\n",
    " 0.020787373791148367,\n",
    " 0.030203230368015477,\n",
    " 0.01634901905248881,\n",
    " 0.02311533995412457,\n",
    " 0.03186170969836383,\n",
    " 0.030054628271245498,\n",
    " 0.033116927739131,\n",
    " 0.016317979134524152,\n",
    " 0.040556951014427356,\n",
    " 0.018863629950990446,\n",
    " 0.048316993625634796,\n",
    " 0.018816594812841536,\n",
    " 0.053756870788546296,\n",
    " 0.019365454635953905,\n",
    " 0.053166913764084445,\n",
    " 0.035467856655670205,\n",
    " 0.036340410774251874,\n",
    " 0.014651758688205008,\n",
    " 0.024573233628827684,\n",
    " 0.029132476189725975,\n",
    " 0.024650568247040927,\n",
    " 0.02368615006012259,\n",
    " 0.04202080132206709,\n",
    " 0.030116924464884842,\n",
    " 0.029729451113388428,\n",
    " 0.02724846757281507,\n",
    " 0.015579279878440266,\n",
    " 0.037893693981361776,\n",
    " 0.031264372551274344,\n",
    " 0.03906773909622541,\n",
    " 0.020455244114254922,\n",
    " 0.01959439896798626,\n",
    " 0.03108108946074073,\n",
    " 0.027487526059758127,\n",
    " 0.046789107303434996,\n",
    " 0.028396744332783774,\n",
    " 0.02425868951500293,\n",
    " 0.044294146235272835,\n",
    " 0.03573335013434398,\n",
    " 0.028234447509204563,\n",
    " 0.02765772490222007,\n",
    " 0.026912398218547406,\n",
    " 0.03171176870045911,\n",
    " 0.01998084900867414,\n",
    " 0.030511768459167754,\n",
    " 0.022927198117046133,\n",
    " 0.03125953827423822,\n",
    " 0.056273702108919355,\n",
    " 0.041226341358878316,\n",
    " 0.02954195804142573,\n",
    " 0.03760098195551931,\n",
    " 0.021008387720501287,\n",
    " 0.018378204938451825,\n",
    " 0.03203802001641487,\n",
    " 0.0328968343281435,\n",
    " 0.021487635145185202,\n",
    " 0.02249929176513732,\n",
    " 0.02929517866401632,\n",
    " 0.017637036737416456,\n",
    " 0.03172143819506201,\n",
    " 0.035601107835300905,\n",
    " 0.042610875260996495,\n",
    " 0.02682957464317226,\n",
    " 0.035553931229727886,\n",
    " 0.020942962827480094,\n",
    " 0.03334497762333449,\n",
    " 0.030623568828270886,\n",
    " 0.026813279824526193,\n",
    " 0.0230885459036253,\n",
    " 0.03069948270868006,\n",
    " 0.024182492133826172,\n",
    " 0.028092354672669795,\n",
    " 0.038136108360704246,\n",
    " 0.029541363386023534,\n",
    " 0.012716253795661991,\n",
    " 0.02783786412215694,\n",
    " 0.034805840856931614,\n",
    " 0.027343964161972267,\n",
    " 0.03974871877624764,\n",
    " 0.03217938841289697,\n",
    " 0.045243841049926736,\n",
    " 0.04168480773939287,\n",
    " 0.03157162652811141,\n",
    " 0.09696723195444101,\n",
    " 0.02207646986349282,\n",
    " 0.024137163513281656]"
   ]
  },
  {
   "cell_type": "code",
   "execution_count": 52,
   "metadata": {},
   "outputs": [
    {
     "data": {
      "image/png": "[encoded data removed]",
      "text/plain": [
       "<Figure size 432x288 with 1 Axes>"
      ]
     },
     "metadata": {
      "needs_background": "light"
     },
     "output_type": "display_data"
    }
   ],
   "source": [
    "data = [train_hawkes, train_spatio, train_mutual, train_seven]\n",
    "plt.boxplot(data)\n",
    "\n",
    "plt.xticks([1, 2, 3, 4], ['SE (s)', 'SE (m)', 'SME (s)', 'SME (m)'])\n",
    "plt.savefig('box.pdf')"
   ]
  },
  {
   "cell_type": "code",
   "execution_count": 50,
   "metadata": {},
   "outputs": [
    {
     "data": {
      "text/plain": [
       "0.007300636621984193"
      ]
     },
     "execution_count": 50,
     "metadata": {},
     "output_type": "execute_result"
    }
   ],
   "source": [
    "np.mean(train_diff)"
   ]
  },
  {
   "cell_type": "code",
   "execution_count": 51,
   "metadata": {},
   "outputs": [
    {
     "data": {
      "text/plain": [
       "array([ 1.30799148e-02,  1.85636282e-03,  1.60105918e-02,  2.24575984e-03,\n",
       "        1.36362888e-02,  4.14613913e-03,  3.38189555e-02,  3.29447679e-03,\n",
       "        4.71163344e-04,  9.87142594e-03,  9.85945284e-03,  6.70165935e-03,\n",
       "        3.36984542e-03,  1.73685821e-03,  9.48619401e-03,  2.87986926e-03,\n",
       "        5.40504470e-03,  3.33297678e-03,  1.51115215e-02,  6.80978275e-03,\n",
       "        7.64995808e-03, -1.35404607e-04,  4.02516864e-02,  7.35411125e-03,\n",
       "        8.79426300e-03,  6.82736889e-03,  1.25694750e-02, -1.14891372e-03,\n",
       "        3.30425965e-03,  7.49362665e-03,  7.53520015e-03,  7.99748873e-03,\n",
       "       -3.08130656e-05,  8.89139868e-03,  8.03198448e-03,  6.11987011e-03,\n",
       "        8.08904802e-03,  5.53380393e-02,  4.10425105e-03,  6.37242438e-03,\n",
       "        9.19707805e-03,  1.66311768e-02,  4.79952451e-03,  1.84131514e-02,\n",
       "        1.91467460e-02, -5.74332218e-04, -6.74071702e-03,  4.41751929e-03,\n",
       "        1.40440567e-02,  1.13850729e-02,  9.11821276e-04,  6.41831120e-03,\n",
       "        7.64564455e-03,  8.76746015e-03,  3.22430030e-03,  4.79714733e-03,\n",
       "        7.87578192e-03,  2.29421945e-03,  1.72538690e-03,  4.54922147e-03,\n",
       "        6.66936571e-03, -1.31951885e-02,  1.17944321e-04,  6.32112179e-03,\n",
       "        2.39461689e-03,  9.69211322e-03,  6.34252355e-03,  1.17179761e-02,\n",
       "        1.15659060e-02,  5.13581973e-03,  5.64850549e-03,  9.93292748e-04,\n",
       "        3.26143461e-03,  1.08909934e-03,  6.40464247e-03,  7.48893175e-03,\n",
       "        1.07951587e-02, -5.27384797e-04,  1.10219205e-03,  9.45278018e-03,\n",
       "        6.46578569e-03,  7.48330830e-03,  4.08280531e-03,  8.99804429e-03,\n",
       "        6.80237039e-03,  9.52365851e-03,  2.25302745e-04,  2.53980156e-03,\n",
       "       -4.33162699e-03,  2.63524894e-03,  1.40613572e-02,  1.17994534e-02,\n",
       "        5.96835883e-03,  4.56011803e-04,  2.24756311e-02,  1.92234920e-02,\n",
       "        1.34235974e-02, -5.01451873e-03,  8.52421502e-04,  2.46013057e-03])"
      ]
     },
     "execution_count": 51,
     "metadata": {},
     "output_type": "execute_result"
    }
   ],
   "source": [
    "train_diff"
   ]
  },
  {
   "cell_type": "code",
   "execution_count": null,
   "metadata": {},
   "outputs": [],
   "source": []
  }
 ],
 "metadata": {
  "kernelspec": {
   "display_name": "Python 3",
   "language": "python",
   "name": "python3"
  },
  "language_info": {
   "codemirror_mode": {
    "name": "ipython",
    "version": 3
   },
   "file_extension": ".py",
   "mimetype": "text/x-python",
   "name": "python",
   "nbconvert_exporter": "python",
   "pygments_lexer": "ipython3",
   "version": "3.7.6"
  }
 },
 "nbformat": 4,
 "nbformat_minor": 4
}
