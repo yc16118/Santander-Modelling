{
 "cells": [
  {
   "cell_type": "code",
   "execution_count": 1,
   "metadata": {},
   "outputs": [],
   "source": [
    "import numpy as np, pandas as pd\n",
    "from matplotlib import pyplot as plt\n",
    "from scipy.optimize import minimize\n",
    "import scipy.stats as stats\n",
    "from matplotlib.ticker import FuncFormatter\n",
    "import scipy.optimize as op\n",
    "import os\n",
    "from nltk import flatten\n",
    "import scipy.stats as st\n",
    "import math\n",
    "import numpy.random as random"
   ]
  },
  {
   "cell_type": "markdown",
   "metadata": {},
   "source": [
    "We first implement the conditional intensity function for SE (multiple stations) model."
   ]
  },
  {
   "cell_type": "code",
   "execution_count": 2,
   "metadata": {},
   "outputs": [],
   "source": [
    "def cond_int_fun_diff(t, times, param_i, n, dist):\n",
    "    \"\"\"\n",
    "    Find the value of the conditional intensity function at time t using given parameters.\n",
    "    \"\"\"\n",
    "    beta_d, theta_d, lambda_i, k_d = param_i[0], param_i[1], param_i[2], param_i[3]\n",
    "    \n",
    "    for j in range(n):\n",
    "        \n",
    "        ind = np.searchsorted(times[j], t, side='right')\n",
    "        if ind > 0:\n",
    "            kappa_d = np.exp(- k_d * dist[j])\n",
    "           \n",
    "            lambda_i += np.sum(kappa_d * beta_d * np.exp(-theta_d*(t-times[j][0:ind]))) \n",
    "       \n",
    "    return lambda_i"
   ]
  },
  {
   "cell_type": "markdown",
   "metadata": {},
   "source": [
    "And then we implement the function to simulate data."
   ]
  },
  {
   "cell_type": "code",
   "execution_count": 3,
   "metadata": {},
   "outputs": [],
   "source": [
    "def kappa_fun(dist, k):\n",
    "    \n",
    "    return np.exp(-k * dist)"
   ]
  },
  {
   "cell_type": "markdown",
   "metadata": {},
   "source": [
    "And then we implement the function to simulate data."
   ]
  },
  {
   "cell_type": "code",
   "execution_count": 4,
   "metadata": {},
   "outputs": [],
   "source": [
    "def diff_sim(M, beta, theta, lambda_i, dist, k, n):\n",
    "    \n",
    "    #(Lambda_mat)ij = lambda_i^j: the effect of the jth process on the ith process\n",
    "    lambda_mat = np.zeros((M, M))\n",
    "    ZX_mat = np.zeros((n, 2), dtype=int)\n",
    "    N_array = np.zeros(M)\n",
    "    r_array = []\n",
    "    r_prev = 0\n",
    "    times = {}\n",
    "    \n",
    "    for m in range(M):\n",
    "        lambda_mat[m, :] = kappa_fun(dist[m, :], k[m]) * beta[m]\n",
    "        beta_mat = lambda_mat*1.0\n",
    "        times[m] = []\n",
    "        \n",
    "    for j in range(n):\n",
    "        a_mat = np.zeros((M, M+1))\n",
    "        \n",
    "        for m in range(M):\n",
    "            a_mat[m, 0] = random.exponential(1/lambda_i[m], 1)[0]\n",
    "            for i in range(M):\n",
    "                u = random.uniform(low = 0.0, high = 1.0, size = 1)[0]\n",
    "                if u < 1 - np.exp(-1/theta[m]*lambda_mat[m, i]):\n",
    "                    a_mat[m, i+1] = -1/theta[m]*np.log(1+theta[m]/lambda_mat[m, i]*np.log(1-u))\n",
    "                else:\n",
    "                    a_mat[m, i+1] = np.Inf\n",
    "                \n",
    "        r_next = r_prev + np.min(a_mat)\n",
    "        r_array.append(r_next)\n",
    "        ind = np.argmin(a_mat)\n",
    "        ZX_mat[j, 0] = int(np.unravel_index([ind], (M, M+1))[0][0])\n",
    "        ZX_mat[j, 1] = int(np.unravel_index([ind], (M, M+1))[1][0])\n",
    "                \n",
    "        for m in range(M):\n",
    "            lambda_mat[m, :] *= np.exp(-theta[m]*(r_next - r_prev))\n",
    "            lambda_mat[m, ZX_mat[j, 0]] += beta_mat[m, ZX_mat[j, 0]]                \n",
    "        \n",
    "        N_array[ZX_mat[j, 0]] += 1\n",
    "        r_prev = r_next\n",
    "        times[ZX_mat[j, 0]].append(r_next)\n",
    "    \n",
    "    return times"
   ]
  },
  {
   "cell_type": "markdown",
   "metadata": {},
   "source": [
    "We do some simulations on given parameters."
   ]
  },
  {
   "cell_type": "code",
   "execution_count": 5,
   "metadata": {},
   "outputs": [
    {
     "data": {
      "image/png": "[encoded data removed]",
      "text/plain": [
       "<Figure size 432x288 with 1 Axes>"
      ]
     },
     "metadata": {
      "needs_background": "light"
     },
     "output_type": "display_data"
    },
    {
     "name": "stdout",
     "output_type": "stream",
     "text": [
      "{0: [2.0454490370727316, 2.8378157791280856], 1: [0.48355247035968135], 2: [3.066119952014662, 3.3962769215396125]}\n"
     ]
    }
   ],
   "source": [
    "n = 3\n",
    "#para = {0: [0.5, 1.0, 1.0, 1.75], 1:[0.1, 0.1, 0.05, 2.25], 2: [0.3, 0.3, 0.2, 1.5]}\n",
    "#para_mat = np.zeros((n, 4))\n",
    "#for i in range(n):\n",
    "    #para_mat[i, :] = para[i]\n",
    "\n",
    "beta = [0.5, 0.1, 0.3]\n",
    "theta = [1.0, 0.5, 0.8]\n",
    "lambda_i = [0.2, 0.15, 0.1]\n",
    "k = [1.75, 2, 1.5]\n",
    "\n",
    "param = np.array([beta, theta, lambda_i, k]).T\n",
    "dist_arr = np.array([[0, 0.5, 0.2], \n",
    "                 [0.5, 0, 0.3], \n",
    "                 [0.2, 0.3, 0]])\n",
    "\n",
    "times = diff_sim(3, beta, theta, lambda_i, dist_arr, k, 9)\n",
    "times[0] = times[0][0:2]\n",
    "times[1] = times[1][0:2]\n",
    "times[2] = times[2][0:2]\n",
    "\n",
    "times\n",
    "\n",
    "t = np.linspace(0, 3, 200)\n",
    "lamb_1 = []\n",
    "lamb_2 = []\n",
    "lamb_3 = []\n",
    "\n",
    "for i in range(len(t)):\n",
    "    lambda_1 = cond_int_fun_diff(t[i], times, param[0, :], 3, dist_arr[0, :])\n",
    "    lamb_1.append(lambda_1)\n",
    "    lambda_2 = cond_int_fun_diff(t[i], times, param[1, :], 3, dist_arr[1, :])\n",
    "    lamb_2.append(lambda_2)\n",
    "    lambda_3 = cond_int_fun_diff(t[i], times, param[2, :], 3, dist_arr[2, :])\n",
    "    lamb_3.append(lambda_3)\n",
    "     \n",
    "plt.plot(t, lamb_1, label='1');\n",
    "plt.plot(t, lamb_2, label='2');\n",
    "plt.plot(t, lamb_3, label='3');\n",
    "plt.legend()\n",
    "plt.show();\n",
    "\n",
    "\n",
    "print(times)"
   ]
  },
  {
   "cell_type": "markdown",
   "metadata": {},
   "source": [
    "We need some previous functions for running optimisation on simulated data."
   ]
  },
  {
   "cell_type": "code",
   "execution_count": 6,
   "metadata": {},
   "outputs": [],
   "source": [
    "def prev_event(times, T):\n",
    "    \"\"\"\n",
    "    Return the event times in process j that happens before event time T in process i.\n",
    "    : param times: an n-dimensional array, the full event times in process j\n",
    "    : param T: a number, one event time in process i\n",
    "    \n",
    "    : return k: a number, the index of the last event time in process j happened before T in process i\n",
    "    \"\"\"\n",
    "    \n",
    "    return np.searchsorted(times, T, side='right')"
   ]
  },
  {
   "cell_type": "code",
   "execution_count": 7,
   "metadata": {},
   "outputs": [],
   "source": [
    "def process_times(location_codes, times, i):\n",
    "    \"\"\"\n",
    "    Return the event times observed at station j = 1, ..., m, before the last event time\n",
    "    observed in departure process at station i.\n",
    "    \n",
    "    : param location_codes: a list of length M, the location codes of all M stations, with i as the first.\n",
    "    : param times: a dictionary, storing the departure times from station j = 1, ..., M as values, \\\n",
    "    and the location codes of corresponding stations as keys.\n",
    "    : param i: the index of the station being studied\n",
    "    \n",
    "    : return times: a dictionary, storing all relevant event times\n",
    "    \"\"\"\n",
    "    \n",
    "    #ii = get_station_index(location_codes, i)\n",
    "    T = times[i][-1]\n",
    "    ind_list = []\n",
    "    new_times = {}\n",
    "    \n",
    "    for j in range(len(location_codes)):\n",
    "        ind = prev_event(times[location_codes[j]], T)\n",
    "        if j != i and ind != 0:\n",
    "            new_times[location_codes[j]] = times[location_codes[j]][:ind]\n",
    "        \n",
    "        if ind == 0:\n",
    "            ind_list.append(location_codes[j])\n",
    "        \n",
    "        if j == i:\n",
    "            new_times[location_codes[j]] = times[location_codes[j]]\n",
    "            \n",
    "    return new_times, ind_list"
   ]
  },
  {
   "cell_type": "code",
   "execution_count": 8,
   "metadata": {},
   "outputs": [],
   "source": [
    "def A_ii(theta, times_i):\n",
    "    \"\"\"\n",
    "    Finds the array of function A_i, from 1st event to hth event in process i\n",
    "    \n",
    "    : param theta: a real number\n",
    "    : param times_i, a 1-D array, the event times observed in process i\n",
    "    \n",
    "    : return A: a 1D array\n",
    "    \"\"\"\n",
    "   \n",
    "    A = np.zeros(len(times_i))\n",
    "    \n",
    "    for h in range(1, len(times_i)):\n",
    "        A[h] = np.exp(-theta*(times_i[h] - times_i[h-1]))*(1+A[h-1])\n",
    "        \n",
    "    return A"
   ]
  },
  {
   "cell_type": "code",
   "execution_count": 9,
   "metadata": {},
   "outputs": [],
   "source": [
    "def A_ij(theta, times_i, times_j):\n",
    "    \"\"\"\n",
    "    Finds the array of function A_ij, for all event times in process j = 1, ..., M\n",
    "    \n",
    "    : param theta: a real number\n",
    "    : param times_i, a 1-D array, the event times observed in process i\n",
    "    : param times_j, a 1-D array, the event times observed in process j\n",
    "    \n",
    "    : return B: a 1-D array\n",
    "    \"\"\"\n",
    "    \n",
    "    B = np.zeros(len(times_i))\n",
    "    ind = prev_event(times_j, times_i[0])\n",
    "    \n",
    "    B[0] = np.sum(np.exp(- theta * (times_i[0] - times_j[:ind])))\n",
    "    \n",
    "    for h in range(1, len(times_i)):\n",
    "        B[h] = np.exp(-theta * (times_i[h] - times_i[h-1])) * B[h-1] \n",
    "        new_ind = prev_event(times_j, times_i[h])\n",
    "        if ind != new_ind:\n",
    "            B[h] += np.sum(np.exp(- theta * (times_i[h] - times_j[ind:new_ind])))\n",
    "            ind = new_ind#prev_event(times_j, times_i[h])\n",
    "        \n",
    "    return B"
   ]
  },
  {
   "cell_type": "code",
   "execution_count": 10,
   "metadata": {},
   "outputs": [],
   "source": [
    "def excitation_j(theta, t, times_j):\n",
    "    \"\"\"\n",
    "    Finds the array of function excitation_j, for all event times in process j = 1, ..., M\n",
    "    \n",
    "    : param theta: a real number, thetaj\n",
    "    : param times_i, a 1-D array, the event times observed in process i\n",
    "    : param times_j, a 1-D array, the event times observed in process j\n",
    "    \n",
    "    : return Ej: a 1-D array\n",
    "    \"\"\"\n",
    "     #Ej = 0\n",
    "    ind = prev_event(times_j, t)\n",
    "    Ej = np.zeros(ind)\n",
    "    if ind != 0:\n",
    "            Ej = np.exp(-theta*(t - times_j[0:ind])) - 1\n",
    "    #for i in range(ind):\n",
    "        #Ej += np.exp(-theta*(t - times_j[i])) - 1\n",
    "    \n",
    "    return Ej"
   ]
  },
  {
   "cell_type": "code",
   "execution_count": 11,
   "metadata": {},
   "outputs": [],
   "source": [
    "def diff_log_likelihood(location_codes, event_times, beta, theta, lambda_b, k, dist, i): \n",
    "    \"\"\"\n",
    "    Finds the log-likelihood of the mutually exciting process between stations\n",
    "    \n",
    "    : param location_codes: a list of length M, the location codes of all M stations with i as the first\n",
    "    : param event_times: a dictionary, the event times in all processes \\\n",
    "      that occurred before the last event in process i \n",
    "    : param beta: a real number\n",
    "    : param theta: a real number\n",
    "    : param k: a real number\n",
    "    : param dist: a 1-D array of length M, which stores the distances of each station\n",
    "    : param lambda_b: a real number, the baseline intensity of station i\n",
    "    : prarm i: the index of the station being studied\n",
    "    \n",
    "    : return A: a real number, the baseline intensity of station i\n",
    "    \"\"\"\n",
    "    #ind = get_station_index(location_codes, i)\n",
    "    ind = i\n",
    "    times_i = event_times[i]\n",
    "    \n",
    "    kappa = kappa_fun(dist, k)\n",
    "    ratio = kappa*beta/theta\n",
    "    T = times_i[-1]\n",
    "    \n",
    "    A = A_ii(theta, times_i)\n",
    "    A = kappa[ind]*beta*A\n",
    "    ex_terms = ratio[ind] * np.sum(excitation_j(theta, T, times_i))\n",
    "    \n",
    "    for j in range(len(location_codes)):\n",
    "        if j != ind:\n",
    "            A += kappa[j] * beta * A_ij(theta, times_i, event_times[location_codes[j]])\n",
    "            ex_terms += ratio[j] * np.sum(excitation_j(theta, T, event_times[location_codes[j]]))\n",
    "    \n",
    "    res = np.sum(np.log(lambda_b +A)) + ex_terms - lambda_b*T\n",
    "    \n",
    "    return res"
   ]
  },
  {
   "cell_type": "code",
   "execution_count": 12,
   "metadata": {},
   "outputs": [],
   "source": [
    "def get_station_index(loc_codes, i):\n",
    "    \"\"\"Find the index of given station id i in the array location codes\n",
    "    \n",
    "    :param i: station id\n",
    "    :return ind: the inderx\n",
    "    \"\"\"\n",
    "    \n",
    "    return loc_codes.index(i)"
   ]
  },
  {
   "cell_type": "code",
   "execution_count": 13,
   "metadata": {},
   "outputs": [],
   "source": [
    "op_diff_log_likelihood = lambda param, location_codes, t, dist, i: - diff_log_likelihood(location_codes, t, np.exp(param[0]), np.exp(param[0])+np.exp(param[1]), \n",
    "                                                                                         np.exp(param[2]), np.exp(param[3]), dist, i)"
   ]
  },
  {
   "cell_type": "markdown",
   "metadata": {},
   "source": [
    "We run the simulation 500 times, each time generating a dataset with 3 processes, and 2700 time points in total."
   ]
  },
  {
   "cell_type": "code",
   "execution_count": 14,
   "metadata": {},
   "outputs": [
    {
     "name": "stdout",
     "output_type": "stream",
     "text": [
      "Iteration:  500 / 500\r"
     ]
    }
   ],
   "source": [
    "n =500\n",
    "M = 3\n",
    "\n",
    "#para = {0: [0.5, 1.0, 1.5, 1.75], 1:[0.4, 0.9, 1.8, 2.0], 2: [0.3, 0.8, 2.2, 1.5]}\n",
    "#para_mat = np.zeros((n, 4))\n",
    "#for i in range(n):\n",
    "   # para_mat[i, :] = para[i]\n",
    "    \n",
    "#dist_arr = np.array([[0, 0.5], \n",
    "                    #[0.5, 0])\n",
    "    \n",
    "beta = [0.5, 0.1, 0.3]\n",
    "theta = [1.0, 0.5, 0.8]\n",
    "lambda_i = [0.2, 0.15, 0.1]\n",
    "k = [1.75, 2, 1.5]\n",
    "\n",
    "param = np.array([beta, theta, lambda_i, k]).T\n",
    "dist_arr = np.array([[0, 0.5, 0.2], \n",
    "                 [0.5, 0, 0.3], \n",
    "                 [0.2, 0.3, 0]])\n",
    "\n",
    "loc_codes = [0, 1, 2]\n",
    "\n",
    "para_0 = np.zeros((n, 4))\n",
    "para_1 = np.zeros((n, 4))\n",
    "para_2 = np.zeros((n, 4))\n",
    "\n",
    "x0_init = [np.log(0.5), np.log(1.0-0.5), np.log(0.2), np.log(1.75)]\n",
    "x1_init = [np.log(0.1), np.log(0.5-0.1), np.log(0.15), np.log(2)]\n",
    "x2_init = [np.log(0.3), np.log(0.8-0.3), np.log(0.1), np.log(1.5)]\n",
    "\n",
    "for i in range(n):\n",
    "    print('Iteration: ', i+1, '/',n, end='\\r')\n",
    "    times = diff_sim(3, beta, theta, lambda_i, dist_arr, k, 2700)\n",
    "    t_0 = process_times(loc_codes, times, 0)[0]\n",
    "    t_1 = process_times(loc_codes, times, 1)[0]\n",
    "    t_2 = process_times(loc_codes, times, 2)[0]\n",
    "    \n",
    "    mle_0 = op.minimize(op_diff_log_likelihood, x0 = x0_init, method = 'Nelder-Mead', args=(loc_codes, t_0, dist_arr[0, :], 0))\n",
    "    mle_1 = op.minimize(op_diff_log_likelihood, x0 = x1_init, method = 'Nelder-Mead', args=(loc_codes, t_1, dist_arr[1, :], 1))\n",
    "    mle_2 = op.minimize(op_diff_log_likelihood, x0 = x2_init, method = 'Nelder-Mead', args=(loc_codes, t_2, dist_arr[2, :], 2))\n",
    "    \n",
    "    para_0[i, :] = mle_0.x\n",
    "    para_1[i, :] = mle_1.x\n",
    "    para_2[i, :] = mle_2.x"
   ]
  },
  {
   "cell_type": "code",
   "execution_count": 15,
   "metadata": {},
   "outputs": [
    {
     "data": {
      "image/png": "[encoded data removed]",
      "text/plain": [
       "<Figure size 432x288 with 1 Axes>"
      ]
     },
     "metadata": {
      "needs_background": "light"
     },
     "output_type": "display_data"
    }
   ],
   "source": [
    "plt.hist(np.exp(para_0[:n, 0]), density=True)\n",
    "plt.axvline(x=0.5)\n",
    "plt.show()"
   ]
  },
  {
   "cell_type": "code",
   "execution_count": 16,
   "metadata": {},
   "outputs": [
    {
     "data": {
      "image/png": "[encoded data removed]",
      "text/plain": [
       "<Figure size 432x288 with 1 Axes>"
      ]
     },
     "metadata": {
      "needs_background": "light"
     },
     "output_type": "display_data"
    }
   ],
   "source": [
    "plt.hist(np.exp(para_0[:n, 0])+ np.exp(para_0[:n, 1]), density=True)\n",
    "plt.axvline(x=1.0)\n",
    "plt.show()"
   ]
  },
  {
   "cell_type": "code",
   "execution_count": 17,
   "metadata": {},
   "outputs": [
    {
     "data": {
      "image/png": "[encoded data removed]",
      "text/plain": [
       "<Figure size 432x288 with 1 Axes>"
      ]
     },
     "metadata": {
      "needs_background": "light"
     },
     "output_type": "display_data"
    }
   ],
   "source": [
    "plt.hist(np.exp(para_0[:n, 2]), density=True)\n",
    "plt.axvline(x=0.2)\n",
    "plt.show()"
   ]
  },
  {
   "cell_type": "code",
   "execution_count": 18,
   "metadata": {},
   "outputs": [
    {
     "data": {
      "image/png": "[encoded data removed]",
      "text/plain": [
       "<Figure size 432x288 with 1 Axes>"
      ]
     },
     "metadata": {
      "needs_background": "light"
     },
     "output_type": "display_data"
    }
   ],
   "source": [
    "plt.hist( np.exp(para_0[:n, 3]), density=True)\n",
    "plt.axvline(x=1.75)\n",
    "plt.show()"
   ]
  },
  {
   "cell_type": "code",
   "execution_count": 19,
   "metadata": {},
   "outputs": [
    {
     "data": {
      "image/png": "[encoded data removed]",
      "text/plain": [
       "<Figure size 432x288 with 1 Axes>"
      ]
     },
     "metadata": {
      "needs_background": "light"
     },
     "output_type": "display_data"
    }
   ],
   "source": [
    "plt.hist(np.exp(para_1[:n, 0]), density=True)\n",
    "plt.axvline(x=0.1)\n",
    "plt.show()"
   ]
  },
  {
   "cell_type": "code",
   "execution_count": 20,
   "metadata": {},
   "outputs": [
    {
     "data": {
      "image/png": "[encoded data removed]",
      "text/plain": [
       "<Figure size 432x288 with 1 Axes>"
      ]
     },
     "metadata": {
      "needs_background": "light"
     },
     "output_type": "display_data"
    }
   ],
   "source": [
    "plt.hist(np.exp(para_1[:n, 0])+ np.exp(para_1[:n, 1]), density=True)\n",
    "plt.axvline(x=0.5)\n",
    "plt.title('')\n",
    "plt.show()"
   ]
  },
  {
   "cell_type": "code",
   "execution_count": 21,
   "metadata": {},
   "outputs": [
    {
     "data": {
      "image/png": "[encoded data removed]",
      "text/plain": [
       "<Figure size 432x288 with 1 Axes>"
      ]
     },
     "metadata": {
      "needs_background": "light"
     },
     "output_type": "display_data"
    }
   ],
   "source": [
    "plt.hist(np.exp(para_1[:n, 2]), density=True)\n",
    "plt.axvline(x=0.15)\n",
    "plt.show()"
   ]
  },
  {
   "cell_type": "code",
   "execution_count": 22,
   "metadata": {},
   "outputs": [
    {
     "data": {
      "image/png": "[encoded data removed]",
      "text/plain": [
       "<Figure size 432x288 with 1 Axes>"
      ]
     },
     "metadata": {
      "needs_background": "light"
     },
     "output_type": "display_data"
    }
   ],
   "source": [
    "plt.hist( np.exp(para_1[:n, 3]), density=True)\n",
    "plt.axvline(x=2)\n",
    "plt.show()"
   ]
  },
  {
   "cell_type": "code",
   "execution_count": 23,
   "metadata": {},
   "outputs": [
    {
     "data": {
      "image/png": "[encoded data removed]",
      "text/plain": [
       "<Figure size 432x288 with 1 Axes>"
      ]
     },
     "metadata": {
      "needs_background": "light"
     },
     "output_type": "display_data"
    }
   ],
   "source": [
    "plt.hist(np.exp(para_2[:n, 0]), density=True)\n",
    "plt.axvline(x=0.3)\n",
    "plt.show()"
   ]
  },
  {
   "cell_type": "code",
   "execution_count": 24,
   "metadata": {},
   "outputs": [
    {
     "data": {
      "image/png": "[encoded data removed]",
      "text/plain": [
       "<Figure size 432x288 with 1 Axes>"
      ]
     },
     "metadata": {
      "needs_background": "light"
     },
     "output_type": "display_data"
    }
   ],
   "source": [
    "plt.hist(np.exp(para_2[:n, 0])+ np.exp(para_2[:n, 1]), density=True)\n",
    "plt.axvline(x=0.8)\n",
    "plt.show()"
   ]
  },
  {
   "cell_type": "code",
   "execution_count": 25,
   "metadata": {},
   "outputs": [
    {
     "data": {
      "image/png": "[encoded data removed]",
      "text/plain": [
       "<Figure size 432x288 with 1 Axes>"
      ]
     },
     "metadata": {
      "needs_background": "light"
     },
     "output_type": "display_data"
    }
   ],
   "source": [
    "plt.hist(np.exp(para_2[:n, 2]), density=True)\n",
    "plt.axvline(x=0.1)\n",
    "plt.show()"
   ]
  },
  {
   "cell_type": "code",
   "execution_count": 26,
   "metadata": {},
   "outputs": [
    {
     "data": {
      "image/png": "[encoded data removed]",
      "text/plain": [
       "<Figure size 432x288 with 1 Axes>"
      ]
     },
     "metadata": {
      "needs_background": "light"
     },
     "output_type": "display_data"
    }
   ],
   "source": [
    "plt.hist( np.exp(para_2[:n, 3]), density=True)\n",
    "plt.axvline(x=1.5)\n",
    "plt.show()"
   ]
  },
  {
   "cell_type": "markdown",
   "metadata": {},
   "source": [
    "And we combine all plots together."
   ]
  },
  {
   "cell_type": "code",
   "execution_count": 38,
   "metadata": {},
   "outputs": [
    {
     "data": {
      "image/png": "[encoded data removed]",
      "text/plain": [
       "<Figure size 1080x360 with 12 Axes>"
      ]
     },
     "metadata": {
      "needs_background": "light"
     },
     "output_type": "display_data"
    }
   ],
   "source": [
    "import seaborn as sns\n",
    "from matplotlib import pyplot as plt\n",
    "fig, axes = plt.subplots(3, 4, figsize=(15, 5))\n",
    "\n",
    "sns.distplot(np.exp(para_0[:n, 0]), ax=axes[0, 0], hist=True, kde=True)\n",
    "axes[0, 0].set_title(r'$\\beta_1$')\n",
    "axes[0, 0].axvline(0.5, color = 'black', linestyle = '--')\n",
    "\n",
    "sns.distplot(np.exp(para_0[:n, 0]) + np.exp(para_0[:n, 1]), ax=axes[0, 1], hist=True, kde=True)\n",
    "axes[0, 1].set_title(r'$\\theta_1$')\n",
    "axes[0, 1].axvline(1.0, color = 'black', linestyle = '--')\n",
    "\n",
    "sns.distplot(np.exp(para_0[:n, 3]), ax=axes[0, 2], hist=True, kde=True)\n",
    "axes[0, 2].set_title(r'$k_1$')\n",
    "axes[0, 2].axvline(1.75, color = 'black', linestyle = '--')\n",
    "\n",
    "sns.distplot(np.exp(para_0[:n, 2]), ax=axes[0, 3], hist=True, kde=True)\n",
    "axes[0, 3].set_title(r'$\\lambda_1$')\n",
    "axes[0, 3].axvline(0.2, color = 'black', linestyle = '--')\n",
    "\n",
    "sns.distplot(np.exp(para_1[:n, 0]), ax=axes[1, 0], hist=True, kde=True)\n",
    "axes[1, 0].set_title(r'$\\beta_2$')\n",
    "axes[1, 0].axvline(0.1, color = 'black', linestyle = '--')\n",
    "\n",
    "sns.distplot(np.exp(para_1[:n, 0])+np.exp(para_1[:n, 1]), ax=axes[1, 1], hist=True, kde=True)\n",
    "axes[1, 1].set_title(r'$\\theta_2$')\n",
    "axes[1, 1].axvline(0.5, color = 'black', linestyle = '--')\n",
    "\n",
    "sns.distplot(np.exp(para_1[:n, 3]) , ax=axes[1, 2], hist=True, kde=True)\n",
    "axes[1, 2].set_title(r'$k_2$')\n",
    "axes[1, 2].axvline(2, color = 'black', linestyle = '--')\n",
    "\n",
    "sns.distplot(np.exp(para_1[:n, 2]), ax=axes[1, 3], hist=True, kde=True)\n",
    "axes[1, 3].set_title(r'$\\lambda_2$')\n",
    "axes[1, 3].axvline(0.15, color = 'black', linestyle = '--')\n",
    "\n",
    "sns.distplot(np.exp(para_2[:n, 0]), ax=axes[2, 0], hist=True, kde=True)\n",
    "axes[2, 0].set_title(r'$\\beta_3$')\n",
    "axes[2, 0].axvline(0.3, color = 'black', linestyle = '--')\n",
    "\n",
    "sns.distplot(np.exp(para_2[:n, 0])+np.exp(para_2[:n, 1]), ax=axes[2, 1], hist=True, kde=True)\n",
    "axes[2, 1].set_title(r'$\\theta_3$')\n",
    "axes[2, 1].axvline(0.8, color = 'black', linestyle = '--')\n",
    "\n",
    "sns.distplot(np.exp(para_2[:n, 3]) , ax=axes[2, 2], hist=True, kde=True)\n",
    "axes[2, 2].set_title(r'$k_3$')\n",
    "axes[2, 2].axvline(1.5, color = 'black', linestyle = '--')\n",
    "\n",
    "sns.distplot(np.exp(para_2[:n, 2]), ax=axes[2, 3], hist=True, kde=True)\n",
    "axes[2, 3].set_title(r'$\\lambda_3$')\n",
    "axes[2, 3].axvline(0.1, color = 'black', linestyle = '--')\n",
    "\n",
    "\n",
    "fig.tight_layout(rect=[0, 0.03, 1, 0.95])\n",
    "plt.savefig('smes sim.pdf')"
   ]
  },
  {
   "cell_type": "markdown",
   "metadata": {},
   "source": [
    "And produce a boxplot for KS statistics."
   ]
  },
  {
   "cell_type": "code",
   "execution_count": null,
   "metadata": {},
   "outputs": [],
   "source": [
    "data = [ks_dep, ks_arr]\n",
    "plt.boxplot(data)\n",
    "\n",
    "plt.xticks([1, 2], ['SME (single station): ' + r'$N_{dep}(t)$', 'SME (single station): ' + r'$N_{arr}(t)$'])\n",
    "plt.savefig('sme box.pdf')"
   ]
  }
 ],
 "metadata": {
  "kernelspec": {
   "display_name": "Python 3",
   "language": "python",
   "name": "python3"
  },
  "language_info": {
   "codemirror_mode": {
    "name": "ipython",
    "version": 3
   },
   "file_extension": ".py",
   "mimetype": "text/x-python",
   "name": "python",
   "nbconvert_exporter": "python",
   "pygments_lexer": "ipython3",
   "version": "3.7.6"
  }
 },
 "nbformat": 4,
 "nbformat_minor": 4
}
