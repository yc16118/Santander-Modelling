{
 "cells": [
  {
   "cell_type": "code",
   "execution_count": 17,
   "metadata": {},
   "outputs": [],
   "source": [
    "import numpy as np, pandas as pd\n",
    "from matplotlib import pyplot as plt\n",
    "from scipy.optimize import minimize\n",
    "import scipy.stats as stats\n",
    "from matplotlib.ticker import FuncFormatter\n",
    "import scipy.optimize as op\n",
    "import os\n",
    "from nltk import flatten\n",
    "import scipy.stats as st\n",
    "import math\n",
    "import random"
   ]
  },
  {
   "cell_type": "code",
   "execution_count": 18,
   "metadata": {},
   "outputs": [],
   "source": [
    "from ipynb.fs.defs.DifferentStations import prev_event, process_times, A_ii, A_ij, excitation_j, diff_comp, diff_log_likelihood, thres_fun, kappa_fun, ecdf, get_station_index"
   ]
  },
  {
   "cell_type": "markdown",
   "metadata": {},
   "source": [
    "We implement some functions from SE (single station) and SE (multiple stations))."
   ]
  },
  {
   "cell_type": "code",
   "execution_count": 19,
   "metadata": {},
   "outputs": [],
   "source": [
    "def hawkes_comp(t, times, beta, theta, lambda_b):\n",
    "    ratio = beta/theta\n",
    "    ind = prev_event(times, t)\n",
    "    second_sum = 0\n",
    "    \n",
    "    if ind != 0:\n",
    "        second_sum = ratio * np.sum(np.exp(-theta*(t - times[0:ind])) - 1)\n",
    "    comp= lambda_b*t - second_sum \n",
    "    \n",
    "    return comp"
   ]
  },
  {
   "cell_type": "code",
   "execution_count": 20,
   "metadata": {},
   "outputs": [],
   "source": [
    "def hawkes_log_likelihood(times, beta, theta, lambda_b): \n",
    "    ratio = beta/theta\n",
    "    A = np.zeros(len(times))\n",
    "    T = times[-1]\n",
    "    \n",
    "    for i in range(1, len(times)):\n",
    "        A[i] = np.exp(-theta*(times[i] - times[i-1]))*(1+A[i-1])\n",
    "    \n",
    "    first_sum = np.sum(np.log(lambda_b + beta*A))\n",
    "    second_sum = ratio * np.sum(np.exp(-theta*(T - times)) - 1)\n",
    "    res = first_sum + second_sum - lambda_b*T\n",
    "    \n",
    "    return res"
   ]
  },
  {
   "cell_type": "code",
   "execution_count": 21,
   "metadata": {},
   "outputs": [],
   "source": [
    "station_data = pd.read_csv(\"./santander_locations.csv\")\n",
    "loc_codes = list(station_data['Station.Id'].to_numpy())\n",
    "all_times = {}\n",
    "\n",
    "for i in range(808):\n",
    "    loc = loc_codes[i]\n",
    "    path = f\"./dep/Station{loc}\"\n",
    "    data_files = os.listdir(path)\n",
    "\n",
    "    bike = {file: pd.read_csv(path + '/' + file)\n",
    "             for file in data_files}  \n",
    "\n",
    "    for names in bike.keys():\n",
    "        del bike[names][\"Unnamed: 0\"]\n",
    "    \n",
    "    times = {}\n",
    "\n",
    "    for names in bike.keys():\n",
    "        if names != '.DS_Store':\n",
    "            df = bike[names]\n",
    "            df = df['start_t']\n",
    "            times[names] = df.values.tolist()\n",
    "    \n",
    "    times_list = np.array(sorted(flatten(list(times.values()))))\n",
    "    all_times[loc] = times_list\n",
    "    \n",
    "loc_codes0 = loc_codes"
   ]
  },
  {
   "cell_type": "code",
   "execution_count": 22,
   "metadata": {},
   "outputs": [
    {
     "data": {
      "text/plain": [
       "'235_07Oct2020-13Oct2020.csv'"
      ]
     },
     "execution_count": 22,
     "metadata": {},
     "output_type": "execute_result"
    }
   ],
   "source": [
    "list(bike.keys())[0]"
   ]
  },
  {
   "cell_type": "markdown",
   "metadata": {},
   "source": [
    "We use a train/test split ratio of 0.75, taking the first 12 weeks as training data, and the rest as test data. We read and split train/test sets."
   ]
  },
  {
   "cell_type": "code",
   "execution_count": 23,
   "metadata": {},
   "outputs": [],
   "source": [
    "station_data = pd.read_csv(\"./santander_locations.csv\")\n",
    "loc_codes = list(station_data['Station.Id'].to_numpy())\n",
    "train_times = {}\n",
    "test_times = {}\n",
    "\n",
    "for i in range(808):\n",
    "    loc = loc_codes[i]\n",
    "    path = f\"./sortdep/Station{loc}\"\n",
    "    data_files = os.listdir(path)\n",
    "\n",
    "    bike = {file: pd.read_csv(path + '/' + file)\n",
    "             for file in data_files}  \n",
    "\n",
    "    for names in bike.keys():\n",
    "        del bike[names][\"Unnamed: 0\"]\n",
    "    \n",
    "    train = {}\n",
    "    test = {}\n",
    "    week_list = list(bike.keys())\n",
    "    n = len(week_list)\n",
    "    \n",
    "    for j in range(n):\n",
    "        names = week_list[j]\n",
    "        if names != '.DS_Store' and j < 12:\n",
    "            df = bike[names]\n",
    "            df = df['start_t']\n",
    "            train[names] = df.values.tolist()\n",
    "        elif names != '.DS_Store' and j >= 12:\n",
    "            df = bike[names]\n",
    "            df = df['start_t']\n",
    "            test[names] = df.values.tolist()\n",
    "             \n",
    "    train_list = np.array(sorted(flatten(list(train.values()))))\n",
    "    test_list = np.array(sorted(flatten(list(test.values()))))\n",
    "    train_times[loc] = train_list\n",
    "    test_times[loc] = test_list\n",
    "    \n",
    "loc_codes0 = loc_codes"
   ]
  },
  {
   "cell_type": "markdown",
   "metadata": {},
   "source": [
    "We also read the geodesic file that contains geodesic distances between stations."
   ]
  },
  {
   "cell_type": "code",
   "execution_count": 24,
   "metadata": {},
   "outputs": [],
   "source": [
    "geo_df= pd.read_csv('./geodesic.csv')\n",
    "del geo_df[\"Unnamed: 0\"]\n",
    "\n",
    "dist_arr = np.zeros(len(loc_codes))"
   ]
  },
  {
   "cell_type": "code",
   "execution_count": 25,
   "metadata": {},
   "outputs": [
    {
     "data": {
      "text/plain": [
       "808"
      ]
     },
     "execution_count": 25,
     "metadata": {},
     "output_type": "execute_result"
    }
   ],
   "source": [
    "loc_codes = loc_codes0\n",
    "len(dist_arr)"
   ]
  },
  {
   "cell_type": "code",
   "execution_count": 26,
   "metadata": {},
   "outputs": [],
   "source": [
    "ks_train_hawkes = []\n",
    "ks_test_hawkes = []\n",
    "ks_train_spatio = []\n",
    "ks_test_spatio = []"
   ]
  },
  {
   "cell_type": "markdown",
   "metadata": {},
   "source": [
    "Victoria Station"
   ]
  },
  {
   "cell_type": "markdown",
   "metadata": {},
   "source": [
    "We do some preprocessing of time data."
   ]
  },
  {
   "cell_type": "code",
   "execution_count": 229,
   "metadata": {},
   "outputs": [],
   "source": [
    "sid = 268\n",
    "ind = get_station_index(loc_codes, sid)\n",
    "\n",
    "t0, ind_list = process_times(loc_codes, train_times, sid)\n",
    "t1, ind_list = process_times(loc_codes, test_times, sid)\n",
    "#if len(ind_list) != 0:\n",
    "    #loc_codes[ind_list] = -1\n",
    "    #loc_codes = [i for i in loc_codes if i != -1]\n",
    "    \n",
    "dist_arr = geo_df[f\"{ind}\"].to_numpy()"
   ]
  },
  {
   "cell_type": "markdown",
   "metadata": {},
   "source": [
    "And we choose a threshold of 0.5 miles to select nearby stations."
   ]
  },
  {
   "cell_type": "code",
   "execution_count": 230,
   "metadata": {},
   "outputs": [
    {
     "name": "stdout",
     "output_type": "stream",
     "text": [
      "11\n",
      "11\n",
      "[148, 161, 167, 177, 178, 243, 268, 288, 320, 424, 826]\n"
     ]
    }
   ],
   "source": [
    "thres = 0.5\n",
    "new_dist, new_loc = thres_fun(dist_arr, thres, loc_codes)\n",
    "print(len(new_loc));\n",
    "print(len(new_dist));\n",
    "print(new_loc)"
   ]
  },
  {
   "cell_type": "markdown",
   "metadata": {},
   "source": [
    "We obtain the time events for the stations in a neighbourhood of 0.5 miles in radius."
   ]
  },
  {
   "cell_type": "code",
   "execution_count": 231,
   "metadata": {},
   "outputs": [
    {
     "data": {
      "text/plain": [
       "array([   394.06837819,    421.64216366,    429.84886557, ...,\n",
       "       161060.65142088, 161062.39674381, 161121.55919642])"
      ]
     },
     "execution_count": 231,
     "metadata": {},
     "output_type": "execute_result"
    }
   ],
   "source": [
    "t00 = {}\n",
    "t01 = {}\n",
    "\n",
    "for loc in new_loc:\n",
    "    t00[loc] = t0[loc]\n",
    "    t01[loc] = t1[loc]\n",
    "\n",
    "t00[268]"
   ]
  },
  {
   "cell_type": "markdown",
   "metadata": {},
   "source": [
    "And the optimisation for SE (multiple stations)."
   ]
  },
  {
   "cell_type": "code",
   "execution_count": 232,
   "metadata": {},
   "outputs": [
    {
     "data": {
      "text/plain": [
       " final_simplex: (array([[-3.84924511, -3.09005731, -8.45537374,  1.66464874],\n",
       "       [-3.84922665, -3.09003794, -8.45528851,  1.66464125],\n",
       "       [-3.84926822, -3.09005683, -8.45538095,  1.66463176],\n",
       "       [-3.84921574, -3.09003521, -8.45542934,  1.66464875],\n",
       "       [-3.84922875, -3.09006733, -8.45543148,  1.66465951]]), array([14571.40788557, 14571.40788557, 14571.40788558, 14571.40788563,\n",
       "       14571.40788563]))\n",
       "           fun: 14571.407885565552\n",
       "       message: 'Optimization terminated successfully.'\n",
       "          nfev: 195\n",
       "           nit: 112\n",
       "        status: 0\n",
       "       success: True\n",
       "             x: array([-3.84924511, -3.09005731, -8.45537374,  1.66464874])"
      ]
     },
     "execution_count": 232,
     "metadata": {},
     "output_type": "execute_result"
    }
   ],
   "source": [
    "op_diff_log_likelihood = lambda param, location_codes, t, dist, i: - diff_log_likelihood(location_codes, t, np.exp(param[0]), np.exp(param[0])+np.exp(param[1]), \n",
    "                                                                                         np.exp(param[2]), np.exp(param[3]), dist, i)\n",
    "mle0 = op.minimize(op_diff_log_likelihood, x0 = [-4, -3, -8, 1.6], method = 'Nelder-Mead', args=(new_loc, t00, new_dist, sid))\n",
    "mle0"
   ]
  },
  {
   "cell_type": "code",
   "execution_count": 235,
   "metadata": {},
   "outputs": [
    {
     "ename": "KeyboardInterrupt",
     "evalue": "",
     "output_type": "error",
     "traceback": [
      "\u001b[0;31m---------------------------------------------------------------------------\u001b[0m",
      "\u001b[0;31mKeyboardInterrupt\u001b[0m                         Traceback (most recent call last)",
      "\u001b[0;32m<ipython-input-235-ff5038460b60>\u001b[0m in \u001b[0;36m<module>\u001b[0;34m\u001b[0m\n\u001b[1;32m      1\u001b[0m op_diff_log_likelihood = lambda param, location_codes, t, dist, i: - diff_log_likelihood(location_codes, t, np.exp(param[0]), np.exp(param[0])+np.exp(param[1]), \n\u001b[1;32m      2\u001b[0m                                                                                          np.exp(param[2]), np.exp(param[3]), dist, i)\n\u001b[0;32m----> 3\u001b[0;31m \u001b[0mmle0\u001b[0m \u001b[0;34m=\u001b[0m \u001b[0mop\u001b[0m\u001b[0;34m.\u001b[0m\u001b[0mminimize\u001b[0m\u001b[0;34m(\u001b[0m\u001b[0mop_diff_log_likelihood\u001b[0m\u001b[0;34m,\u001b[0m \u001b[0mx0\u001b[0m \u001b[0;34m=\u001b[0m \u001b[0;34m[\u001b[0m\u001b[0;34m-\u001b[0m\u001b[0;36m3.8\u001b[0m\u001b[0;34m,\u001b[0m \u001b[0;34m-\u001b[0m\u001b[0;36m3.1\u001b[0m\u001b[0;34m,\u001b[0m \u001b[0;36m1.7\u001b[0m\u001b[0;34m,\u001b[0m \u001b[0;34m-\u001b[0m\u001b[0;36m8.5\u001b[0m\u001b[0;34m]\u001b[0m\u001b[0;34m,\u001b[0m \u001b[0mmethod\u001b[0m \u001b[0;34m=\u001b[0m \u001b[0;34m'Nelder-Mead'\u001b[0m\u001b[0;34m,\u001b[0m \u001b[0margs\u001b[0m\u001b[0;34m=\u001b[0m\u001b[0;34m(\u001b[0m\u001b[0mnew_loc\u001b[0m\u001b[0;34m,\u001b[0m \u001b[0mt00\u001b[0m\u001b[0;34m,\u001b[0m \u001b[0mnew_dist\u001b[0m\u001b[0;34m,\u001b[0m \u001b[0msid\u001b[0m\u001b[0;34m)\u001b[0m\u001b[0;34m)\u001b[0m\u001b[0;34m\u001b[0m\u001b[0;34m\u001b[0m\u001b[0m\n\u001b[0m\u001b[1;32m      4\u001b[0m \u001b[0mmle0\u001b[0m\u001b[0;34m\u001b[0m\u001b[0;34m\u001b[0m\u001b[0m\n",
      "\u001b[0;32m/opt/anaconda3/lib/python3.7/site-packages/scipy/optimize/_minimize.py\u001b[0m in \u001b[0;36mminimize\u001b[0;34m(fun, x0, args, method, jac, hess, hessp, bounds, constraints, tol, callback, options)\u001b[0m\n\u001b[1;32m    596\u001b[0m \u001b[0;34m\u001b[0m\u001b[0m\n\u001b[1;32m    597\u001b[0m     \u001b[0;32mif\u001b[0m \u001b[0mmeth\u001b[0m \u001b[0;34m==\u001b[0m \u001b[0;34m'nelder-mead'\u001b[0m\u001b[0;34m:\u001b[0m\u001b[0;34m\u001b[0m\u001b[0;34m\u001b[0m\u001b[0m\n\u001b[0;32m--> 598\u001b[0;31m         \u001b[0;32mreturn\u001b[0m \u001b[0m_minimize_neldermead\u001b[0m\u001b[0;34m(\u001b[0m\u001b[0mfun\u001b[0m\u001b[0;34m,\u001b[0m \u001b[0mx0\u001b[0m\u001b[0;34m,\u001b[0m \u001b[0margs\u001b[0m\u001b[0;34m,\u001b[0m \u001b[0mcallback\u001b[0m\u001b[0;34m,\u001b[0m \u001b[0;34m**\u001b[0m\u001b[0moptions\u001b[0m\u001b[0;34m)\u001b[0m\u001b[0;34m\u001b[0m\u001b[0;34m\u001b[0m\u001b[0m\n\u001b[0m\u001b[1;32m    599\u001b[0m     \u001b[0;32melif\u001b[0m \u001b[0mmeth\u001b[0m \u001b[0;34m==\u001b[0m \u001b[0;34m'powell'\u001b[0m\u001b[0;34m:\u001b[0m\u001b[0;34m\u001b[0m\u001b[0;34m\u001b[0m\u001b[0m\n\u001b[1;32m    600\u001b[0m         \u001b[0;32mreturn\u001b[0m \u001b[0m_minimize_powell\u001b[0m\u001b[0;34m(\u001b[0m\u001b[0mfun\u001b[0m\u001b[0;34m,\u001b[0m \u001b[0mx0\u001b[0m\u001b[0;34m,\u001b[0m \u001b[0margs\u001b[0m\u001b[0;34m,\u001b[0m \u001b[0mcallback\u001b[0m\u001b[0;34m,\u001b[0m \u001b[0;34m**\u001b[0m\u001b[0moptions\u001b[0m\u001b[0;34m)\u001b[0m\u001b[0;34m\u001b[0m\u001b[0;34m\u001b[0m\u001b[0m\n",
      "\u001b[0;32m/opt/anaconda3/lib/python3.7/site-packages/scipy/optimize/optimize.py\u001b[0m in \u001b[0;36m_minimize_neldermead\u001b[0;34m(func, x0, args, callback, maxiter, maxfev, disp, return_all, initial_simplex, xatol, fatol, adaptive, **unknown_options)\u001b[0m\n\u001b[1;32m    621\u001b[0m                 \u001b[0;32mif\u001b[0m \u001b[0mfxr\u001b[0m \u001b[0;34m<\u001b[0m \u001b[0mfsim\u001b[0m\u001b[0;34m[\u001b[0m\u001b[0;34m-\u001b[0m\u001b[0;36m1\u001b[0m\u001b[0;34m]\u001b[0m\u001b[0;34m:\u001b[0m\u001b[0;34m\u001b[0m\u001b[0;34m\u001b[0m\u001b[0m\n\u001b[1;32m    622\u001b[0m                     \u001b[0mxc\u001b[0m \u001b[0;34m=\u001b[0m \u001b[0;34m(\u001b[0m\u001b[0;36m1\u001b[0m \u001b[0;34m+\u001b[0m \u001b[0mpsi\u001b[0m \u001b[0;34m*\u001b[0m \u001b[0mrho\u001b[0m\u001b[0;34m)\u001b[0m \u001b[0;34m*\u001b[0m \u001b[0mxbar\u001b[0m \u001b[0;34m-\u001b[0m \u001b[0mpsi\u001b[0m \u001b[0;34m*\u001b[0m \u001b[0mrho\u001b[0m \u001b[0;34m*\u001b[0m \u001b[0msim\u001b[0m\u001b[0;34m[\u001b[0m\u001b[0;34m-\u001b[0m\u001b[0;36m1\u001b[0m\u001b[0;34m]\u001b[0m\u001b[0;34m\u001b[0m\u001b[0;34m\u001b[0m\u001b[0m\n\u001b[0;32m--> 623\u001b[0;31m                     \u001b[0mfxc\u001b[0m \u001b[0;34m=\u001b[0m \u001b[0mfunc\u001b[0m\u001b[0;34m(\u001b[0m\u001b[0mxc\u001b[0m\u001b[0;34m)\u001b[0m\u001b[0;34m\u001b[0m\u001b[0;34m\u001b[0m\u001b[0m\n\u001b[0m\u001b[1;32m    624\u001b[0m \u001b[0;34m\u001b[0m\u001b[0m\n\u001b[1;32m    625\u001b[0m                     \u001b[0;32mif\u001b[0m \u001b[0mfxc\u001b[0m \u001b[0;34m<=\u001b[0m \u001b[0mfxr\u001b[0m\u001b[0;34m:\u001b[0m\u001b[0;34m\u001b[0m\u001b[0;34m\u001b[0m\u001b[0m\n",
      "\u001b[0;32m/opt/anaconda3/lib/python3.7/site-packages/scipy/optimize/optimize.py\u001b[0m in \u001b[0;36mfunction_wrapper\u001b[0;34m(*wrapper_args)\u001b[0m\n\u001b[1;32m    325\u001b[0m     \u001b[0;32mdef\u001b[0m \u001b[0mfunction_wrapper\u001b[0m\u001b[0;34m(\u001b[0m\u001b[0;34m*\u001b[0m\u001b[0mwrapper_args\u001b[0m\u001b[0;34m)\u001b[0m\u001b[0;34m:\u001b[0m\u001b[0;34m\u001b[0m\u001b[0;34m\u001b[0m\u001b[0m\n\u001b[1;32m    326\u001b[0m         \u001b[0mncalls\u001b[0m\u001b[0;34m[\u001b[0m\u001b[0;36m0\u001b[0m\u001b[0;34m]\u001b[0m \u001b[0;34m+=\u001b[0m \u001b[0;36m1\u001b[0m\u001b[0;34m\u001b[0m\u001b[0;34m\u001b[0m\u001b[0m\n\u001b[0;32m--> 327\u001b[0;31m         \u001b[0;32mreturn\u001b[0m \u001b[0mfunction\u001b[0m\u001b[0;34m(\u001b[0m\u001b[0;34m*\u001b[0m\u001b[0;34m(\u001b[0m\u001b[0mwrapper_args\u001b[0m \u001b[0;34m+\u001b[0m \u001b[0margs\u001b[0m\u001b[0;34m)\u001b[0m\u001b[0;34m)\u001b[0m\u001b[0;34m\u001b[0m\u001b[0;34m\u001b[0m\u001b[0m\n\u001b[0m\u001b[1;32m    328\u001b[0m \u001b[0;34m\u001b[0m\u001b[0m\n\u001b[1;32m    329\u001b[0m     \u001b[0;32mreturn\u001b[0m \u001b[0mncalls\u001b[0m\u001b[0;34m,\u001b[0m \u001b[0mfunction_wrapper\u001b[0m\u001b[0;34m\u001b[0m\u001b[0;34m\u001b[0m\u001b[0m\n",
      "\u001b[0;32m<ipython-input-235-ff5038460b60>\u001b[0m in \u001b[0;36m<lambda>\u001b[0;34m(param, location_codes, t, dist, i)\u001b[0m\n\u001b[1;32m      1\u001b[0m op_diff_log_likelihood = lambda param, location_codes, t, dist, i: - diff_log_likelihood(location_codes, t, np.exp(param[0]), np.exp(param[0])+np.exp(param[1]), \n\u001b[0;32m----> 2\u001b[0;31m                                                                                          np.exp(param[2]), np.exp(param[3]), dist, i)\n\u001b[0m\u001b[1;32m      3\u001b[0m \u001b[0mmle0\u001b[0m \u001b[0;34m=\u001b[0m \u001b[0mop\u001b[0m\u001b[0;34m.\u001b[0m\u001b[0mminimize\u001b[0m\u001b[0;34m(\u001b[0m\u001b[0mop_diff_log_likelihood\u001b[0m\u001b[0;34m,\u001b[0m \u001b[0mx0\u001b[0m \u001b[0;34m=\u001b[0m \u001b[0;34m[\u001b[0m\u001b[0;34m-\u001b[0m\u001b[0;36m3.8\u001b[0m\u001b[0;34m,\u001b[0m \u001b[0;34m-\u001b[0m\u001b[0;36m3.1\u001b[0m\u001b[0;34m,\u001b[0m \u001b[0;36m1.7\u001b[0m\u001b[0;34m,\u001b[0m \u001b[0;34m-\u001b[0m\u001b[0;36m8.5\u001b[0m\u001b[0;34m]\u001b[0m\u001b[0;34m,\u001b[0m \u001b[0mmethod\u001b[0m \u001b[0;34m=\u001b[0m \u001b[0;34m'Nelder-Mead'\u001b[0m\u001b[0;34m,\u001b[0m \u001b[0margs\u001b[0m\u001b[0;34m=\u001b[0m\u001b[0;34m(\u001b[0m\u001b[0mnew_loc\u001b[0m\u001b[0;34m,\u001b[0m \u001b[0mt00\u001b[0m\u001b[0;34m,\u001b[0m \u001b[0mnew_dist\u001b[0m\u001b[0;34m,\u001b[0m \u001b[0msid\u001b[0m\u001b[0;34m)\u001b[0m\u001b[0;34m)\u001b[0m\u001b[0;34m\u001b[0m\u001b[0;34m\u001b[0m\u001b[0m\n\u001b[1;32m      4\u001b[0m \u001b[0mmle0\u001b[0m\u001b[0;34m\u001b[0m\u001b[0;34m\u001b[0m\u001b[0m\n",
      "\u001b[0;32m~/Documents/YEAR 4/Computation/Files/DifferentStations.ipynb\u001b[0m in \u001b[0;36mdiff_log_likelihood\u001b[0;34m(location_codes, event_times, beta, theta, lambda_b, k, dist, i)\u001b[0m\n\u001b[1;32m    183\u001b[0m     \u001b[0;34m\"We also write a function to find the excitation terms of each station\"\u001b[0m\u001b[0;34m\u001b[0m\u001b[0;34m\u001b[0m\u001b[0m\n\u001b[1;32m    184\u001b[0m    ]\n\u001b[0;32m--> 185\u001b[0;31m   },\n\u001b[0m\u001b[1;32m    186\u001b[0m   {\n\u001b[1;32m    187\u001b[0m    \u001b[0;34m\"cell_type\"\u001b[0m\u001b[0;34m:\u001b[0m \u001b[0;34m\"code\"\u001b[0m\u001b[0;34m,\u001b[0m\u001b[0;34m\u001b[0m\u001b[0;34m\u001b[0m\u001b[0m\n",
      "\u001b[0;32m~/Documents/YEAR 4/Computation/Files/DifferentStations.ipynb\u001b[0m in \u001b[0;36mA_ij\u001b[0;34m(theta, times_i, times_j)\u001b[0m\n\u001b[1;32m    104\u001b[0m     \u001b[0;34m\"    Finds the array of function A_i, from 1st event to hth event in process i\\n\"\u001b[0m\u001b[0;34m,\u001b[0m\u001b[0;34m\u001b[0m\u001b[0;34m\u001b[0m\u001b[0m\n\u001b[1;32m    105\u001b[0m     \u001b[0;34m\"    \\n\"\u001b[0m\u001b[0;34m,\u001b[0m\u001b[0;34m\u001b[0m\u001b[0;34m\u001b[0m\u001b[0m\n\u001b[0;32m--> 106\u001b[0;31m     \u001b[0;34m\"    : param theta: a real number\\n\"\u001b[0m\u001b[0;34m,\u001b[0m\u001b[0;34m\u001b[0m\u001b[0;34m\u001b[0m\u001b[0m\n\u001b[0m\u001b[1;32m    107\u001b[0m     \u001b[0;34m\"    : param times_i, a 1-D array, the event times observed in process i\\n\"\u001b[0m\u001b[0;34m,\u001b[0m\u001b[0;34m\u001b[0m\u001b[0;34m\u001b[0m\u001b[0m\n\u001b[1;32m    108\u001b[0m     \u001b[0;34m\"    \\n\"\u001b[0m\u001b[0;34m,\u001b[0m\u001b[0;34m\u001b[0m\u001b[0;34m\u001b[0m\u001b[0m\n",
      "\u001b[0;32m~/Documents/YEAR 4/Computation/Files/DifferentStations.ipynb\u001b[0m in \u001b[0;36mprev_event\u001b[0;34m(times, T)\u001b[0m\n\u001b[1;32m     25\u001b[0m   },\n\u001b[1;32m     26\u001b[0m   {\n\u001b[0;32m---> 27\u001b[0;31m    \u001b[0;34m\"cell_type\"\u001b[0m\u001b[0;34m:\u001b[0m \u001b[0;34m\"code\"\u001b[0m\u001b[0;34m,\u001b[0m\u001b[0;34m\u001b[0m\u001b[0;34m\u001b[0m\u001b[0m\n\u001b[0m\u001b[1;32m     28\u001b[0m    \u001b[0;34m\"execution_count\"\u001b[0m\u001b[0;34m:\u001b[0m \u001b[0;36m2\u001b[0m\u001b[0;34m,\u001b[0m\u001b[0;34m\u001b[0m\u001b[0;34m\u001b[0m\u001b[0m\n\u001b[1;32m     29\u001b[0m    \u001b[0;34m\"metadata\"\u001b[0m\u001b[0;34m:\u001b[0m \u001b[0;34m{\u001b[0m\u001b[0;34m}\u001b[0m\u001b[0;34m,\u001b[0m\u001b[0;34m\u001b[0m\u001b[0;34m\u001b[0m\u001b[0m\n",
      "\u001b[0;32m<__array_function__ internals>\u001b[0m in \u001b[0;36msearchsorted\u001b[0;34m(*args, **kwargs)\u001b[0m\n",
      "\u001b[0;32m/opt/anaconda3/lib/python3.7/site-packages/numpy/core/fromnumeric.py\u001b[0m in \u001b[0;36msearchsorted\u001b[0;34m(a, v, side, sorter)\u001b[0m\n\u001b[1;32m   1339\u001b[0m \u001b[0;34m\u001b[0m\u001b[0m\n\u001b[1;32m   1340\u001b[0m     \"\"\"\n\u001b[0;32m-> 1341\u001b[0;31m     \u001b[0;32mreturn\u001b[0m \u001b[0m_wrapfunc\u001b[0m\u001b[0;34m(\u001b[0m\u001b[0ma\u001b[0m\u001b[0;34m,\u001b[0m \u001b[0;34m'searchsorted'\u001b[0m\u001b[0;34m,\u001b[0m \u001b[0mv\u001b[0m\u001b[0;34m,\u001b[0m \u001b[0mside\u001b[0m\u001b[0;34m=\u001b[0m\u001b[0mside\u001b[0m\u001b[0;34m,\u001b[0m \u001b[0msorter\u001b[0m\u001b[0;34m=\u001b[0m\u001b[0msorter\u001b[0m\u001b[0;34m)\u001b[0m\u001b[0;34m\u001b[0m\u001b[0;34m\u001b[0m\u001b[0m\n\u001b[0m\u001b[1;32m   1342\u001b[0m \u001b[0;34m\u001b[0m\u001b[0m\n\u001b[1;32m   1343\u001b[0m \u001b[0;34m\u001b[0m\u001b[0m\n",
      "\u001b[0;32m/opt/anaconda3/lib/python3.7/site-packages/numpy/core/fromnumeric.py\u001b[0m in \u001b[0;36m_wrapfunc\u001b[0;34m(obj, method, *args, **kwds)\u001b[0m\n\u001b[1;32m     59\u001b[0m \u001b[0;34m\u001b[0m\u001b[0m\n\u001b[1;32m     60\u001b[0m     \u001b[0;32mtry\u001b[0m\u001b[0;34m:\u001b[0m\u001b[0;34m\u001b[0m\u001b[0;34m\u001b[0m\u001b[0m\n\u001b[0;32m---> 61\u001b[0;31m         \u001b[0;32mreturn\u001b[0m \u001b[0mbound\u001b[0m\u001b[0;34m(\u001b[0m\u001b[0;34m*\u001b[0m\u001b[0margs\u001b[0m\u001b[0;34m,\u001b[0m \u001b[0;34m**\u001b[0m\u001b[0mkwds\u001b[0m\u001b[0;34m)\u001b[0m\u001b[0;34m\u001b[0m\u001b[0;34m\u001b[0m\u001b[0m\n\u001b[0m\u001b[1;32m     62\u001b[0m     \u001b[0;32mexcept\u001b[0m \u001b[0mTypeError\u001b[0m\u001b[0;34m:\u001b[0m\u001b[0;34m\u001b[0m\u001b[0;34m\u001b[0m\u001b[0m\n\u001b[1;32m     63\u001b[0m         \u001b[0;31m# A TypeError occurs if the object does have such a method in its\u001b[0m\u001b[0;34m\u001b[0m\u001b[0;34m\u001b[0m\u001b[0;34m\u001b[0m\u001b[0m\n",
      "\u001b[0;31mKeyboardInterrupt\u001b[0m: "
     ]
    }
   ],
   "source": [
    "op_diff_log_likelihood = lambda param, location_codes, t, dist, i: - diff_log_likelihood(location_codes, t, np.exp(param[0]), np.exp(param[0])+np.exp(param[1]), \n",
    "                                                                                         np.exp(param[2]), np.exp(param[3]), dist, i)\n",
    "mle0 = op.minimize(op_diff_log_likelihood, x0 = [-3.8, -3.1, 1.7, -8.5], method = 'Nelder-Mead', args=(new_loc, t00, new_dist, sid))\n",
    "mle0"
   ]
  },
  {
   "cell_type": "markdown",
   "metadata": {},
   "source": [
    "We compute the KS statistics for both train and test sets."
   ]
  },
  {
   "cell_type": "code",
   "execution_count": null,
   "metadata": {},
   "outputs": [],
   "source": [
    "beta0, theta0, lambda_b0, k0 = np.exp(mle0.x[0]), np.exp(mle0.x[0])+np.exp(mle0.x[1]), np.exp(mle0.x[2]), np.exp(mle0.x[3])\n",
    "\n",
    "t_dep = t00[sid]\n",
    "compensator_t0 = np.zeros(len(t_dep)+1)\n",
    "for j in range(len(t_dep)):\n",
    "    compensator_t0[j+1] = diff_comp(t_dep[j], new_loc, t00, beta0, theta0, lambda_b0, new_dist, k0)\n",
    "\n",
    "inter_arr_times0 = np.diff(compensator_t0)\n",
    "p_values0 = np.exp(-inter_arr_times0)\n",
    "ks0 = st.kstest(p_values0, \"uniform\")\n",
    "ks_train_spatio.append(ks0.statistic)"
   ]
  },
  {
   "cell_type": "code",
   "execution_count": null,
   "metadata": {},
   "outputs": [],
   "source": [
    "ks0"
   ]
  },
  {
   "cell_type": "code",
   "execution_count": 236,
   "metadata": {},
   "outputs": [],
   "source": [
    "beta0, theta0, lambda_b0, k0 = np.exp(mle0.x[0]), np.exp(mle0.x[0])+np.exp(mle0.x[1]), np.exp(mle0.x[2]), np.exp(mle0.x[3])\n",
    "\n",
    "t_dep = t01[sid]\n",
    "compensator_t01 = np.zeros(len(t_dep)+1)\n",
    "for j in range(len(t_dep)):\n",
    "    compensator_t01[j+1] = diff_comp(t_dep[j], new_loc, t01, beta0, theta0, lambda_b0, new_dist, k0)\n",
    "\n",
    "inter_arr_times01 = np.diff(compensator_t01)\n",
    "p_values01 = np.exp(-inter_arr_times01)\n",
    "ks1 = st.kstest(p_values01, \"uniform\")\n",
    "ks_test_spatio.append(ks1.statistic)"
   ]
  },
  {
   "cell_type": "code",
   "execution_count": 237,
   "metadata": {},
   "outputs": [
    {
     "data": {
      "text/plain": [
       "KstestResult(statistic=0.09637437024246676, pvalue=4.1136177815450534e-10)"
      ]
     },
     "execution_count": 237,
     "metadata": {},
     "output_type": "execute_result"
    }
   ],
   "source": [
    "ks1"
   ]
  },
  {
   "cell_type": "code",
   "execution_count": 238,
   "metadata": {},
   "outputs": [
    {
     "data": {
      "image/png": "[encoded data removed]",
      "text/plain": [
       "<Figure size 432x288 with 1 Axes>"
      ]
     },
     "metadata": {
      "needs_background": "light"
     },
     "output_type": "display_data"
    }
   ],
   "source": [
    "x0,y0 = ecdf(p_values0)\n",
    "plt.plot(x0,y0, label=\"Empirical ECDF\")\n",
    "\n",
    "plt.title(\"Departures at different stations model\")\n",
    "plt.xlabel(\"P-value\")\n",
    "plt.ylabel(\"ECDF value\")\n",
    "plt.plot([0,1], [0,1], label=\"Theoretical ECDF\", color='orange')\n",
    "plt.legend()\n",
    "plt.show()"
   ]
  },
  {
   "cell_type": "markdown",
   "metadata": {},
   "source": [
    "We could optimise SE (multiple stations) for large k in kappa function, so that the model is reduced to SE (single station)."
   ]
  },
  {
   "cell_type": "code",
   "execution_count": 62,
   "metadata": {},
   "outputs": [
    {
     "data": {
      "text/plain": [
       " final_simplex: (array([[ -4.55237567, -39.98100424, -11.2378472 ],\n",
       "       [ -4.55237567, -39.98095226, -11.2378472 ],\n",
       "       [ -4.55237567, -39.98091893, -11.2378472 ],\n",
       "       [ -4.55237567, -39.98095714, -11.2378472 ]]), array([11790.31262213, 11790.31262213, 11790.31262213, 11790.31262213]))\n",
       "           fun: 11790.312622126603\n",
       "       message: 'Optimization terminated successfully.'\n",
       "          nfev: 368\n",
       "           nit: 188\n",
       "        status: 0\n",
       "       success: True\n",
       "             x: array([ -4.55237567, -39.98100424, -11.2378472 ])"
      ]
     },
     "execution_count": 62,
     "metadata": {},
     "output_type": "execute_result"
    }
   ],
   "source": [
    "op_diff_log_likelihood = lambda param, location_codes, t, dist, k, i: - diff_log_likelihood(location_codes, t, np.exp(param[0]), np.exp(param[0])+np.exp(param[1]), \n",
    "                                                                                         np.exp(param[2]), k, dist, i)\n",
    "mle1 = op.minimize(op_diff_log_likelihood, x0 = [-3, -8, -8], method = 'Nelder-Mead', args=(new_loc, t00, new_dist, np.exp(50), sid))\n",
    "mle1"
   ]
  },
  {
   "cell_type": "markdown",
   "metadata": {},
   "source": [
    "And the KS statistics."
   ]
  },
  {
   "cell_type": "code",
   "execution_count": 63,
   "metadata": {},
   "outputs": [],
   "source": [
    "beta1, theta1, lambda_b1, k1 = np.exp(mle1.x[0]), np.exp(mle1.x[0])+np.exp(mle1.x[1]), np.exp(mle1.x[2]), np.exp(10)\n",
    "\n",
    "t_dep = t00[sid]\n",
    "compensator_t1 = np.zeros(len(t_dep)+1)\n",
    "for j in range(len(t_dep)):\n",
    "    compensator_t1[j+1] = diff_comp(t_dep[j], new_loc, t00, beta1, theta1, lambda_b1, new_dist, k1)\n",
    "\n",
    "inter_arr_times1 = np.diff(compensator_t1)\n",
    "p_values1 = np.exp(-inter_arr_times1)"
   ]
  },
  {
   "cell_type": "code",
   "execution_count": 64,
   "metadata": {},
   "outputs": [
    {
     "data": {
      "image/png": "[encoded data removed]",
      "text/plain": [
       "<Figure size 432x288 with 1 Axes>"
      ]
     },
     "metadata": {
      "needs_background": "light"
     },
     "output_type": "display_data"
    }
   ],
   "source": [
    "x1,y1 = ecdf(p_values1)\n",
    "plt.plot(x1,y1)\n",
    "\n",
    "plt.title(\"ECDF for p-values of Model 3\")\n",
    "plt.xlabel(\"P-value\")\n",
    "plt.ylabel(\"ECDF value\")\n",
    "plt.plot([0,1], [0,1], label=\"Theoretical ECDF\", color='orange')\n",
    "plt.legend()\n",
    "plt.show()"
   ]
  },
  {
   "cell_type": "markdown",
   "metadata": {},
   "source": [
    "Now we fit the SE (single station) model. We get the train and test time for Victoria station only."
   ]
  },
  {
   "cell_type": "code",
   "execution_count": 239,
   "metadata": {},
   "outputs": [],
   "source": [
    "t0 = train_times[268]\n",
    "t1 = test_times[268]"
   ]
  },
  {
   "cell_type": "markdown",
   "metadata": {},
   "source": [
    "And we compute the optimisation."
   ]
  },
  {
   "cell_type": "code",
   "execution_count": 240,
   "metadata": {},
   "outputs": [
    {
     "data": {
      "text/plain": [
       " final_simplex: (array([[-4.08650649, -6.28811609, -6.12061427],\n",
       "       [-4.08651081, -6.28820457, -6.12061854],\n",
       "       [-4.08649368, -6.28809287, -6.12057295],\n",
       "       [-4.08651651, -6.28810862, -6.1205803 ]]), array([15114.06178125, 15114.06178126, 15114.06178128, 15114.0617813 ]))\n",
       "           fun: 15114.061781248405\n",
       "       message: 'Optimization terminated successfully.'\n",
       "          nfev: 90\n",
       "           nit: 47\n",
       "        status: 0\n",
       "       success: True\n",
       "             x: array([-4.08650649, -6.28811609, -6.12061427])"
      ]
     },
     "execution_count": 240,
     "metadata": {},
     "output_type": "execute_result"
    }
   ],
   "source": [
    "op_hawkes_log_likelihood = lambda param, t: - hawkes_log_likelihood(t, np.exp(param[0]), np.exp(param[0])+np.exp(param[1]), np.exp(param[2]))\n",
    "mle2 = op.minimize(op_hawkes_log_likelihood, x0 = [-4.1, -6.3, -6.1], method = 'Nelder-Mead', args=(t0,))\n",
    "mle2"
   ]
  },
  {
   "cell_type": "markdown",
   "metadata": {},
   "source": [
    "And we compute the KS statistics as well as plotting the QQ plots."
   ]
  },
  {
   "cell_type": "code",
   "execution_count": 241,
   "metadata": {},
   "outputs": [],
   "source": [
    "beta2, theta2, lambda_b2 = np.exp(mle2.x[0]), np.exp(mle2.x[0]) + np.exp(mle2.x[1]), np.exp(mle2.x[2])\n",
    "\n",
    "compensator_t2 = np.zeros(len(t0)+1)\n",
    "for i in range(len(t0)):\n",
    "    compensator_t2[i+1] = hawkes_comp(t0[i], t0, beta2, theta2, lambda_b2)\n",
    "\n",
    "inter_arr_times2 = np.diff(compensator_t2)\n",
    "p_values2 = np.exp(-inter_arr_times2)\n",
    "ks2 = st.kstest(p_values2, \"uniform\")\n",
    "ks_train_hawkes.append(ks2.statistic)"
   ]
  },
  {
   "cell_type": "code",
   "execution_count": 242,
   "metadata": {},
   "outputs": [
    {
     "data": {
      "text/plain": [
       "0.11060406732788763"
      ]
     },
     "execution_count": 242,
     "metadata": {},
     "output_type": "execute_result"
    }
   ],
   "source": [
    "ks2.statistic"
   ]
  },
  {
   "cell_type": "code",
   "execution_count": 243,
   "metadata": {},
   "outputs": [],
   "source": [
    "beta2, theta2, lambda_b2 = np.exp(mle2.x[0]), np.exp(mle2.x[0]) + np.exp(mle2.x[1]), np.exp(mle2.x[2])\n",
    "\n",
    "compensator_t21 = np.zeros(len(t1)+1)\n",
    "for i in range(len(t1)):\n",
    "    compensator_t21[i+1] = hawkes_comp(t1[i], t1, beta2, theta2, lambda_b2)\n",
    "\n",
    "inter_arr_times21 = np.diff(compensator_t21)\n",
    "p_values21 = np.exp(-inter_arr_times21)\n",
    "ks21 = st.kstest(p_values21, \"uniform\")\n",
    "ks_test_hawkes.append(ks21.statistic)"
   ]
  },
  {
   "cell_type": "code",
   "execution_count": 244,
   "metadata": {},
   "outputs": [
    {
     "data": {
      "image/png": "[encoded data removed]",
      "text/plain": [
       "<Figure size 432x288 with 1 Axes>"
      ]
     },
     "metadata": {
      "needs_background": "light"
     },
     "output_type": "display_data"
    }
   ],
   "source": [
    "x2,y2 = ecdf(p_values2)\n",
    "plt.plot(x2,y2,  label=\"Empirical ECDF: Hawkes\")\n",
    "plt.plot(x0,y0,  label=\"Empirical ECDF: Different stations\", color='green')\n",
    "\n",
    "plt.title(\"Victoria Station: Train Set\")\n",
    "plt.xlabel(\"P-value\")\n",
    "plt.ylabel(\"ECDF value\")\n",
    "plt.plot([0,1], [0,1], label=\"Theoretical ECDF\", color='lightgray')\n",
    "plt.legend()\n",
    "plt.show()"
   ]
  },
  {
   "cell_type": "code",
   "execution_count": 245,
   "metadata": {},
   "outputs": [
    {
     "data": {
      "image/png": "[encoded data removed]",
      "text/plain": [
       "<Figure size 432x288 with 1 Axes>"
      ]
     },
     "metadata": {
      "needs_background": "light"
     },
     "output_type": "display_data"
    }
   ],
   "source": [
    "x21,y21 = ecdf(p_values21)\n",
    "x01,y01 = ecdf(p_values01)\n",
    "plt.plot(x21,y21,  label=\"Empirical ECDF: Hawkes\")\n",
    "plt.plot(x01,y01,  label=\"Empirical ECDF: Different stations\", color='green')\n",
    "\n",
    "plt.title(\"Victoria Station: Test Set\")\n",
    "plt.xlabel(\"P-value\")\n",
    "plt.ylabel(\"ECDF value\")\n",
    "plt.plot([0,1], [0,1], label=\"Theoretical ECDF\", color='lightgray')\n",
    "plt.legend()\n",
    "plt.show()"
   ]
  },
  {
   "cell_type": "code",
   "execution_count": 248,
   "metadata": {},
   "outputs": [
    {
     "data": {
      "image/png": "[encoded data removed]",
      "text/plain": [
       "<Figure size 432x288 with 2 Axes>"
      ]
     },
     "metadata": {
      "needs_background": "light"
     },
     "output_type": "display_data"
    }
   ],
   "source": [
    "x2,y2 = ecdf(p_values2)\n",
    "plt.subplot(1, 2, 1)\n",
    "plt.plot(x2,y2,  label=\"Empirical ECDF: Hawkes\")\n",
    "plt.plot(x0,y0,  label=\"Empirical ECDF: Different stations\", color='green')\n",
    "\n",
    "plt.title(\"Victoria Station: Train Set\")\n",
    "plt.xlabel(\"theoretical quantiles\")\n",
    "plt.ylabel(\"observed quantiles\")\n",
    "plt.plot([0,1], [0,1], label=\"Theoretical ECDF\", color='lightgray')\n",
    "\n",
    "\n",
    "\n",
    "x21,y21 = ecdf(p_values21)\n",
    "x01,y01 = ecdf(p_values01)\n",
    "plt.subplot(1, 2, 2)\n",
    "plt.plot(x21,y21,  label=\"Empirical: Hawkes\")\n",
    "plt.plot(x01,y01,  label=\"Empirical: Spatial\", color='green')\n",
    "\n",
    "plt.title(\"Victoria Station: Test Set\")\n",
    "plt.xlabel(\"theoretical quantiles\")\n",
    "plt.plot([0,1], [0,1], label=\"Theoretical\", color='lightgray')\n",
    "plt.legend()\n",
    "\n",
    "\n",
    "plt.savefig('v1.pdf')\n",
    "plt.show()"
   ]
  },
  {
   "cell_type": "markdown",
   "metadata": {},
   "source": [
    "Waterloo Station"
   ]
  },
  {
   "cell_type": "markdown",
   "metadata": {},
   "source": [
    "We do some preprocessing of time data."
   ]
  },
  {
   "cell_type": "code",
   "execution_count": 266,
   "metadata": {},
   "outputs": [],
   "source": [
    "sid = 374\n",
    "ind = get_station_index(loc_codes, sid)\n",
    "\n",
    "t0, ind_list = process_times(loc_codes, train_times, sid)\n",
    "t1, ind_list = process_times(loc_codes, test_times, sid)\n",
    "#if len(ind_list) != 0:\n",
    "    #loc_codes[ind_list] = -1\n",
    "    #loc_codes = [i for i in loc_codes if i != -1]\n",
    "    \n",
    "dist_arr = geo_df[f\"{ind}\"].to_numpy()"
   ]
  },
  {
   "cell_type": "markdown",
   "metadata": {},
   "source": [
    "And we choose a threshold of 0.5 miles to select nearby stations."
   ]
  },
  {
   "cell_type": "code",
   "execution_count": 267,
   "metadata": {},
   "outputs": [
    {
     "name": "stdout",
     "output_type": "stream",
     "text": [
      "14\n",
      "14\n",
      "[154, 173, 197, 252, 272, 273, 334, 336, 347, 361, 374, 377, 815, 819]\n"
     ]
    }
   ],
   "source": [
    "thres = 0.5\n",
    "new_dist, new_loc = thres_fun(dist_arr, thres, loc_codes)\n",
    "print(len(new_loc));\n",
    "print(len(new_dist));\n",
    "print(new_loc)"
   ]
  },
  {
   "cell_type": "markdown",
   "metadata": {},
   "source": [
    "We obtain the time events for the stations in a neighbourhood of 0.5 miles in radius."
   ]
  },
  {
   "cell_type": "code",
   "execution_count": 268,
   "metadata": {},
   "outputs": [
    {
     "data": {
      "text/plain": [
       "dict_keys([154, 173, 197, 252, 272, 273, 334, 336, 347, 361, 374, 377, 815, 819])"
      ]
     },
     "execution_count": 268,
     "metadata": {},
     "output_type": "execute_result"
    }
   ],
   "source": [
    "t00 = {}\n",
    "t01 = {}\n",
    "\n",
    "for loc in new_loc:\n",
    "    t00[loc] = t0[loc]\n",
    "    t01[loc] = t1[loc]\n",
    "    \n",
    "t00.keys()"
   ]
  },
  {
   "cell_type": "markdown",
   "metadata": {},
   "source": [
    "And the optimisation for SE (multiple stations)."
   ]
  },
  {
   "cell_type": "code",
   "execution_count": 158,
   "metadata": {},
   "outputs": [
    {
     "data": {
      "text/plain": [
       " final_simplex: (array([[-3.84926669, -3.09007511, -8.45537375,  1.66464124],\n",
       "       [-3.84920263, -3.09003322, -8.45534507,  1.66465546],\n",
       "       [-3.849242  , -3.09008676, -8.45541233,  1.66466425],\n",
       "       [-3.84923558, -3.0900144 , -8.45542272,  1.66462596],\n",
       "       [-3.84924283, -3.09007275, -8.45546357,  1.66464788]]), array([14571.40788558, 14571.40788563, 14571.40788567, 14571.40788569,\n",
       "       14571.40788571]))\n",
       "           fun: 14571.40788558111\n",
       "       message: 'Optimization terminated successfully.'\n",
       "          nfev: 456\n",
       "           nit: 268\n",
       "        status: 0\n",
       "       success: True\n",
       "             x: array([-3.84926669, -3.09007511, -8.45537375,  1.66464124])"
      ]
     },
     "execution_count": 158,
     "metadata": {},
     "output_type": "execute_result"
    }
   ],
   "source": [
    "op_diff_log_likelihood = lambda param, location_codes, t, dist, i: - diff_log_likelihood(location_codes, t, np.exp(param[0]), np.exp(param[0])+np.exp(param[1]), \n",
    "                                                                                         np.exp(param[2]), np.exp(param[3]), dist, i)\n",
    "mle0 = op.minimize(op_diff_log_likelihood, x0 = [-4, -3, -2, 2], method = 'Nelder-Mead', args=(new_loc, t00, new_dist, sid))\n",
    "mle0"
   ]
  },
  {
   "cell_type": "markdown",
   "metadata": {},
   "source": [
    "We compute the KS statistics for both train and test sets. And the QQ plots."
   ]
  },
  {
   "cell_type": "code",
   "execution_count": 270,
   "metadata": {},
   "outputs": [],
   "source": [
    "beta0, theta0, lambda_b0, k0 = np.exp(mle0.x[0]), np.exp(mle0.x[0])+np.exp(mle0.x[1]), np.exp(mle0.x[2]), np.exp(mle0.x[3])\n",
    "\n",
    "t_dep = t00[sid]\n",
    "compensator_t0 = np.zeros(len(t_dep)+1)\n",
    "for j in range(len(t_dep)):\n",
    "    compensator_t0[j+1] = diff_comp(t_dep[j], new_loc, t00, beta0, theta0, lambda_b0, new_dist, k0)\n",
    "\n",
    "inter_arr_times0 = np.diff(compensator_t0)\n",
    "p_values0 = np.exp(-inter_arr_times0)\n",
    "ks0 = st.kstest(p_values0, \"uniform\")\n",
    "ks_train_spatio.append(ks0.statistic)"
   ]
  },
  {
   "cell_type": "code",
   "execution_count": 271,
   "metadata": {},
   "outputs": [],
   "source": [
    "beta0, theta0, lambda_b0, k0 = np.exp(mle0.x[0]), np.exp(mle0.x[0])+np.exp(mle0.x[1]), np.exp(mle0.x[2]), np.exp(mle0.x[3])\n",
    "\n",
    "t_dep = t01[sid]\n",
    "compensator_t01 = np.zeros(len(t_dep)+1)\n",
    "for j in range(len(t_dep)):\n",
    "    compensator_t01[j+1] = diff_comp(t_dep[j], new_loc, t01, beta0, theta0, lambda_b0, new_dist, k0)\n",
    "\n",
    "inter_arr_times01 = np.diff(compensator_t01)\n",
    "p_values01 = np.exp(-inter_arr_times01)\n",
    "ks1 = st.kstest(p_values01, \"uniform\")\n",
    "ks_test_spatio.append(ks1.statistic)"
   ]
  },
  {
   "cell_type": "code",
   "execution_count": 94,
   "metadata": {},
   "outputs": [
    {
     "data": {
      "image/png": "[encoded data removed]",
      "text/plain": [
       "<Figure size 432x288 with 1 Axes>"
      ]
     },
     "metadata": {
      "needs_background": "light"
     },
     "output_type": "display_data"
    }
   ],
   "source": [
    "x0,y0 = ecdf(p_values0)\n",
    "plt.plot(x0,y0)\n",
    "\n",
    "plt.title(\"ECDF for p-values of Model 3\")\n",
    "plt.xlabel(\"P-value\")\n",
    "plt.ylabel(\"ECDF value\")\n",
    "plt.plot([0,1], [0,1], label=\"Theoretical ECDF\", color='orange')\n",
    "plt.legend()\n",
    "plt.show()"
   ]
  },
  {
   "cell_type": "markdown",
   "metadata": {},
   "source": [
    "We could optimise SE (multiple stations) for large k in kappa function, so that the model is reduced to SE (single station)."
   ]
  },
  {
   "cell_type": "code",
   "execution_count": 99,
   "metadata": {},
   "outputs": [
    {
     "data": {
      "text/plain": [
       " final_simplex: (array([[ -4.4600117 ,  -3.89546789, -10.62337822],\n",
       "       [ -4.46000851,  -3.89545638, -10.62344389],\n",
       "       [ -4.46002638,  -3.8954701 , -10.62340859],\n",
       "       [ -4.45999775,  -3.89544542, -10.62330309]]), array([24148.18059898, 24148.18059907, 24148.1805992 , 24148.1805992 ]))\n",
       "           fun: 24148.180598984636\n",
       "       message: 'Optimization terminated successfully.'\n",
       "          nfev: 168\n",
       "           nit: 92\n",
       "        status: 0\n",
       "       success: True\n",
       "             x: array([ -4.4600117 ,  -3.89546789, -10.62337822])"
      ]
     },
     "execution_count": 99,
     "metadata": {},
     "output_type": "execute_result"
    }
   ],
   "source": [
    "op_diff_log_likelihood = lambda param, location_codes, t, dist, k, i: - diff_log_likelihood(location_codes, t, np.exp(param[0]), np.exp(param[0])+np.exp(param[1]), \n",
    "                                                                                         np.exp(param[2]), k, dist, i)\n",
    "mle1 = op.minimize(op_diff_log_likelihood, x0 = [-2, -2, -2], method = 'Nelder-Mead', args=(new_loc, t00, new_dist, np.exp(50), sid))\n",
    "mle1"
   ]
  },
  {
   "cell_type": "markdown",
   "metadata": {},
   "source": [
    "And the KS statistics."
   ]
  },
  {
   "cell_type": "code",
   "execution_count": 100,
   "metadata": {},
   "outputs": [],
   "source": [
    "beta1, theta1, lambda_b1, k1 = np.exp(mle1.x[0]), np.exp(mle1.x[0])+np.exp(mle1.x[1]), np.exp(mle1.x[2]), np.exp(10)\n",
    "\n",
    "t_dep = t00[sid]\n",
    "compensator_t1 = np.zeros(len(t_dep)+1)\n",
    "for j in range(len(t_dep)):\n",
    "    compensator_t1[j+1] = diff_comp(t_dep[j], new_loc, t00, beta1, theta1, lambda_b1, new_dist, k1)\n",
    "\n",
    "inter_arr_times1 = np.diff(compensator_t1)\n",
    "p_values1 = np.exp(-inter_arr_times1)"
   ]
  },
  {
   "cell_type": "code",
   "execution_count": 101,
   "metadata": {},
   "outputs": [
    {
     "data": {
      "image/png": "[encoded data removed]",
      "text/plain": [
       "<Figure size 432x288 with 1 Axes>"
      ]
     },
     "metadata": {
      "needs_background": "light"
     },
     "output_type": "display_data"
    }
   ],
   "source": [
    "x1,y1 = ecdf(p_values1)\n",
    "plt.plot(x1,y1)\n",
    "\n",
    "plt.title(\"ECDF for p-values of Model 3\")\n",
    "plt.xlabel(\"P-value\")\n",
    "plt.ylabel(\"ECDF value\")\n",
    "plt.plot([0,1], [0,1], label=\"Theoretical ECDF\", color='orange')\n",
    "plt.legend()\n",
    "plt.show()"
   ]
  },
  {
   "cell_type": "markdown",
   "metadata": {},
   "source": [
    "Now we fit the SE (single station) model. We get the train and test time for Waterloo station only."
   ]
  },
  {
   "cell_type": "code",
   "execution_count": 272,
   "metadata": {},
   "outputs": [],
   "source": [
    "t0 = train_times[374]\n",
    "t1 = test_times[374]"
   ]
  },
  {
   "cell_type": "markdown",
   "metadata": {},
   "source": [
    "And we compute the optimisation."
   ]
  },
  {
   "cell_type": "code",
   "execution_count": 273,
   "metadata": {},
   "outputs": [
    {
     "data": {
      "text/plain": [
       " final_simplex: (array([[-3.67249437, -8.0500733 , -9.23636648],\n",
       "       [-3.6724928 , -8.05014571, -9.23637637],\n",
       "       [-3.67249399, -8.05016234, -9.23636872],\n",
       "       [-3.67249621, -8.05007101, -9.23638705]]), array([24655.08221933, 24655.08221933, 24655.08221933, 24655.08221934]))\n",
       "           fun: 24655.082219332613\n",
       "       message: 'Optimization terminated successfully.'\n",
       "          nfev: 287\n",
       "           nit: 166\n",
       "        status: 0\n",
       "       success: True\n",
       "             x: array([-3.67249437, -8.0500733 , -9.23636648])"
      ]
     },
     "execution_count": 273,
     "metadata": {},
     "output_type": "execute_result"
    }
   ],
   "source": [
    "op_hawkes_log_likelihood = lambda param, t: - hawkes_log_likelihood(t, np.exp(param[0]), np.exp(param[0])+np.exp(param[1]), np.exp(param[2]))\n",
    "mle2 = op.minimize(op_hawkes_log_likelihood, x0 = [-2, -2, -2], method = 'Nelder-Mead', args=(t0,))\n",
    "mle2"
   ]
  },
  {
   "cell_type": "markdown",
   "metadata": {},
   "source": [
    "And we compute the KS statistics as well as plotting the QQ plots."
   ]
  },
  {
   "cell_type": "code",
   "execution_count": 274,
   "metadata": {},
   "outputs": [],
   "source": [
    "beta2, theta2, lambda_b2 = np.exp(mle2.x[0]), np.exp(mle2.x[0]) + np.exp(mle2.x[1]), np.exp(mle2.x[2])\n",
    "\n",
    "compensator_t2 = np.zeros(len(t0)+1)\n",
    "for i in range(len(t0)):\n",
    "    compensator_t2[i+1] = hawkes_comp(t0[i], t0, beta2, theta2, lambda_b2)\n",
    "\n",
    "inter_arr_times2 = np.diff(compensator_t2)\n",
    "p_values2 = np.exp(-inter_arr_times2)\n",
    "ks2 = st.kstest(p_values2, \"uniform\")\n",
    "ks_train_hawkes.append(ks2.statistic)"
   ]
  },
  {
   "cell_type": "code",
   "execution_count": 275,
   "metadata": {},
   "outputs": [],
   "source": [
    "beta2, theta2, lambda_b2 = np.exp(mle2.x[0]), np.exp(mle2.x[0]) + np.exp(mle2.x[1]), np.exp(mle2.x[2])\n",
    "\n",
    "compensator_t21 = np.zeros(len(t1)+1)\n",
    "for i in range(len(t1)):\n",
    "    compensator_t21[i+1] = hawkes_comp(t1[i], t1, beta2, theta2, lambda_b2)\n",
    "\n",
    "inter_arr_times21 = np.diff(compensator_t21)\n",
    "p_values21 = np.exp(-inter_arr_times21)\n",
    "ks21 = st.kstest(p_values21, \"uniform\")\n",
    "ks_test_hawkes.append(ks21.statistic)"
   ]
  },
  {
   "cell_type": "code",
   "execution_count": 276,
   "metadata": {},
   "outputs": [
    {
     "data": {
      "image/png": "[encoded data removed]",
      "text/plain": [
       "<Figure size 432x288 with 1 Axes>"
      ]
     },
     "metadata": {
      "needs_background": "light"
     },
     "output_type": "display_data"
    }
   ],
   "source": [
    "x2,y2 = ecdf(p_values2)\n",
    "plt.plot(x2,y2)\n",
    "\n",
    "plt.title(\"ECDF for p-values of Model 3\")\n",
    "plt.xlabel(\"P-value\")\n",
    "plt.ylabel(\"ECDF value\")\n",
    "plt.plot([0,1], [0,1], label=\"Theoretical ECDF\", color='orange')\n",
    "plt.legend()\n",
    "plt.show()"
   ]
  },
  {
   "cell_type": "code",
   "execution_count": 250,
   "metadata": {},
   "outputs": [
    {
     "data": {
      "image/png": "[encoded data removed]",
      "text/plain": [
       "<Figure size 432x288 with 2 Axes>"
      ]
     },
     "metadata": {
      "needs_background": "light"
     },
     "output_type": "display_data"
    }
   ],
   "source": [
    "x2,y2 = ecdf(p_values2)\n",
    "plt.subplot(1, 2, 1)\n",
    "plt.plot(x2,y2,  label=\"Empirical ECDF: Hawkes\")\n",
    "plt.plot(x0,y0,  label=\"Empirical ECDF: Different stations\", color='green')\n",
    "\n",
    "plt.title(\"Victoria Station: Train Set\")\n",
    "plt.xlabel(\"theoretical quantiles\")\n",
    "plt.ylabel(\"observed quantiles\")\n",
    "plt.plot([0,1], [0,1], label=\"Theoretical ECDF\", color='lightgray')\n",
    "\n",
    "\n",
    "\n",
    "x21,y21 = ecdf(p_values21)\n",
    "x01,y01 = ecdf(p_values01)\n",
    "plt.subplot(1, 2, 2)\n",
    "plt.plot(x21,y21,  label=\"Empirical: Hawkes\")\n",
    "plt.plot(x01,y01,  label=\"Empirical: Spatial\", color='green')\n",
    "\n",
    "plt.title(\"Victoria Station: Test Set\")\n",
    "plt.xlabel(\"theoretical quantiles\")\n",
    "plt.plot([0,1], [0,1], label=\"Theoretical\", color='lightgray')\n",
    "plt.legend()\n",
    "\n",
    "plt.savefig('v2.pdf')\n"
   ]
  },
  {
   "cell_type": "markdown",
   "metadata": {},
   "source": [
    "Paddington Station"
   ]
  },
  {
   "cell_type": "markdown",
   "metadata": {},
   "source": [
    "We do some preprocessing of time data."
   ]
  },
  {
   "cell_type": "code",
   "execution_count": 278,
   "metadata": {},
   "outputs": [],
   "source": [
    "sid = 186\n",
    "ind = get_station_index(loc_codes, sid)\n",
    "\n",
    "t0, ind_list = process_times(loc_codes, train_times, sid)\n",
    "t1, ind_list = process_times(loc_codes, test_times, sid)\n",
    "#if len(ind_list) != 0:\n",
    "    #loc_codes[ind_list] = -1\n",
    "    #loc_codes = [i for i in loc_codes if i != -1]\n",
    "    \n",
    "dist_arr = geo_df[f\"{ind}\"].to_numpy()"
   ]
  },
  {
   "cell_type": "markdown",
   "metadata": {},
   "source": [
    "And we choose a threshold of 0.5 miles to select nearby stations."
   ]
  },
  {
   "cell_type": "code",
   "execution_count": 279,
   "metadata": {},
   "outputs": [
    {
     "name": "stdout",
     "output_type": "stream",
     "text": [
      "7\n",
      "7\n",
      "[186, 265, 279, 290, 330, 370, 408]\n"
     ]
    }
   ],
   "source": [
    "thres = 0.5\n",
    "new_dist, new_loc = thres_fun(dist_arr, thres, loc_codes)\n",
    "print(len(new_loc));\n",
    "print(len(new_dist));\n",
    "print(new_loc)"
   ]
  },
  {
   "cell_type": "markdown",
   "metadata": {},
   "source": [
    "We obtain the time events for the stations in a neighbourhood of 0.5 miles in radius."
   ]
  },
  {
   "cell_type": "code",
   "execution_count": 280,
   "metadata": {},
   "outputs": [],
   "source": [
    "t00 = {}\n",
    "t01 = {}\n",
    "\n",
    "for loc in new_loc:\n",
    "    if loc not in ind_list:\n",
    "        t00[loc] = t0[loc]\n",
    "        t01[loc] = t1[loc]\n",
    "    \n",
    "new_loc = list(t00.keys())"
   ]
  },
  {
   "cell_type": "markdown",
   "metadata": {},
   "source": [
    "And the optimisation for SE (multiple stations)."
   ]
  },
  {
   "cell_type": "code",
   "execution_count": 281,
   "metadata": {},
   "outputs": [
    {
     "data": {
      "text/plain": [
       " final_simplex: (array([[ -3.85746826,  -3.99937713, -10.45439721,   1.3533935 ],\n",
       "       [ -3.8574779 ,  -3.99937963, -10.45436746,   1.35339949],\n",
       "       [ -3.85746976,  -3.99934598, -10.45447989,   1.3533829 ],\n",
       "       [ -3.85749443,  -3.99940759, -10.45449561,   1.35339833],\n",
       "       [ -3.85746423,  -3.99941385, -10.45446345,   1.35343002]]), array([20960.79889313, 20960.79889316, 20960.79889331, 20960.79889333,\n",
       "       20960.79889334]))\n",
       "           fun: 20960.798893131294\n",
       "       message: 'Optimization terminated successfully.'\n",
       "          nfev: 787\n",
       "           nit: 466\n",
       "        status: 0\n",
       "       success: True\n",
       "             x: array([ -3.85746826,  -3.99937713, -10.45439721,   1.3533935 ])"
      ]
     },
     "execution_count": 281,
     "metadata": {},
     "output_type": "execute_result"
    }
   ],
   "source": [
    "op_diff_log_likelihood = lambda param, location_codes, t, dist, i: - diff_log_likelihood(location_codes, t, np.exp(param[0]), np.exp(param[0])+np.exp(param[1]), \n",
    "                                                                                         np.exp(param[2]), np.exp(param[3]), dist, i)\n",
    "mle0 = op.minimize(op_diff_log_likelihood, x0 = [-2, -2, -2, 2], method = 'Nelder-Mead', args=(new_loc, t00, new_dist, sid))\n",
    "mle0"
   ]
  },
  {
   "cell_type": "markdown",
   "metadata": {},
   "source": [
    "We compute the KS statistics for both train and test sets."
   ]
  },
  {
   "cell_type": "code",
   "execution_count": 282,
   "metadata": {},
   "outputs": [],
   "source": [
    "beta0, theta0, lambda_b0, k0 = np.exp(mle0.x[0]), np.exp(mle0.x[0])+np.exp(mle0.x[1]), np.exp(mle0.x[2]), np.exp(mle0.x[3])\n",
    "\n",
    "t_dep = t00[sid]\n",
    "compensator_t0 = np.zeros(len(t_dep)+1)\n",
    "for j in range(len(t_dep)):\n",
    "    compensator_t0[j+1] = diff_comp(t_dep[j], new_loc, t00, beta0, theta0, lambda_b0, new_dist, k0)\n",
    "\n",
    "inter_arr_times0 = np.diff(compensator_t0)\n",
    "p_values0 = np.exp(-inter_arr_times0)\n",
    "ks0 = st.kstest(p_values0, \"uniform\")\n",
    "ks_train_spatio.append(ks0.statistic)"
   ]
  },
  {
   "cell_type": "code",
   "execution_count": 283,
   "metadata": {},
   "outputs": [],
   "source": [
    "beta0, theta0, lambda_b0, k0 = np.exp(mle0.x[0]), np.exp(mle0.x[0])+np.exp(mle0.x[1]), np.exp(mle0.x[2]), np.exp(mle0.x[3])\n",
    "\n",
    "t_dep = t01[sid]\n",
    "compensator_t01 = np.zeros(len(t_dep)+1)\n",
    "for j in range(len(t_dep)):\n",
    "    compensator_t01[j+1] = diff_comp(t_dep[j], new_loc, t01, beta0, theta0, lambda_b0, new_dist, k0)\n",
    "\n",
    "inter_arr_times01 = np.diff(compensator_t01)\n",
    "p_values01 = np.exp(-inter_arr_times01)\n",
    "ks1 = st.kstest(p_values01, \"uniform\")\n",
    "ks_test_spatio.append(ks1.statistic)"
   ]
  },
  {
   "cell_type": "code",
   "execution_count": 284,
   "metadata": {},
   "outputs": [
    {
     "data": {
      "image/png": "[encoded data removed]",
      "text/plain": [
       "<Figure size 432x288 with 1 Axes>"
      ]
     },
     "metadata": {
      "needs_background": "light"
     },
     "output_type": "display_data"
    }
   ],
   "source": [
    "x0,y0 = ecdf(p_values0)\n",
    "plt.plot(x0,y0)\n",
    "\n",
    "plt.title(\"ECDF for p-values of Model 3\")\n",
    "plt.xlabel(\"P-value\")\n",
    "plt.ylabel(\"ECDF value\")\n",
    "plt.plot([0,1], [0,1], label=\"Theoretical ECDF\", color='orange')\n",
    "plt.legend()\n",
    "plt.show()"
   ]
  },
  {
   "cell_type": "markdown",
   "metadata": {},
   "source": [
    "We could optimise SE (multiple stations) for large k in kappa function, so that the model is reduced to SE (single station)."
   ]
  },
  {
   "cell_type": "code",
   "execution_count": 143,
   "metadata": {},
   "outputs": [
    {
     "data": {
      "text/plain": [
       " final_simplex: (array([[-3.98398511, -8.36833696, -9.44918038],\n",
       "       [-3.98398713, -8.36826141, -9.44917018],\n",
       "       [-3.98398428, -8.36839508, -9.44917836],\n",
       "       [-3.98398443, -8.36825676, -9.44917483]]), array([21467.0443917, 21467.0443917, 21467.0443917, 21467.0443917]))\n",
       "           fun: 21467.044391700347\n",
       "       message: 'Optimization terminated successfully.'\n",
       "          nfev: 227\n",
       "           nit: 126\n",
       "        status: 0\n",
       "       success: True\n",
       "             x: array([-3.98398511, -8.36833696, -9.44918038])"
      ]
     },
     "execution_count": 143,
     "metadata": {},
     "output_type": "execute_result"
    }
   ],
   "source": [
    "op_diff_log_likelihood = lambda param, location_codes, t, dist, k, i: - diff_log_likelihood(location_codes, t, np.exp(param[0]), np.exp(param[0])+np.exp(param[1]), \n",
    "                                                                                         np.exp(param[2]), k, dist, i)\n",
    "mle1 = op.minimize(op_diff_log_likelihood, x0 = [-2, -2, -2], method = 'Nelder-Mead', args=(new_loc, t00, new_dist, np.exp(50), sid))\n",
    "mle1"
   ]
  },
  {
   "cell_type": "markdown",
   "metadata": {},
   "source": [
    "And the KS statistics."
   ]
  },
  {
   "cell_type": "code",
   "execution_count": 144,
   "metadata": {},
   "outputs": [],
   "source": [
    "beta1, theta1, lambda_b1, k1 = np.exp(mle1.x[0]), np.exp(mle1.x[0])+np.exp(mle1.x[1]), np.exp(mle1.x[2]), np.exp(10)\n",
    "\n",
    "t_dep = t00[sid]\n",
    "compensator_t1 = np.zeros(len(t_dep)+1)\n",
    "for j in range(len(t_dep)):\n",
    "    compensator_t1[j+1] = diff_comp(t_dep[j], new_loc, t00, beta1, theta1, lambda_b1, new_dist, k1)\n",
    "\n",
    "inter_arr_times1 = np.diff(compensator_t1)\n",
    "p_values1 = np.exp(-inter_arr_times1)"
   ]
  },
  {
   "cell_type": "code",
   "execution_count": 145,
   "metadata": {},
   "outputs": [
    {
     "data": {
      "image/png": "[encoded data removed]",
      "text/plain": [
       "<Figure size 432x288 with 1 Axes>"
      ]
     },
     "metadata": {
      "needs_background": "light"
     },
     "output_type": "display_data"
    }
   ],
   "source": [
    "x1,y1 = ecdf(p_values1)\n",
    "plt.plot(x1,y1)\n",
    "\n",
    "plt.title(\"ECDF for p-values of Model 3\")\n",
    "plt.xlabel(\"P-value\")\n",
    "plt.ylabel(\"ECDF value\")\n",
    "plt.plot([0,1], [0,1], label=\"Theoretical ECDF\", color='orange')\n",
    "plt.legend()\n",
    "plt.show()"
   ]
  },
  {
   "cell_type": "markdown",
   "metadata": {},
   "source": [
    "Now we fit the SE (single station) model. We get the train and test time for Paddington station only."
   ]
  },
  {
   "cell_type": "code",
   "execution_count": 146,
   "metadata": {},
   "outputs": [],
   "source": [
    "t0 = train_times[186]\n",
    "t1 = test_times[186]"
   ]
  },
  {
   "cell_type": "markdown",
   "metadata": {},
   "source": [
    "\n",
    "And we compute the optimisation."
   ]
  },
  {
   "cell_type": "code",
   "execution_count": 147,
   "metadata": {},
   "outputs": [
    {
     "data": {
      "text/plain": [
       " final_simplex: (array([[-3.98398511, -8.36833696, -9.44918038],\n",
       "       [-3.98398713, -8.36826141, -9.44917018],\n",
       "       [-3.98398428, -8.36839508, -9.44917836],\n",
       "       [-3.98398443, -8.36825676, -9.44917483]]), array([21467.0443917, 21467.0443917, 21467.0443917, 21467.0443917]))\n",
       "           fun: 21467.044391700347\n",
       "       message: 'Optimization terminated successfully.'\n",
       "          nfev: 227\n",
       "           nit: 126\n",
       "        status: 0\n",
       "       success: True\n",
       "             x: array([-3.98398511, -8.36833696, -9.44918038])"
      ]
     },
     "execution_count": 147,
     "metadata": {},
     "output_type": "execute_result"
    }
   ],
   "source": [
    "op_hawkes_log_likelihood = lambda param, t: - hawkes_log_likelihood(t, np.exp(param[0]), np.exp(param[0])+np.exp(param[1]), np.exp(param[2]))\n",
    "mle2 = op.minimize(op_hawkes_log_likelihood, x0 = [-2, -2, -2], method = 'Nelder-Mead', args=(t0,))\n",
    "mle2"
   ]
  },
  {
   "cell_type": "markdown",
   "metadata": {},
   "source": [
    "And we compute the KS statistics as well as plotting the QQ plots."
   ]
  },
  {
   "cell_type": "code",
   "execution_count": 148,
   "metadata": {},
   "outputs": [],
   "source": [
    "beta2, theta2, lambda_b2 = np.exp(mle2.x[0]), np.exp(mle2.x[0]) + np.exp(mle2.x[1]), np.exp(mle2.x[2])\n",
    "\n",
    "compensator_t2 = np.zeros(len(t0)+1)\n",
    "for i in range(len(t0)):\n",
    "    compensator_t2[i+1] = hawkes_comp(t0[i], t0, beta2, theta2, lambda_b2)\n",
    "\n",
    "inter_arr_times2 = np.diff(compensator_t2)\n",
    "p_values2 = np.exp(-inter_arr_times2)\n",
    "ks2 = st.kstest(p_values2, \"uniform\")\n",
    "ks_train_hawkes.append(ks2.statistic)"
   ]
  },
  {
   "cell_type": "code",
   "execution_count": 149,
   "metadata": {},
   "outputs": [],
   "source": [
    "beta2, theta2, lambda_b2 = np.exp(mle2.x[0]), np.exp(mle2.x[0]) + np.exp(mle2.x[1]), np.exp(mle2.x[2])\n",
    "\n",
    "compensator_t21 = np.zeros(len(t1)+1)\n",
    "for i in range(len(t1)):\n",
    "    compensator_t21[i+1] = hawkes_comp(t1[i], t1, beta2, theta2, lambda_b2)\n",
    "\n",
    "inter_arr_times21 = np.diff(compensator_t21)\n",
    "p_values21 = np.exp(-inter_arr_times21)\n",
    "ks21 = st.kstest(p_values21, \"uniform\")\n",
    "ks_test_hawkes.append(ks21.statistic)"
   ]
  },
  {
   "cell_type": "code",
   "execution_count": 150,
   "metadata": {},
   "outputs": [
    {
     "data": {
      "image/png": "[encoded data removed]",
      "text/plain": [
       "<Figure size 432x288 with 1 Axes>"
      ]
     },
     "metadata": {
      "needs_background": "light"
     },
     "output_type": "display_data"
    }
   ],
   "source": [
    "x2,y2 = ecdf(p_values2)\n",
    "plt.plot(x2,y2)\n",
    "\n",
    "plt.title(\"ECDF for p-values of Model 3\")\n",
    "plt.xlabel(\"P-value\")\n",
    "plt.ylabel(\"ECDF value\")\n",
    "plt.plot([0,1], [0,1], label=\"Theoretical ECDF\", color='orange')\n",
    "plt.legend()\n",
    "plt.show()"
   ]
  },
  {
   "cell_type": "code",
   "execution_count": 286,
   "metadata": {},
   "outputs": [
    {
     "data": {
      "image/png": "[encoded data removed]",
      "text/plain": [
       "<Figure size 432x288 with 2 Axes>"
      ]
     },
     "metadata": {
      "needs_background": "light"
     },
     "output_type": "display_data"
    }
   ],
   "source": [
    "x2,y2 = ecdf(p_values2)\n",
    "plt.subplot(1, 2, 1)\n",
    "plt.plot(x2,y2,  label=\"Empirical ECDF: Hawkes\")\n",
    "plt.plot(x0,y0,  label=\"Empirical ECDF: Different stations\", color='green')\n",
    "\n",
    "plt.title(\"Paddington Station: Train Set\")\n",
    "plt.xlabel(\"theoretical quantiles\")\n",
    "plt.ylabel(\"observed quantiles\")\n",
    "plt.plot([0,1], [0,1], label=\"Theoretical ECDF\", color='lightgray')\n",
    "\n",
    "\n",
    "\n",
    "x21,y21 = ecdf(p_values21)\n",
    "x01,y01 = ecdf(p_values01)\n",
    "plt.subplot(1, 2, 2)\n",
    "plt.plot(x21,y21,  label=\"Empirical: Hawkes\")\n",
    "plt.plot(x01,y01,  label=\"Empirical: Spatial\", color='green')\n",
    "\n",
    "plt.title(\"Paddington Station: Test Set\")\n",
    "plt.xlabel(\"theoretical quantiles\")\n",
    "plt.plot([0,1], [0,1], label=\"Theoretical\", color='lightgray')\n",
    "plt.legend()\n",
    "\n",
    "plt.show()"
   ]
  },
  {
   "cell_type": "markdown",
   "metadata": {},
   "source": [
    "London Bridge"
   ]
  },
  {
   "cell_type": "markdown",
   "metadata": {},
   "source": [
    "We do some preprocessing of time data."
   ]
  },
  {
   "cell_type": "code",
   "execution_count": 151,
   "metadata": {},
   "outputs": [],
   "source": [
    "sid = 706\n",
    "ind = get_station_index(loc_codes, sid)\n",
    "\n",
    "t0, ind_list = process_times(loc_codes, train_times, sid)\n",
    "t1, ind_list = process_times(loc_codes, test_times, sid)\n",
    "#if len(ind_list) != 0:\n",
    "    #loc_codes[ind_list] = -1\n",
    "    #loc_codes = [i for i in loc_codes if i != -1]\n",
    "    \n",
    "dist_arr = geo_df[f\"{ind}\"].to_numpy()"
   ]
  },
  {
   "cell_type": "markdown",
   "metadata": {},
   "source": [
    "And we choose a threshold of 0.5 miles to select nearby stations."
   ]
  },
  {
   "cell_type": "code",
   "execution_count": 153,
   "metadata": {},
   "outputs": [
    {
     "name": "stdout",
     "output_type": "stream",
     "text": [
      "7\n",
      "7\n",
      "[85, 269, 278, 308, 314, 321, 706]\n"
     ]
    }
   ],
   "source": [
    "thres = 0.5\n",
    "new_dist, new_loc = thres_fun(dist_arr, thres, loc_codes)\n",
    "print(len(new_loc));\n",
    "print(len(new_dist));\n",
    "print(new_loc)"
   ]
  },
  {
   "cell_type": "markdown",
   "metadata": {},
   "source": [
    "We obtain the time events for the stations in a neighbourhood of 0.5 miles in radius."
   ]
  },
  {
   "cell_type": "code",
   "execution_count": 155,
   "metadata": {},
   "outputs": [],
   "source": [
    "t00 = {}\n",
    "t01 = {}\n",
    "\n",
    "for loc in new_loc:\n",
    "    if loc not in ind_list:\n",
    "        t00[loc] = t0[loc]\n",
    "        t01[loc] = t1[loc]\n",
    "    \n",
    "new_loc = list(t00.keys())"
   ]
  },
  {
   "cell_type": "markdown",
   "metadata": {},
   "source": [
    "And the optimisation for SE (multiple stations)."
   ]
  },
  {
   "cell_type": "code",
   "execution_count": 156,
   "metadata": {},
   "outputs": [
    {
     "data": {
      "text/plain": [
       " final_simplex: (array([[ -4.4362979 , -41.98665806, -11.22718008,  19.32658707],\n",
       "       [ -4.4362979 , -41.98662429, -11.22718008,  19.32657299],\n",
       "       [ -4.4362979 , -41.9865791 , -11.22718008,  19.32655414],\n",
       "       [ -4.4362979 , -41.98657748, -11.22718008,  19.32655347],\n",
       "       [ -4.4362979 , -41.98661365, -11.22718008,  19.32656855]]), array([13821.59784233, 13821.59784233, 13821.59784233, 13821.59784233,\n",
       "       13821.59784233]))\n",
       "           fun: 13821.597842327441\n",
       "       message: 'Optimization terminated successfully.'\n",
       "          nfev: 505\n",
       "           nit: 272\n",
       "        status: 0\n",
       "       success: True\n",
       "             x: array([ -4.4362979 , -41.98665806, -11.22718008,  19.32658707])"
      ]
     },
     "execution_count": 156,
     "metadata": {},
     "output_type": "execute_result"
    }
   ],
   "source": [
    "op_diff_log_likelihood = lambda param, location_codes, t, dist, i: - diff_log_likelihood(location_codes, t, np.exp(param[0]), np.exp(param[0])+np.exp(param[1]), \n",
    "                                                                                         np.exp(param[2]), np.exp(param[3]), dist, i)\n",
    "mle0 = op.minimize(op_diff_log_likelihood, x0 = [-2, -2, -2, 2], method = 'Nelder-Mead', args=(new_loc, t00, new_dist, sid))\n",
    "mle0"
   ]
  },
  {
   "cell_type": "markdown",
   "metadata": {},
   "source": [
    "And we compute the KS statistics as well as plotting the QQ plots."
   ]
  },
  {
   "cell_type": "code",
   "execution_count": 157,
   "metadata": {},
   "outputs": [],
   "source": [
    "beta0, theta0, lambda_b0, k0 = np.exp(mle0.x[0]), np.exp(mle0.x[0])+np.exp(mle0.x[1]), np.exp(mle0.x[2]), np.exp(mle0.x[3])\n",
    "\n",
    "t_dep = t00[sid]\n",
    "compensator_t0 = np.zeros(len(t_dep)+1)\n",
    "for j in range(len(t_dep)):\n",
    "    compensator_t0[j+1] = diff_comp(t_dep[j], new_loc, t00, beta0, theta0, lambda_b0, new_dist, k0)\n",
    "\n",
    "inter_arr_times0 = np.diff(compensator_t0)\n",
    "p_values0 = np.exp(-inter_arr_times0)\n",
    "ks0 = st.kstest(p_values0, \"uniform\")\n",
    "ks_train_spatio.append(ks0.statistic)"
   ]
  },
  {
   "cell_type": "code",
   "execution_count": 158,
   "metadata": {},
   "outputs": [],
   "source": [
    "beta0, theta0, lambda_b0, k0 = np.exp(mle0.x[0]), np.exp(mle0.x[0])+np.exp(mle0.x[1]), np.exp(mle0.x[2]), np.exp(mle0.x[3])\n",
    "\n",
    "t_dep = t01[sid]\n",
    "compensator_t01 = np.zeros(len(t_dep)+1)\n",
    "for j in range(len(t_dep)):\n",
    "    compensator_t01[j+1] = diff_comp(t_dep[j], new_loc, t01, beta0, theta0, lambda_b0, new_dist, k0)\n",
    "\n",
    "inter_arr_times01 = np.diff(compensator_t01)\n",
    "p_values01 = np.exp(-inter_arr_times01)\n",
    "ks1 = st.kstest(p_values01, \"uniform\")\n",
    "ks_test_spatio.append(ks1.statistic)"
   ]
  },
  {
   "cell_type": "code",
   "execution_count": 159,
   "metadata": {},
   "outputs": [
    {
     "data": {
      "image/png": "[encoded data removed]",
      "text/plain": [
       "<Figure size 432x288 with 1 Axes>"
      ]
     },
     "metadata": {
      "needs_background": "light"
     },
     "output_type": "display_data"
    }
   ],
   "source": [
    "x0,y0 = ecdf(p_values0)\n",
    "plt.plot(x0,y0)\n",
    "\n",
    "plt.title(\"ECDF for p-values of Model 3\")\n",
    "plt.xlabel(\"P-value\")\n",
    "plt.ylabel(\"ECDF value\")\n",
    "plt.plot([0,1], [0,1], label=\"Theoretical ECDF\", color='orange')\n",
    "plt.legend()\n",
    "plt.show()"
   ]
  },
  {
   "cell_type": "markdown",
   "metadata": {},
   "source": [
    "We could optimise SE (multiple stations) for large k in kappa function, so that the model is reduced to SE (single station)."
   ]
  },
  {
   "cell_type": "code",
   "execution_count": 160,
   "metadata": {},
   "outputs": [
    {
     "data": {
      "text/plain": [
       " final_simplex: (array([[ -4.43629791, -41.74076084, -11.22718052],\n",
       "       [ -4.43629791, -41.7407555 , -11.22718052],\n",
       "       [ -4.43629791, -41.74081133, -11.22718052],\n",
       "       [ -4.43629791, -41.74066822, -11.22718052]]), array([13821.59784233, 13821.59784233, 13821.59784233, 13821.59784233]))\n",
       "           fun: 13821.597842327441\n",
       "       message: 'Optimization terminated successfully.'\n",
       "          nfev: 415\n",
       "           nit: 213\n",
       "        status: 0\n",
       "       success: True\n",
       "             x: array([ -4.43629791, -41.74076084, -11.22718052])"
      ]
     },
     "execution_count": 160,
     "metadata": {},
     "output_type": "execute_result"
    }
   ],
   "source": [
    "op_diff_log_likelihood = lambda param, location_codes, t, dist, k, i: - diff_log_likelihood(location_codes, t, np.exp(param[0]), np.exp(param[0])+np.exp(param[1]), \n",
    "                                                                                         np.exp(param[2]), k, dist, i)\n",
    "mle1 = op.minimize(op_diff_log_likelihood, x0 = [-2, -2, -2], method = 'Nelder-Mead', args=(new_loc, t00, new_dist, np.exp(50), sid))\n",
    "mle1"
   ]
  },
  {
   "cell_type": "markdown",
   "metadata": {},
   "source": [
    "And the KS statistics."
   ]
  },
  {
   "cell_type": "code",
   "execution_count": 161,
   "metadata": {},
   "outputs": [],
   "source": [
    "beta1, theta1, lambda_b1, k1 = np.exp(mle1.x[0]), np.exp(mle1.x[0])+np.exp(mle1.x[1]), np.exp(mle1.x[2]), np.exp(10)\n",
    "\n",
    "t_dep = t00[sid]\n",
    "compensator_t1 = np.zeros(len(t_dep)+1)\n",
    "for j in range(len(t_dep)):\n",
    "    compensator_t1[j+1] = diff_comp(t_dep[j], new_loc, t00, beta1, theta1, lambda_b1, new_dist, k1)\n",
    "\n",
    "inter_arr_times1 = np.diff(compensator_t1)\n",
    "p_values1 = np.exp(-inter_arr_times1)"
   ]
  },
  {
   "cell_type": "code",
   "execution_count": 162,
   "metadata": {},
   "outputs": [
    {
     "data": {
      "image/png": "[encoded data removed]",
      "text/plain": [
       "<Figure size 432x288 with 1 Axes>"
      ]
     },
     "metadata": {
      "needs_background": "light"
     },
     "output_type": "display_data"
    }
   ],
   "source": [
    "x1,y1 = ecdf(p_values1)\n",
    "plt.plot(x1,y1)\n",
    "\n",
    "plt.title(\"ECDF for p-values of Model 3\")\n",
    "plt.xlabel(\"P-value\")\n",
    "plt.ylabel(\"ECDF value\")\n",
    "plt.plot([0,1], [0,1], label=\"Theoretical ECDF\", color='orange')\n",
    "plt.legend()\n",
    "plt.show()"
   ]
  },
  {
   "cell_type": "markdown",
   "metadata": {},
   "source": [
    "Now we fit the SE (single station) model. We get the train and test time for London Bridge Station only."
   ]
  },
  {
   "cell_type": "code",
   "execution_count": 163,
   "metadata": {},
   "outputs": [],
   "source": [
    "t0 = train_times[374]\n",
    "t1 = test_times[374]"
   ]
  },
  {
   "cell_type": "markdown",
   "metadata": {},
   "source": [
    "And we compute the optimisation."
   ]
  },
  {
   "cell_type": "code",
   "execution_count": 164,
   "metadata": {},
   "outputs": [
    {
     "data": {
      "text/plain": [
       " final_simplex: (array([[-3.67249437, -8.0500733 , -9.23636648],\n",
       "       [-3.6724928 , -8.05014571, -9.23637637],\n",
       "       [-3.67249399, -8.05016234, -9.23636872],\n",
       "       [-3.67249621, -8.05007101, -9.23638705]]), array([24655.08221933, 24655.08221933, 24655.08221933, 24655.08221934]))\n",
       "           fun: 24655.082219332613\n",
       "       message: 'Optimization terminated successfully.'\n",
       "          nfev: 287\n",
       "           nit: 166\n",
       "        status: 0\n",
       "       success: True\n",
       "             x: array([-3.67249437, -8.0500733 , -9.23636648])"
      ]
     },
     "execution_count": 164,
     "metadata": {},
     "output_type": "execute_result"
    }
   ],
   "source": [
    "op_hawkes_log_likelihood = lambda param, t: - hawkes_log_likelihood(t, np.exp(param[0]), np.exp(param[0])+np.exp(param[1]), np.exp(param[2]))\n",
    "mle2 = op.minimize(op_hawkes_log_likelihood, x0 = [-2, -2, -2], method = 'Nelder-Mead', args=(t0,))\n",
    "mle2"
   ]
  },
  {
   "cell_type": "markdown",
   "metadata": {},
   "source": [
    "And we compute the KS statistics as well as plotting the QQ plots."
   ]
  },
  {
   "cell_type": "code",
   "execution_count": 165,
   "metadata": {},
   "outputs": [],
   "source": [
    "beta2, theta2, lambda_b2 = np.exp(mle2.x[0]), np.exp(mle2.x[0]) + np.exp(mle2.x[1]), np.exp(mle2.x[2])\n",
    "\n",
    "compensator_t2 = np.zeros(len(t0)+1)\n",
    "for i in range(len(t0)):\n",
    "    compensator_t2[i+1] = hawkes_comp(t0[i], t0, beta2, theta2, lambda_b2)\n",
    "\n",
    "inter_arr_times2 = np.diff(compensator_t2)\n",
    "p_values2 = np.exp(-inter_arr_times2)\n",
    "ks2 = st.kstest(p_values2, \"uniform\")\n",
    "ks_train_hawkes.append(ks2.statistic)"
   ]
  },
  {
   "cell_type": "code",
   "execution_count": 166,
   "metadata": {},
   "outputs": [],
   "source": [
    "beta2, theta2, lambda_b2 = np.exp(mle2.x[0]), np.exp(mle2.x[0]) + np.exp(mle2.x[1]), np.exp(mle2.x[2])\n",
    "\n",
    "compensator_t21 = np.zeros(len(t1)+1)\n",
    "for i in range(len(t1)):\n",
    "    compensator_t21[i+1] = hawkes_comp(t1[i], t1, beta2, theta2, lambda_b2)\n",
    "\n",
    "inter_arr_times21 = np.diff(compensator_t21)\n",
    "p_values21 = np.exp(-inter_arr_times21)\n",
    "ks21 = st.kstest(p_values21, \"uniform\")\n",
    "ks_test_hawkes.append(ks21.statistic)"
   ]
  },
  {
   "cell_type": "code",
   "execution_count": 167,
   "metadata": {},
   "outputs": [
    {
     "data": {
      "image/png": "[encoded data removed]",
      "text/plain": [
       "<Figure size 432x288 with 1 Axes>"
      ]
     },
     "metadata": {
      "needs_background": "light"
     },
     "output_type": "display_data"
    }
   ],
   "source": [
    "x2,y2 = ecdf(p_values2)\n",
    "plt.plot(x2,y2)\n",
    "\n",
    "plt.title(\"ECDF for p-values of Model 3\")\n",
    "plt.xlabel(\"P-value\")\n",
    "plt.ylabel(\"ECDF value\")\n",
    "plt.plot([0,1], [0,1], label=\"Theoretical ECDF\", color='orange')\n",
    "plt.legend()\n",
    "plt.show()"
   ]
  },
  {
   "cell_type": "markdown",
   "metadata": {},
   "source": [
    "King's Cross"
   ]
  },
  {
   "cell_type": "markdown",
   "metadata": {},
   "source": [
    "We do some preprocessing of time data."
   ]
  },
  {
   "cell_type": "code",
   "execution_count": 171,
   "metadata": {},
   "outputs": [],
   "source": [
    "sid = 798\n",
    "ind = get_station_index(loc_codes, sid)\n",
    "\n",
    "t0, ind_list = process_times(loc_codes, train_times, sid)\n",
    "t1, ind_list = process_times(loc_codes, test_times, sid)\n",
    "#if len(ind_list) != 0:\n",
    "    #loc_codes[ind_list] = -1\n",
    "    #loc_codes = [i for i in loc_codes if i != -1]\n",
    "    \n",
    "dist_arr = geo_df[f\"{ind}\"].to_numpy()"
   ]
  },
  {
   "cell_type": "markdown",
   "metadata": {},
   "source": [
    "And we choose a threshold of 0.4 miles to select nearby stations."
   ]
  },
  {
   "cell_type": "code",
   "execution_count": 172,
   "metadata": {},
   "outputs": [
    {
     "name": "stdout",
     "output_type": "stream",
     "text": [
      "6\n",
      "6\n",
      "[4, 14, 70, 593, 793, 798]\n"
     ]
    }
   ],
   "source": [
    "thres = 0.4\n",
    "new_dist, new_loc = thres_fun(dist_arr, thres, loc_codes)\n",
    "print(len(new_loc));\n",
    "print(len(new_dist));\n",
    "print(new_loc)"
   ]
  },
  {
   "cell_type": "markdown",
   "metadata": {},
   "source": [
    "We obtain the time events for the stations in a neighbourhood of 0.4 miles in radius."
   ]
  },
  {
   "cell_type": "code",
   "execution_count": 173,
   "metadata": {},
   "outputs": [],
   "source": [
    "t00 = {}\n",
    "t01 = {}\n",
    "\n",
    "for loc in new_loc:\n",
    "    if loc not in ind_list:\n",
    "        t00[loc] = t0[loc]\n",
    "        t01[loc] = t1[loc]\n",
    "    \n",
    "new_loc = list(t00.keys())"
   ]
  },
  {
   "cell_type": "markdown",
   "metadata": {},
   "source": [
    "And the optimisation for SE (multiple stations)."
   ]
  },
  {
   "cell_type": "code",
   "execution_count": 174,
   "metadata": {},
   "outputs": [
    {
     "data": {
      "text/plain": [
       " final_simplex: (array([[ -4.53545008, -38.78045598, -12.61983584,   3.96486705],\n",
       "       [ -4.53545008, -38.78053173, -12.61983584,   3.96486705],\n",
       "       [ -4.53545008, -38.78048089, -12.61983584,   3.96486705],\n",
       "       [ -4.53545008, -38.78053717, -12.61983584,   3.96486705],\n",
       "       [ -4.53545008, -38.78052346, -12.61983584,   3.96486705]]), array([11863.14876305, 11863.14876305, 11863.14876305, 11863.14876305,\n",
       "       11863.14876305]))\n",
       "           fun: 11863.148763053616\n",
       "       message: 'Optimization terminated successfully.'\n",
       "          nfev: 698\n",
       "           nit: 397\n",
       "        status: 0\n",
       "       success: True\n",
       "             x: array([ -4.53545008, -38.78045598, -12.61983584,   3.96486705])"
      ]
     },
     "execution_count": 174,
     "metadata": {},
     "output_type": "execute_result"
    }
   ],
   "source": [
    "op_diff_log_likelihood = lambda param, location_codes, t, dist, i: - diff_log_likelihood(location_codes, t, np.exp(param[0]), np.exp(param[0])+np.exp(param[1]), \n",
    "                                                                                         np.exp(param[2]), np.exp(param[3]), dist, i)\n",
    "mle0 = op.minimize(op_diff_log_likelihood, x0 = [-2, -2, -2, 2], method = 'Nelder-Mead', args=(new_loc, t00, new_dist, sid))\n",
    "mle0"
   ]
  },
  {
   "cell_type": "markdown",
   "metadata": {},
   "source": [
    "We compute the KS statistics for both train and test sets."
   ]
  },
  {
   "cell_type": "code",
   "execution_count": 175,
   "metadata": {},
   "outputs": [],
   "source": [
    "beta0, theta0, lambda_b0, k0 = np.exp(mle0.x[0]), np.exp(mle0.x[0])+np.exp(mle0.x[1]), np.exp(mle0.x[2]), np.exp(mle0.x[3])\n",
    "\n",
    "t_dep = t00[sid]\n",
    "compensator_t0 = np.zeros(len(t_dep)+1)\n",
    "for j in range(len(t_dep)):\n",
    "    compensator_t0[j+1] = diff_comp(t_dep[j], new_loc, t00, beta0, theta0, lambda_b0, new_dist, k0)\n",
    "\n",
    "inter_arr_times0 = np.diff(compensator_t0)\n",
    "p_values0 = np.exp(-inter_arr_times0)\n",
    "ks0 = st.kstest(p_values0, \"uniform\")\n",
    "ks_train_spatio.append(ks0.statistic)"
   ]
  },
  {
   "cell_type": "code",
   "execution_count": 176,
   "metadata": {},
   "outputs": [],
   "source": [
    "beta0, theta0, lambda_b0, k0 = np.exp(mle0.x[0]), np.exp(mle0.x[0])+np.exp(mle0.x[1]), np.exp(mle0.x[2]), np.exp(mle0.x[3])\n",
    "\n",
    "t_dep = t01[sid]\n",
    "compensator_t01 = np.zeros(len(t_dep)+1)\n",
    "for j in range(len(t_dep)):\n",
    "    compensator_t01[j+1] = diff_comp(t_dep[j], new_loc, t01, beta0, theta0, lambda_b0, new_dist, k0)\n",
    "\n",
    "inter_arr_times01 = np.diff(compensator_t01)\n",
    "p_values01 = np.exp(-inter_arr_times01)\n",
    "ks1 = st.kstest(p_values01, \"uniform\")\n",
    "ks_test_spatio.append(ks1.statistic)"
   ]
  },
  {
   "cell_type": "code",
   "execution_count": 177,
   "metadata": {},
   "outputs": [
    {
     "data": {
      "image/png": "[encoded data removed]",
      "text/plain": [
       "<Figure size 432x288 with 1 Axes>"
      ]
     },
     "metadata": {
      "needs_background": "light"
     },
     "output_type": "display_data"
    }
   ],
   "source": [
    "x0,y0 = ecdf(p_values0)\n",
    "plt.plot(x0,y0)\n",
    "\n",
    "plt.title(\"ECDF for p-values of Model 3\")\n",
    "plt.xlabel(\"P-value\")\n",
    "plt.ylabel(\"ECDF value\")\n",
    "plt.plot([0,1], [0,1], label=\"Theoretical ECDF\", color='orange')\n",
    "plt.legend()\n",
    "plt.show()"
   ]
  },
  {
   "cell_type": "markdown",
   "metadata": {},
   "source": [
    "We could optimise SE (multiple stations) for large k in kappa function, so that the model is reduced to SE (single station)."
   ]
  },
  {
   "cell_type": "code",
   "execution_count": 178,
   "metadata": {},
   "outputs": [
    {
     "data": {
      "text/plain": [
       " final_simplex: (array([[ -4.63479887, -39.92813714, -12.02759482],\n",
       "       [ -4.63479887, -39.92812801, -12.02759482],\n",
       "       [ -4.63479887, -39.9280819 , -12.02759482],\n",
       "       [ -4.63479887, -39.92806304, -12.02759482]]), array([11870.00028289, 11870.00028289, 11870.00028289, 11870.00028289]))\n",
       "           fun: 11870.000282890436\n",
       "       message: 'Optimization terminated successfully.'\n",
       "          nfev: 564\n",
       "           nit: 305\n",
       "        status: 0\n",
       "       success: True\n",
       "             x: array([ -4.63479887, -39.92813714, -12.02759482])"
      ]
     },
     "execution_count": 178,
     "metadata": {},
     "output_type": "execute_result"
    }
   ],
   "source": [
    "op_diff_log_likelihood = lambda param, location_codes, t, dist, k, i: - diff_log_likelihood(location_codes, t, np.exp(param[0]), np.exp(param[0])+np.exp(param[1]), \n",
    "                                                                                         np.exp(param[2]), k, dist, i)\n",
    "mle1 = op.minimize(op_diff_log_likelihood, x0 = [-2, -2, -2], method = 'Nelder-Mead', args=(new_loc, t00, new_dist, np.exp(50), sid))\n",
    "mle1"
   ]
  },
  {
   "cell_type": "code",
   "execution_count": 179,
   "metadata": {},
   "outputs": [],
   "source": [
    "beta1, theta1, lambda_b1, k1 = np.exp(mle1.x[0]), np.exp(mle1.x[0])+np.exp(mle1.x[1]), np.exp(mle1.x[2]), np.exp(10)\n",
    "\n",
    "t_dep = t00[sid]\n",
    "compensator_t1 = np.zeros(len(t_dep)+1)\n",
    "for j in range(len(t_dep)):\n",
    "    compensator_t1[j+1] = diff_comp(t_dep[j], new_loc, t00, beta1, theta1, lambda_b1, new_dist, k1)\n",
    "\n",
    "inter_arr_times1 = np.diff(compensator_t1)\n",
    "p_values1 = np.exp(-inter_arr_times1)"
   ]
  },
  {
   "cell_type": "code",
   "execution_count": 180,
   "metadata": {},
   "outputs": [
    {
     "data": {
      "image/png": "[encoded data removed]",
      "text/plain": [
       "<Figure size 432x288 with 1 Axes>"
      ]
     },
     "metadata": {
      "needs_background": "light"
     },
     "output_type": "display_data"
    }
   ],
   "source": [
    "x1,y1 = ecdf(p_values1)\n",
    "plt.plot(x1,y1)\n",
    "\n",
    "plt.title(\"ECDF for p-values of Model 3\")\n",
    "plt.xlabel(\"P-value\")\n",
    "plt.ylabel(\"ECDF value\")\n",
    "plt.plot([0,1], [0,1], label=\"Theoretical ECDF\", color='orange')\n",
    "plt.legend()\n",
    "plt.show()"
   ]
  },
  {
   "cell_type": "markdown",
   "metadata": {},
   "source": [
    "Now we fit the SE (single station) model. We get the train and test time for King's Cross station only."
   ]
  },
  {
   "cell_type": "code",
   "execution_count": 181,
   "metadata": {},
   "outputs": [],
   "source": [
    "t0 = train_times[798]\n",
    "t1 = test_times[798]"
   ]
  },
  {
   "cell_type": "markdown",
   "metadata": {},
   "source": [
    "And we compute the optimisation."
   ]
  },
  {
   "cell_type": "code",
   "execution_count": 182,
   "metadata": {},
   "outputs": [
    {
     "data": {
      "text/plain": [
       " final_simplex: (array([[ -4.63785477, -22.60185483, -12.0305487 ],\n",
       "       [ -4.63785486, -22.6019466 , -12.03055077],\n",
       "       [ -4.63785492, -22.60185435, -12.03055141],\n",
       "       [ -4.63785496, -22.60195199, -12.03054841]]), array([15349.10245065, 15349.10245065, 15349.10245065, 15349.10245065]))\n",
       "           fun: 15349.102450651326\n",
       "       message: 'Optimization terminated successfully.'\n",
       "          nfev: 229\n",
       "           nit: 131\n",
       "        status: 0\n",
       "       success: True\n",
       "             x: array([ -4.63785477, -22.60185483, -12.0305487 ])"
      ]
     },
     "execution_count": 182,
     "metadata": {},
     "output_type": "execute_result"
    }
   ],
   "source": [
    "op_hawkes_log_likelihood = lambda param, t: - hawkes_log_likelihood(t, np.exp(param[0]), np.exp(param[0])+np.exp(param[1]), np.exp(param[2]))\n",
    "mle2 = op.minimize(op_hawkes_log_likelihood, x0 = [-2, -2, -2], method = 'Nelder-Mead', args=(t0,))\n",
    "mle2"
   ]
  },
  {
   "cell_type": "markdown",
   "metadata": {},
   "source": [
    "And we compute the KS statistics as well as plotting the QQ plots."
   ]
  },
  {
   "cell_type": "code",
   "execution_count": 183,
   "metadata": {},
   "outputs": [],
   "source": [
    "beta2, theta2, lambda_b2 = np.exp(mle2.x[0]), np.exp(mle2.x[0]) + np.exp(mle2.x[1]), np.exp(mle2.x[2])\n",
    "\n",
    "compensator_t2 = np.zeros(len(t0)+1)\n",
    "for i in range(len(t0)):\n",
    "    compensator_t2[i+1] = hawkes_comp(t0[i], t0, beta2, theta2, lambda_b2)\n",
    "\n",
    "inter_arr_times2 = np.diff(compensator_t2)\n",
    "p_values2 = np.exp(-inter_arr_times2)\n",
    "ks2 = st.kstest(p_values2, \"uniform\")\n",
    "ks_train_hawkes.append(ks2.statistic)"
   ]
  },
  {
   "cell_type": "code",
   "execution_count": 184,
   "metadata": {},
   "outputs": [],
   "source": [
    "beta2, theta2, lambda_b2 = np.exp(mle2.x[0]), np.exp(mle2.x[0]) + np.exp(mle2.x[1]), np.exp(mle2.x[2])\n",
    "\n",
    "compensator_t21 = np.zeros(len(t1)+1)\n",
    "for i in range(len(t1)):\n",
    "    compensator_t21[i+1] = hawkes_comp(t1[i], t1, beta2, theta2, lambda_b2)\n",
    "\n",
    "inter_arr_times21 = np.diff(compensator_t21)\n",
    "p_values21 = np.exp(-inter_arr_times21)\n",
    "ks21 = st.kstest(p_values21, \"uniform\")\n",
    "ks_test_hawkes.append(ks21.statistic)"
   ]
  },
  {
   "cell_type": "code",
   "execution_count": 185,
   "metadata": {},
   "outputs": [
    {
     "data": {
      "image/png": "[encoded data removed]",
      "text/plain": [
       "<Figure size 432x288 with 1 Axes>"
      ]
     },
     "metadata": {
      "needs_background": "light"
     },
     "output_type": "display_data"
    }
   ],
   "source": [
    "x2,y2 = ecdf(p_values2)\n",
    "plt.plot(x2,y2)\n",
    "\n",
    "plt.title(\"ECDF for p-values of Model 3\")\n",
    "plt.xlabel(\"P-value\")\n",
    "plt.ylabel(\"ECDF value\")\n",
    "plt.plot([0,1], [0,1], label=\"Theoretical ECDF\", color='orange')\n",
    "plt.legend()\n",
    "plt.show()"
   ]
  },
  {
   "cell_type": "markdown",
   "metadata": {},
   "source": [
    "Marylebone"
   ]
  },
  {
   "cell_type": "markdown",
   "metadata": {},
   "source": [
    "We do some preprocessing of time data."
   ]
  },
  {
   "cell_type": "code",
   "execution_count": 186,
   "metadata": {},
   "outputs": [],
   "source": [
    "sid = 45\n",
    "ind = get_station_index(loc_codes, sid)\n",
    "\n",
    "t0, ind_list = process_times(loc_codes, train_times, sid)\n",
    "t1, ind_list = process_times(loc_codes, test_times, sid)\n",
    "\n",
    "#if len(ind_list) != 0:\n",
    "    #loc_codes[ind_list] = -1\n",
    "    #loc_codes = [i for i in loc_codes if i != -1]\n",
    "    \n",
    "dist_arr = geo_df[f\"{ind}\"].to_numpy()"
   ]
  },
  {
   "cell_type": "markdown",
   "metadata": {},
   "source": [
    "And we choose a threshold of 0.4 miles to select nearby stations."
   ]
  },
  {
   "cell_type": "code",
   "execution_count": 187,
   "metadata": {},
   "outputs": [
    {
     "name": "stdout",
     "output_type": "stream",
     "text": [
      "7\n",
      "7\n",
      "[45, 114, 182, 201, 605, 759, 760]\n"
     ]
    }
   ],
   "source": [
    "thres = 0.4\n",
    "new_dist, new_loc = thres_fun(dist_arr, thres, loc_codes)\n",
    "print(len(new_loc));\n",
    "print(len(new_dist));\n",
    "print(new_loc)"
   ]
  },
  {
   "cell_type": "markdown",
   "metadata": {},
   "source": [
    "We obtain the time events for the stations in a neighbourhood of 0.4 miles in radius."
   ]
  },
  {
   "cell_type": "code",
   "execution_count": 188,
   "metadata": {},
   "outputs": [],
   "source": [
    "t00 = {}\n",
    "t01 = {}\n",
    "\n",
    "for loc in new_loc:\n",
    "    if loc not in ind_list:\n",
    "        t00[loc] = t0[loc]\n",
    "        t01[loc] = t1[loc]\n",
    "    \n",
    "new_loc = list(t00.keys())"
   ]
  },
  {
   "cell_type": "markdown",
   "metadata": {},
   "source": [
    "And the optimisation for SE (multiple stations)."
   ]
  },
  {
   "cell_type": "code",
   "execution_count": 189,
   "metadata": {},
   "outputs": [
    {
     "data": {
      "text/plain": [
       " final_simplex: (array([[ -3.8937697 ,  -3.22549344, -12.62288785,   1.54832899],\n",
       "       [ -3.84932703,  -3.19889454, -11.75186618,   1.30386401],\n",
       "       [ -3.63966093,  -2.96654402, -11.09915976,   1.36434303],\n",
       "       [ -3.69567122,  -2.92554209, -10.65684445,   1.46467096],\n",
       "       [ -3.94910899,  -3.03065105, -10.79827322,   1.01576727]]), array([15862.41065476, 15865.35211356, 15884.19013374, 15896.60801416,\n",
       "       15913.79061957]))\n",
       "           fun: 15862.410654762522\n",
       "       message: 'Maximum number of function evaluations has been exceeded.'\n",
       "          nfev: 800\n",
       "           nit: 487\n",
       "        status: 1\n",
       "       success: False\n",
       "             x: array([ -3.8937697 ,  -3.22549344, -12.62288785,   1.54832899])"
      ]
     },
     "execution_count": 189,
     "metadata": {},
     "output_type": "execute_result"
    }
   ],
   "source": [
    "op_diff_log_likelihood = lambda param, location_codes, t, dist, i: - diff_log_likelihood(location_codes, t, np.exp(param[0]), np.exp(param[0])+np.exp(param[1]), \n",
    "                                                                                         np.exp(param[2]), np.exp(param[3]), dist, i)\n",
    "mle0 = op.minimize(op_diff_log_likelihood, x0 = [-2, -2, -2, 2], method = 'Nelder-Mead', args=(new_loc, t00, new_dist, sid))\n",
    "mle0"
   ]
  },
  {
   "cell_type": "markdown",
   "metadata": {},
   "source": [
    "We compute the KS statistics for both train and test sets."
   ]
  },
  {
   "cell_type": "code",
   "execution_count": 190,
   "metadata": {},
   "outputs": [],
   "source": [
    "beta0, theta0, lambda_b0, k0 = np.exp(mle0.x[0]), np.exp(mle0.x[0])+np.exp(mle0.x[1]), np.exp(mle0.x[2]), np.exp(mle0.x[3])\n",
    "\n",
    "t_dep = t00[sid]\n",
    "compensator_t0 = np.zeros(len(t_dep)+1)\n",
    "for j in range(len(t_dep)):\n",
    "    compensator_t0[j+1] = diff_comp(t_dep[j], new_loc, t00, beta0, theta0, lambda_b0, new_dist, k0)\n",
    "\n",
    "inter_arr_times0 = np.diff(compensator_t0)\n",
    "p_values0 = np.exp(-inter_arr_times0)\n",
    "ks0 = st.kstest(p_values0, \"uniform\")\n",
    "ks_train_spatio.append(ks0.statistic)"
   ]
  },
  {
   "cell_type": "code",
   "execution_count": 191,
   "metadata": {},
   "outputs": [],
   "source": [
    "beta0, theta0, lambda_b0, k0 = np.exp(mle0.x[0]), np.exp(mle0.x[0])+np.exp(mle0.x[1]), np.exp(mle0.x[2]), np.exp(mle0.x[3])\n",
    "\n",
    "t_dep = t01[sid]\n",
    "compensator_t01 = np.zeros(len(t_dep)+1)\n",
    "for j in range(len(t_dep)):\n",
    "    compensator_t01[j+1] = diff_comp(t_dep[j], new_loc, t01, beta0, theta0, lambda_b0, new_dist, k0)\n",
    "\n",
    "inter_arr_times01 = np.diff(compensator_t01)\n",
    "p_values01 = np.exp(-inter_arr_times01)\n",
    "ks1 = st.kstest(p_values01, \"uniform\")\n",
    "ks_test_spatio.append(ks1.statistic)"
   ]
  },
  {
   "cell_type": "code",
   "execution_count": 192,
   "metadata": {},
   "outputs": [
    {
     "data": {
      "image/png": "[encoded data removed]",
      "text/plain": [
       "<Figure size 432x288 with 1 Axes>"
      ]
     },
     "metadata": {
      "needs_background": "light"
     },
     "output_type": "display_data"
    }
   ],
   "source": [
    "x0,y0 = ecdf(p_values0)\n",
    "plt.plot(x0,y0)\n",
    "\n",
    "plt.title(\"ECDF for p-values of Model 3\")\n",
    "plt.xlabel(\"P-value\")\n",
    "plt.ylabel(\"ECDF value\")\n",
    "plt.plot([0,1], [0,1], label=\"Theoretical ECDF\", color='orange')\n",
    "plt.legend()\n",
    "plt.show()"
   ]
  },
  {
   "cell_type": "markdown",
   "metadata": {},
   "source": [
    "We could optimise SE (multiple stations) for large k in kappa function, so that the model is reduced to SE (single station)."
   ]
  },
  {
   "cell_type": "code",
   "execution_count": 193,
   "metadata": {},
   "outputs": [
    {
     "data": {
      "text/plain": [
       " final_simplex: (array([[-4.01397488, -7.75573055, -9.23922276],\n",
       "       [-4.0139704 , -7.75581278, -9.23920537],\n",
       "       [-4.01397024, -7.75572847, -9.2392063 ],\n",
       "       [-4.01397267, -7.75572574, -9.23919636]]), array([16080.9818064 , 16080.98180641, 16080.98180641, 16080.98180642]))\n",
       "           fun: 16080.98180639662\n",
       "       message: 'Optimization terminated successfully.'\n",
       "          nfev: 228\n",
       "           nit: 129\n",
       "        status: 0\n",
       "       success: True\n",
       "             x: array([-4.01397488, -7.75573055, -9.23922276])"
      ]
     },
     "execution_count": 193,
     "metadata": {},
     "output_type": "execute_result"
    }
   ],
   "source": [
    "op_diff_log_likelihood = lambda param, location_codes, t, dist, k, i: - diff_log_likelihood(location_codes, t, np.exp(param[0]), np.exp(param[0])+np.exp(param[1]), \n",
    "                                                                                         np.exp(param[2]), k, dist, i)\n",
    "mle1 = op.minimize(op_diff_log_likelihood, x0 = [-2, -2, -2], method = 'Nelder-Mead', args=(new_loc, t00, new_dist, np.exp(50), sid))\n",
    "mle1"
   ]
  },
  {
   "cell_type": "markdown",
   "metadata": {},
   "source": [
    "And the KS statistics."
   ]
  },
  {
   "cell_type": "code",
   "execution_count": 194,
   "metadata": {},
   "outputs": [],
   "source": [
    "beta1, theta1, lambda_b1, k1 = np.exp(mle1.x[0]), np.exp(mle1.x[0])+np.exp(mle1.x[1]), np.exp(mle1.x[2]), np.exp(10)\n",
    "\n",
    "t_dep = t00[sid]\n",
    "compensator_t1 = np.zeros(len(t_dep)+1)\n",
    "for j in range(len(t_dep)):\n",
    "    compensator_t1[j+1] = diff_comp(t_dep[j], new_loc, t00, beta1, theta1, lambda_b1, new_dist, k1)\n",
    "\n",
    "inter_arr_times1 = np.diff(compensator_t1)\n",
    "p_values1 = np.exp(-inter_arr_times1)"
   ]
  },
  {
   "cell_type": "code",
   "execution_count": 195,
   "metadata": {},
   "outputs": [
    {
     "data": {
      "image/png": "[encoded data removed]",
      "text/plain": [
       "<Figure size 432x288 with 1 Axes>"
      ]
     },
     "metadata": {
      "needs_background": "light"
     },
     "output_type": "display_data"
    }
   ],
   "source": [
    "x1,y1 = ecdf(p_values1)\n",
    "plt.plot(x1,y1)\n",
    "\n",
    "plt.title(\"ECDF for p-values of Model 3\")\n",
    "plt.xlabel(\"P-value\")\n",
    "plt.ylabel(\"ECDF value\")\n",
    "plt.plot([0,1], [0,1], label=\"Theoretical ECDF\", color='orange')\n",
    "plt.legend()\n",
    "plt.show()"
   ]
  },
  {
   "cell_type": "markdown",
   "metadata": {},
   "source": [
    "Now we fit the SE (single station) model. We get the train and test time for Marylebone station only."
   ]
  },
  {
   "cell_type": "code",
   "execution_count": 196,
   "metadata": {},
   "outputs": [],
   "source": [
    "t0 = train_times[45]\n",
    "t1 = test_times[45]"
   ]
  },
  {
   "cell_type": "markdown",
   "metadata": {},
   "source": [
    "And we compute the optimisation."
   ]
  },
  {
   "cell_type": "code",
   "execution_count": 197,
   "metadata": {},
   "outputs": [
    {
     "data": {
      "text/plain": [
       " final_simplex: (array([[-4.01397488, -7.75573055, -9.23922276],\n",
       "       [-4.0139704 , -7.75581278, -9.23920537],\n",
       "       [-4.01397024, -7.75572847, -9.2392063 ],\n",
       "       [-4.01397267, -7.75572574, -9.23919636]]), array([16080.9818064 , 16080.98180641, 16080.98180641, 16080.98180642]))\n",
       "           fun: 16080.98180639662\n",
       "       message: 'Optimization terminated successfully.'\n",
       "          nfev: 228\n",
       "           nit: 129\n",
       "        status: 0\n",
       "       success: True\n",
       "             x: array([-4.01397488, -7.75573055, -9.23922276])"
      ]
     },
     "execution_count": 197,
     "metadata": {},
     "output_type": "execute_result"
    }
   ],
   "source": [
    "op_hawkes_log_likelihood = lambda param, t: - hawkes_log_likelihood(t, np.exp(param[0]), np.exp(param[0])+np.exp(param[1]), np.exp(param[2]))\n",
    "mle2 = op.minimize(op_hawkes_log_likelihood, x0 = [-2, -2, -2], method = 'Nelder-Mead', args=(t0,))\n",
    "mle2"
   ]
  },
  {
   "cell_type": "markdown",
   "metadata": {},
   "source": [
    "And we compute the KS statistics as well as plotting the QQ plots."
   ]
  },
  {
   "cell_type": "code",
   "execution_count": 198,
   "metadata": {},
   "outputs": [],
   "source": [
    "beta2, theta2, lambda_b2 = np.exp(mle2.x[0]), np.exp(mle2.x[0]) + np.exp(mle2.x[1]), np.exp(mle2.x[2])\n",
    "\n",
    "compensator_t2 = np.zeros(len(t0)+1)\n",
    "for i in range(len(t0)):\n",
    "    compensator_t2[i+1] = hawkes_comp(t0[i], t0, beta2, theta2, lambda_b2)\n",
    "\n",
    "inter_arr_times2 = np.diff(compensator_t2)\n",
    "p_values2 = np.exp(-inter_arr_times2)\n",
    "ks2 = st.kstest(p_values2, \"uniform\")\n",
    "ks_train_hawkes.append(ks2.statistic)"
   ]
  },
  {
   "cell_type": "code",
   "execution_count": 199,
   "metadata": {},
   "outputs": [],
   "source": [
    "beta2, theta2, lambda_b2 = np.exp(mle2.x[0]), np.exp(mle2.x[0]) + np.exp(mle2.x[1]), np.exp(mle2.x[2])\n",
    "\n",
    "compensator_t21 = np.zeros(len(t1)+1)\n",
    "for i in range(len(t1)):\n",
    "    compensator_t21[i+1] = hawkes_comp(t1[i], t1, beta2, theta2, lambda_b2)\n",
    "\n",
    "inter_arr_times21 = np.diff(compensator_t21)\n",
    "p_values21 = np.exp(-inter_arr_times21)\n",
    "ks21 = st.kstest(p_values21, \"uniform\")\n",
    "ks_test_hawkes.append(ks21.statistic)"
   ]
  },
  {
   "cell_type": "code",
   "execution_count": 200,
   "metadata": {},
   "outputs": [
    {
     "data": {
      "image/png": "[encoded data removed]",
      "text/plain": [
       "<Figure size 432x288 with 1 Axes>"
      ]
     },
     "metadata": {
      "needs_background": "light"
     },
     "output_type": "display_data"
    }
   ],
   "source": [
    "x2,y2 = ecdf(p_values2)\n",
    "plt.plot(x2,y2)\n",
    "\n",
    "plt.title(\"ECDF for p-values of Model 3\")\n",
    "plt.xlabel(\"P-value\")\n",
    "plt.ylabel(\"ECDF value\")\n",
    "plt.plot([0,1], [0,1], label=\"Theoretical ECDF\", color='orange')\n",
    "plt.legend()\n",
    "plt.show()"
   ]
  },
  {
   "cell_type": "markdown",
   "metadata": {},
   "source": [
    "For each station, we set threshold at 0.5 miles, and find a neighbourhood of nearby stations. We obtain the list of stations that does not have any nearby stations within 0.5 miles."
   ]
  },
  {
   "cell_type": "code",
   "execution_count": 28,
   "metadata": {},
   "outputs": [
    {
     "data": {
      "text/plain": [
       "[554, 692, 783, 844]"
      ]
     },
     "execution_count": 28,
     "metadata": {},
     "output_type": "execute_result"
    }
   ],
   "source": [
    "thres = 0.5\n",
    "null_list = []\n",
    "for k in range(808):\n",
    "    sid = loc_codes[k] \n",
    "    ind = get_station_index(loc_codes, sid)\n",
    "    \n",
    "    if len(train_times[sid]) != 0:\n",
    "        t0, ind_list = process_times(loc_codes, train_times, sid)\n",
    "        t1, ind_list = process_times(loc_codes, test_times, sid)\n",
    "    \n",
    "    dist_arr = geo_df[f\"{ind}\"].to_numpy()\n",
    "    new_dist, new_loc = thres_fun(dist_arr, thres, loc_codes)\n",
    "    if len(new_loc) < 2:\n",
    "        null_list.append(sid)\n",
    "null_list"
   ]
  },
  {
   "cell_type": "code",
   "execution_count": 29,
   "metadata": {},
   "outputs": [],
   "source": [
    "sid=4\n",
    "ind = get_station_index(loc_codes, sid)\n",
    "t0, ind_list = process_times(loc_codes, train_times, sid)\n",
    "t1, ind_list = process_times(loc_codes, test_times, sid)\n",
    "    \n",
    "dist_arr = geo_df[f\"{ind}\"].to_numpy()\n",
    "df = pd.DataFrame({'col1': list(dist_arr), 'col2': list(loc_codes)})\n",
    "df=df.sort_values(by=['col1'])\n",
    "ser = df.iloc[:, 0]\n",
    "i = ser.searchsorted(1.2, side='right')\n",
    "df1 = df.iloc[:i]"
   ]
  },
  {
   "cell_type": "markdown",
   "metadata": {},
   "source": [
    "For each station, we set threshold at 0.5 miles, and find a neighbourhood of nearby stations. We obtain the list of stations that does not have any nearby stations within 0.5 miles."
   ]
  },
  {
   "cell_type": "code",
   "execution_count": 30,
   "metadata": {},
   "outputs": [],
   "source": [
    "def thres_fun_new(dist, thres, loc_codes):\n",
    "    new_dist = dist.copy()\n",
    "    new_loc_codes = np.asarray(loc_codes).copy()\n",
    "    df = pd.DataFrame({'col1': list(new_dist), 'col2': list(new_loc_codes)})\n",
    "    df = df.sort_values(by=['col1'])\n",
    "    \n",
    "    df = pd.DataFrame({'col1': list(dist_arr), 'col2': list(loc_codes)})\n",
    "    df=df.sort_values(by=['col1'])\n",
    "    ser = df.iloc[:, 0]\n",
    "    i = ser.searchsorted(thres, side='right')\n",
    "    df1 = df.iloc[:i]\n",
    "    \n",
    "    return np.asarray(df1.iloc[:, 0]), np.asarray(df1.iloc[:, 1])"
   ]
  },
  {
   "cell_type": "code",
   "execution_count": 80,
   "metadata": {},
   "outputs": [],
   "source": [
    "loc_list = np.unique(loc_list)\n",
    "while len(loc_list) < 100: \n",
    "    sid = np.random.choice(loc_codes)\n",
    "    if len(train_times[sid]) != 0 and sid not in null_list and sid not in loc_list:\n",
    "        loc_list.append(sid)"
   ]
  },
  {
   "cell_type": "code",
   "execution_count": 83,
   "metadata": {},
   "outputs": [],
   "source": [
    "max_t1 = 0\n",
    "for i in loc_list:\n",
    "    max_t1 = max(len(train_times[i]), max_t1)\n",
    "\n",
    "max_t2 = 0\n",
    "for i in loc_list:\n",
    "    max_t2 = max(len(test_times[i]), max_t2)"
   ]
  },
  {
   "cell_type": "markdown",
   "metadata": {},
   "source": [
    "We randomly select 100 stations, fit both SE (single stations) and SE (multiple stations), and record the KS statistics for both models."
   ]
  },
  {
   "cell_type": "code",
   "execution_count": 84,
   "metadata": {},
   "outputs": [
    {
     "name": "stdout",
     "output_type": "stream",
     "text": [
      "0\n",
      "1\n",
      "2\n",
      "3\n",
      "4\n",
      "5\n",
      "6\n",
      "7\n",
      "8\n",
      "9\n",
      "10\n",
      "11\n",
      "12\n",
      "13\n",
      "14\n",
      "15\n",
      "16\n",
      "17\n",
      "18\n",
      "19\n",
      "20\n",
      "21\n",
      "22\n",
      "23\n",
      "24\n",
      "25\n",
      "26\n",
      "27\n",
      "28\n",
      "29\n",
      "30\n",
      "31\n",
      "32\n",
      "33\n",
      "34\n",
      "35\n",
      "36\n",
      "37\n",
      "38\n",
      "39\n",
      "40\n",
      "41\n",
      "42\n",
      "43\n",
      "44\n",
      "45\n",
      "46\n",
      "47\n",
      "48\n",
      "49\n",
      "50\n",
      "51\n",
      "52\n",
      "53\n",
      "54\n",
      "55\n",
      "56\n",
      "57\n",
      "58\n",
      "59\n",
      "60\n",
      "61\n",
      "62\n",
      "63\n",
      "64\n",
      "65\n",
      "66\n",
      "67\n",
      "68\n",
      "69\n",
      "70\n",
      "71\n",
      "72\n",
      "73\n",
      "74\n",
      "75\n",
      "76\n",
      "77\n",
      "78\n",
      "79\n",
      "80\n",
      "81\n",
      "82\n",
      "83\n",
      "84\n",
      "85\n",
      "86\n",
      "87\n",
      "88\n",
      "89\n",
      "90\n",
      "91\n",
      "92\n",
      "93\n",
      "94\n",
      "95\n",
      "96\n",
      "97\n",
      "98\n",
      "99\n"
     ]
    }
   ],
   "source": [
    "#loc_list = []\n",
    "thres = 0.5\n",
    "train_hawkes = []\n",
    "test_hawkes = []\n",
    "train_spatio = []\n",
    "test_spatio = []\n",
    "\n",
    "p0 = np.zeros((max_t1+1, 100))\n",
    "p1 = np.zeros((max_t2+1, 100))\n",
    "p2 = np.zeros((max_t1+1, 100))\n",
    "p3 = np.zeros((max_t2+1, 100))\n",
    "\n",
    "#while len(loc_list) < 100: \n",
    "for i in range(100): \n",
    "    #sid = np.random.choice(loc_codes)\n",
    "    sid = loc_list[i]\n",
    "    if len(train_times[sid]) != 0 and sid not in null_list: #and sid not in loc_list:\n",
    "        #loc_list.append(sid)\n",
    "        #print(len(loc_list))\n",
    "        print(i)\n",
    "        ind = get_station_index(loc_codes, sid)\n",
    "\n",
    "        t0, ind_list = process_times(loc_codes, train_times, sid)\n",
    "        t1, ind_list = process_times(loc_codes, test_times, sid)\n",
    "    \n",
    "        dist_arr = geo_df[f\"{ind}\"].to_numpy()\n",
    "    \n",
    "        new_dist, new_loc = thres_fun_new(dist_arr, thres, loc_codes)\n",
    "    \n",
    "        new_dist = new_dist\n",
    "        new_loc = new_loc\n",
    "    \n",
    "        t00 = {}\n",
    "        t01 = {}\n",
    "\n",
    "        for loc in new_loc:\n",
    "            if loc not in ind_list:\n",
    "                t00[loc] = t0[loc]\n",
    "                t01[loc] = t1[loc]\n",
    "    \n",
    "        new_loc = list(t00.keys())\n",
    "        op_diff_log_likelihood = lambda param, location_codes, t, dist, i: - diff_log_likelihood(location_codes, t, np.exp(param[0]), np.exp(param[0])+np.exp(param[1]), \n",
    "                                                                                         np.exp(param[2]), np.exp(param[3]), dist, i)\n",
    "        mle0 = op.minimize(op_diff_log_likelihood, x0 = [-3.8, -3.1, -8.5, 1.7], method = 'Nelder-Mead', args=(new_loc, t00, new_dist, sid))\n",
    "    \n",
    "        beta0, theta0, lambda_b0, k0 = np.exp(mle0.x[0]), np.exp(mle0.x[0])+np.exp(mle0.x[1]), np.exp(mle0.x[2]), np.exp(mle0.x[3])\n",
    "\n",
    "        t_dep = t00[sid]\n",
    "        compensator_t0 = np.zeros(len(t_dep)+1)\n",
    "        for j in range(len(t_dep)):\n",
    "            compensator_t0[j+1] = diff_comp(t_dep[j], new_loc, t00, beta0, theta0, lambda_b0, new_dist, k0)\n",
    "\n",
    "        inter_arr_times0 = np.diff(compensator_t0)\n",
    "        p_values0 = np.exp(-inter_arr_times0)\n",
    "        ks0 = st.kstest(p_values0, \"uniform\")\n",
    "        train_spatio.append(ks0.statistic)\n",
    "        print(ks0.statistic)\n",
    "        p0[0:len(t_dep), i] = p_values0\n",
    "               \n",
    "        beta0, theta0, lambda_b0, k0 = np.exp(mle0.x[0]), np.exp(mle0.x[0])+np.exp(mle0.x[1]), np.exp(mle0.x[2]), np.exp(mle0.x[3])\n",
    " \n",
    "        t_dep = t01[sid]\n",
    "        compensator_t01 = np.zeros(len(t_dep)+1)\n",
    "        for j in range(len(t_dep)):\n",
    "            compensator_t01[j+1] = diff_comp(t_dep[j], new_loc, t01, beta0, theta0, lambda_b0, new_dist, k0)\n",
    "\n",
    "        inter_arr_times01 = np.diff(compensator_t01)\n",
    "        p_values01 = np.exp(-inter_arr_times01)\n",
    "        ks1 = st.kstest(p_values01, \"uniform\")\n",
    "        test_spatio.append(ks1.statistic)\n",
    "        \n",
    "        p1[0:len(t_dep), i] =  p_values01\n",
    "        \n",
    "        t0 = train_times[sid]\n",
    "        t1 = test_times[sid]\n",
    "        op_hawkes_log_likelihood = lambda param, t: - hawkes_log_likelihood(t, np.exp(param[0]), np.exp(param[0])+np.exp(param[1]), np.exp(param[2]))\n",
    "        mle2 = op.minimize(op_hawkes_log_likelihood, x0 = [-4.1, -6.3, -6.1], method = 'Nelder-Mead', args=(t0,))\n",
    "        beta2, theta2, lambda_b2 = np.exp(mle2.x[0]), np.exp(mle2.x[0]) + np.exp(mle2.x[1]), np.exp(mle2.x[2])\n",
    "\n",
    "        compensator_t2 = np.zeros(len(t0)+1)\n",
    "        for j in range(len(t0)):\n",
    "            compensator_t2[j+1] = hawkes_comp(t0[j], t0, beta2, theta2, lambda_b2)\n",
    "\n",
    "        inter_arr_times2 = np.diff(compensator_t2)\n",
    "        p_values2 = np.exp(-inter_arr_times2)\n",
    "        ks2 = st.kstest(p_values2, \"uniform\")\n",
    "        train_hawkes.append(ks2.statistic)\n",
    "        print(ks2.statistic)\n",
    "        p2[0:len(t0), i] = p_values2\n",
    "    \n",
    "        beta2, theta2, lambda_b2 = np.exp(mle2.x[0]), np.exp(mle2.x[0]) + np.exp(mle2.x[1]), np.exp(mle2.x[2])\n",
    "\n",
    "        compensator_t21 = np.zeros(len(t1)+1)\n",
    "        for j in range(len(t1)):\n",
    "            compensator_t21[j+1] = hawkes_comp(t1[j], t1, beta2, theta2, lambda_b2)\n",
    "\n",
    "        inter_arr_times21 = np.diff(compensator_t21)\n",
    "        p_values21 = np.exp(-inter_arr_times21)\n",
    "        ks21 = st.kstest(p_values21, \"uniform\")\n",
    "        test_hawkes.append(ks21.statistic)\n",
    "\n",
    "        p3[0:len(t1), i] = p_values21"
   ]
  },
  {
   "cell_type": "code",
   "execution_count": 160,
   "metadata": {},
   "outputs": [
    {
     "data": {
      "text/plain": [
       "100"
      ]
     },
     "execution_count": 160,
     "metadata": {},
     "output_type": "execute_result"
    }
   ],
   "source": [
    "len(np.unique(loc_list))"
   ]
  },
  {
   "cell_type": "code",
   "execution_count": 163,
   "metadata": {},
   "outputs": [
    {
     "data": {
      "text/plain": [
       "array([[2.04275860e-21, 0.00000000e+00],\n",
       "       [8.44989304e-12, 0.00000000e+00],\n",
       "       [2.29162725e-11, 0.00000000e+00],\n",
       "       ...,\n",
       "       [9.99975937e-01, 0.00000000e+00],\n",
       "       [9.99997423e-01, 0.00000000e+00],\n",
       "       [0.00000000e+00, 0.00000000e+00]])"
      ]
     },
     "execution_count": 163,
     "metadata": {},
     "output_type": "execute_result"
    }
   ],
   "source": [
    "p2"
   ]
  },
  {
   "cell_type": "markdown",
   "metadata": {},
   "source": [
    "We find the difference between the KS statistics of both models."
   ]
  },
  {
   "cell_type": "code",
   "execution_count": 85,
   "metadata": {},
   "outputs": [],
   "source": [
    "train_diff = np.array(train_hawkes) - np.array(train_spatio)\n",
    "train_sign = np.sign(train_diff)\n",
    "test_diff = np.array(test_hawkes) - np.array(test_spatio)\n",
    "test_sign = np.sign(test_diff)"
   ]
  },
  {
   "cell_type": "markdown",
   "metadata": {},
   "source": [
    "And find the number of stations that perform better with SE (multiple stations) model."
   ]
  },
  {
   "cell_type": "code",
   "execution_count": 96,
   "metadata": {},
   "outputs": [
    {
     "data": {
      "text/plain": [
       "Counter({1.0: 84, -1.0: 16})"
      ]
     },
     "execution_count": 96,
     "metadata": {},
     "output_type": "execute_result"
    }
   ],
   "source": [
    "from collections import Counter\n",
    "Counter(train_sign)"
   ]
  },
  {
   "cell_type": "code",
   "execution_count": 97,
   "metadata": {},
   "outputs": [
    {
     "data": {
      "text/plain": [
       "Counter({-1.0: 22, 1.0: 78})"
      ]
     },
     "execution_count": 97,
     "metadata": {},
     "output_type": "execute_result"
    }
   ],
   "source": [
    "from collections import Counter\n",
    "Counter(test_sign)"
   ]
  },
  {
   "cell_type": "markdown",
   "metadata": {},
   "source": [
    "The relative ks scores will be $\\frac{KS_{mutual} - KS_{seven}}{KS_{mutual}}$"
   ]
  },
  {
   "cell_type": "code",
   "execution_count": 98,
   "metadata": {},
   "outputs": [],
   "source": [
    "rel_train_ks = (np.array(train_hawkes) - np.array(train_spatio)) / np.array(train_hawkes)\n",
    "#uni_rel_train_ks = np.unique(rel_train_ks)\n",
    "rel_test_ks = (np.array(test_hawkes) - np.array(test_spatio)) / np.array(test_hawkes)\n",
    "#uni_rel_test_ks = np.unique(rel_test_ks)"
   ]
  },
  {
   "cell_type": "markdown",
   "metadata": {},
   "source": [
    "We now want to plot the scatter plot of station coordinates of the randomly selected 100 stations, labelling the points by the difference in their ks scores."
   ]
  },
  {
   "cell_type": "code",
   "execution_count": 99,
   "metadata": {},
   "outputs": [
    {
     "data": {
      "text/plain": [
       "100"
      ]
     },
     "execution_count": 99,
     "metadata": {},
     "output_type": "execute_result"
    }
   ],
   "source": [
    "len(train_hawkes)"
   ]
  },
  {
   "cell_type": "code",
   "execution_count": 100,
   "metadata": {},
   "outputs": [],
   "source": [
    "station_data = pd.read_csv(\"./santander_locations.csv\")"
   ]
  },
  {
   "cell_type": "code",
   "execution_count": 101,
   "metadata": {},
   "outputs": [],
   "source": [
    "#uni_loc_list = np.unique(np.array(loc_list))\n",
    "d = {'loc': loc_list, 'train': rel_train_ks, 'test': rel_test_ks}\n",
    "df1 = pd.DataFrame(data=d)\n",
    "df1 = df1.sort_values(by=['loc'])\n",
    "df1 = df1.drop_duplicates(subset=['loc'])"
   ]
  },
  {
   "cell_type": "code",
   "execution_count": 102,
   "metadata": {},
   "outputs": [
    {
     "data": {
      "text/html": [
       "<div>\n",
       "<style scoped>\n",
       "    .dataframe tbody tr th:only-of-type {\n",
       "        vertical-align: middle;\n",
       "    }\n",
       "\n",
       "    .dataframe tbody tr th {\n",
       "        vertical-align: top;\n",
       "    }\n",
       "\n",
       "    .dataframe thead th {\n",
       "        text-align: right;\n",
       "    }\n",
       "</style>\n",
       "<table border=\"1\" class=\"dataframe\">\n",
       "  <thead>\n",
       "    <tr style=\"text-align: right;\">\n",
       "      <th></th>\n",
       "      <th>loc</th>\n",
       "      <th>train</th>\n",
       "      <th>test</th>\n",
       "    </tr>\n",
       "  </thead>\n",
       "  <tbody>\n",
       "    <tr>\n",
       "      <th>0</th>\n",
       "      <td>4</td>\n",
       "      <td>0.166065</td>\n",
       "      <td>-0.036920</td>\n",
       "    </tr>\n",
       "    <tr>\n",
       "      <th>1</th>\n",
       "      <td>5</td>\n",
       "      <td>-0.205708</td>\n",
       "      <td>-0.116331</td>\n",
       "    </tr>\n",
       "    <tr>\n",
       "      <th>2</th>\n",
       "      <td>32</td>\n",
       "      <td>0.177215</td>\n",
       "      <td>0.156140</td>\n",
       "    </tr>\n",
       "    <tr>\n",
       "      <th>3</th>\n",
       "      <td>37</td>\n",
       "      <td>-0.135485</td>\n",
       "      <td>-0.070507</td>\n",
       "    </tr>\n",
       "    <tr>\n",
       "      <th>4</th>\n",
       "      <td>40</td>\n",
       "      <td>0.112259</td>\n",
       "      <td>0.098976</td>\n",
       "    </tr>\n",
       "    <tr>\n",
       "      <th>...</th>\n",
       "      <td>...</td>\n",
       "      <td>...</td>\n",
       "      <td>...</td>\n",
       "    </tr>\n",
       "    <tr>\n",
       "      <th>95</th>\n",
       "      <td>810</td>\n",
       "      <td>0.116535</td>\n",
       "      <td>0.096601</td>\n",
       "    </tr>\n",
       "    <tr>\n",
       "      <th>96</th>\n",
       "      <td>811</td>\n",
       "      <td>0.086758</td>\n",
       "      <td>0.063802</td>\n",
       "    </tr>\n",
       "    <tr>\n",
       "      <th>97</th>\n",
       "      <td>812</td>\n",
       "      <td>-0.026549</td>\n",
       "      <td>-0.044601</td>\n",
       "    </tr>\n",
       "    <tr>\n",
       "      <th>98</th>\n",
       "      <td>821</td>\n",
       "      <td>0.007917</td>\n",
       "      <td>0.051524</td>\n",
       "    </tr>\n",
       "    <tr>\n",
       "      <th>99</th>\n",
       "      <td>833</td>\n",
       "      <td>0.031481</td>\n",
       "      <td>-0.015526</td>\n",
       "    </tr>\n",
       "  </tbody>\n",
       "</table>\n",
       "<p>100 rows × 3 columns</p>\n",
       "</div>"
      ],
      "text/plain": [
       "    loc     train      test\n",
       "0     4  0.166065 -0.036920\n",
       "1     5 -0.205708 -0.116331\n",
       "2    32  0.177215  0.156140\n",
       "3    37 -0.135485 -0.070507\n",
       "4    40  0.112259  0.098976\n",
       "..  ...       ...       ...\n",
       "95  810  0.116535  0.096601\n",
       "96  811  0.086758  0.063802\n",
       "97  812 -0.026549 -0.044601\n",
       "98  821  0.007917  0.051524\n",
       "99  833  0.031481 -0.015526\n",
       "\n",
       "[100 rows x 3 columns]"
      ]
     },
     "execution_count": 102,
     "metadata": {},
     "output_type": "execute_result"
    }
   ],
   "source": [
    "df1"
   ]
  },
  {
   "cell_type": "code",
   "execution_count": 103,
   "metadata": {},
   "outputs": [
    {
     "name": "stderr",
     "output_type": "stream",
     "text": [
      "/opt/anaconda3/lib/python3.7/site-packages/ipykernel_launcher.py:3: SettingWithCopyWarning: \n",
      "A value is trying to be set on a copy of a slice from a DataFrame.\n",
      "Try using .loc[row_indexer,col_indexer] = value instead\n",
      "\n",
      "See the caveats in the documentation: https://pandas.pydata.org/pandas-docs/stable/user_guide/indexing.html#returning-a-view-versus-a-copy\n",
      "  This is separate from the ipykernel package so we can avoid doing imports until\n",
      "/opt/anaconda3/lib/python3.7/site-packages/ipykernel_launcher.py:4: SettingWithCopyWarning: \n",
      "A value is trying to be set on a copy of a slice from a DataFrame.\n",
      "Try using .loc[row_indexer,col_indexer] = value instead\n",
      "\n",
      "See the caveats in the documentation: https://pandas.pydata.org/pandas-docs/stable/user_guide/indexing.html#returning-a-view-versus-a-copy\n",
      "  after removing the cwd from sys.path.\n"
     ]
    },
    {
     "data": {
      "text/html": [
       "<div>\n",
       "<style scoped>\n",
       "    .dataframe tbody tr th:only-of-type {\n",
       "        vertical-align: middle;\n",
       "    }\n",
       "\n",
       "    .dataframe tbody tr th {\n",
       "        vertical-align: top;\n",
       "    }\n",
       "\n",
       "    .dataframe thead th {\n",
       "        text-align: right;\n",
       "    }\n",
       "</style>\n",
       "<table border=\"1\" class=\"dataframe\">\n",
       "  <thead>\n",
       "    <tr style=\"text-align: right;\">\n",
       "      <th></th>\n",
       "      <th>Station.Id</th>\n",
       "      <th>StationName</th>\n",
       "      <th>longitude</th>\n",
       "      <th>latitude</th>\n",
       "      <th>Easting</th>\n",
       "      <th>Northing</th>\n",
       "      <th>train.ks</th>\n",
       "      <th>test.ks</th>\n",
       "    </tr>\n",
       "  </thead>\n",
       "  <tbody>\n",
       "    <tr>\n",
       "      <th>3</th>\n",
       "      <td>4</td>\n",
       "      <td>St. Chad's Street, King's Cross</td>\n",
       "      <td>-0.120974</td>\n",
       "      <td>51.530100</td>\n",
       "      <td>530436.760</td>\n",
       "      <td>182911.990</td>\n",
       "      <td>0.166065</td>\n",
       "      <td>-0.036920</td>\n",
       "    </tr>\n",
       "    <tr>\n",
       "      <th>4</th>\n",
       "      <td>5</td>\n",
       "      <td>Sedding Street, Sloane Square</td>\n",
       "      <td>-0.156876</td>\n",
       "      <td>51.493100</td>\n",
       "      <td>528051.649</td>\n",
       "      <td>178742.097</td>\n",
       "      <td>-0.205708</td>\n",
       "      <td>-0.116331</td>\n",
       "    </tr>\n",
       "    <tr>\n",
       "      <th>31</th>\n",
       "      <td>32</td>\n",
       "      <td>Leonard Circus, Shoreditch</td>\n",
       "      <td>-0.084439</td>\n",
       "      <td>51.524700</td>\n",
       "      <td>532986.420</td>\n",
       "      <td>182381.310</td>\n",
       "      <td>0.177215</td>\n",
       "      <td>0.156140</td>\n",
       "    </tr>\n",
       "    <tr>\n",
       "      <th>35</th>\n",
       "      <td>37</td>\n",
       "      <td>Penywern Road, Earl's Court</td>\n",
       "      <td>-0.192369</td>\n",
       "      <td>51.491600</td>\n",
       "      <td>525590.340</td>\n",
       "      <td>178509.690</td>\n",
       "      <td>-0.135485</td>\n",
       "      <td>-0.070507</td>\n",
       "    </tr>\n",
       "    <tr>\n",
       "      <th>38</th>\n",
       "      <td>40</td>\n",
       "      <td>Commercial Street, Shoreditch</td>\n",
       "      <td>-0.075579</td>\n",
       "      <td>51.521300</td>\n",
       "      <td>533611.070</td>\n",
       "      <td>182016.510</td>\n",
       "      <td>0.112259</td>\n",
       "      <td>0.098976</td>\n",
       "    </tr>\n",
       "    <tr>\n",
       "      <th>...</th>\n",
       "      <td>...</td>\n",
       "      <td>...</td>\n",
       "      <td>...</td>\n",
       "      <td>...</td>\n",
       "      <td>...</td>\n",
       "      <td>...</td>\n",
       "      <td>...</td>\n",
       "      <td>...</td>\n",
       "    </tr>\n",
       "    <tr>\n",
       "      <th>778</th>\n",
       "      <td>810</td>\n",
       "      <td>Tate Modern, Bankside</td>\n",
       "      <td>-0.098885</td>\n",
       "      <td>51.506721</td>\n",
       "      <td>532037.270</td>\n",
       "      <td>180356.310</td>\n",
       "      <td>0.116535</td>\n",
       "      <td>0.096601</td>\n",
       "    </tr>\n",
       "    <tr>\n",
       "      <th>779</th>\n",
       "      <td>811</td>\n",
       "      <td>Westferry Circus, Canary Wharf</td>\n",
       "      <td>-0.027776</td>\n",
       "      <td>51.505697</td>\n",
       "      <td>536975.000</td>\n",
       "      <td>180373.000</td>\n",
       "      <td>0.086758</td>\n",
       "      <td>0.063802</td>\n",
       "    </tr>\n",
       "    <tr>\n",
       "      <th>780</th>\n",
       "      <td>812</td>\n",
       "      <td>Here East North, Queen Elizabeth Olympic Park</td>\n",
       "      <td>-0.022627</td>\n",
       "      <td>51.548724</td>\n",
       "      <td>537203.027</td>\n",
       "      <td>185167.369</td>\n",
       "      <td>-0.026549</td>\n",
       "      <td>-0.044601</td>\n",
       "    </tr>\n",
       "    <tr>\n",
       "      <th>789</th>\n",
       "      <td>821</td>\n",
       "      <td>Battersea Power Station, Battersea Park</td>\n",
       "      <td>-0.147702</td>\n",
       "      <td>51.483516</td>\n",
       "      <td>528714.824</td>\n",
       "      <td>177688.956</td>\n",
       "      <td>0.007917</td>\n",
       "      <td>0.051524</td>\n",
       "    </tr>\n",
       "    <tr>\n",
       "      <th>797</th>\n",
       "      <td>833</td>\n",
       "      <td>Saltoun Road, Brixton</td>\n",
       "      <td>-0.115375</td>\n",
       "      <td>51.460232</td>\n",
       "      <td>531026.750</td>\n",
       "      <td>175157.030</td>\n",
       "      <td>0.031481</td>\n",
       "      <td>-0.015526</td>\n",
       "    </tr>\n",
       "  </tbody>\n",
       "</table>\n",
       "<p>100 rows × 8 columns</p>\n",
       "</div>"
      ],
      "text/plain": [
       "     Station.Id                                    StationName  longitude  \\\n",
       "3             4                St. Chad's Street, King's Cross  -0.120974   \n",
       "4             5                  Sedding Street, Sloane Square  -0.156876   \n",
       "31           32                     Leonard Circus, Shoreditch  -0.084439   \n",
       "35           37                    Penywern Road, Earl's Court  -0.192369   \n",
       "38           40                  Commercial Street, Shoreditch  -0.075579   \n",
       "..          ...                                            ...        ...   \n",
       "778         810                          Tate Modern, Bankside  -0.098885   \n",
       "779         811                 Westferry Circus, Canary Wharf  -0.027776   \n",
       "780         812  Here East North, Queen Elizabeth Olympic Park  -0.022627   \n",
       "789         821        Battersea Power Station, Battersea Park  -0.147702   \n",
       "797         833                          Saltoun Road, Brixton  -0.115375   \n",
       "\n",
       "      latitude     Easting    Northing  train.ks   test.ks  \n",
       "3    51.530100  530436.760  182911.990  0.166065 -0.036920  \n",
       "4    51.493100  528051.649  178742.097 -0.205708 -0.116331  \n",
       "31   51.524700  532986.420  182381.310  0.177215  0.156140  \n",
       "35   51.491600  525590.340  178509.690 -0.135485 -0.070507  \n",
       "38   51.521300  533611.070  182016.510  0.112259  0.098976  \n",
       "..         ...         ...         ...       ...       ...  \n",
       "778  51.506721  532037.270  180356.310  0.116535  0.096601  \n",
       "779  51.505697  536975.000  180373.000  0.086758  0.063802  \n",
       "780  51.548724  537203.027  185167.369 -0.026549 -0.044601  \n",
       "789  51.483516  528714.824  177688.956  0.007917  0.051524  \n",
       "797  51.460232  531026.750  175157.030  0.031481 -0.015526  \n",
       "\n",
       "[100 rows x 8 columns]"
      ]
     },
     "execution_count": 103,
     "metadata": {},
     "output_type": "execute_result"
    }
   ],
   "source": [
    "mask = station_data['Station.Id'].isin(loc_list)\n",
    "df = station_data.loc[mask]\n",
    "df['train.ks'] = list(df1['train'])\n",
    "df['test.ks'] = list(df1['test'])\n",
    "df"
   ]
  },
  {
   "cell_type": "code",
   "execution_count": 104,
   "metadata": {},
   "outputs": [
    {
     "data": {
      "text/plain": [
       "0.47612204528174434"
      ]
     },
     "execution_count": 104,
     "metadata": {},
     "output_type": "execute_result"
    }
   ],
   "source": [
    "max(list(df['train.ks']))"
   ]
  },
  {
   "cell_type": "code",
   "execution_count": 105,
   "metadata": {},
   "outputs": [
    {
     "data": {
      "text/plain": [
       "<matplotlib.axes._subplots.AxesSubplot at 0x7fb691ad7b50>"
      ]
     },
     "execution_count": 105,
     "metadata": {},
     "output_type": "execute_result"
    },
    {
     "data": {
      "image/png": "[encoded data removed]",
      "text/plain": [
       "<Figure size 432x288 with 1 Axes>"
      ]
     },
     "metadata": {
      "needs_background": "light"
     },
     "output_type": "display_data"
    }
   ],
   "source": [
    "import seaborn as sns\n",
    "sns.scatterplot('longitude', 'latitude', data=df, hue=df['train.ks'], palette=\"Spectral\")"
   ]
  },
  {
   "cell_type": "code",
   "execution_count": 107,
   "metadata": {},
   "outputs": [
    {
     "data": {
      "text/plain": [
       "<matplotlib.axes._subplots.AxesSubplot at 0x7fb691c9ef10>"
      ]
     },
     "execution_count": 107,
     "metadata": {},
     "output_type": "execute_result"
    },
    {
     "data": {
      "image/png": "[encoded data removed]",
      "text/plain": [
       "<Figure size 432x288 with 1 Axes>"
      ]
     },
     "metadata": {
      "needs_background": "light"
     },
     "output_type": "display_data"
    }
   ],
   "source": [
    "sns.scatterplot('longitude', 'latitude', data=df, hue=df['test.ks'], palette=\"Spectral\")\n",
    "#sns.savefig('fig1.pdf')"
   ]
  },
  {
   "cell_type": "markdown",
   "metadata": {},
   "source": [
    "We plot the ks scores of each station over the log of the number of departure events at each station. "
   ]
  },
  {
   "cell_type": "code",
   "execution_count": 108,
   "metadata": {},
   "outputs": [],
   "source": [
    "dep_len_train_all = []\n",
    "dep_len_test_all = []\n",
    "dep_len_train_id = []\n",
    "dep_len_test_id = []\n",
    "\n",
    "for i in range(len(loc_list)):\n",
    "    sid = loc_list[i]\n",
    "    ind = get_station_index(loc_codes, sid)\n",
    "    train_len = 0\n",
    "    test_len = 0\n",
    "    \n",
    "    t0, ind_list = process_times(loc_codes, train_times, sid)\n",
    "    t1, ind_list = process_times(loc_codes, test_times, sid)\n",
    "    \n",
    "    dist_arr = geo_df[f\"{ind}\"].to_numpy()\n",
    "    \n",
    "    new_dist, new_loc = thres_fun_new(dist_arr, thres, loc_codes)\n",
    "    \n",
    "    new_dist = new_dist\n",
    "    new_loc = new_loc\n",
    "    \n",
    "    t00 = {}\n",
    "    t01 = {}\n",
    "\n",
    "    for loc in new_loc:\n",
    "        if loc not in ind_list:\n",
    "            t00[loc] = t0[loc]\n",
    "            train_len += len(t00[loc])\n",
    "            t01[loc] = t1[loc]\n",
    "            test_len += len(t01[loc])\n",
    "\n",
    "    dep_len_train_all.append(train_len)\n",
    "    dep_len_test_all.append(test_len)\n",
    "\n",
    "    dep_len_train_id.append(len(t00[sid]))\n",
    "    dep_len_test_id.append(len(t01[sid]))\n",
    "    \n",
    "log_dep_train_all = np.log(np.array(dep_len_train_all))\n",
    "log_dep_test_all = np.log(np.array(dep_len_test_all))\n",
    "    \n",
    "log_dep_train = np.log(np.array(dep_len_train_id))\n",
    "log_dep_test = np.log(np.array(dep_len_test_id))"
   ]
  },
  {
   "cell_type": "code",
   "execution_count": 109,
   "metadata": {},
   "outputs": [],
   "source": [
    "d1 = {'loc': loc_list, 'train.ks': rel_train_ks, \n",
    "      'test.ks': rel_test_ks, 'train.len.all': log_dep_train_all, \n",
    "      'test.len.all': log_dep_test_all, 'train.len.id': log_dep_train, 'test.len.id': log_dep_test}\n",
    "df2 = pd.DataFrame(data=d1)\n",
    "df2 = df2.sort_values(by=['loc'])\n",
    "df2 = df2.drop_duplicates(subset=['loc'])"
   ]
  },
  {
   "cell_type": "code",
   "execution_count": 110,
   "metadata": {},
   "outputs": [
    {
     "data": {
      "text/html": [
       "<div>\n",
       "<style scoped>\n",
       "    .dataframe tbody tr th:only-of-type {\n",
       "        vertical-align: middle;\n",
       "    }\n",
       "\n",
       "    .dataframe tbody tr th {\n",
       "        vertical-align: top;\n",
       "    }\n",
       "\n",
       "    .dataframe thead th {\n",
       "        text-align: right;\n",
       "    }\n",
       "</style>\n",
       "<table border=\"1\" class=\"dataframe\">\n",
       "  <thead>\n",
       "    <tr style=\"text-align: right;\">\n",
       "      <th></th>\n",
       "      <th>loc</th>\n",
       "      <th>train.ks</th>\n",
       "      <th>test.ks</th>\n",
       "      <th>train.len.all</th>\n",
       "      <th>test.len.all</th>\n",
       "      <th>train.len.id</th>\n",
       "      <th>test.len.id</th>\n",
       "    </tr>\n",
       "  </thead>\n",
       "  <tbody>\n",
       "    <tr>\n",
       "      <th>0</th>\n",
       "      <td>4</td>\n",
       "      <td>0.166065</td>\n",
       "      <td>-0.036920</td>\n",
       "      <td>10.306282</td>\n",
       "      <td>9.198875</td>\n",
       "      <td>7.517521</td>\n",
       "      <td>6.434547</td>\n",
       "    </tr>\n",
       "    <tr>\n",
       "      <th>1</th>\n",
       "      <td>5</td>\n",
       "      <td>-0.205708</td>\n",
       "      <td>-0.116331</td>\n",
       "      <td>9.805654</td>\n",
       "      <td>8.747511</td>\n",
       "      <td>8.716536</td>\n",
       "      <td>7.610853</td>\n",
       "    </tr>\n",
       "    <tr>\n",
       "      <th>2</th>\n",
       "      <td>32</td>\n",
       "      <td>0.177215</td>\n",
       "      <td>0.156140</td>\n",
       "      <td>10.624128</td>\n",
       "      <td>9.492733</td>\n",
       "      <td>8.494743</td>\n",
       "      <td>7.346655</td>\n",
       "    </tr>\n",
       "    <tr>\n",
       "      <th>3</th>\n",
       "      <td>37</td>\n",
       "      <td>-0.135485</td>\n",
       "      <td>-0.070507</td>\n",
       "      <td>10.189531</td>\n",
       "      <td>9.093245</td>\n",
       "      <td>8.358197</td>\n",
       "      <td>7.195937</td>\n",
       "    </tr>\n",
       "    <tr>\n",
       "      <th>4</th>\n",
       "      <td>40</td>\n",
       "      <td>0.112259</td>\n",
       "      <td>0.098976</td>\n",
       "      <td>10.859114</td>\n",
       "      <td>9.734359</td>\n",
       "      <td>8.242493</td>\n",
       "      <td>7.065613</td>\n",
       "    </tr>\n",
       "    <tr>\n",
       "      <th>...</th>\n",
       "      <td>...</td>\n",
       "      <td>...</td>\n",
       "      <td>...</td>\n",
       "      <td>...</td>\n",
       "      <td>...</td>\n",
       "      <td>...</td>\n",
       "      <td>...</td>\n",
       "    </tr>\n",
       "    <tr>\n",
       "      <th>95</th>\n",
       "      <td>810</td>\n",
       "      <td>0.116535</td>\n",
       "      <td>0.096601</td>\n",
       "      <td>10.142308</td>\n",
       "      <td>9.063926</td>\n",
       "      <td>7.989899</td>\n",
       "      <td>6.978214</td>\n",
       "    </tr>\n",
       "    <tr>\n",
       "      <th>96</th>\n",
       "      <td>811</td>\n",
       "      <td>0.086758</td>\n",
       "      <td>0.063802</td>\n",
       "      <td>9.718903</td>\n",
       "      <td>8.585599</td>\n",
       "      <td>8.780480</td>\n",
       "      <td>7.631432</td>\n",
       "    </tr>\n",
       "    <tr>\n",
       "      <th>97</th>\n",
       "      <td>812</td>\n",
       "      <td>-0.026549</td>\n",
       "      <td>-0.044601</td>\n",
       "      <td>9.241548</td>\n",
       "      <td>8.013343</td>\n",
       "      <td>7.959276</td>\n",
       "      <td>6.776507</td>\n",
       "    </tr>\n",
       "    <tr>\n",
       "      <th>98</th>\n",
       "      <td>821</td>\n",
       "      <td>0.007917</td>\n",
       "      <td>0.051524</td>\n",
       "      <td>10.011759</td>\n",
       "      <td>8.992682</td>\n",
       "      <td>9.314070</td>\n",
       "      <td>8.195058</td>\n",
       "    </tr>\n",
       "    <tr>\n",
       "      <th>99</th>\n",
       "      <td>833</td>\n",
       "      <td>0.031481</td>\n",
       "      <td>-0.015526</td>\n",
       "      <td>9.456732</td>\n",
       "      <td>8.288786</td>\n",
       "      <td>8.724858</td>\n",
       "      <td>7.581720</td>\n",
       "    </tr>\n",
       "  </tbody>\n",
       "</table>\n",
       "<p>100 rows × 7 columns</p>\n",
       "</div>"
      ],
      "text/plain": [
       "    loc  train.ks   test.ks  train.len.all  test.len.all  train.len.id  \\\n",
       "0     4  0.166065 -0.036920      10.306282      9.198875      7.517521   \n",
       "1     5 -0.205708 -0.116331       9.805654      8.747511      8.716536   \n",
       "2    32  0.177215  0.156140      10.624128      9.492733      8.494743   \n",
       "3    37 -0.135485 -0.070507      10.189531      9.093245      8.358197   \n",
       "4    40  0.112259  0.098976      10.859114      9.734359      8.242493   \n",
       "..  ...       ...       ...            ...           ...           ...   \n",
       "95  810  0.116535  0.096601      10.142308      9.063926      7.989899   \n",
       "96  811  0.086758  0.063802       9.718903      8.585599      8.780480   \n",
       "97  812 -0.026549 -0.044601       9.241548      8.013343      7.959276   \n",
       "98  821  0.007917  0.051524      10.011759      8.992682      9.314070   \n",
       "99  833  0.031481 -0.015526       9.456732      8.288786      8.724858   \n",
       "\n",
       "    test.len.id  \n",
       "0      6.434547  \n",
       "1      7.610853  \n",
       "2      7.346655  \n",
       "3      7.195937  \n",
       "4      7.065613  \n",
       "..          ...  \n",
       "95     6.978214  \n",
       "96     7.631432  \n",
       "97     6.776507  \n",
       "98     8.195058  \n",
       "99     7.581720  \n",
       "\n",
       "[100 rows x 7 columns]"
      ]
     },
     "execution_count": 110,
     "metadata": {},
     "output_type": "execute_result"
    }
   ],
   "source": [
    "df2"
   ]
  },
  {
   "cell_type": "markdown",
   "metadata": {},
   "source": [
    "Scatter plot of all departure training events in the neighborhood of each station."
   ]
  },
  {
   "cell_type": "code",
   "execution_count": 123,
   "metadata": {},
   "outputs": [
    {
     "data": {
      "image/png": "[encoded data removed]",
      "text/plain": [
       "<Figure size 432x288 with 1 Axes>"
      ]
     },
     "metadata": {
      "needs_background": "light"
     },
     "output_type": "display_data"
    }
   ],
   "source": [
    "#sns.scatterplot('train.len', 'train.ks', data=df, hue=df['train.ks'])\n",
    "x = df2['train.len.all']\n",
    "y = df2['train.ks']\n",
    "plt.scatter(x, y)\n",
    "\n",
    "#a, b = np.polyfit(x, y, 1)\n",
    "#plt.plot(x, a*x+b)        \n",
    "plt.plot(np.unique(x), np.poly1d(np.polyfit(x, y, 1))(np.unique(x)))\n",
    "plt.xlabel('log of number of events')\n",
    "plt.ylabel('relative ks scores')\n",
    "plt.title('Train set: all departure events in the neighborhood')\n",
    "plt.show()"
   ]
  },
  {
   "cell_type": "code",
   "execution_count": 124,
   "metadata": {},
   "outputs": [
    {
     "data": {
      "text/plain": [
       "0.009913293911515143"
      ]
     },
     "execution_count": 124,
     "metadata": {},
     "output_type": "execute_result"
    }
   ],
   "source": [
    "yhat = np.poly1d(np.polyfit(x, y, 1))(x)\n",
    "MSE = 1/len(y) * np.sum((yhat - y)**2)\n",
    "MSE"
   ]
  },
  {
   "cell_type": "markdown",
   "metadata": {},
   "source": [
    "Scatter plot of the departure train events of each station only."
   ]
  },
  {
   "cell_type": "code",
   "execution_count": 125,
   "metadata": {},
   "outputs": [
    {
     "data": {
      "image/png": "[encoded data removed]",
      "text/plain": [
       "<Figure size 432x288 with 1 Axes>"
      ]
     },
     "metadata": {
      "needs_background": "light"
     },
     "output_type": "display_data"
    }
   ],
   "source": [
    "x = df2['train.len.id']\n",
    "y = df2['train.ks']\n",
    "plt.scatter(x, y)\n",
    "plt.plot(np.unique(x), np.poly1d(np.polyfit(x, y, 1))(np.unique(x)))\n",
    "plt.xlabel('log of number of events')\n",
    "plt.ylabel('relative ks scores')\n",
    "plt.title('Train set: departure events of each station')\n",
    "plt.show()"
   ]
  },
  {
   "cell_type": "code",
   "execution_count": 126,
   "metadata": {},
   "outputs": [
    {
     "data": {
      "text/plain": [
       "0.009127335580408442"
      ]
     },
     "execution_count": 126,
     "metadata": {},
     "output_type": "execute_result"
    }
   ],
   "source": [
    "yhat = np.poly1d(np.polyfit(x, y, 1))(x)\n",
    "MSE = 1/len(y) * np.sum((yhat - y)**2)\n",
    "MSE"
   ]
  },
  {
   "cell_type": "code",
   "execution_count": 127,
   "metadata": {},
   "outputs": [
    {
     "data": {
      "image/png": "[encoded data removed]",
      "text/plain": [
       "<Figure size 432x288 with 1 Axes>"
      ]
     },
     "metadata": {
      "needs_background": "light"
     },
     "output_type": "display_data"
    }
   ],
   "source": [
    "#Remove anomalies\n",
    "indice = np.where(y.to_numpy() < 0.4)[0].tolist()\n",
    "x_new = x.to_numpy()[indice]\n",
    "y_new = y.to_numpy()[indice]\n",
    "plt.scatter(x_new, y_new)\n",
    "plt.plot(np.unique(x_new), np.poly1d(np.polyfit(x_new, y_new, 1))(np.unique(x_new)))\n",
    "plt.xlabel('log of number of events')\n",
    "plt.ylabel('relative ks scores')\n",
    "plt.title('Train set: departure events of each station')\n",
    "plt.show()"
   ]
  },
  {
   "cell_type": "markdown",
   "metadata": {},
   "source": [
    "Scatter plot of all departure test events in the neighbourhood of each station."
   ]
  },
  {
   "cell_type": "code",
   "execution_count": 121,
   "metadata": {},
   "outputs": [
    {
     "data": {
      "image/png": "[encoded data removed]",
      "text/plain": [
       "<Figure size 432x288 with 1 Axes>"
      ]
     },
     "metadata": {
      "needs_background": "light"
     },
     "output_type": "display_data"
    }
   ],
   "source": [
    "#sns.scatterplot('longitude', 'latitude', data=df, hue=df['test.ks'])\n",
    "x = df2['test.len.all']\n",
    "y = df2['test.ks']\n",
    "plt.scatter(x, y)\n",
    "plt.plot(np.unique(x), np.poly1d(np.polyfit(x, y, 1))(np.unique(x)))\n",
    "plt.xlabel('log of number of events')\n",
    "plt.ylabel('relative ks scores')\n",
    "plt.title('Test set: all departure events in the neighborhood')\n",
    "plt.show()"
   ]
  },
  {
   "cell_type": "code",
   "execution_count": 116,
   "metadata": {},
   "outputs": [
    {
     "data": {
      "text/plain": [
       "0.013361533054851077"
      ]
     },
     "execution_count": 116,
     "metadata": {},
     "output_type": "execute_result"
    }
   ],
   "source": [
    "yhat = np.poly1d(np.polyfit(x, y, 1))(x)\n",
    "MSE = 1/len(y) * np.sum((yhat - y)**2)\n",
    "MSE"
   ]
  },
  {
   "cell_type": "markdown",
   "metadata": {},
   "source": [
    "Scatter plot of the departure test events of each station only."
   ]
  },
  {
   "cell_type": "code",
   "execution_count": 117,
   "metadata": {},
   "outputs": [
    {
     "data": {
      "image/png": "[encoded data removed]",
      "text/plain": [
       "<Figure size 432x288 with 1 Axes>"
      ]
     },
     "metadata": {
      "needs_background": "light"
     },
     "output_type": "display_data"
    }
   ],
   "source": [
    "x = df2['test.len.id']\n",
    "y = df2['test.ks']\n",
    "plt.scatter(x, y)\n",
    "plt.plot(np.unique(x), np.poly1d(np.polyfit(x, y, 1))(np.unique(x)))\n",
    "plt.xlabel('log of number of events')\n",
    "plt.ylabel('relative ks scores')\n",
    "plt.title('Test set: departure events of each station')\n",
    "plt.show()"
   ]
  },
  {
   "cell_type": "code",
   "execution_count": 118,
   "metadata": {},
   "outputs": [
    {
     "data": {
      "text/plain": [
       "0.012051243492679732"
      ]
     },
     "execution_count": 118,
     "metadata": {},
     "output_type": "execute_result"
    }
   ],
   "source": [
    "yhat = np.poly1d(np.polyfit(x, y, 1))(x)\n",
    "MSE = 1/len(y) * np.sum((yhat - y)**2)\n",
    "MSE"
   ]
  },
  {
   "cell_type": "code",
   "execution_count": 58,
   "metadata": {},
   "outputs": [],
   "source": [
    "indice = np.argwhere(train_sign == 1).tolist()\n",
    "len(indice)\n",
    "\n",
    "success_list = []\n",
    "for i in indice:\n",
    "    success_list.append(loc_list[i[0]])"
   ]
  },
  {
   "cell_type": "code",
   "execution_count": 63,
   "metadata": {},
   "outputs": [],
   "source": [
    "indice1 = np.argwhere(test_sign == 1).tolist()\n",
    "len(indice1)\n",
    "\n",
    "success_list1 = []\n",
    "for i in indice:\n",
    "    success_list1.append(loc_list[i[0]])"
   ]
  },
  {
   "cell_type": "code",
   "execution_count": 323,
   "metadata": {},
   "outputs": [
    {
     "data": {
      "text/plain": [
       "Counter({-1.0: 84, 1.0: 16})"
      ]
     },
     "execution_count": 323,
     "metadata": {},
     "output_type": "execute_result"
    }
   ],
   "source": [
    "from collections import Counter\n",
    "Counter(train_sign)"
   ]
  },
  {
   "cell_type": "markdown",
   "metadata": {},
   "source": [
    "We plot a boxplot for all models together."
   ]
  },
  {
   "cell_type": "code",
   "execution_count": null,
   "metadata": {},
   "outputs": [],
   "source": [
    "data = [train_hawkes, train_spatio, train_mutual, train_seven]\n",
    "plt.boxplot(data)\n",
    "\n",
    "plt.xticks([1, 2, 3, 4], ['SE (s)', 'SE (m)', 'SME (s)', 'SME (m)'])\n",
    "plt.savefig('box.pdf')simulation for spatio component\n",
    "github link"
   ]
  },
  {
   "cell_type": "code",
   "execution_count": null,
   "metadata": {},
   "outputs": [],
   "source": []
  }
 ],
 "metadata": {
  "kernelspec": {
   "display_name": "Python 3",
   "language": "python",
   "name": "python3"
  },
  "language_info": {
   "codemirror_mode": {
    "name": "ipython",
    "version": 3
   },
   "file_extension": ".py",
   "mimetype": "text/x-python",
   "name": "python",
   "nbconvert_exporter": "python",
   "pygments_lexer": "ipython3",
   "version": "3.7.6"
  }
 },
 "nbformat": 4,
 "nbformat_minor": 4
}
